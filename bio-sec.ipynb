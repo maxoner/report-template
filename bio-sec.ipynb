{
 "cells": [
  {
   "cell_type": "code",
   "execution_count": 1,
   "metadata": {},
   "outputs": [],
   "source": [
    "from coursache import Equation\n",
    "from math import pi, exp\n",
    "\n",
    "W_t = 2904 * 10 ** 6   # МВт\n",
    "mev = 1.602 * 10 ** (-13)   # перевод в мэв\n",
    "E_f = 200\n",
    "Nu_f = 2.42\n",
    "K_inf = 1.03\n",
    "gamma = 0.5\n",
    "H_az = 3.5\n",
    "R_az = 1.58\n",
    "E_nf = 2 # МЭв\n",
    "K = 10\n",
    "mu_en = 1 / 100 # м^2 / 100 кг\n"
   ]
  },
  {
   "cell_type": "code",
   "execution_count": 7,
   "metadata": {},
   "outputs": [
    {
     "data": {
      "text/latex": [
       "$\\displaystyle \n",
       "        N_f = \\frac\n",
       "               { W_{ \\text{теп} } }\n",
       "                   { E_f  }\n",
       "        = \\frac\n",
       "                   { 2.90 \\cdot 10^{{ 9 }} }\n",
       "            { 2.00 \\cdot 10^{{ 2 }} \\cdot 1.60 \\cdot 10^{{ -13 }} }\n",
       "            \n",
       "        = 9.06 \\cdot 10^{{ 19 }} \\  \\frac{\\text{дел} } {\\text{с} }\n",
       "    $"
      ],
      "text/plain": [
       "<IPython.core.display.Math object>"
      ]
     },
     "metadata": {},
     "output_type": "display_data"
    },
    {
     "name": "stdout",
     "output_type": "stream",
     "text": [
      "\n",
      "        N_f = \\frac\n",
      "               { W_{ \\text{теп} } }\n",
      "                   { E_f  }\n",
      "        = \\frac\n",
      "                   { 2.90 \\cdot 10^{{ 9 }} }\n",
      "            { 2.00 \\cdot 10^{{ 2 }} \\cdot 1.60 \\cdot 10^{{ -13 }} }\n",
      "            \n",
      "        = 9.06 \\cdot 10^{{ 19 }} \\  \\frac{\\text{дел} } {\\text{с} }\n",
      "    \n"
     ]
    }
   ],
   "source": [
    "N_f = (\n",
    "      W_t /\n",
    "  # --------\n",
    "    (E_f * mev)\n",
    ")\n",
    "\n",
    "eq = Equation(\n",
    "    r\"\"\"\n",
    "        N_f = \\frac\n",
    "                   { W_{ \\text{теп} } }\n",
    "                       { E_f  }\n",
    "        = \\frac\n",
    "                { .[W_t]. }\n",
    "            { .[E_f]. \\cdot .[mev]. }\n",
    "            \n",
    "        = .[N_f]. \\  \\frac{\\text{дел} } {\\text{с} }\n",
    "    \"\"\"\n",
    ").render(source=globals(), after_comma=2)\n",
    "\n",
    "eq.show()\n",
    "eq.code()"
   ]
  },
  {
   "cell_type": "code",
   "execution_count": 3,
   "metadata": {},
   "outputs": [
    {
     "data": {
      "text/latex": [
       "$\\displaystyle \n",
       "    N_n = 9.06 \\cdot 10^{{ 19 }} \\cdot 2.42  = 2.19 \\cdot 10^{{ 20 }} \\ \\frac{нейтрон} {с}\n",
       "$"
      ],
      "text/plain": [
       "<IPython.core.display.Math object>"
      ]
     },
     "metadata": {},
     "output_type": "display_data"
    },
    {
     "name": "stdout",
     "output_type": "stream",
     "text": [
      "\n",
      "    N_n = 9.06 \\cdot 10^{{ 19 }} \\cdot 2.42  = 2.19 \\cdot 10^{{ 20 }} \\ \\frac{нейтрон} {с}\n",
      "\n"
     ]
    }
   ],
   "source": [
    "N_n = N_f * Nu_f\n",
    "\n",
    "eq = Equation(r\"\"\"\n",
    "    N_n = .[N_f]. \\cdot .[Nu_f]. = .[N_n]. \\ \\frac{нейтрон} {с}\n",
    "\"\"\").render(source=globals(), after_comma=2)\n",
    "\n",
    "eq.show()\n",
    "eq.code()"
   ]
  },
  {
   "cell_type": "code",
   "execution_count": 4,
   "metadata": {},
   "outputs": [
    {
     "data": {
      "text/latex": [
       "$\\displaystyle \n",
       "    S_{\\text{пов}} = 3.50  \\cdot 2 \\cdot \\pi \\cdot 1.58  + 2 \\cdot \\pi \\cdot (1.58 )^2 = 5.04 \\cdot 10^{{ 1 }}\\ \\text{м}^2\n",
       "$"
      ],
      "text/plain": [
       "<IPython.core.display.Math object>"
      ]
     },
     "metadata": {},
     "output_type": "display_data"
    },
    {
     "name": "stdout",
     "output_type": "stream",
     "text": [
      "\n",
      "    S_{\\text{пов}} = 3.50  \\cdot 2 \\cdot \\pi \\cdot 1.58  + 2 \\cdot \\pi \\cdot (1.58 )^2 = 5.04 \\cdot 10^{{ 1 }}\\ \\text{м}^2\n",
      "\n"
     ]
    }
   ],
   "source": [
    "S_pov = H_az * 2 * pi * R_az + 2 * pi * R_az ** 2\n",
    "\n",
    "eq = Equation(r\"\"\"\n",
    "    S_{\\text{пов}} = .[H_az]. \\cdot 2 \\cdot \\pi \\cdot .[R_az]. + 2 \\cdot \\pi \\cdot (.[R_az].)^2 = .[S_pov].\\ \\text{м}^2\n",
    "\"\"\").render(source=globals(), after_comma=2)\n",
    "\n",
    "eq.show()\n",
    "eq.code()"
   ]
  },
  {
   "cell_type": "code",
   "execution_count": 5,
   "metadata": {},
   "outputs": [
    {
     "data": {
      "text/latex": [
       "$\\displaystyle \n",
       "    \\Phi = \\frac{2.19 \\cdot 10^{{ 20 }} (1.03  - 1)} {5.04 \\cdot 10^{{ 1 }}} = 1.30 \\cdot 10^{{ 17 }}\\ \\frac{\\text{нейтрон}}{\\text{с} \\cdot \\text{м}^2}\n",
       "$"
      ],
      "text/plain": [
       "<IPython.core.display.Math object>"
      ]
     },
     "metadata": {},
     "output_type": "display_data"
    },
    {
     "name": "stdout",
     "output_type": "stream",
     "text": [
      "\n",
      "    \\Phi = \\frac{2.19 \\cdot 10^{{ 20 }} (1.03  - 1)} {5.04 \\cdot 10^{{ 1 }}} = 1.30 \\cdot 10^{{ 17 }}\\ \\frac{\\text{нейтрон}}{\\text{с} \\cdot \\text{м}^2}\n",
      "\n"
     ]
    }
   ],
   "source": [
    "Ф = N_n * (K_inf - 1) / S_pov\n",
    "\n",
    "eq = Equation(r\"\"\"\n",
    "    \\Phi = \\frac{.[N_n]. (.[K_inf]. - 1)} {.[S_pov].} = .[Ф].\\ \\frac{\\text{нейтрон}}{\\text{с} \\cdot \\text{м}^2}\n",
    "\"\"\").render(source=globals(), after_comma=2)\n",
    "\n",
    "eq.show()\n",
    "eq.code()"
   ]
  },
  {
   "cell_type": "code",
   "execution_count": 6,
   "metadata": {},
   "outputs": [
    {
     "data": {
      "text/latex": [
       "$\\displaystyle \n",
       "    \\Phi_f = 1.30 \\cdot 10^{{ 17 }} \\cdot 5.00 \\cdot 10^{{ -01 }} = 6.52 \\cdot 10^{{ 16 }}\\ \\frac{\\text{нейтрон}} {с \\cdot \\text{м}^2}\n",
       "$"
      ],
      "text/plain": [
       "<IPython.core.display.Math object>"
      ]
     },
     "metadata": {},
     "output_type": "display_data"
    },
    {
     "name": "stdout",
     "output_type": "stream",
     "text": [
      "\n",
      "    \\Phi_f = 1.30 \\cdot 10^{{ 17 }} \\cdot 5.00 \\cdot 10^{{ -01 }} = 6.52 \\cdot 10^{{ 16 }}\\ \\frac{\\text{нейтрон}} {с \\cdot \\text{м}^2}\n",
      "\n"
     ]
    }
   ],
   "source": [
    "Ф_f = Ф * gamma\n",
    "\n",
    "eq = Equation(r\"\"\"\n",
    "    \\Phi_f = .[Ф]. \\cdot .[gamma]. = .[Ф_f].\\ \\frac{\\text{нейтрон}} {с \\cdot \\text{м}^2}\n",
    "\"\"\").render(source=globals(), after_comma=2)\n",
    "\n",
    "eq.show()\n",
    "eq.code()\n",
    "\n"
   ]
  },
  {
   "cell_type": "code",
   "execution_count": 8,
   "metadata": {},
   "outputs": [
    {
     "data": {
      "text/latex": [
       "$\\displaystyle \n",
       "    D_{0n} = 6.52 \\cdot 10^{{ 16 }} \\cdot 2.00  \\cdot 1.60 \\cdot 10^{{ -13 }} \\cdot 1.00 \\cdot 10^{{ -02 }} \\cdot 1.00 \\cdot 10^{{ 1 }} = 2.09 \\cdot 10^{{ 3 }}\\ \\frac{\\text{Зв}}{\\text{c}}\n",
       "$"
      ],
      "text/plain": [
       "<IPython.core.display.Math object>"
      ]
     },
     "metadata": {},
     "output_type": "display_data"
    },
    {
     "name": "stdout",
     "output_type": "stream",
     "text": [
      "\n",
      "    D_{0n} = 6.52 \\cdot 10^{{ 16 }} \\cdot 2.00  \\cdot 1.60 \\cdot 10^{{ -13 }} \\cdot 1.00 \\cdot 10^{{ -02 }} \\cdot 1.00 \\cdot 10^{{ 1 }} = 2.09 \\cdot 10^{{ 3 }}\\ \\frac{\\text{Зв}}{\\text{c}}\n",
      "\n"
     ]
    }
   ],
   "source": [
    "D_0n = Ф_f * E_nf * mev * mu_en * K\n",
    "\n",
    "eq = Equation(r\"\"\"\n",
    "    D_{0n} = .[Ф_f]. \\cdot .[E_nf]. \\cdot .[mev]. \\cdot .[mu_en]. \\cdot .[K]. = .[D_0n].\\ \\frac{\\text{Зв}}{\\text{c}}\n",
    "\"\"\").render(source=globals(), after_comma=2)\n",
    "\n",
    "eq.show()\n",
    "eq.code()"
   ]
  },
  {
   "cell_type": "code",
   "execution_count": 9,
   "metadata": {},
   "outputs": [
    {
     "data": {
      "text/latex": [
       "$\\displaystyle \n",
       "    D_n = 2.09 \\cdot 10^{{ 3 }} \\exp\\left( \n",
       "            -6.90 \\cdot 10^{{ -02 }}\\cdot2.63 \\cdot 10^{{ 1 }}\n",
       "            -1.66 \\cdot 10^{{ -01 }}\\cdot2.48 \\cdot 10^{{ 1 }}\n",
       "            -8.00 \\cdot 10^{{ -02 }}\\cdot5.72 \\cdot 10^{{ 2 }}\n",
       "    \\right) = 7.49 \\cdot 10^{{ -20 }}\\ \\frac{\\text{Зв}}{\\text{с}}\n",
       "$"
      ],
      "text/plain": [
       "<IPython.core.display.Math object>"
      ]
     },
     "metadata": {},
     "output_type": "display_data"
    },
    {
     "name": "stdout",
     "output_type": "stream",
     "text": [
      "\n",
      "    D_n = 2.09 \\cdot 10^{{ 3 }} \\exp\\left( \n",
      "            -6.90 \\cdot 10^{{ -02 }}\\cdot2.63 \\cdot 10^{{ 1 }}\n",
      "            -1.66 \\cdot 10^{{ -01 }}\\cdot2.48 \\cdot 10^{{ 1 }}\n",
      "            -8.00 \\cdot 10^{{ -02 }}\\cdot5.72 \\cdot 10^{{ 2 }}\n",
      "    \\right) = 7.49 \\cdot 10^{{ -20 }}\\ \\frac{\\text{Зв}}{\\text{с}}\n",
      "\n"
     ]
    }
   ],
   "source": [
    "Sigma_h20 = 0.069\n",
    "d_h20 = 26.3\n",
    "\n",
    "Sigma_steel = 0.166\n",
    "d_steel = 24.75\n",
    "\n",
    "Sigma_concrete = 0.08\n",
    "d_concrete = 572\n",
    "\n",
    "D_n = D_0n * exp(\n",
    "    - Sigma_h20 * d_h20\n",
    "    - Sigma_concrete * d_concrete\n",
    "    - Sigma_steel * d_steel\n",
    ")\n",
    "\n",
    "\n",
    "eq = Equation(r\"\"\"\n",
    "    D_n = .[D_0n]. \\exp\\left( \n",
    "            -.[Sigma_h20].\\cdot.[d_h20].\n",
    "            -.[Sigma_steel].\\cdot.[d_steel].\n",
    "            -.[Sigma_concrete].\\cdot.[d_concrete].\n",
    "    \\right) = .[D_n].\\ \\frac{\\text{Зв}}{\\text{с}}\n",
    "\"\"\").render(source=globals(), after_comma=2)\n",
    "\n",
    "eq.show()\n",
    "eq.code()"
   ]
  },
  {
   "cell_type": "code",
   "execution_count": 10,
   "metadata": {},
   "outputs": [
    {
     "data": {
      "text/latex": [
       "$\\displaystyle \n",
       "    D_{0n, \\text{нед}} = 1.2 \\cdot 7 \\cdot 24 \\cdot 60 \\cdot 60 \\cdot 7.490 \\cdot 10^{{ -20 }} = 5.436 \\cdot 10^{{ -14 }}\\ \\frac{\\text{Зв}}{\\text{нед}}\n",
       "$"
      ],
      "text/plain": [
       "<IPython.core.display.Math object>"
      ]
     },
     "metadata": {},
     "output_type": "display_data"
    },
    {
     "name": "stdout",
     "output_type": "stream",
     "text": [
      "\n",
      "    D_{0n, \\text{нед}} = 1.2 \\cdot 7 \\cdot 24 \\cdot 60 \\cdot 60 \\cdot 7.490 \\cdot 10^{{ -20 }} = 5.436 \\cdot 10^{{ -14 }}\\ \\frac{\\text{Зв}}{\\text{нед}}\n",
      "\n"
     ]
    }
   ],
   "source": [
    "D_n_ned = 1.2 * 7 * 24 * 60 * 60 * D_n\n",
    "\n",
    "eq = Equation(r\"\"\"\n",
    "    D_{0n, \\text{нед}} = 1.2 \\cdot 7 \\cdot 24 \\cdot 60 \\cdot 60 \\cdot .[D_n]. = .[D_n_ned].\\ \\frac{\\text{Зв}}{\\text{нед}}\n",
    "\"\"\").render(source=globals())\n",
    "\n",
    "eq.show()\n",
    "eq.code()"
   ]
  },
  {
   "cell_type": "code",
   "execution_count": 11,
   "metadata": {},
   "outputs": [
    {
     "data": {
      "text/latex": [
       "$\\displaystyle \n",
       "    I_{3\\ \\text{МэВ}} = 9.064 \\cdot 10^{{ 19 }} \\cdot 2.000 \\cdot 10^{{ -01 }} \\cdot 7.510  = 1.361 \\cdot 10^{{ 20 }}\\ \\frac{\\text{кв}}{\\text{с}} \\\\\n",
       "    I_{5\\ \\text{МэВ}} = 9.064 \\cdot 10^{{ 19 }} \\cdot 1.500 \\cdot 10^{{ -01 }} \\cdot 7.510  = 1.021 \\cdot 10^{{ 20 }}\\ \\frac{\\text{кв}}{\\text{с}}\n",
       "$"
      ],
      "text/plain": [
       "<IPython.core.display.Math object>"
      ]
     },
     "metadata": {},
     "output_type": "display_data"
    },
    {
     "name": "stdout",
     "output_type": "stream",
     "text": [
      "\n",
      "    I_{3\\ \\text{МэВ}} = 9.064 \\cdot 10^{{ 19 }} \\cdot 2.000 \\cdot 10^{{ -01 }} \\cdot 7.510  = 1.361 \\cdot 10^{{ 20 }}\\ \\frac{\\text{кв}}{\\text{с}} \\\\\n",
      "    I_{5\\ \\text{МэВ}} = 9.064 \\cdot 10^{{ 19 }} \\cdot 1.500 \\cdot 10^{{ -01 }} \\cdot 7.510  = 1.021 \\cdot 10^{{ 20 }}\\ \\frac{\\text{кв}}{\\text{с}}\n",
      "\n"
     ]
    }
   ],
   "source": [
    "N_gamma_3 = 0.2\n",
    "N_gamma_5 = 0.15\n",
    "nu_gamma = 7.51\n",
    "I_3 = N_f * N_gamma_3 * nu_gamma\n",
    "\n",
    "I_5 = N_f * N_gamma_5 * nu_gamma\n",
    "eq = Equation(r\"\"\"\n",
    "    I_{3\\ \\text{МэВ}} = .[N_f]. \\cdot .[N_gamma_3]. \\cdot .[nu_gamma]. = .[I_3].\\ \\frac{\\text{кв}}{\\text{с}} \\\\\n",
    "    I_{5\\ \\text{МэВ}} = .[N_f]. \\cdot .[N_gamma_5]. \\cdot .[nu_gamma]. = .[I_5].\\ \\frac{\\text{кв}}{\\text{с}}\n",
    "\"\"\").render(source=globals())\n",
    "\n",
    "eq.show()\n",
    "eq.code()\n"
   ]
  },
  {
   "cell_type": "code",
   "execution_count": 12,
   "metadata": {},
   "outputs": [
    {
     "data": {
      "text/latex": [
       "$\\displaystyle \n",
       "    \\mu_{\\gamma, 3\\ \\text{Мэв}} = 1.66 \\cdot 10^{{ -01 }}\\cdot8.10 \\cdot 10^{{ -01 }} + 7.10 \\cdot 10^{{ -02 }}\\cdot2.37 \\cdot 10^{{ -01 }} + 7.33 \\cdot 10^{{ -01 }}\\cdot2.80 \\cdot 10^{{ -02 }} = 1.72 \\cdot 10^{{ -01 }}\\ \\text{см}^{-1} \\\\\n",
       "    \\mu_{\\gamma, 5\\ \\text{Мэв}} = 1.66 \\cdot 10^{{ -01 }}\\cdot8.30 \\cdot 10^{{ -01 }} + 7.10 \\cdot 10^{{ -02 }}\\cdot2.21 \\cdot 10^{{ -01 }} + 7.33 \\cdot 10^{{ -01 }}\\cdot2.10 \\cdot 10^{{ -02 }} = 1.69 \\cdot 10^{{ -01 }}\\ \\text{см}^{-1}\n",
       "$"
      ],
      "text/plain": [
       "<IPython.core.display.Math object>"
      ]
     },
     "metadata": {},
     "output_type": "display_data"
    },
    {
     "name": "stdout",
     "output_type": "stream",
     "text": [
      "\n",
      "    \\mu_{\\gamma, 3\\ \\text{Мэв}} = 1.66 \\cdot 10^{{ -01 }}\\cdot8.10 \\cdot 10^{{ -01 }} + 7.10 \\cdot 10^{{ -02 }}\\cdot2.37 \\cdot 10^{{ -01 }} + 7.33 \\cdot 10^{{ -01 }}\\cdot2.80 \\cdot 10^{{ -02 }} = 1.72 \\cdot 10^{{ -01 }}\\ \\text{см}^{-1} \\\\\n",
      "    \\mu_{\\gamma, 5\\ \\text{Мэв}} = 1.66 \\cdot 10^{{ -01 }}\\cdot8.30 \\cdot 10^{{ -01 }} + 7.10 \\cdot 10^{{ -02 }}\\cdot2.21 \\cdot 10^{{ -01 }} + 7.33 \\cdot 10^{{ -01 }}\\cdot2.10 \\cdot 10^{{ -02 }} = 1.69 \\cdot 10^{{ -01 }}\\ \\text{см}^{-1}\n",
      "\n"
     ]
    }
   ],
   "source": [
    "eps_U = 0.166\n",
    "eps_Zr = 0.071\n",
    "eps_h20 = 0.733\n",
    "\n",
    "mu_Zr_3 = 0.237\n",
    "mu_U_3 = 0.81\n",
    "mu_h20_3 = 0.028\n",
    "\n",
    "mu_Zr_5 = 0.221\n",
    "mu_U_5 = 0.83\n",
    "mu_h20_5 = 0.021\n",
    "\n",
    "mu_gamma_3 = eps_U * mu_U_3 + eps_Zr * mu_Zr_3 + eps_h20 * mu_h20_3\n",
    "mu_gamma_5 = eps_U * mu_U_5 + eps_Zr * mu_Zr_5 + eps_h20 * mu_h20_5\n",
    "\n",
    "eq = Equation(r\"\"\"\n",
    "    \\mu_{\\gamma, 3\\ \\text{Мэв}} = .[eps_U].\\cdot.[mu_U_3]. + .[eps_Zr].\\cdot.[mu_Zr_3]. + .[eps_h20].\\cdot.[mu_h20_3]. = .[mu_gamma_3].\\ \\text{см}^{-1} \\\\\n",
    "    \\mu_{\\gamma, 5\\ \\text{Мэв}} = .[eps_U].\\cdot.[mu_U_5]. + .[eps_Zr].\\cdot.[mu_Zr_5]. + .[eps_h20].\\cdot.[mu_h20_5]. = .[mu_gamma_5].\\ \\text{см}^{-1}\n",
    "\"\"\").render(source=globals(), after_comma=2)\n",
    "\n",
    "eq.show()\n",
    "eq.code()"
   ]
  },
  {
   "cell_type": "code",
   "execution_count": 13,
   "metadata": {},
   "outputs": [
    {
     "data": {
      "text/plain": [
       "27.449351651475464"
      ]
     },
     "execution_count": 13,
     "metadata": {},
     "output_type": "execute_result"
    }
   ],
   "source": [
    "V_az = pi * H_az * R_az ** 2 \n",
    "V_az\n"
   ]
  },
  {
   "cell_type": "code",
   "execution_count": 14,
   "metadata": {},
   "outputs": [
    {
     "data": {
      "text/plain": [
       "217.71653543307093"
      ]
     },
     "execution_count": 14,
     "metadata": {},
     "output_type": "execute_result"
    }
   ],
   "source": [
    "L = 4 * V_az / S_pov\n",
    "L_cm = L * 100\n",
    "L_cm\n"
   ]
  },
  {
   "cell_type": "code",
   "execution_count": 15,
   "metadata": {},
   "outputs": [
    {
     "name": "stdout",
     "output_type": "stream",
     "text": [
      "\n",
      "    Q_{3\\ \\text{Мэв}} = \\frac{1.361 \\cdot 10^{{ 20 }}}{2.177 \\cdot 10^{{ 2 }}} = 6.253 \\cdot 10^{{ 17 }} \\frac{\\text{кв}}{\\text{с} \\cdot \\text{см}} \\\\\n",
      "    Q_{5\\ \\text{Мэв}} = \\frac{1.021 \\cdot 10^{{ 20 }}}{2.177 \\cdot 10^{{ 2 }}} = 4.690 \\cdot 10^{{ 17 }} \\frac{\\text{кв}}{\\text{с} \\cdot \\text{см}} \\\\\n",
      "\n"
     ]
    },
    {
     "data": {
      "text/latex": [
       "$\\displaystyle \n",
       "    Q_{3\\ \\text{Мэв}} = \\frac{1.361 \\cdot 10^{{ 20 }}}{2.177 \\cdot 10^{{ 2 }}} = 6.253 \\cdot 10^{{ 17 }} \\frac{\\text{кв}}{\\text{с} \\cdot \\text{см}} \\\\\n",
       "    Q_{5\\ \\text{Мэв}} = \\frac{1.021 \\cdot 10^{{ 20 }}}{2.177 \\cdot 10^{{ 2 }}} = 4.690 \\cdot 10^{{ 17 }} \\frac{\\text{кв}}{\\text{с} \\cdot \\text{см}} \\\\\n",
       "$"
      ],
      "text/plain": [
       "<IPython.core.display.Math object>"
      ]
     },
     "metadata": {},
     "output_type": "display_data"
    }
   ],
   "source": [
    "Q_3 = I_3 / L_cm\n",
    "Q_3\n",
    "\n",
    "Q_5 = I_5 / L_cm\n",
    "Q_5\n",
    "\n",
    "eq = Equation(r\"\"\"\n",
    "    Q_{3\\ \\text{Мэв}} = \\frac{.[I_3].}{.[L_cm].} = .[Q_3]. \\frac{\\text{кв}}{\\text{с} \\cdot \\text{см}} \\\\\n",
    "    Q_{5\\ \\text{Мэв}} = \\frac{.[I_5].}{.[L_cm].} = .[Q_5]. \\frac{\\text{кв}}{\\text{с} \\cdot \\text{см}} \\\\\n",
    "\"\"\").render(source=globals())\n",
    "\n",
    "eq.code()\n",
    "eq.show()"
   ]
  },
  {
   "cell_type": "code",
   "execution_count": 16,
   "metadata": {},
   "outputs": [
    {
     "name": "stdout",
     "output_type": "stream",
     "text": [
      "\n",
      "    N_{3\\ \\text{МэВ}} = \\frac{6.25 \\cdot 10^{{ 17 }}}{1.72 \\cdot 10^{{ -01 }}} \\cdot \\left( 1 - \\exp\\left(-1.72 \\cdot 10^{{ -01 }}\\cdot2.18 \\cdot 10^{{ 2 }}\\right)\\right) = 3.64 \\cdot 10^{{ 18 }} \\frac{\\text{кв}}{\\text{с}} \\\\\n",
      "    N_{5\\ \\text{МэВ}} = \\frac{4.69 \\cdot 10^{{ 17 }}}{1.69 \\cdot 10^{{ -01 }}} \\cdot \\left( 1 - \\exp\\left(-1.69 \\cdot 10^{{ -01 }}\\cdot2.18 \\cdot 10^{{ 2 }}\\right)\\right) = 2.78 \\cdot 10^{{ 18 }} \\frac{\\text{кв}}{\\text{с}} \n",
      "\n"
     ]
    },
    {
     "data": {
      "text/latex": [
       "$\\displaystyle \n",
       "    N_{3\\ \\text{МэВ}} = \\frac{6.25 \\cdot 10^{{ 17 }}}{1.72 \\cdot 10^{{ -01 }}} \\cdot \\left( 1 - \\exp\\left(-1.72 \\cdot 10^{{ -01 }}\\cdot2.18 \\cdot 10^{{ 2 }}\\right)\\right) = 3.64 \\cdot 10^{{ 18 }} \\frac{\\text{кв}}{\\text{с}} \\\\\n",
       "    N_{5\\ \\text{МэВ}} = \\frac{4.69 \\cdot 10^{{ 17 }}}{1.69 \\cdot 10^{{ -01 }}} \\cdot \\left( 1 - \\exp\\left(-1.69 \\cdot 10^{{ -01 }}\\cdot2.18 \\cdot 10^{{ 2 }}\\right)\\right) = 2.78 \\cdot 10^{{ 18 }} \\frac{\\text{кв}}{\\text{с}} \n",
       "$"
      ],
      "text/plain": [
       "<IPython.core.display.Math object>"
      ]
     },
     "metadata": {},
     "output_type": "display_data"
    }
   ],
   "source": [
    "N_3 = Q_3 / mu_gamma_3 * (1 - exp(-mu_gamma_3 * L_cm))\n",
    "N_5 = Q_5 / mu_gamma_5 * (1 - exp(-mu_gamma_5 * L_cm))\n",
    "\n",
    "eq = Equation(r\"\"\"\n",
    "    N_{3\\ \\text{МэВ}} = \\frac{.[Q_3].}{.[mu_gamma_3].} \\cdot \\left( 1 - \\exp\\left(-.[mu_gamma_3].\\cdot.[L_cm].\\right)\\right) = .[N_3]. \\frac{\\text{кв}}{\\text{с}} \\\\\n",
    "    N_{5\\ \\text{МэВ}} = \\frac{.[Q_5].}{.[mu_gamma_5].} \\cdot \\left( 1 - \\exp\\left(-.[mu_gamma_5].\\cdot.[L_cm].\\right)\\right) = .[N_5]. \\frac{\\text{кв}}{\\text{с}} \n",
    "\"\"\").render(source=globals(), after_comma=2)\n",
    "\n",
    "eq.code()\n",
    "eq.show()"
   ]
  },
  {
   "cell_type": "code",
   "execution_count": 17,
   "metadata": {},
   "outputs": [
    {
     "name": "stdout",
     "output_type": "stream",
     "text": [
      "\n",
      "    \\Phi_{\\gamma, 3\\ \\text{МэВ}} = \\frac{3.64 \\cdot 10^{{ 18 }}}{5.04 \\cdot 10^{{ 5 }}}  = 7.22 \\cdot 10^{{ 12 }} \\frac{\\text{нейтрон}}{\\text{см}^2 \\cdot \\text{с}} \\\\\n",
      "    \\Phi_{\\gamma, 5\\ \\text{МэВ}} = \\frac{2.78 \\cdot 10^{{ 18 }}}{5.04 \\cdot 10^{{ 5 }}}  = 5.51 \\cdot 10^{{ 12 }} \\frac{\\text{нейтрон}}{\\text{см}^2 \\cdot \\text{с}} \n",
      "\n"
     ]
    },
    {
     "data": {
      "text/latex": [
       "$\\displaystyle \n",
       "    \\Phi_{\\gamma, 3\\ \\text{МэВ}} = \\frac{3.64 \\cdot 10^{{ 18 }}}{5.04 \\cdot 10^{{ 5 }}}  = 7.22 \\cdot 10^{{ 12 }} \\frac{\\text{нейтрон}}{\\text{см}^2 \\cdot \\text{с}} \\\\\n",
       "    \\Phi_{\\gamma, 5\\ \\text{МэВ}} = \\frac{2.78 \\cdot 10^{{ 18 }}}{5.04 \\cdot 10^{{ 5 }}}  = 5.51 \\cdot 10^{{ 12 }} \\frac{\\text{нейтрон}}{\\text{см}^2 \\cdot \\text{с}} \n",
       "$"
      ],
      "text/plain": [
       "<IPython.core.display.Math object>"
      ]
     },
     "metadata": {},
     "output_type": "display_data"
    }
   ],
   "source": [
    "Ф_gamma_3 = N_3 / (S_pov * 10000)\n",
    "\n",
    "Ф_gamma_5 = N_5 / (S_pov * 10000)\n",
    "S_pov_cm = S_pov * 10000\n",
    "\n",
    "eq = Equation(r\"\"\"\n",
    "    \\Phi_{\\gamma, 3\\ \\text{МэВ}} = \\frac{.[N_3].}{.[S_pov_cm].}  = .[Ф_gamma_3]. \\frac{\\text{нейтрон}}{\\text{см}^2 \\cdot \\text{с}} \\\\\n",
    "    \\Phi_{\\gamma, 5\\ \\text{МэВ}} = \\frac{.[N_5].}{.[S_pov_cm].}  = .[Ф_gamma_5]. \\frac{\\text{нейтрон}}{\\text{см}^2 \\cdot \\text{с}} \n",
    "\"\"\").render(source=globals(), after_comma=2)\n",
    "\n",
    "eq.code()\n",
    "eq.show()"
   ]
  },
  {
   "cell_type": "code",
   "execution_count": 18,
   "metadata": {},
   "outputs": [
    {
     "name": "stdout",
     "output_type": "stream",
     "text": [
      "\n",
      "    \\Phi_{\\gamma, 3\\ \\text{МэВ}}^{\\text{full}} = 7.22 \\cdot 10^{{ 12 }} \\cdot 2  = 1.44 \\cdot 10^{{ 13 }} \\frac{\\text{нейтрон}}{\\text{см}^2 \\cdot \\text{с}} \\\\\n",
      "    \\Phi_{\\gamma, 5\\ \\text{МэВ}}^{\\text{full}} = 5.51 \\cdot 10^{{ 12 }} \\cdot 2  = 1.10 \\cdot 10^{{ 13 }} \\frac{\\text{нейтрон}}{\\text{см}^2 \\cdot \\text{с}} \n",
      "\n"
     ]
    },
    {
     "data": {
      "text/latex": [
       "$\\displaystyle \n",
       "    \\Phi_{\\gamma, 3\\ \\text{МэВ}}^{\\text{full}} = 7.22 \\cdot 10^{{ 12 }} \\cdot 2  = 1.44 \\cdot 10^{{ 13 }} \\frac{\\text{нейтрон}}{\\text{см}^2 \\cdot \\text{с}} \\\\\n",
       "    \\Phi_{\\gamma, 5\\ \\text{МэВ}}^{\\text{full}} = 5.51 \\cdot 10^{{ 12 }} \\cdot 2  = 1.10 \\cdot 10^{{ 13 }} \\frac{\\text{нейтрон}}{\\text{см}^2 \\cdot \\text{с}} \n",
       "$"
      ],
      "text/plain": [
       "<IPython.core.display.Math object>"
      ]
     },
     "metadata": {},
     "output_type": "display_data"
    }
   ],
   "source": [
    "\n",
    "Ф_full_gamma_3 = Ф_gamma_3 * 2\n",
    "\n",
    "Ф_full_gamma_5 = Ф_gamma_5 * 2\n",
    "\n",
    "eq = Equation(r\"\"\"\n",
    "    \\Phi_{\\gamma, 3\\ \\text{МэВ}}^{\\text{full}} = .[Ф_gamma_3]. \\cdot 2  = .[Ф_full_gamma_3]. \\frac{\\text{нейтрон}}{\\text{см}^2 \\cdot \\text{с}} \\\\\n",
    "    \\Phi_{\\gamma, 5\\ \\text{МэВ}}^{\\text{full}} = .[Ф_gamma_5]. \\cdot 2  = .[Ф_full_gamma_5]. \\frac{\\text{нейтрон}}{\\text{см}^2 \\cdot \\text{с}} \n",
    "\"\"\").render(source=globals(), after_comma=2)\n",
    "\n",
    "eq.code()\n",
    "eq.show()"
   ]
  },
  {
   "cell_type": "code",
   "execution_count": 19,
   "metadata": {},
   "outputs": [
    {
     "data": {
      "text/latex": [
       "$\\displaystyle \n",
       "    D_{0\\gamma, 3\\ \\text{МэВ}} = 1.44 \\cdot 10^{{ 13 }} \\cdot 3 \\cdot 1.60 \\cdot 10^{{ -13 }} \\cdot 100 \\cdot 1 = 6.94 \\cdot 10^{{ 2 }}\\ \\frac{\\text{Зв}}{\\text{c}} \\\\\n",
       "    D_{0\\gamma, 5\\ \\text{МэВ}} = 1.10 \\cdot 10^{{ 13 }} \\cdot 5 \\cdot 1.60 \\cdot 10^{{ -13 }} \\cdot 100 \\cdot 1 = 8.82 \\cdot 10^{{ 2 }}\\ \\frac{\\text{Зв}}{\\text{c}}\n",
       "$"
      ],
      "text/plain": [
       "<IPython.core.display.Math object>"
      ]
     },
     "metadata": {},
     "output_type": "display_data"
    },
    {
     "name": "stdout",
     "output_type": "stream",
     "text": [
      "\n",
      "    D_{0\\gamma, 3\\ \\text{МэВ}} = 1.44 \\cdot 10^{{ 13 }} \\cdot 3 \\cdot 1.60 \\cdot 10^{{ -13 }} \\cdot 100 \\cdot 1 = 6.94 \\cdot 10^{{ 2 }}\\ \\frac{\\text{Зв}}{\\text{c}} \\\\\n",
      "    D_{0\\gamma, 5\\ \\text{МэВ}} = 1.10 \\cdot 10^{{ 13 }} \\cdot 5 \\cdot 1.60 \\cdot 10^{{ -13 }} \\cdot 100 \\cdot 1 = 8.82 \\cdot 10^{{ 2 }}\\ \\frac{\\text{Зв}}{\\text{c}}\n",
      "\n"
     ]
    }
   ],
   "source": [
    "D_0_gamma_3 = Ф_full_gamma_3 * 3 * mev * 100 * 1\n",
    "D_0_gamma_5 = Ф_full_gamma_5 * 5 * mev * 100 * 1\n",
    "\n",
    "eq = Equation(r\"\"\"\n",
    "    D_{0\\gamma, 3\\ \\text{МэВ}} = .[Ф_full_gamma_3]. \\cdot 3 \\cdot .[mev]. \\cdot 100 \\cdot 1 = .[D_0_gamma_3].\\ \\frac{\\text{Зв}}{\\text{c}} \\\\\n",
    "    D_{0\\gamma, 5\\ \\text{МэВ}} = .[Ф_full_gamma_5]. \\cdot 5 \\cdot .[mev]. \\cdot 100 \\cdot 1 = .[D_0_gamma_5].\\ \\frac{\\text{Зв}}{\\text{c}}\n",
    "\"\"\").render(source=globals(), after_comma=2)\n",
    "\n",
    "eq.show()\n",
    "eq.code()"
   ]
  },
  {
   "cell_type": "code",
   "execution_count": 21,
   "metadata": {},
   "outputs": [
    {
     "data": {
      "text/latex": [
       "$\\displaystyle \n",
       "    D_{\\gamma, \\text{нерас}, 3\\ \\text{МэВ}} = 6.94 \\cdot 10^{{ 2 }} \\cdot \\exp \\left(\n",
       "        - 3.00 \\cdot 10^{{ -01 }} \\cdot 2.48 \\cdot 10^{{ 1 }}\n",
       "        - 8.00 \\cdot 10^{{ -02 }} \\cdot 5.72 \\cdot 10^{{ 2 }}\n",
       "        - 2.80 \\cdot 10^{{ -02 }} \\cdot 2.63 \\cdot 10^{{ 1 }}\n",
       "    \\right) = 2.65 \\cdot 10^{{ -21 }}\\ \\frac{\\text{Зв} }{\\text{с}} \\\\\n",
       "    D_{\\gamma, \\text{нерас}, 5\\ \\text{МэВ}} = 8.82 \\cdot 10^{{ 2 }} \\cdot \\exp \\left(\n",
       "        - 2.50 \\cdot 10^{{ -01 }} \\cdot 2.48 \\cdot 10^{{ 1 }}\n",
       "        - 7.00 \\cdot 10^{{ -02 }} \\cdot 5.72 \\cdot 10^{{ 2 }}\n",
       "        - 2.10 \\cdot 10^{{ -02 }} \\cdot 2.63 \\cdot 10^{{ 1 }}\n",
       "    \\right) = 4.26 \\cdot 10^{{ -18 }}\\ \\frac{\\text{Зв} }{\\text{с} }\n",
       "$"
      ],
      "text/plain": [
       "<IPython.core.display.Math object>"
      ]
     },
     "metadata": {},
     "output_type": "display_data"
    },
    {
     "name": "stdout",
     "output_type": "stream",
     "text": [
      "\n",
      "    D_{\\gamma, \\text{нерас}, 3\\ \\text{МэВ}} = 6.94 \\cdot 10^{{ 2 }} \\cdot \\exp \\left(\n",
      "        - 3.00 \\cdot 10^{{ -01 }} \\cdot 2.48 \\cdot 10^{{ 1 }}\n",
      "        - 8.00 \\cdot 10^{{ -02 }} \\cdot 5.72 \\cdot 10^{{ 2 }}\n",
      "        - 2.80 \\cdot 10^{{ -02 }} \\cdot 2.63 \\cdot 10^{{ 1 }}\n",
      "    \\right) = 2.65 \\cdot 10^{{ -21 }}\\ \\frac{\\text{Зв} }{\\text{с}} \\\\\n",
      "    D_{\\gamma, \\text{нерас}, 5\\ \\text{МэВ}} = 8.82 \\cdot 10^{{ 2 }} \\cdot \\exp \\left(\n",
      "        - 2.50 \\cdot 10^{{ -01 }} \\cdot 2.48 \\cdot 10^{{ 1 }}\n",
      "        - 7.00 \\cdot 10^{{ -02 }} \\cdot 5.72 \\cdot 10^{{ 2 }}\n",
      "        - 2.10 \\cdot 10^{{ -02 }} \\cdot 2.63 \\cdot 10^{{ 1 }}\n",
      "    \\right) = 4.26 \\cdot 10^{{ -18 }}\\ \\frac{\\text{Зв} }{\\text{с} }\n",
      "\n"
     ]
    }
   ],
   "source": [
    "mu_steel_3 = 0.3\n",
    "mu_concrete_3 = 0.08\n",
    "mu_h20_3\n",
    "\n",
    "mu_steel_5 = 0.25\n",
    "mu_concrete_5 = 0.07\n",
    "mu_h20_5\n",
    "\n",
    "D_0_gamma_neras_3 = D_0_gamma_3 * exp(\n",
    "    - mu_steel_3 * d_steel\n",
    "    - mu_concrete_3 * d_concrete\n",
    "    - mu_h20_3 * d_h20\n",
    ")\n",
    "\n",
    "D_0_gamma_neras_5 = D_0_gamma_5 * exp(\n",
    "    - mu_steel_5 * d_steel\n",
    "    - mu_concrete_5 * d_concrete\n",
    "    - mu_h20_5 * d_h20\n",
    ")\n",
    "\n",
    "eq = Equation(r\"\"\"\n",
    "    D_{\\gamma, \\text{нерас}, 3\\ \\text{МэВ}} = .[D_0_gamma_3]. \\cdot \\exp \\left(\n",
    "        - .[mu_steel_3]. \\cdot .[d_steel].\n",
    "        - .[mu_concrete_3]. \\cdot .[d_concrete].\n",
    "        - .[mu_h20_3]. \\cdot .[d_h20].\n",
    "    \\right) = .[D_0_gamma_neras_3].\\ \\frac{\\text{Зв} }{\\text{с}} \\\\\n",
    "    D_{\\gamma, \\text{нерас}, 5\\ \\text{МэВ}} = .[D_0_gamma_5]. \\cdot \\exp \\left(\n",
    "        - .[mu_steel_5]. \\cdot .[d_steel].\n",
    "        - .[mu_concrete_5]. \\cdot .[d_concrete].\n",
    "        - .[mu_h20_5]. \\cdot .[d_h20].\n",
    "    \\right) = .[D_0_gamma_neras_5].\\ \\frac{\\text{Зв} }{\\text{с} }\n",
    "\"\"\").render(source=globals(), after_comma=2)\n",
    "\n",
    "eq.show()\n",
    "eq.code()"
   ]
  },
  {
   "cell_type": "code",
   "execution_count": 156,
   "metadata": {},
   "outputs": [
    {
     "name": "stdout",
     "output_type": "stream",
     "text": [
      "92.28886412669482\n",
      "34.68298256866053\n"
     ]
    }
   ],
   "source": [
    "from types import SimpleNamespace as ns\n",
    "\n",
    "def arange(start, stop):\n",
    "    return range(start, stop+1)\n",
    "\n",
    "coeffs_3_mev = [\n",
    "    _,\n",
    "    ns(A_1=233, alpha_1=-0.074, alpha_2=0.075, d=d_h20, mu=mu_h20_3),         # water\n",
    "    ns(A_1=5, alpha_1=-0.074, alpha_2=0.075, d=d_steel, mu=mu_steel_3),       # steel\n",
    "    ns(A_1=14, alpha_1=-0.03, alpha_2=0.03, d=d_concrete, mu=mu_concrete_3),  # concrete\n",
    "]\n",
    "\n",
    "coeffs_5_mev = [\n",
    "    _,\n",
    "    ns(A_1=2.9, alpha_1=-0.08, alpha_2=0.075, d=d_h20, mu=mu_h20_5),      # water\n",
    "    ns(A_1=2.9, alpha_1=-0.08, alpha_2=0.075, d=d_steel, mu=mu_steel_5),    # steel\n",
    "    ns(A_1=9.2, alpha_1=-0.03, alpha_2=0.03, d=d_concrete, mu=mu_concrete_5),  # concrete\n",
    "]\n",
    "\n",
    "def B_get(coeffs):\n",
    "    def B(n, mu_x_d):\n",
    "        return coeffs[n].A_1 * exp(- coeffs[n].alpha_1 * mu_x_d) \\\n",
    "            + (1 - coeffs[n].A_1) * exp(- coeffs[n].alpha_2 * mu_x_d)\n",
    "    \n",
    "    def sum_mu_d(n): \n",
    "        return sum(coeffs[i].mu * coeffs[i].d for i in arange(1, n))\n",
    "    \n",
    "    N = len(coeffs) - 1\n",
    "\n",
    "    return B(N, sum_mu_d(N)) \\\n",
    "        + sum(B(n, sum_mu_d(n)) - B(n+1, sum_mu_d(n)) for n in arange(1, N - 1))\n",
    "\n",
    "B_get_3 = B_get(coeffs_3_mev)\n",
    "B_get_5 = B_get(coeffs_5_mev)\n",
    "\n",
    "print(B_get_3)\n",
    "print(B_get_5)"
   ]
  },
  {
   "cell_type": "code",
   "execution_count": 163,
   "metadata": {},
   "outputs": [
    {
     "data": {
      "text/plain": [
       "8.949658326094237e-11"
      ]
     },
     "execution_count": 163,
     "metadata": {},
     "output_type": "execute_result"
    }
   ],
   "source": [
    "D_gamma_3 = B_get_3 * D_0_gamma_neras_3\n",
    "D_gamma_5 = B_get_5 * D_0_gamma_neras_5\n",
    "\n",
    "D_gamma = D_gamma_3 + D_gamma_5\n",
    "D_gamma_ned = D_gamma * 7 * 24 * 60 * 60\n",
    "D_gamma_ned\n"
   ]
  },
  {
   "cell_type": "code",
   "execution_count": 177,
   "metadata": {},
   "outputs": [
    {
     "data": {
      "text/plain": [
       "1.0298358296273687e-10"
      ]
     },
     "execution_count": 177,
     "metadata": {},
     "output_type": "execute_result"
    }
   ],
   "source": [
    "D = 1.15 * (D_n_ned + D_gamma_ned)\n",
    "D"
   ]
  },
  {
   "cell_type": "code",
   "execution_count": 170,
   "metadata": {},
   "outputs": [
    {
     "data": {
      "text/plain": [
       "1.0298358296273686e-07"
      ]
     },
     "execution_count": 170,
     "metadata": {},
     "output_type": "execute_result"
    }
   ],
   "source": [
    "D_mili = D * 10 ** 3\n",
    "D_mili"
   ]
  }
 ],
 "metadata": {
  "interpreter": {
   "hash": "bef7754782d1c41c8ca67343925d4951f9e5e4f960c9e26278987e7529b622a1"
  },
  "kernelspec": {
   "display_name": "Python 3 (ipykernel)",
   "language": "python",
   "name": "python3"
  },
  "language_info": {
   "codemirror_mode": {
    "name": "ipython",
    "version": 3
   },
   "file_extension": ".py",
   "mimetype": "text/x-python",
   "name": "python",
   "nbconvert_exporter": "python",
   "pygments_lexer": "ipython3",
   "version": "3.10.4"
  }
 },
 "nbformat": 4,
 "nbformat_minor": 2
}
