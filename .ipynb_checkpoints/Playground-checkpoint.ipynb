{
 "cells": [
  {
   "cell_type": "markdown",
   "id": "39850978",
   "metadata": {},
   "source": [
    "## Расчет КПД термодинамического цикла"
   ]
  },
  {
   "cell_type": "code",
   "execution_count": 1,
   "id": "considerable-maryland",
   "metadata": {},
   "outputs": [
    {
     "data": {
      "text/html": [
       "<table>\n",
       "<thead>\n",
       "<tr><th>Точка  </th><th style=\"text-align: right;\">       P</th><th style=\"text-align: right;\">      T</th><th style=\"text-align: right;\">       S</th><th style=\"text-align: right;\">       H</th></tr>\n",
       "</thead>\n",
       "<tbody>\n",
       "<tr><td>h      </td><td style=\"text-align: right;\">5.9     </td><td style=\"text-align: right;\">220    </td><td style=\"text-align: right;\">2516.43 </td><td style=\"text-align: right;\"> 942.948</td></tr>\n",
       "<tr><td>b      </td><td style=\"text-align: right;\">5.9     </td><td style=\"text-align: right;\">274.642</td><td style=\"text-align: right;\">3017.38 </td><td style=\"text-align: right;\">1208.09 </td></tr>\n",
       "<tr><td>c      </td><td style=\"text-align: right;\">5.9     </td><td style=\"text-align: right;\">274.642</td><td style=\"text-align: right;\">5898.01 </td><td style=\"text-align: right;\">2785.64 </td></tr>\n",
       "<tr><td>d      </td><td style=\"text-align: right;\">0.980665</td><td style=\"text-align: right;\">179.189</td><td style=\"text-align: right;\">5898.01 </td><td style=\"text-align: right;\">2462.69 </td></tr>\n",
       "<tr><td>e      </td><td style=\"text-align: right;\">0.980665</td><td style=\"text-align: right;\">179.189</td><td style=\"text-align: right;\">6591.71 </td><td style=\"text-align: right;\">2776.38 </td></tr>\n",
       "<tr><td>f      </td><td style=\"text-align: right;\">0.980665</td><td style=\"text-align: right;\">250    </td><td style=\"text-align: right;\">7199.86 </td><td style=\"text-align: right;\">2943.61 </td></tr>\n",
       "<tr><td>k      </td><td style=\"text-align: right;\">0.004381</td><td style=\"text-align: right;\"> 30.545</td><td style=\"text-align: right;\">7199.86 </td><td style=\"text-align: right;\">2178.63 </td></tr>\n",
       "<tr><td>k`     </td><td style=\"text-align: right;\">0.004381</td><td style=\"text-align: right;\"> 30.545</td><td style=\"text-align: right;\"> 442.236</td><td style=\"text-align: right;\"> 127.396</td></tr>\n",
       "<tr><td>a      </td><td style=\"text-align: right;\">5.9     </td><td style=\"text-align: right;\"> 30.545</td><td style=\"text-align: right;\"> 440.411</td><td style=\"text-align: right;\"> 132.757</td></tr>\n",
       "<tr><td>g      </td><td style=\"text-align: right;\">0.980665</td><td style=\"text-align: right;\">179.189</td><td style=\"text-align: right;\">2130.22 </td><td style=\"text-align: right;\"> 758.945</td></tr>\n",
       "</tbody>\n",
       "</table>"
      ],
      "text/plain": [
       "'<table>\\n<thead>\\n<tr><th>Точка  </th><th style=\"text-align: right;\">       P</th><th style=\"text-align: right;\">      T</th><th style=\"text-align: right;\">       S</th><th style=\"text-align: right;\">       H</th></tr>\\n</thead>\\n<tbody>\\n<tr><td>h      </td><td style=\"text-align: right;\">5.9     </td><td style=\"text-align: right;\">220    </td><td style=\"text-align: right;\">2516.43 </td><td style=\"text-align: right;\"> 942.948</td></tr>\\n<tr><td>b      </td><td style=\"text-align: right;\">5.9     </td><td style=\"text-align: right;\">274.642</td><td style=\"text-align: right;\">3017.38 </td><td style=\"text-align: right;\">1208.09 </td></tr>\\n<tr><td>c      </td><td style=\"text-align: right;\">5.9     </td><td style=\"text-align: right;\">274.642</td><td style=\"text-align: right;\">5898.01 </td><td style=\"text-align: right;\">2785.64 </td></tr>\\n<tr><td>d      </td><td style=\"text-align: right;\">0.980665</td><td style=\"text-align: right;\">179.189</td><td style=\"text-align: right;\">5898.01 </td><td style=\"text-align: right;\">2462.69 </td></tr>\\n<tr><td>e      </td><td style=\"text-align: right;\">0.980665</td><td style=\"text-align: right;\">179.189</td><td style=\"text-align: right;\">6591.71 </td><td style=\"text-align: right;\">2776.38 </td></tr>\\n<tr><td>f      </td><td style=\"text-align: right;\">0.980665</td><td style=\"text-align: right;\">250    </td><td style=\"text-align: right;\">7199.86 </td><td style=\"text-align: right;\">2943.61 </td></tr>\\n<tr><td>k      </td><td style=\"text-align: right;\">0.004381</td><td style=\"text-align: right;\"> 30.545</td><td style=\"text-align: right;\">7199.86 </td><td style=\"text-align: right;\">2178.63 </td></tr>\\n<tr><td>k`     </td><td style=\"text-align: right;\">0.004381</td><td style=\"text-align: right;\"> 30.545</td><td style=\"text-align: right;\"> 442.236</td><td style=\"text-align: right;\"> 127.396</td></tr>\\n<tr><td>a      </td><td style=\"text-align: right;\">5.9     </td><td style=\"text-align: right;\"> 30.545</td><td style=\"text-align: right;\"> 440.411</td><td style=\"text-align: right;\"> 132.757</td></tr>\\n<tr><td>g      </td><td style=\"text-align: right;\">0.980665</td><td style=\"text-align: right;\">179.189</td><td style=\"text-align: right;\">2130.22 </td><td style=\"text-align: right;\"> 758.945</td></tr>\\n</tbody>\\n</table>'"
      ]
     },
     "metadata": {},
     "output_type": "display_data"
    },
    {
     "data": {
      "text/latex": [
       "$\\displaystyle x_d = 8.445 \\cdot 10^{ -01 }$"
      ],
      "text/plain": [
       "<IPython.core.display.Math object>"
      ]
     },
     "execution_count": 1,
     "metadata": {},
     "output_type": "execute_result"
    }
   ],
   "source": [
    "import test as wsp\n",
    "import matplotlib.pyplot as pl\n",
    "import numpy as np\n",
    "from coursache import tex_exp, print_latex\n",
    "\n",
    "# P_f = 1088538.1638538  # 11.1 кгс/см² https://fis.bobrodobro.ru/8395\n",
    "P_f = 980665.01248092  # 10 кгс/см² из https://ru.wikipedia.org/wiki/%D0%9A-1000-60/1500\n",
    "\n",
    "# h\n",
    "T_h = 220 + 273\n",
    "# P_h = wsp.wspPST(T_h)\n",
    "P_h = 5.9 * 10 ** 6\n",
    "S_h = wsp.wspSSWT(T_h)\n",
    "H_h = wsp.wspHSWT(T_h)\n",
    "\n",
    "# b\n",
    "P_b = P_h\n",
    "T_b = wsp.wspTSP(P_b)\n",
    "S_b = wsp.wspSSWT(T_b)\n",
    "H_b = wsp.wspHSWT(T_b)\n",
    "\n",
    "# c\n",
    "P_c = P_b\n",
    "T_c = T_b\n",
    "S_c = wsp.wspSSST(T_c)\n",
    "H_c = wsp.wspHSST(T_c)\n",
    "\n",
    "# d\n",
    "P_d = P_f\n",
    "T_d = wsp.wspTSP(P_d)\n",
    "S_d = S_c\n",
    "H_d = wsp.wspHPS(P_d, S_d)\n",
    "x_d = wsp.wspXPS(P_d, S_d)\n",
    "\n",
    "# k\n",
    "P_k = 4381\n",
    "x_k = x_d\n",
    "T_k = wsp.wspTSP(P_k) - 2\n",
    "S_k = wsp.wspSSTX(T_k, x_k)\n",
    "H_k = wsp.wspHSTX(T_k, x_k)\n",
    "\n",
    "# f\n",
    "T_f = 250 + 273\n",
    "S_f = S_k\n",
    "H_f = wsp.wspHPT(P_f, T_f)\n",
    "\n",
    "\n",
    "\n",
    "# e\n",
    "T_e = T_d\n",
    "P_e = P_d\n",
    "S_e = wsp.wspSSST(T_e)\n",
    "H_e = wsp.wspHSST(T_e)\n",
    "\n",
    "\n",
    "\n",
    "# k'\n",
    "P_k1 = P_k\n",
    "T_k1 = T_k\n",
    "S_k1 = wsp.wspSSWT(T_k1)\n",
    "H_k1 = wsp.wspHSWT(T_k1)\n",
    "\n",
    "# a\n",
    "P_a = P_b\n",
    "T_a = T_k\n",
    "S_a = wsp.wspSPT(P_a, T_a)\n",
    "H_a = wsp.wspHPS(P_a, S_a)\n",
    "\n",
    "# g\n",
    "T_g = T_d\n",
    "P_g = P_d\n",
    "S_g = wsp.wspSSWT(T_g)\n",
    "H_g = wsp.wspHSWT(T_g)\n",
    "\n",
    "n = 7\n",
    "Q_el = 1000 * 10 ** 6 # Вт\n",
    "\n",
    "import tabulate\n",
    "from IPython.display import Latex, Math\n",
    "display(tabulate.tabulate(\n",
    "    {\"Точка\": ['h', 'b', 'c', 'd', 'e', 'f', 'k', 'k`', 'a', 'g'],\n",
    "     \"P\":     np.array([P_h, P_b, P_c, P_d, P_e, P_f, P_k, P_k1, P_a, P_g]) * 10 ** -6,\n",
    "     \"T\":     np.array([T_h, T_b, T_c, T_d, T_e, T_f, T_k, T_k1, T_a, T_g]) - 273,\n",
    "     \"S\":     np.array([S_h, S_b, S_c, S_d, S_e, S_f, S_k, S_k1, S_a, S_g]),\n",
    "     \"H\":     np.array([H_h, H_b, H_c, H_d, H_e, H_f, H_k, H_k1, H_a, H_g]) * 10 ** -3},\n",
    "    tablefmt=\"html\", headers=\"keys\"))\n",
    "Math(f\"x_d = {tex_exp(x_d)}\")"
   ]
  },
  {
   "cell_type": "code",
   "execution_count": 5,
   "id": "e0d5e01d",
   "metadata": {},
   "outputs": [
    {
     "data": {
      "text/plain": [
       "28.693548695652794"
      ]
     },
     "execution_count": 5,
     "metadata": {},
     "output_type": "execute_result"
    }
   ],
   "source": [
    "wsp.wspTSP(P_k) - 2 - 273"
   ]
  },
  {
   "cell_type": "code",
   "execution_count": 90,
   "id": "1540d907",
   "metadata": {},
   "outputs": [
    {
     "data": {
      "text/latex": [
       "\n",
       "\\begin{table}[H]\n",
       "\t\\caption{Значения параметров TS-диаграммы}\n",
       "\t\\begin{center}\n",
       "        \\begin{tabular}{|c|c|c|c|c|}\n",
       "        \\toprule\n",
       "         Точка & P, МПа & T, $^\\circ C$ & S, Дж/(кг $\\cdot$ К) & h, кДж/кг \\\\ \n",
       "         \\midrule\n",
       "         \\hline\n",
       "          h & 5.9 & 220 &  2516.43 & 942948.38\\\\ \n",
       "         \\hline\n",
       "          b & 5.9 & 274.6 & 3017.38 & 1208086.425777297 \\\\ \n",
       "         \\hline\n",
       "          c & 5900000.0 & 547.6419371623789 & 5898.010124779337 & 2785640.9517910588\\\\ \n",
       "         \\hline\n",
       "          d & 980665.01248092 & 452.18894894827514 & 5898.010124779337 & 2462691.027754456 \\\\ \n",
       "         \\hline\n",
       "          e & 980665.01248092 & 452.18894894827514 & 6591.71423424383 & 2776375.157348476 \\\\ \n",
       "         \\hline\n",
       "          f & 980665.01248092 & 523  & 7199.8592592219475 & 2776375.157348476 \\\\ \n",
       "         \\hline\n",
       "          k & 4381 & 303.545 & 7199.8592592219475 & 2178634.009174881 \\\\ \n",
       "         \\hline\n",
       "          k′ & 4381 & 303.545 & 442.2361393322407 & 127396.44010121074 \\\\ \n",
       "         \\hline\n",
       "          a & 5900000.0 & 303.545 & 440.41054103591944 & 132756.91057814233 \\\\ \n",
       "         \\hline\n",
       "          g & 980665.01248092 & 452.18894894827514 &  2130.220448020585 & 758944.7054791402 \\\\ \n",
       "         \\bottomrule\n",
       "\t\t\\end{tabular}\n",
       "\t\t\\label{tabular:coeffs}\n",
       "\t\\end{center}\n",
       "\\end{table}\n"
      ],
      "text/plain": [
       "<IPython.core.display.Latex object>"
      ]
     },
     "execution_count": 90,
     "metadata": {},
     "output_type": "execute_result"
    }
   ],
   "source": [
    "tex_table = fr\"\"\"\n",
    "\\begin{{table}}[H]\n",
    "\t\\caption{{Значения параметров TS-диаграммы}}\n",
    "\t\\begin{{center}}\n",
    "        \\begin{{tabular}}{{|c|c|c|c|c|}}\n",
    "        \\toprule\n",
    "         Точка & P, МПа & T, $^\\circ C$ & S, Дж/(кг $\\cdot$ К) & h, кДж/кг \\\\ \n",
    "         \\midrule\n",
    "         \\hline\n",
    "          h & {P_h * 10 ** (-6):.01f} & {T_h -273} &  {S_h:.02f} & {H_h:.02f}\\\\ \n",
    "         \\hline\n",
    "          b & {P_b * 10 ** (-6):.01f} & {T_b - 273:.01f} & {S_b:.02f} & {H_b} \\\\ \n",
    "         \\hline\n",
    "          c & {P_c} & {T_c} & {S_c} & {H_c}\\\\ \n",
    "         \\hline\n",
    "          d & {P_d} & {T_d} & {S_d} & {H_d} \\\\ \n",
    "         \\hline\n",
    "          e & {P_e} & {T_e} & {S_e} & {H_e} \\\\ \n",
    "         \\hline\n",
    "          f & {P_f} & {T_f}  & {S_f} & {H_e} \\\\ \n",
    "         \\hline\n",
    "          k & {P_k} & {T_k} & {S_k} & {H_k} \\\\ \n",
    "         \\hline\n",
    "          k′ & {P_k1} & {T_k1} & {S_k1} & {H_k1} \\\\ \n",
    "         \\hline\n",
    "          a & {P_a} & {T_a} & {S_a} & {H_a} \\\\ \n",
    "         \\hline\n",
    "          g & {P_g} & {T_g} &  {S_g} & {H_g} \\\\ \n",
    "         \\bottomrule\n",
    "\t\t\\end{{tabular}}\n",
    "\t\t\\label{{tabular:coeffs}}\n",
    "\t\\end{{center}}\n",
    "\\end{{table}}\n",
    "\"\"\"\n",
    "Latex(tex_table)"
   ]
  },
  {
   "cell_type": "code",
   "execution_count": 2,
   "id": "a558eaa5",
   "metadata": {},
   "outputs": [
    {
     "name": "stdout",
     "output_type": "stream",
     "text": [
      "\\begin{align} \\eta_{t0}=&\n",
      "1 - \n",
      "\\frac{T_{k} ⋅ \\left( s_{f} - s_{a} \\right) ⋅ x_{d}}\n",
      "{\\left( h_{c} - h_{g} \\right) +x_{d}\\left( \\left( h_{g} - h_{a} \\right) + \\left( h_{f} - h_{e} \\right) \\right)}\n",
      "=\\\\=&\n",
      "1 - \n",
      "\\frac{3.035 \\cdot 10^{ 2 } ⋅ \\left( 7.200 \\cdot 10^{ 3 } - 4.404 \\cdot 10^{ 2 } \\right) ⋅ 8.445 \\cdot 10^{ -01 }}\n",
      "{\\left( 2.786 \\cdot 10^{ 6 } - 7.589 \\cdot 10^{ 5 } \\right) + 8.445 \\cdot 10^{ -01 } \\left( \\left( 7.589 \\cdot 10^{ 5 } - 1.328 \\cdot 10^{ 5 } \\right) + \\left( 2.944 \\cdot 10^{ 6 } - 2.776 \\cdot 10^{ 6 } \\right) \\right)}\n",
      "=\\\\=&3.575 \\cdot 10^{ -01 }\\end{align}\n"
     ]
    },
    {
     "data": {
      "text/latex": [
       "$\\displaystyle \\begin{align} \\eta_{t0}=&\n",
       "1 - \n",
       "\\frac{T_{k} ⋅ \\left( s_{f} - s_{a} \\right) ⋅ x_{d}}\n",
       "{\\left( h_{c} - h_{g} \\right) +x_{d}\\left( \\left( h_{g} - h_{a} \\right) + \\left( h_{f} - h_{e} \\right) \\right)}\n",
       "=\\\\=&\n",
       "1 - \n",
       "\\frac{3.035 \\cdot 10^{ 2 } ⋅ \\left( 7.200 \\cdot 10^{ 3 } - 4.404 \\cdot 10^{ 2 } \\right) ⋅ 8.445 \\cdot 10^{ -01 }}\n",
       "{\\left( 2.786 \\cdot 10^{ 6 } - 7.589 \\cdot 10^{ 5 } \\right) + 8.445 \\cdot 10^{ -01 } \\left( \\left( 7.589 \\cdot 10^{ 5 } - 1.328 \\cdot 10^{ 5 } \\right) + \\left( 2.944 \\cdot 10^{ 6 } - 2.776 \\cdot 10^{ 6 } \\right) \\right)}\n",
       "=\\\\=&3.575 \\cdot 10^{ -01 }\\end{align}$"
      ],
      "text/plain": [
       "<IPython.core.display.Math object>"
      ]
     },
     "metadata": {},
     "output_type": "display_data"
    }
   ],
   "source": [
    "eta_t0 = 1 - ((T_k * (S_f - S_a) * x_d) / \n",
    "          # -------------------------------------------------\n",
    "            ((H_c - H_g) + x_d * ((H_g - H_a) + (H_f - H_e))))\n",
    "\n",
    "eta_t0_formulas = r\"\"\"\n",
    "1 - \n",
    "\\frac{T_{k} ⋅ \\left( s_{f} - s_{a} \\right) ⋅ x_{d}}\n",
    "{\\left( h_{c} - h_{g} \\right) +x_{d}\\left( \\left( h_{g} - h_{a} \\right) + \\left( h_{f} - h_{e} \\right) \\right)}\n",
    "\"\"\"\n",
    "\n",
    "eta_t0_nums = fr\"\"\"\n",
    "1 - \n",
    "\\frac{{{tex_exp(T_k)} ⋅ \\left( {tex_exp(S_f)} - {tex_exp(S_a)} \\right) ⋅ {tex_exp(x_d)}}}\n",
    "{{\\left( {tex_exp(H_c)} - {tex_exp(H_g)} \\right) + {tex_exp(x_d)} \\left( \\left( {tex_exp(H_g)} - {tex_exp(H_a)} \\right) + \\left( {tex_exp(H_f)} - {tex_exp(H_e)} \\right) \\right)}}\n",
    "\"\"\"\n",
    "\n",
    "final_code = fr\"\\begin{{align}} \\eta_{{t0}}=&{eta_t0_formulas}=\\\\=&{eta_t0_nums}=\\\\=&{tex_exp(eta_t0)}\\end{{align}}\"\n",
    "\n",
    "print(final_code)\n",
    "display(Math(final_code))\n"
   ]
  },
  {
   "cell_type": "code",
   "execution_count": 3,
   "id": "bf3cc4cb",
   "metadata": {},
   "outputs": [
    {
     "name": "stdout",
     "output_type": "stream",
     "text": [
      "\\begin{align}η_{t∞}&=\n",
      "1 -\n",
      "\\frac{T_{k} ⋅ \\left( s_{f} - s_{g} \\right) \\left( s_{c} - s_{h} \\right)}\n",
      "{\\left(h_{c} - h_{h}\\right) ⋅ \\left( s_{e} - s_{g} \\right) + \\left( h_{f} - h_{e} \\right) ⋅ \\left( s_{c} - s_{h} \\right)}\n",
      "=\\\\&=\n",
      "1 -\n",
      "\\frac{3.035 \\cdot 10^{ 2 } ⋅ \\left( 7.200 \\cdot 10^{ 3 } - 2.130 \\cdot 10^{ 3 } \\right) \\left( 5.898 \\cdot 10^{ 3 } - 2.516 \\cdot 10^{ 3 } \\right)}\n",
      "{\\left(2.786 \\cdot 10^{ 6 }) - 9.429 \\cdot 10^{ 5 }\\right) ⋅ \\left( 6.592 \\cdot 10^{ 3 } - 2.130 \\cdot 10^{ 3 } \\right) + \\left( 2.944 \\cdot 10^{ 6 } - 2.776 \\cdot 10^{ 6 } \\right) ⋅ \\left( 5.898 \\cdot 10^{ 3 } - 2.516 \\cdot 10^{ 3 } \\right)}\n",
      "=\\\\&=4.078 \\cdot 10^{ -01 }\\end{align}\n"
     ]
    },
    {
     "data": {
      "text/latex": [
       "$\\displaystyle \\begin{align}η_{t∞}&=\n",
       "1 -\n",
       "\\frac{T_{k} ⋅ \\left( s_{f} - s_{g} \\right) \\left( s_{c} - s_{h} \\right)}\n",
       "{\\left(h_{c} - h_{h}\\right) ⋅ \\left( s_{e} - s_{g} \\right) + \\left( h_{f} - h_{e} \\right) ⋅ \\left( s_{c} - s_{h} \\right)}\n",
       "=\\\\&=\n",
       "1 -\n",
       "\\frac{3.035 \\cdot 10^{ 2 } ⋅ \\left( 7.200 \\cdot 10^{ 3 } - 2.130 \\cdot 10^{ 3 } \\right) \\left( 5.898 \\cdot 10^{ 3 } - 2.516 \\cdot 10^{ 3 } \\right)}\n",
       "{\\left(2.786 \\cdot 10^{ 6 }) - 9.429 \\cdot 10^{ 5 }\\right) ⋅ \\left( 6.592 \\cdot 10^{ 3 } - 2.130 \\cdot 10^{ 3 } \\right) + \\left( 2.944 \\cdot 10^{ 6 } - 2.776 \\cdot 10^{ 6 } \\right) ⋅ \\left( 5.898 \\cdot 10^{ 3 } - 2.516 \\cdot 10^{ 3 } \\right)}\n",
       "=\\\\&=4.078 \\cdot 10^{ -01 }\\end{align}$"
      ],
      "text/plain": [
       "<IPython.core.display.Math object>"
      ]
     },
     "execution_count": 3,
     "metadata": {},
     "output_type": "execute_result"
    }
   ],
   "source": [
    "eta_t_infty = 1 - ((T_k * (S_f - S_g) * (S_c - S_h)) /\n",
    "                # ------------------------------------------------------\n",
    "                 ((H_c - H_h) * (S_e - S_g) + (H_f - H_e) * (S_c - S_h)))\n",
    "\n",
    "eta_t_infty_formula = r\"\"\"\n",
    "1 -\n",
    "\\frac{T_{k} ⋅ \\left( s_{f} - s_{g} \\right) \\left( s_{c} - s_{h} \\right)}\n",
    "{\\left(h_{c} - h_{h}\\right) ⋅ \\left( s_{e} - s_{g} \\right) + \\left( h_{f} - h_{e} \\right) ⋅ \\left( s_{c} - s_{h} \\right)}\n",
    "\"\"\"\n",
    "\n",
    "eta_t_infty_nums = fr\"\"\"\n",
    "1 -\n",
    "\\frac{{{tex_exp(T_k)} ⋅ \\left( {tex_exp(S_f)} - {tex_exp(S_g)} \\right) \\left( {tex_exp(S_c)} - {tex_exp(S_h)} \\right)}}\n",
    "{{\\left({tex_exp(H_c)}) - {tex_exp(H_h)}\\right) ⋅ \\left( {tex_exp(S_e)} - {tex_exp(S_g)} \\right) + \\left( {tex_exp(H_f)} - {tex_exp(H_e)} \\right) ⋅ \\left( {tex_exp(S_c)} - {tex_exp(S_h)} \\right)}}\n",
    "\"\"\"\n",
    "\n",
    "final_code = fr\"\\begin{{align}}η_{{t∞}}&={eta_t_infty_formula}=\\\\&={eta_t_infty_nums}=\\\\&={tex_exp(eta_t_infty)}\\end{{align}}\"\n",
    "print(final_code)\n",
    "\n",
    "Math(final_code)"
   ]
  },
  {
   "cell_type": "code",
   "execution_count": 4,
   "id": "a2e96d70",
   "metadata": {},
   "outputs": [
    {
     "name": "stdout",
     "output_type": "stream",
     "text": [
      "\n",
      "η_{tn} = η_{t0} + \\left( η_{t∞} - η_{t0} \\right) ⋅ \\frac{n}{n+1}\n",
      "=\n",
      "3.575 \\cdot 10^{ -01 } + \\left( 4.078 \\cdot 10^{ -01 } - 3.575 \\cdot 10^{ -01 } \\right) \\cdot \\frac{7}{8}\n",
      "=4.015 \\cdot 10^{ -01 }\n"
     ]
    },
    {
     "data": {
      "text/latex": [
       "$\\displaystyle \n",
       "η_{tn} = η_{t0} + \\left( η_{t∞} - η_{t0} \\right) ⋅ \\frac{n}{n+1}\n",
       "=\n",
       "3.575 \\cdot 10^{ -01 } + \\left( 4.078 \\cdot 10^{ -01 } - 3.575 \\cdot 10^{ -01 } \\right) \\cdot \\frac{7}{8}\n",
       "=4.015 \\cdot 10^{ -01 }$"
      ],
      "text/plain": [
       "<IPython.core.display.Math object>"
      ]
     },
     "execution_count": 4,
     "metadata": {},
     "output_type": "execute_result"
    }
   ],
   "source": [
    "eta_tn = eta_t0 + (eta_t_infty - eta_t0) * n / (n + 1)\n",
    "\n",
    "eta_tn_formula = r\"\"\"\n",
    "η_{tn} = η_{t0} + \\left( η_{t∞} - η_{t0} \\right) ⋅ \\frac{n}{n+1}\n",
    "\"\"\"\n",
    "\n",
    "eta_tn_nums = fr\"\"\"\n",
    "{tex_exp(eta_t0)} + \\left( {tex_exp(eta_t_infty)} - {tex_exp(eta_t0)} \\right) \\cdot \\frac{{{n}}}{{{n + 1}}}\n",
    "\"\"\"\n",
    "\n",
    "final_code = fr\"{eta_tn_formula}={eta_tn_nums}={tex_exp(eta_tn)}\"\n",
    "print(final_code)\n",
    "\n",
    "Math(final_code)"
   ]
  },
  {
   "cell_type": "code",
   "execution_count": 5,
   "id": "e0117abc",
   "metadata": {},
   "outputs": [
    {
     "name": "stdout",
     "output_type": "stream",
     "text": [
      "\n",
      "\\eta_{\\text{брутто}} = \\eta^7 \\cdot \\eta^{\\text{вн}} \\cdot \\eta_{\\text{ос}} \\cdot \\eta_{\\text{эг}} \\cdot \\eta_{\\text{мех}} = 0.335\n",
      "=4.015 \\cdot 10^{ -01 } \\cdot 0.85 \\cdot 0.98 \\cdot 0.98 \\cdot 0.97=3.179 \\cdot 10^{ -01 }\n"
     ]
    },
    {
     "data": {
      "text/latex": [
       "$\\displaystyle \n",
       "\\eta_{\\text{брутто}} = \\eta^7 \\cdot \\eta^{\\text{вн}} \\cdot \\eta_{\\text{ос}} \\cdot \\eta_{\\text{эг}} \\cdot \\eta_{\\text{мех}} = 0.335\n",
       "=4.015 \\cdot 10^{ -01 } \\cdot 0.85 \\cdot 0.98 \\cdot 0.98 \\cdot 0.97=3.179 \\cdot 10^{ -01 }$"
      ],
      "text/plain": [
       "<IPython.core.display.Math object>"
      ]
     },
     "execution_count": 5,
     "metadata": {},
     "output_type": "execute_result"
    }
   ],
   "source": [
    "eta_brutto = eta_tn * 0.85 * 0.98 * 0.98 * 0.97\n",
    "\n",
    "eta_brutto_formula = r\"\"\"\n",
    "\\eta_{\\text{брутто}} = \\eta^7 \\cdot \\eta^{\\text{вн}} \\cdot \\eta_{\\text{ос}} \\cdot \\eta_{\\text{эг}} \\cdot \\eta_{\\text{мех}} = 0.335\n",
    "\"\"\"\n",
    "\n",
    "eta_brutto_nums = fr\"{tex_exp(eta_tn)} \\cdot 0.85 \\cdot 0.98 \\cdot 0.98 \\cdot 0.97\"\n",
    "final_code=fr\"{eta_brutto_formula}={eta_brutto_nums}={tex_exp(eta_brutto)}\"\n",
    "print(final_code)\n",
    "Math(final_code)"
   ]
  },
  {
   "cell_type": "code",
   "execution_count": 6,
   "id": "e199e3cf",
   "metadata": {},
   "outputs": [
    {
     "name": "stdout",
     "output_type": "stream",
     "text": [
      "Q_{\\text{теп}} = \\frac{Q_{\\text{эл}}}{\\eta_{\\text{брутто}}}=\\frac{ 1.000 \\cdot 10^{ 9 } } { 3.179 \\cdot 10^{ -01 } } = 3.146 \\cdot 10^{ 3 } \\text{МВт}\n"
     ]
    },
    {
     "data": {
      "text/latex": [
       "$\\displaystyle Q_{\\text{теп}} = \\frac{Q_{\\text{эл}}}{\\eta_{\\text{брутто}}}=\\frac{ 1.000 \\cdot 10^{ 9 } } { 3.179 \\cdot 10^{ -01 } } = 3.146 \\cdot 10^{ 3 } \\text{МВт}$"
      ],
      "text/plain": [
       "<IPython.core.display.Math object>"
      ]
     },
     "execution_count": 6,
     "metadata": {},
     "output_type": "execute_result"
    }
   ],
   "source": [
    "Q_tep = Q_el / eta_brutto\n",
    "\n",
    "final_code = fr\"Q_{{\\text{{теп}}}} = \\frac{{Q_{{\\text{{эл}}}}}}{{\\eta_{{\\text{{брутто}}}}}}=\\frac{{ {tex_exp(Q_el)} }} {{ {tex_exp(eta_brutto)} }} = {tex_exp(Q_tep * 10 ** -6)} \\text{{МВт}}\"\n",
    "Q_tep\n",
    "\n",
    "print(final_code)\n",
    "Math(final_code)"
   ]
  },
  {
   "cell_type": "code",
   "execution_count": 80,
   "id": "d8995511",
   "metadata": {
    "scrolled": false
   },
   "outputs": [
    {
     "data": {
      "image/png": "[encoded data removed]",
      "text/plain": [
       "<Figure size 432x288 with 1 Axes>"
      ]
     },
     "metadata": {
      "needs_background": "light"
     },
     "output_type": "display_data"
    }
   ],
   "source": [
    "pl.plot([S_h, S_b, S_c, S_d, S_e, S_f, S_k, S_k1, S_a, S_g, S_h],\n",
    "        np.array([T_h, T_b, T_c, T_d, T_e, T_f, T_k, T_k1, T_a, T_g, T_h]) - 273, '-o')\n",
    "pl.grid()"
   ]
  },
  {
   "cell_type": "markdown",
   "id": "34b218e4",
   "metadata": {},
   "source": [
    "## Расчет изменения теплового потока в наиболее нагруженном канале"
   ]
  },
  {
   "cell_type": "code",
   "execution_count": 8,
   "id": "c6734daa",
   "metadata": {},
   "outputs": [
    {
     "name": "stdout",
     "output_type": "stream",
     "text": [
      "\n",
      "q_{max} = \\frac {Q_{\\text{теп}}K_r K_z}{N_{\\text{ТВС}}N_{\\text{твэл}}H_{\\text{аз}}}  \n",
      "=\n",
      "\\frac \n",
      "{ 3.146 \\cdot 10^{ 9 } \\cdot 1.25 \\cdot 1.5  }\n",
      "{ 163 \\cdot 317 \\cdot 3.5 }\n",
      "=3.261 \\cdot 10^{ 2 } \\frac {\\text{Вт}} {\\text{см}}\n"
     ]
    },
    {
     "data": {
      "text/latex": [
       "$\\displaystyle \n",
       "q_{max} = \\frac {Q_{\\text{теп}}K_r K_z}{N_{\\text{ТВС}}N_{\\text{твэл}}H_{\\text{аз}}}  \n",
       "=\n",
       "\\frac \n",
       "{ 3.146 \\cdot 10^{ 9 } \\cdot 1.25 \\cdot 1.5  }\n",
       "{ 163 \\cdot 317 \\cdot 3.5 }\n",
       "=3.261 \\cdot 10^{ 2 } \\frac {\\text{Вт}} {\\text{см}}$"
      ],
      "text/plain": [
       "<IPython.core.display.Math object>"
      ]
     },
     "execution_count": 8,
     "metadata": {},
     "output_type": "execute_result"
    }
   ],
   "source": [
    "K_r = 1.25\n",
    "K_z = 1.5\n",
    "N_tvs = 163\n",
    "N_tvel = 317\n",
    "H_az = 3.5 \n",
    "q_max = Q_tep  * K_r * K_z / ( N_tvs * N_tvel * H_az )\n",
    "q_max * 10 ** 4\n",
    "\n",
    "q_max_formula = r\"\"\"\n",
    "q_{max} = \\frac {Q_{\\text{теп}}K_r K_z}{N_{\\text{ТВС}}N_{\\text{твэл}}H_{\\text{аз}}}  \n",
    "\"\"\"\n",
    "\n",
    "q_max_nums = fr\"\"\"\n",
    "\\frac \n",
    "{{ {tex_exp(Q_tep)} \\cdot {K_r} \\cdot {K_z}  }}\n",
    "{{ {N_tvs} \\cdot {N_tvel} \\cdot {H_az} }}\n",
    "\"\"\"\n",
    "\n",
    "final_code = fr\"{q_max_formula}={q_max_nums}={tex_exp(q_max / 100) } \\frac {{\\text{{Вт}}}} {{\\text{{см}}}}\"\n",
    "print(final_code)\n",
    "Math(final_code)"
   ]
  },
  {
   "cell_type": "markdown",
   "id": "99a55c8a",
   "metadata": {},
   "source": [
    "## Распределение температуры теплоносителя по высоте "
   ]
  },
  {
   "cell_type": "code",
   "execution_count": 9,
   "id": "1059b072",
   "metadata": {},
   "outputs": [
    {
     "name": "stdout",
     "output_type": "stream",
     "text": [
      "\n",
      "G_{\\text{ТВС}} = \\frac {Q_{\\text{теп}}} {(h_{\\text{вых}} - h_{\\text{вх}})N_{\\text{ТВС}}}\n",
      "=\n",
      "\\frac { 3.146 \\cdot 10^{ 9 } } { ( 1.452 \\cdot 10^{ 6 } - 1.268 \\cdot 10^{ 6 }) \\cdot 163 } = 1.049 \\cdot 10^{ 2 } \\ \\frac {\\text{кг}}{\\text{c}}\n",
      "\n"
     ]
    },
    {
     "data": {
      "text/latex": [
       "$\\displaystyle \n",
       "G_{\\text{ТВС}} = \\frac {Q_{\\text{теп}}} {(h_{\\text{вых}} - h_{\\text{вх}})N_{\\text{ТВС}}}\n",
       "=\n",
       "\\frac { 3.146 \\cdot 10^{ 9 } } { ( 1.452 \\cdot 10^{ 6 } - 1.268 \\cdot 10^{ 6 }) \\cdot 163 } = 1.049 \\cdot 10^{ 2 } \\ \\frac {\\text{кг}}{\\text{c}}\n",
       "$"
      ],
      "text/plain": [
       "<IPython.core.display.Math object>"
      ]
     },
     "execution_count": 9,
     "metadata": {},
     "output_type": "execute_result"
    }
   ],
   "source": [
    "P_az = 15.7 * 10 ** 6\n",
    "T_az_vh = 287 + 273\n",
    "T_az_vih = 320 + 273\n",
    "H_vh = wsp.wspHPT(P_az, T_az_vh)\n",
    "H_vih = wsp.wspHPT(P_az, T_az_vih)\n",
    "\n",
    "\n",
    "G_tvs = (\n",
    "            Q_tep           /\n",
    "  # --------------------------\n",
    "    ( (H_vih - H_vh) * N_tvs )\n",
    ")\n",
    "\n",
    "G_tvs_formula = r\"\"\"\n",
    "G_{\\text{ТВС}} = \\frac {Q_{\\text{теп}}} {(h_{\\text{вых}} - h_{\\text{вх}})N_{\\text{ТВС}}}\n",
    "\"\"\"\n",
    "\n",
    "G_tvs_nums = fr\"\"\"\n",
    "\\frac {{ {tex_exp(Q_tep)} }} {{ ( { tex_exp(H_vih) } - { tex_exp(H_vh) }) \\cdot {N_tvs} }} = {tex_exp(G_tvs)} \\ \\frac {{\\text{{кг}}}}{{\\text{{c}}}}\n",
    "\"\"\"\n",
    "\n",
    "final_code = f\"{G_tvs_formula}={G_tvs_nums}\"\n",
    "\n",
    "print(final_code)\n",
    "Math(final_code)\n"
   ]
  },
  {
   "cell_type": "code",
   "execution_count": 10,
   "id": "f02d47ec",
   "metadata": {},
   "outputs": [
    {
     "name": "stdout",
     "output_type": "stream",
     "text": [
      "\n",
      "G_{\\text{реак}} = \\frac {Q_{\\text{теп}}} {(h_{\\text{вых}} - h_{\\text{вх}})}\n",
      "=\n",
      "\\frac { 3.146 \\cdot 10^{ 9 } } { ( 1.452 \\cdot 10^{ 6 } - 1.268 \\cdot 10^{ 6 }) } = 1.710 \\cdot 10^{ 4 } \\ \\frac {\\text{кг}}{\\text{c}}\n",
      "\n"
     ]
    },
    {
     "data": {
      "text/latex": [
       "$\\displaystyle \n",
       "G_{\\text{реак}} = \\frac {Q_{\\text{теп}}} {(h_{\\text{вых}} - h_{\\text{вх}})}\n",
       "=\n",
       "\\frac { 3.146 \\cdot 10^{ 9 } } { ( 1.452 \\cdot 10^{ 6 } - 1.268 \\cdot 10^{ 6 }) } = 1.710 \\cdot 10^{ 4 } \\ \\frac {\\text{кг}}{\\text{c}}\n",
       "$"
      ],
      "text/plain": [
       "<IPython.core.display.Math object>"
      ]
     },
     "execution_count": 10,
     "metadata": {},
     "output_type": "execute_result"
    }
   ],
   "source": [
    "G_reak = (\n",
    "            Q_tep           /\n",
    "  # --------------------------\n",
    "    ( (H_vih - H_vh) )\n",
    ")\n",
    "\n",
    "G_reak_formula = r\"\"\"\n",
    "G_{\\text{реак}} = \\frac {Q_{\\text{теп}}} {(h_{\\text{вых}} - h_{\\text{вх}})}\n",
    "\"\"\"\n",
    "\n",
    "G_reak_nums = fr\"\"\"\n",
    "\\frac {{ {tex_exp(Q_tep)} }} {{ ( { tex_exp(H_vih) } - { tex_exp(H_vh) }) }} = {tex_exp(G_reak)} \\ \\frac {{\\text{{кг}}}}{{\\text{{c}}}}\n",
    "\"\"\"\n",
    "\n",
    "final_code = f\"{G_reak_formula}={G_reak_nums}\"\n",
    "\n",
    "print(final_code)\n",
    "Math(final_code)"
   ]
  },
  {
   "cell_type": "code",
   "execution_count": 11,
   "id": "7d85a3c0",
   "metadata": {},
   "outputs": [
    {
     "name": "stdout",
     "output_type": "stream",
     "text": [
      "\n",
      "C_p = \\frac {h_{\\text{вых}} - h_{\\text{вх}}} {T_{\\text{вых}} - T_{\\text{вх}}}\n",
      "=\n",
      "C_p = \\frac { 1.452 \\cdot 10^{ 6 } - 1.268 \\cdot 10^{ 6 } } { 5.930 \\cdot 10^{ 2 } - 5.600 \\cdot 10^{ 2 } } = 5.574 \\cdot 10^{ 3 } \\ \\frac{ \\text{Дж}} { \\text{кг} \\cdot \\text{К} }\n",
      "\n"
     ]
    },
    {
     "data": {
      "text/latex": [
       "$\\displaystyle \n",
       "C_p = \\frac {h_{\\text{вых}} - h_{\\text{вх}}} {T_{\\text{вых}} - T_{\\text{вх}}}\n",
       "=\n",
       "C_p = \\frac { 1.452 \\cdot 10^{ 6 } - 1.268 \\cdot 10^{ 6 } } { 5.930 \\cdot 10^{ 2 } - 5.600 \\cdot 10^{ 2 } } = 5.574 \\cdot 10^{ 3 } \\ \\frac{ \\text{Дж}} { \\text{кг} \\cdot \\text{К} }\n",
       "$"
      ],
      "text/plain": [
       "<IPython.core.display.Math object>"
      ]
     },
     "execution_count": 11,
     "metadata": {},
     "output_type": "execute_result"
    }
   ],
   "source": [
    "C_p = (\n",
    "      (H_vih - H_vh)  /\n",
    "  # --------------------\n",
    "    (T_az_vih - T_az_vh)\n",
    ")\n",
    "\n",
    "C_p_formula = r\"\"\"\n",
    "C_p = \\frac {h_{\\text{вых}} - h_{\\text{вх}}} {T_{\\text{вых}} - T_{\\text{вх}}}\n",
    "\"\"\"\n",
    "\n",
    "C_p_nums = fr\"\"\"\n",
    "C_p = \\frac {{ {tex_exp(H_vih)} - {tex_exp(H_vh)} }} {{ {tex_exp(T_az_vih)} - {tex_exp(T_az_vh)} }} = {tex_exp(C_p)} \\ \\frac{{ \\text{{Дж}}}} {{ \\text{{кг}} \\cdot \\text{{К}} }}\n",
    "\"\"\"\n",
    "\n",
    "final_code = f\"{C_p_formula}={C_p_nums}\"\n",
    "\n",
    "print(final_code)\n",
    "Math(final_code)"
   ]
  },
  {
   "cell_type": "code",
   "execution_count": 75,
   "id": "9c9d1e51",
   "metadata": {},
   "outputs": [
    {
     "data": {
      "image/png": "[encoded data removed]",
      "text/plain": [
       "<Figure size 432x288 with 1 Axes>"
      ]
     },
     "metadata": {
      "needs_background": "light"
     },
     "output_type": "display_data"
    },
    {
     "name": "stdout",
     "output_type": "stream",
     "text": [
      "макс температура 328.5390975578629\n",
      "запас до кипения 17.260902442137137\n"
     ]
    }
   ],
   "source": [
    "from math import pi, sin\n",
    "H_eff = 3.715\n",
    "\n",
    "def T(z): \n",
    "    return T_az_vh + (\n",
    "        N_tvs * N_tvel * q_max * H_eff / (G_reak * C_p * pi) \n",
    "        * ( np.sin( pi * z / H_eff) + np.sin( pi * H_az / 2 / H_eff))\n",
    "    )\n",
    "\n",
    "Dz = np.arange(-H_az / 2 , H_az / 2, 0.05)\n",
    "\n",
    "Et = T(Dz) - 273\n",
    "pl.plot(Et, Dz)\n",
    "pl.grid()\n",
    "pl.xlabel(r\"Температура T, $^\\circ C$\")\n",
    "pl.ylabel(r\"Высота Z, м\")\n",
    "\n",
    "pl.text(280, H_az / 2, r\"$\\frac{H_{аз}}{2}$\")\n",
    "pl.axhline(H_az / 2, linestyle='--', color=\"grey\")\n",
    "\n",
    "pl.text(280,  - H_az / 2  - 0.07, r\"$\\frac{ - H_{аз}}{2}$\")\n",
    "pl.axhline( - H_az / 2, linestyle='--', color=\"grey\")\n",
    "\n",
    "pl.savefig(\"Ttep_.png\", dpi=200)\n",
    "pl.show()\n",
    "\n",
    "print(f\"макс температура {Et.max()}\")\n",
    "print(f\"запас до кипения {345.8 - Et.max()}\")"
   ]
  },
  {
   "cell_type": "markdown",
   "id": "8e84680a",
   "metadata": {},
   "source": [
    "## Расчет распроеделения температуры внешней стенки оболочки по высоте"
   ]
  },
  {
   "cell_type": "code",
   "execution_count": 13,
   "id": "8020ab74",
   "metadata": {},
   "outputs": [
    {
     "name": "stdout",
     "output_type": "stream",
     "text": [
      "\\begin{align*}\n",
      "S_{\\text{прох}} =& \\sqrt{3}/2(a - 2 \\cdot \\delta_{\\text{чехла}})^2 - N_{\\text{твэл}} \\frac {\\pi d^2_{\\text{тв}}} {4} - N_{\\text{н.к.}} \\frac {\\pi D_{\\text{н.к}}^2} {4} - \\frac {D_{\\text{ц.к}}^2\\pi}{4}\n",
      "=&\\\\=&\n",
      "\\sqrt{3}/2(2.340 \\cdot 10^{ -01 } - 2 \\cdot 0.0015)^2 - 3.170 \\cdot 10^{ 2 } \\frac { \\pi (9.100 \\cdot 10^{ -03 })^2 } {4} - 1.200 \\cdot 10^{ 1 } \\frac { \\pi (1.260 \\cdot 10^{ -02 }))^2} {4} - \\frac { (1.030 \\cdot 10^{ -02 })^2\\pi } {4} =\\\\=& 2.402 \\cdot 10^{ 4 } \\text{мм}^2\n",
      "\\end{align*}\n"
     ]
    },
    {
     "data": {
      "text/latex": [
       "$\\displaystyle \\begin{align*}\n",
       "S_{\\text{прох}} =& \\sqrt{3}/2(a - 2 \\cdot \\delta_{\\text{чехла}})^2 - N_{\\text{твэл}} \\frac {\\pi d^2_{\\text{тв}}} {4} - N_{\\text{н.к.}} \\frac {\\pi D_{\\text{н.к}}^2} {4} - \\frac {D_{\\text{ц.к}}^2\\pi}{4}\n",
       "=&\\\\=&\n",
       "\\sqrt{3}/2(2.340 \\cdot 10^{ -01 } - 2 \\cdot 0.0015)^2 - 3.170 \\cdot 10^{ 2 } \\frac { \\pi (9.100 \\cdot 10^{ -03 })^2 } {4} - 1.200 \\cdot 10^{ 1 } \\frac { \\pi (1.260 \\cdot 10^{ -02 }))^2} {4} - \\frac { (1.030 \\cdot 10^{ -02 })^2\\pi } {4} =\\\\=& 2.402 \\cdot 10^{ 4 } \\text{мм}^2\n",
       "\\end{align*}$"
      ],
      "text/plain": [
       "<IPython.core.display.Math object>"
      ]
     },
     "execution_count": 13,
     "metadata": {},
     "output_type": "execute_result"
    }
   ],
   "source": [
    "a = 234 * 10 ** -3\n",
    "delta_chehol = 1.5 * 10 ** -3\n",
    "d_tv = 9.1 * 10 ** -3\n",
    "D_nk = 12.6 * 10 ** -3\n",
    "N_nk = 12\n",
    "D_ck = 10.3 * 10 ** -3\n",
    "S_proh = (\n",
    "    np.sqrt(3)/2 * (a - 2 * delta_chehol) ** 2 \n",
    "    - N_tvel * pi * d_tv ** 2 / 4\n",
    "    - N_nk * pi * D_nk ** 2 / 4\n",
    "    - D_ck ** 2 * pi / 4\n",
    ")\n",
    "\n",
    "S_proh_formula = r\"\"\"\n",
    "S_{\\text{прох}} =& \\sqrt{3}/2(a - 2 \\cdot \\delta_{\\text{чехла}})^2 - N_{\\text{твэл}} \\frac {\\pi d^2_{\\text{тв}}} {4} - N_{\\text{н.к.}} \\frac {\\pi D_{\\text{н.к}}^2} {4} - \\frac {D_{\\text{ц.к}}^2\\pi}{4}\n",
    "\"\"\"\n",
    "\n",
    "S_proh_nums = fr\"\"\"\n",
    "\\sqrt{{3}}/2({tex_exp(a)} - 2 \\cdot {delta_chehol})^2 - {tex_exp(N_tvel)} \\frac {{ \\pi ({tex_exp(d_tv)})^2 }} {{4}} - {tex_exp(N_nk)} \\frac {{ \\pi ({tex_exp(D_nk)}))^2}} {{4}} - \\frac {{ ({tex_exp(D_ck)})^2\\pi }} {{4}} =\\\\=& {tex_exp(S_proh * 10 ** 6 )} \\text{{мм}}^2\n",
    "\"\"\"\n",
    "\n",
    "final_code = fr\"\\begin{{align*}}{S_proh_formula}=&\\\\=&{S_proh_nums}\\end{{align*}}\"\n",
    "print(final_code)\n",
    "Math(final_code)"
   ]
  },
  {
   "cell_type": "code",
   "execution_count": 14,
   "id": "39110a1d",
   "metadata": {},
   "outputs": [
    {
     "name": "stdout",
     "output_type": "stream",
     "text": [
      "\\begin{align*}\n",
      "\\Pi=& (2(a-2\\delta_{\\text{чехла}})\\sqrt{3}) - N_{\\text {твэл }} \\pi d_{\\text {тв }}+N_{\\text {н.к }} \\pi D_{\\text {н.к }}+\\pi D_{\\text {ц.к}}\n",
      "=&\\\\=\n",
      "(2( \\cdot 2.340 \\cdot 10^{ -01 }-2 \\cdot 1.500 \\cdot 10^{ -03 }) \\cdot \\sqrt{3}) - 3.170 \\cdot 10^{ 2 } \\cdot \\pi \\cdot 9.100 \\cdot 10^{ -03 } + 1.200 \\cdot 10^{ 1 } \\cdot \\pi \\cdot 1.260 \\cdot 10^{ -02 } + \\pi \\cdot 1.030 \\cdot 10^{ -02 }= 1.037 \\cdot 10^{ 4 } \\text{мм}\n",
      "\\end{align*}\n"
     ]
    },
    {
     "data": {
      "text/latex": [
       "$\\displaystyle \\begin{align*}\n",
       "\\Pi=& (2(a-2\\delta_{\\text{чехла}})\\sqrt{3}) - N_{\\text {твэл }} \\pi d_{\\text {тв }}+N_{\\text {н.к }} \\pi D_{\\text {н.к }}+\\pi D_{\\text {ц.к}}\n",
       "=&\\\\=\n",
       "(2( \\cdot 2.340 \\cdot 10^{ -01 }-2 \\cdot 1.500 \\cdot 10^{ -03 }) \\cdot \\sqrt{3}) - 3.170 \\cdot 10^{ 2 } \\cdot \\pi \\cdot 9.100 \\cdot 10^{ -03 } + 1.200 \\cdot 10^{ 1 } \\cdot \\pi \\cdot 1.260 \\cdot 10^{ -02 } + \\pi \\cdot 1.030 \\cdot 10^{ -02 }= 1.037 \\cdot 10^{ 4 } \\text{мм}\n",
       "\\end{align*}$"
      ],
      "text/plain": [
       "<IPython.core.display.Math object>"
      ]
     },
     "execution_count": 14,
     "metadata": {},
     "output_type": "execute_result"
    }
   ],
   "source": [
    "П = (\n",
    "    (2 * (a - 2 * delta_chehol) * np.sqrt(3))\n",
    "    + N_tvel * pi * d_tv\n",
    "    + N_nk * pi * D_nk\n",
    "    + pi * D_ck\n",
    ")\n",
    "\n",
    "П_formula = r\"\"\"\n",
    "\\Pi=& (2(a-2\\delta_{\\text{чехла}})\\sqrt{3}) - N_{\\text {твэл }} \\pi d_{\\text {тв }}+N_{\\text {н.к }} \\pi D_{\\text {н.к }}+\\pi D_{\\text {ц.к}}\n",
    "\"\"\"\n",
    "\n",
    "П_nums = fr\"\"\"\n",
    "(2( \\cdot {tex_exp(a)}-2 \\cdot {tex_exp(delta_chehol)}) \\cdot \\sqrt{{3}}) - {tex_exp(N_tvel)} \\cdot \\pi \\cdot {tex_exp(d_tv)} + {tex_exp(N_nk)} \\cdot \\pi \\cdot {tex_exp(D_nk)} + \\pi \\cdot {tex_exp(D_ck)}= {tex_exp(П * 10 ** 3)} \\text{{мм}}\n",
    "\"\"\"\n",
    "\n",
    "final_code = fr\"\\begin{{align*}}{П_formula}=&\\\\={П_nums}\\end{{align*}}\"\n",
    "print(final_code)\n",
    "Math(final_code)"
   ]
  },
  {
   "cell_type": "code",
   "execution_count": 15,
   "id": "8f9d8d33",
   "metadata": {},
   "outputs": [
    {
     "name": "stdout",
     "output_type": "stream",
     "text": [
      "\n",
      "d_{\\text{Г}} = \\frac {4 S_{\\text{прох}}}{\\text{П}}\n",
      "=\n",
      "\\frac {4 \\cdot 2.402 \\cdot 10^{ -02 }} {1.037 \\cdot 10^{ 1 }} = 9.263 \\cdot 10^{ -03 }\n",
      " \\text{мм}\n"
     ]
    },
    {
     "data": {
      "text/latex": [
       "$\\displaystyle \n",
       "d_{\\text{Г}} = \\frac {4 S_{\\text{прох}}}{\\text{П}}\n",
       "=\n",
       "\\frac {4 \\cdot 2.402 \\cdot 10^{ -02 }} {1.037 \\cdot 10^{ 1 }} = 9.263 \\cdot 10^{ -03 }\n",
       " \\text{мм}$"
      ],
      "text/plain": [
       "<IPython.core.display.Math object>"
      ]
     },
     "execution_count": 15,
     "metadata": {},
     "output_type": "execute_result"
    }
   ],
   "source": [
    "d_g = 4 * S_proh / П\n",
    "\n",
    "d_g_formula = r\"\"\"\n",
    "d_{\\text{Г}} = \\frac {4 S_{\\text{прох}}}{\\text{П}}\n",
    "\"\"\"\n",
    "\n",
    "d_g_nums = fr\"\"\"\n",
    "\\frac {{4 \\cdot {tex_exp(S_proh)}}} {{{tex_exp(П)}}} = {tex_exp(d_g)}\n",
    "\"\"\"\n",
    "\n",
    "final_code = fr\"{d_g_formula}={d_g_nums} \\text{{мм}}\"\n",
    "print(final_code)\n",
    "Math(final_code)"
   ]
  },
  {
   "cell_type": "code",
   "execution_count": 16,
   "id": "b4e23982",
   "metadata": {},
   "outputs": [
    {
     "data": {
      "text/plain": [
       "'4.640 \\\\cdot 10^{ 5 }'"
      ]
     },
     "execution_count": 16,
     "metadata": {},
     "output_type": "execute_result"
    }
   ],
   "source": [
    "mu = 8.721 * 10 ** -5\n",
    "lambda_ = 0.5536\n",
    "Pr = 0.8729\n",
    "\n",
    "Re_petukhov = (\n",
    "    ( G_reak * d_g )    / \n",
    "   # --------------------\n",
    "    ( N_tvs * S_proh * mu )\n",
    ")\n",
    "\n",
    "Re_petukhov\n",
    "tex_exp(Re_petukhov)"
   ]
  },
  {
   "cell_type": "code",
   "execution_count": 17,
   "id": "56146c1f",
   "metadata": {},
   "outputs": [
    {
     "data": {
      "text/plain": [
       "0.013293767794229071"
      ]
     },
     "execution_count": 17,
     "metadata": {},
     "output_type": "execute_result"
    }
   ],
   "source": [
    "xi = (1.82 * np.log10(Re_petukhov) - 1.64) ** -2\n",
    "xi"
   ]
  },
  {
   "cell_type": "code",
   "execution_count": 18,
   "id": "0dac95c3",
   "metadata": {},
   "outputs": [
    {
     "name": "stdout",
     "output_type": "stream",
     "text": [
      "\\begin{align*}\n",
      "\\mathrm{Nu}=&\\frac{\\frac{\\xi}{8} \\cdot \\mathrm{Re} \\cdot \\operatorname{Pr}}{k+12.7 \\cdot\\left(\\operatorname{Pr}^{\\frac{2}{3}}-1\\right) \\cdot \\sqrt{\\frac{\\xi}{8}}}\n",
      "=\\\\=&\n",
      "\\frac{ \n",
      "    \\frac{1.329 \\cdot 10^{ -02 }}{8} \\cdot 4.640 \\cdot 10^{ 5 } \\cdot 8.729 \\cdot 10^{ -01 } \n",
      "}\n",
      "{ \n",
      "    1 + \\frac{900}{4.640 \\cdot 10^{ 5 }} + 12.7 \\cdot\\left((8.729 \\cdot 10^{ -01 })^{\\frac{2}{3}}-1\\right) \\cdot \\sqrt{\\frac{1.329 \\cdot 10^{ -02 }}{8}} \n",
      "} = 7.033 \\cdot 10^{ 2 } \n",
      "\\end{align*}\n"
     ]
    },
    {
     "data": {
      "text/latex": [
       "$\\displaystyle \\begin{align*}\n",
       "\\mathrm{Nu}=&\\frac{\\frac{\\xi}{8} \\cdot \\mathrm{Re} \\cdot \\operatorname{Pr}}{k+12.7 \\cdot\\left(\\operatorname{Pr}^{\\frac{2}{3}}-1\\right) \\cdot \\sqrt{\\frac{\\xi}{8}}}\n",
       "=\\\\=&\n",
       "\\frac{ \n",
       "    \\frac{1.329 \\cdot 10^{ -02 }}{8} \\cdot 4.640 \\cdot 10^{ 5 } \\cdot 8.729 \\cdot 10^{ -01 } \n",
       "}\n",
       "{ \n",
       "    1 + \\frac{900}{4.640 \\cdot 10^{ 5 }} + 12.7 \\cdot\\left((8.729 \\cdot 10^{ -01 })^{\\frac{2}{3}}-1\\right) \\cdot \\sqrt{\\frac{1.329 \\cdot 10^{ -02 }}{8}} \n",
       "} = 7.033 \\cdot 10^{ 2 } \n",
       "\\end{align*}$"
      ],
      "text/plain": [
       "<IPython.core.display.Math object>"
      ]
     },
     "execution_count": 18,
     "metadata": {},
     "output_type": "execute_result"
    }
   ],
   "source": [
    "k = 1 + 900 / Re_petukhov\n",
    "\n",
    "Nu_petukhov = (\n",
    "            ( xi / 8 * Re_petukhov * Pr )  /\n",
    "    # ------------------------------------------------\n",
    "      (k + 12.7 * (Pr ** (2 / 3) - 1) * np.sqrt(xi / 8))\n",
    ")\n",
    "\n",
    "Nu_petukhov_formula = r\"\"\"\n",
    "\\mathrm{Nu}=&\\frac{\\frac{\\xi}{8} \\cdot \\mathrm{Re} \\cdot \\operatorname{Pr}}{k+12.7 \\cdot\\left(\\operatorname{Pr}^{\\frac{2}{3}}-1\\right) \\cdot \\sqrt{\\frac{\\xi}{8}}}\n",
    "\"\"\"\n",
    "\n",
    "Nu_petukhov_nums = fr\"\"\"\n",
    "\\frac{{ \n",
    "    \\frac{{{tex_exp(xi)}}}{{8}} \\cdot {tex_exp(Re_petukhov)} \\cdot {tex_exp(Pr)} \n",
    "}}\n",
    "{{ \n",
    "    1 + \\frac{{900}}{{{tex_exp(Re_petukhov)}}} + 12.7 \\cdot\\left(({tex_exp(Pr)})^{{\\frac{{2}}{{3}}}}-1\\right) \\cdot \\sqrt{{\\frac{{{tex_exp(xi)}}}{{8}}}} \n",
    "}} = {tex_exp(Nu_petukhov)} \n",
    "\"\"\"\n",
    "    \n",
    "    \n",
    "final_code = fr\"\\begin{{align*}}{Nu_petukhov_formula}=\\\\=&{Nu_petukhov_nums}\\end{{align*}}\"\n",
    "\n",
    "print(final_code)\n",
    "Math(final_code)"
   ]
  },
  {
   "cell_type": "code",
   "execution_count": 19,
   "id": "cf4cafce",
   "metadata": {},
   "outputs": [
    {
     "name": "stdout",
     "output_type": "stream",
     "text": [
      "\\alpha_1 = \\frac {Nu \\cdot \\lambda} {d_\\text{г}} = \\frac {7.033 \\cdot 10^{ 2 } \\cdot 5.536 \\cdot 10^{ -01 }}{9.263 \\cdot 10^{ -03 }} = 4.203 \\cdot 10^{ 4 } \\frac {\\text{Вт}}{\\text{м}^2\\cdot\\mathrm{K}}\n"
     ]
    },
    {
     "data": {
      "text/latex": [
       "$\\displaystyle \\alpha_1 = \\frac {Nu \\cdot \\lambda} {d_\\text{г}} = \\frac {7.033 \\cdot 10^{ 2 } \\cdot 5.536 \\cdot 10^{ -01 }}{9.263 \\cdot 10^{ -03 }} = 4.203 \\cdot 10^{ 4 } \\frac {\\text{Вт}}{\\text{м}^2\\cdot\\mathrm{K}}$"
      ],
      "text/plain": [
       "<IPython.core.display.Math object>"
      ]
     },
     "execution_count": 19,
     "metadata": {},
     "output_type": "execute_result"
    }
   ],
   "source": [
    "alpha_1 = Nu_petukhov * lambda_ / d_g\n",
    "\n",
    "final_code = fr\"\\alpha_1 = \\frac {{Nu \\cdot \\lambda}} {{d_\\text{{г}}}} = \\frac {{{tex_exp(Nu_petukhov)} \\cdot {tex_exp(lambda_)}}}{{{tex_exp(d_g)}}} = {tex_exp(alpha_1)} \\frac {{\\text{{Вт}}}}{{\\text{{м}}^2\\cdot\\mathrm{{K}}}}\"\n",
    "print(final_code)\n",
    "Math(final_code)"
   ]
  },
  {
   "cell_type": "code",
   "execution_count": 20,
   "id": "3c64379a",
   "metadata": {},
   "outputs": [
    {
     "name": "stdout",
     "output_type": "stream",
     "text": [
      "743.6326758435579\n",
      "\\alpha_2 = \\frac {Nu \\cdot \\lambda} {d_\\text{г}} = \\frac {7.436 \\cdot 10^{ 2 } \\cdot 5.536 \\cdot 10^{ -01 }}{9.263 \\cdot 10^{ -03 }} = 4.444 \\cdot 10^{ 4 } \\frac {\\text{Вт}}{\\text{м}^2\\cdot\\mathrm{K}}\n"
     ]
    },
    {
     "data": {
      "text/latex": [
       "$\\displaystyle \\alpha_2 = \\frac {Nu \\cdot \\lambda} {d_\\text{г}} = \\frac {7.436 \\cdot 10^{ 2 } \\cdot 5.536 \\cdot 10^{ -01 }}{9.263 \\cdot 10^{ -03 }} = 4.444 \\cdot 10^{ 4 } \\frac {\\text{Вт}}{\\text{м}^2\\cdot\\mathrm{K}}$"
      ],
      "text/plain": [
       "<IPython.core.display.Math object>"
      ]
     },
     "execution_count": 20,
     "metadata": {},
     "output_type": "execute_result"
    }
   ],
   "source": [
    "Nu_dittus = 0.023 * Re_petukhov ** 0.8 * Pr ** 0.4\n",
    "print(Nu_dittus)\n",
    "\n",
    "\n",
    "alpha_2 = Nu_dittus * lambda_ / d_g\n",
    "\n",
    "final_code = fr\"\\alpha_2 = \\frac {{Nu \\cdot \\lambda}} {{d_\\text{{г}}}} = \\frac {{{tex_exp(Nu_dittus)} \\cdot {tex_exp(lambda_)}}}{{{tex_exp(d_g)}}} = {tex_exp(alpha_2)} \\frac {{\\text{{Вт}}}}{{\\text{{м}}^2\\cdot\\mathrm{{K}}}}\"\n",
    "print(final_code)\n",
    "Math(final_code)"
   ]
  },
  {
   "cell_type": "code",
   "execution_count": 21,
   "id": "1bf8eee9",
   "metadata": {},
   "outputs": [
    {
     "name": "stdout",
     "output_type": "stream",
     "text": [
      "676.2057483024544\n",
      "\\alpha_3 = \\frac {Nu \\cdot \\lambda} {d_\\text{г}} = \\frac {6.762 \\cdot 10^{ 2 } \\cdot 5.536 \\cdot 10^{ -01 }}{9.263 \\cdot 10^{ -03 }} = 4.041 \\cdot 10^{ 4 } \\frac {\\text{Вт}}{\\text{м}^2\\cdot\\mathrm{K}}\n"
     ]
    },
    {
     "data": {
      "text/latex": [
       "$\\displaystyle \\alpha_3 = \\frac {Nu \\cdot \\lambda} {d_\\text{г}} = \\frac {6.762 \\cdot 10^{ 2 } \\cdot 5.536 \\cdot 10^{ -01 }}{9.263 \\cdot 10^{ -03 }} = 4.041 \\cdot 10^{ 4 } \\frac {\\text{Вт}}{\\text{м}^2\\cdot\\mathrm{K}}$"
      ],
      "text/plain": [
       "<IPython.core.display.Math object>"
      ]
     },
     "execution_count": 21,
     "metadata": {},
     "output_type": "execute_result"
    }
   ],
   "source": [
    "Nu_mikheev = 0.021 * Re_petukhov ** 0.8 * Pr ** 0.43\n",
    "print(Nu_mikheev)\n",
    "\n",
    "alpha_3 = Nu_mikheev * lambda_ / d_g\n",
    "\n",
    "final_code = fr\"\\alpha_3 = \\frac {{Nu \\cdot \\lambda}} {{d_\\text{{г}}}} = \\frac {{{tex_exp(Nu_mikheev)} \\cdot {tex_exp(lambda_)}}}{{{tex_exp(d_g)}}} = {tex_exp(alpha_3)} \\frac {{\\text{{Вт}}}}{{\\text{{м}}^2\\cdot\\mathrm{{K}}}}\"\n",
    "print(final_code)\n",
    "Math(final_code)"
   ]
  },
  {
   "cell_type": "code",
   "execution_count": 22,
   "id": "9e978ea4",
   "metadata": {},
   "outputs": [
    {
     "data": {
      "text/plain": [
       "'4.229 \\\\cdot 10^{ 4 }'"
      ]
     },
     "execution_count": 22,
     "metadata": {},
     "output_type": "execute_result"
    }
   ],
   "source": [
    "# S_m = 12.75 * 10 ** -3\n",
    "alpha = (alpha_1 + alpha_2 + alpha_3) / 3\n",
    "alpha\n",
    "tex_exp(alpha)\n"
   ]
  },
  {
   "cell_type": "code",
   "execution_count": 73,
   "id": "98d15a97",
   "metadata": {},
   "outputs": [
    {
     "data": {
      "image/png": "[encoded data removed]",
      "text/plain": [
       "<Figure size 432x288 with 1 Axes>"
      ]
     },
     "metadata": {
      "needs_background": "light"
     },
     "output_type": "display_data"
    }
   ],
   "source": [
    "def T_ob(z): \n",
    "    return (\n",
    "    T(z) + (q_max * np.cos(pi * z / H_eff)) / (pi * d_tv * alpha)\n",
    ")\n",
    "\n",
    "Dz = np.arange(-H_az / 2 , H_az / 2, 0.05)\n",
    "\n",
    "Et = T_ob(Dz) - 273\n",
    "pl.plot(Et, Dz)\n",
    "pl.grid()\n",
    "pl.xlabel(r\"Температура T, $^\\circ C$\")\n",
    "pl.ylabel(r\"Высота Z, м\")\n",
    "\n",
    "# pl.text(280, H_az / 2, r\"$\\frac{H_{аз}}{2}$\")\n",
    "# pl.axhline(H_az / 2, linestyle='--', color=\"grey\")\n",
    "\n",
    "# pl.text(280,  - H_az / 2  - 0.07, r\"$\\frac{ - H_{аз}}{2}$\")\n",
    "# pl.axhline( - H_az / 2, linestyle='--', color=\"grey\")\n",
    "# pl.show()\n",
    "\n",
    "# print(f\"макс температура {Et.max()}\")\n",
    "# print(f\"запас до кипения {345.8 - Et.max()}\")\n",
    "pl.axvline(345.8, color=\"orange\", linestyle=\"--\")\n",
    "pl.axvline(Et.max(), color=\"green\", linestyle=\"--\")\n",
    "pl.text(Et.max() - 17, -1.5, fr\"$T_{{об}}^{{max}}={tex_exp(Et.max())}$\", color=\"green\")\n",
    "z_max = max(stats := {x: y for x, y in zip(Dz, Et)}, key=stats.get)\n",
    "pl.axhline(z_max, linestyle=\"--\", color=\"green\")\n",
    "pl.text(290, z_max + 0.1, fr\"$Z_{{max}}={tex_exp(z_max, after_comma=0)}$\", color=\"green\")\n",
    "pl.scatter(Et.max(), z_max, color=\"green\")\n",
    "pl.text(345.8 + 1, -1.0, \"$T_{кип}=345.8$\", color=\"orange\")\n",
    "pl.text(280, H_az / 2, r\"$\\frac{H_{аз}}{2}$\")\n",
    "pl.axhline(H_az / 2, linestyle='--', color=\"grey\")\n",
    "\n",
    "pl.text(280,  - H_az / 2  - 0.07, r\"$\\frac{ - H_{аз}}{2}$\")\n",
    "pl.axhline( - H_az / 2, linestyle='--', color=\"grey\")\n",
    "pl.savefig(\"Tob_.png\", dpi=200)"
   ]
  },
  {
   "cell_type": "code",
   "execution_count": 72,
   "id": "2dffcdc5",
   "metadata": {},
   "outputs": [
    {
     "data": {
      "image/png": "[encoded data removed]",
      "text/plain": [
       "<Figure size 432x288 with 1 Axes>"
      ]
     },
     "metadata": {
      "needs_background": "light"
     },
     "output_type": "display_data"
    }
   ],
   "source": [
    "pl.plot(Dz, T(Dz) - 273, label=\"Теплоноситель\")\n",
    "pl.plot(Dz, T_ob(Dz) - 273, label=\"Оболочка\")\n",
    "pl.legend()\n",
    "pl.grid()\n",
    "pl.xlabel(r\"Температура T, $^\\circ C$\")\n",
    "pl.ylabel(r\"Высота Z, м\")\n",
    "pl.axhline(345.8, color=\"red\", linestyle=\"--\")\n",
    "pl.savefig(\"Tobltep_.png\", dpi=200)"
   ]
  },
  {
   "cell_type": "markdown",
   "id": "9413fae7",
   "metadata": {},
   "source": [
    "## Расчет температуры топлива\n"
   ]
  },
  {
   "cell_type": "markdown",
   "id": "69e0dea4",
   "metadata": {},
   "source": [
    "## Расчет температуры топлива"
   ]
  },
  {
   "cell_type": "code",
   "execution_count": 25,
   "id": "5d4c9595",
   "metadata": {},
   "outputs": [],
   "source": [
    "lambda_gz = 0.35\n",
    "lambda_ob = 20.1\n",
    "lambda_top = 3.5\n",
    "# delta_gz = "
   ]
  },
  {
   "cell_type": "code",
   "execution_count": 26,
   "id": "d20f03cc",
   "metadata": {},
   "outputs": [
    {
     "name": "stdout",
     "output_type": "stream",
     "text": [
      "\\begin{align*}\n",
      "\\sum R_i =& \n",
      "\\frac {\\ln \\frac {d_{\\text{тв}}}{d_{\\text{тв}} - 2\\delta_{об}}  }{2\\pi\\lambda_{\\text{об}}}+\\frac {\\ln \\frac {d_{\\text{тв}} - 2\\delta_{об}}{d_{\\text{топ}}}  }{2\\pi\\lambda_{\\text{г.з}}}+\\frac {\\frac 1 2 - \\frac {d_{\\text{отв}}^2} {d_{\\text{топ}}^2 - d_{\\text{отв}}^2}\\ln \\frac {d_{\\text{топ}}}{d_{\\text{отв}}}} {2 \\pi \\lambda_{\\text{топ}}} =\n",
      "=\\\\=&\n",
      "\\frac {\\ln \\frac{ 9.100 \\cdot 10^{ -03 } }{ 9.100 \\cdot 10^{ -03 } - 2 \\cdot 6.500 \\cdot 10^{ -04 }} } {2\\cdot \\pi \\cdot 2.010 \\cdot 10^{ 1 }}\n",
      "\n",
      "+ \\frac {\\ln \\frac {9.100 \\cdot 10^{ -03 } - 2 \\cdot 6.500 \\cdot 10^{ -04 }}{7.530 \\cdot 10^{ -03 }} } {2 \\pi \\cdot 3.500 \\cdot 10^{ -01 }}\n",
      "\n",
      "+ \\frac { 0.5 - \\frac{ (1.300 \\cdot 10^{ -03 })^2 }{ (7.530 \\cdot 10^{ -03 })^2 - (1.300 \\cdot 10^{ -03 })^2 } \\ln \\frac { 7.530 \\cdot 10^{ -03 } }{ 1.300 \\cdot 10^{ -03 } } } {2 \\pi \\cdot 3.500  }\n",
      "=\\\\=&3.752 \\cdot 10^{ -02 } \\frac {\\text{м} \\cdot K}{\\text{Вт}}\\end{align*}\n"
     ]
    },
    {
     "data": {
      "text/latex": [
       "$\\displaystyle \\begin{align*}\n",
       "\\sum R_i =& \n",
       "\\frac {\\ln \\frac {d_{\\text{тв}}}{d_{\\text{тв}} - 2\\delta_{об}}  }{2\\pi\\lambda_{\\text{об}}}+\\frac {\\ln \\frac {d_{\\text{тв}} - 2\\delta_{об}}{d_{\\text{топ}}}  }{2\\pi\\lambda_{\\text{г.з}}}+\\frac {\\frac 1 2 - \\frac {d_{\\text{отв}}^2} {d_{\\text{топ}}^2 - d_{\\text{отв}}^2}\\ln \\frac {d_{\\text{топ}}}{d_{\\text{отв}}}} {2 \\pi \\lambda_{\\text{топ}}} =\n",
       "=\\\\=&\n",
       "\\frac {\\ln \\frac{ 9.100 \\cdot 10^{ -03 } }{ 9.100 \\cdot 10^{ -03 } - 2 \\cdot 6.500 \\cdot 10^{ -04 }} } {2\\cdot \\pi \\cdot 2.010 \\cdot 10^{ 1 }}\n",
       "\n",
       "+ \\frac {\\ln \\frac {9.100 \\cdot 10^{ -03 } - 2 \\cdot 6.500 \\cdot 10^{ -04 }}{7.530 \\cdot 10^{ -03 }} } {2 \\pi \\cdot 3.500 \\cdot 10^{ -01 }}\n",
       "\n",
       "+ \\frac { 0.5 - \\frac{ (1.300 \\cdot 10^{ -03 })^2 }{ (7.530 \\cdot 10^{ -03 })^2 - (1.300 \\cdot 10^{ -03 })^2 } \\ln \\frac { 7.530 \\cdot 10^{ -03 } }{ 1.300 \\cdot 10^{ -03 } } } {2 \\pi \\cdot 3.500  }\n",
       "=\\\\=&3.752 \\cdot 10^{ -02 } \\frac {\\text{м} \\cdot K}{\\text{Вт}}\\end{align*}$"
      ],
      "text/plain": [
       "<IPython.core.display.Math object>"
      ]
     },
     "execution_count": 26,
     "metadata": {},
     "output_type": "execute_result"
    }
   ],
   "source": [
    "delta_tvel = 0.65 * 10 ** -3\n",
    "d_top = 7.53 * 10 ** -3\n",
    "d_otv = 1.3 * 10 ** -3\n",
    "delta_ob = 0.65 * 10 ** -3\n",
    "\n",
    "Ri = (\n",
    "    np.log(d_tv / (d_tv - 2 * delta_ob)) / (2 * pi * lambda_ob) \n",
    "    + np.log((d_tv - 2 * delta_ob) / d_top) / (2 * pi * lambda_gz) \n",
    "    + (0.5 - d_otv ** 2 / (d_top ** 2 - d_otv ** 2) * np.log(d_top / d_otv)) / (2 * pi * lambda_top)\n",
    ")\n",
    "\n",
    "Ri_formula = r\"\"\"\n",
    "\\sum R_i =& \n",
    "\\frac {\\ln \\frac {d_{\\text{тв}}}{d_{\\text{тв}} - 2\\delta_{об}}  }{2\\pi\\lambda_{\\text{об}}}+\\frac {\\ln \\frac {d_{\\text{тв}} - 2\\delta_{об}}{d_{\\text{топ}}}  }{2\\pi\\lambda_{\\text{г.з}}}+\\frac {\\frac 1 2 - \\frac {d_{\\text{отв}}^2} {d_{\\text{топ}}^2 - d_{\\text{отв}}^2}\\ln \\frac {d_{\\text{топ}}}{d_{\\text{отв}}}} {2 \\pi \\lambda_{\\text{топ}}} =\n",
    "\"\"\"\n",
    "\n",
    "Ri_nums = fr\"\"\"\n",
    "\\frac {{\\ln \\frac{{ {tex_exp(d_tv)} }}{{ {tex_exp(d_tv)} - 2 \\cdot {tex_exp(delta_ob)}}} }} {{2\\cdot \\pi \\cdot {tex_exp(lambda_ob)}}}\n",
    "\n",
    "+ \\frac {{\\ln \\frac {{{tex_exp(d_tv)} - 2 \\cdot {tex_exp(delta_ob)}}}{{{tex_exp(d_top)}}} }} {{2 \\pi \\cdot {tex_exp(lambda_gz)}}}\n",
    "\n",
    "+ \\frac {{ 0.5 - \\frac{{ ({tex_exp(d_otv)})^2 }}{{ ({tex_exp(d_top)})^2 - ({tex_exp(d_otv)})^2 }} \\ln \\frac {{ {tex_exp(d_top)} }}{{ {tex_exp(d_otv)} }} }} {{2 \\pi \\cdot {tex_exp(lambda_top)} }}\n",
    "\"\"\"\n",
    "final_code = fr\"\\begin{{align*}}{Ri_formula}=\\\\=&{Ri_nums}=\\\\=&{tex_exp(Ri)} \\frac {{\\text{{м}} \\cdot K}}{{\\text{{Вт}}}}\\end{{align*}}\"\n",
    "print(final_code)\n",
    "Math(final_code)"
   ]
  },
  {
   "cell_type": "code",
   "execution_count": 78,
   "id": "e1398614",
   "metadata": {},
   "outputs": [
    {
     "data": {
      "image/png": "[encoded data removed]",
      "text/plain": [
       "<Figure size 432x288 with 1 Axes>"
      ]
     },
     "metadata": {
      "needs_background": "light"
     },
     "output_type": "display_data"
    }
   ],
   "source": [
    "def T_top(z): \n",
    "    return (\n",
    "    T_ob(z) + Ri * q_max * np.cos(pi * z / H_eff)\n",
    ")\n",
    "\n",
    "Dz = np.arange(-H_az / 2 , H_az / 2, 0.05)\n",
    "\n",
    "Et = T_top(Dz) - 273\n",
    "pl.plot(Et, Dz)\n",
    "pl.grid()\n",
    "pl.xlabel(r\"Температура T, $^\\circ C$\")\n",
    "pl.ylabel(r\"Высота Z, м\")\n",
    "\n",
    "# pl.text(280, H_az / 2, r\"$\\frac{H_{аз}}{2}$\")\n",
    "# pl.axhline(H_az / 2, linestyle='--', color=\"grey\")\n",
    "\n",
    "# pl.text(280,  - H_az / 2  - 0.07, r\"$\\frac{ - H_{аз}}{2}$\")\n",
    "# pl.axhline( - H_az / 2, linestyle='--', color=\"grey\")\n",
    "# pl.show()\n",
    "\n",
    "# print(f\"макс температура {Et.max()}\")\n",
    "# print(f\"запас до кипения {345.8 - Et.max()}\")\n",
    "# pl.axvline(Et.max(), color=\"green\", linestyle=\"--\")\n",
    "# pl.text(Et.max() - 17, -1.5, fr\"$T_{{об}}^{{max}}={tex_exp(Et.max())}$\", color=\"green\")\n",
    "# z_max = max(stats := {x: y for x, y in zip(Dz, Et)}, key=stats.get)\n",
    "# pl.axhline(z_max, linestyle=\"--\", color=\"green\")\n",
    "# pl.text(290, z_max + 0.1, fr\"$Z_{{max}}={tex_exp(z_max, after_comma=0)}$\", color=\"green\")\n",
    "# pl.scatter(Et.max(), z_max, color=\"green\")\n",
    "# pl.text(345.8 + 1, -1.0, \"$T_{кип}=345.8$\", color=\"orange\")\n",
    "pl.text(280, H_az / 2, r\"$\\frac{H_{аз}}{2}$\")\n",
    "pl.axhline(H_az / 2, linestyle='--', color=\"grey\")\n",
    "\n",
    "pl.text(280,  - H_az / 2  - 0.07, r\"$\\frac{ - H_{аз}}{2}$\")\n",
    "pl.axhline( - H_az / 2, linestyle='--', color=\"grey\")\n",
    "pl.axvline(Et.max(), color=\"green\", linestyle=\"--\")\n",
    "pl.text(Et.max() - 350, -1.3, f\"$T^{{max}}_{{топ}}={tex_exp(Et.max())}$\", color=\"green\")\n",
    "z_max = max(stats := {x: y for x, y in zip(Dz, Et)}, key=stats.get)\n",
    "pl.axhline(z_max, linestyle=\"--\", color=\"green\")\n",
    "pl.text(400, z_max + 0.1, fr\"$Z_{{max}}={tex_exp(z_max, after_comma=2)}$\", color=\"green\")\n",
    "pl.savefig(\"Ttop_.png\", dpi=200)"
   ]
  },
  {
   "cell_type": "code",
   "execution_count": 79,
   "id": "90b13d6c",
   "metadata": {},
   "outputs": [
    {
     "data": {
      "text/plain": [
       "1.5543122344752192e-15"
      ]
     },
     "execution_count": 79,
     "metadata": {},
     "output_type": "execute_result"
    }
   ],
   "source": [
    "z_max"
   ]
  },
  {
   "cell_type": "markdown",
   "id": "8f85fd8f",
   "metadata": {},
   "source": [
    "## Определение перепадов давления и необходимой мощности насосов на прокачку"
   ]
  },
  {
   "cell_type": "code",
   "execution_count": 28,
   "id": "05063a3d",
   "metadata": {},
   "outputs": [
    {
     "name": "stdout",
     "output_type": "stream",
     "text": [
      "\n",
      "\n",
      "\\Delta P_{\\text{тр}}=\\xi_{\\text{тр}}\\cdot\\frac{H_{\\text{аз}}}{d_{\\text{г}}}\\cdot \\frac {w^2}{2}\\rho\n",
      "=\n",
      "1.329 \\cdot 10^{ -02 } \\frac {3.500 } {9.263 \\cdot 10^{ -03 }} \\cdot \\frac {(5.600 )^2} {2} \\cdot 7.200 \\cdot 10^{ 2 }\n",
      "=5.671 \\cdot 10^{ 4 } \\text{Па}\n",
      "\n"
     ]
    },
    {
     "data": {
      "text/latex": [
       "$\\displaystyle \n",
       "\n",
       "\\Delta P_{\\text{тр}}=\\xi_{\\text{тр}}\\cdot\\frac{H_{\\text{аз}}}{d_{\\text{г}}}\\cdot \\frac {w^2}{2}\\rho\n",
       "=\n",
       "1.329 \\cdot 10^{ -02 } \\frac {3.500 } {9.263 \\cdot 10^{ -03 }} \\cdot \\frac {(5.600 )^2} {2} \\cdot 7.200 \\cdot 10^{ 2 }\n",
       "=5.671 \\cdot 10^{ 4 } \\text{Па}\n",
       "$"
      ],
      "text/plain": [
       "<IPython.core.display.Math object>"
      ]
     },
     "execution_count": 28,
     "metadata": {},
     "output_type": "execute_result"
    }
   ],
   "source": [
    "w = 5.6\n",
    "rho_sr = 720\n",
    "Delta_P_tr = xi * H_az / d_g * w ** 2 / 2 * rho_sr\n",
    "Delta_P_tr_formula = r\"\"\"\n",
    "\\Delta P_{\\text{тр}}=\\xi_{\\text{тр}}\\cdot\\frac{H_{\\text{аз}}}{d_{\\text{г}}}\\cdot \\frac {w^2}{2}\\rho\n",
    "\"\"\"\n",
    "\n",
    "Delta_P_tr_nums = fr\"\"\"\n",
    "{tex_exp(xi)} \\frac {{{tex_exp(H_az)}}} {{{tex_exp(d_g)}}} \\cdot \\frac {{({tex_exp(w)})^2}} {{2}} \\cdot {tex_exp(rho_sr)}\n",
    "\"\"\"\n",
    "\n",
    "final_code = fr\"\"\"\n",
    "{Delta_P_tr_formula}={Delta_P_tr_nums}={tex_exp(Delta_P_tr)} \\text{{Па}}\n",
    "\"\"\"\n",
    "print(final_code)\n",
    "Math(final_code)"
   ]
  },
  {
   "cell_type": "code",
   "execution_count": 48,
   "id": "1292b8a4",
   "metadata": {},
   "outputs": [
    {
     "name": "stdout",
     "output_type": "stream",
     "text": [
      "\\begin{multline}\n",
      "\\Delta P_{\\mathrm{уск}} = \\left( \\frac{G_{\\text{реак}}}{N_{\\mathrm{TBC}} \\cdot S_{\\mathrm{npox}}} \\right)^{2} \\cdot \\left(\\frac{1}{\\rho_{\\mathrm{вых}}} - \\frac{1}{\\rho_{\\mathrm{вx}}} \\right)\n",
      "\n",
      "= \\\\ = \n",
      "\\left( \\frac{ 1.710 \\cdot 10^{ 4 } } { 1.630 \\cdot 10^{ 2 } \\cdot 2.402 \\cdot 10^{ -02 } } \\right)^2 \\cdot \\left(\\frac 1 { 6.808 \\cdot 10^{ 2 } } - \\frac 1  { 7.521 \\cdot 10^{ 2 } } \\right) =  2.658 \\cdot 10^{ 3 } \\text{Па}\n",
      "\\end{multline}\n"
     ]
    },
    {
     "data": {
      "text/latex": [
       "$\\displaystyle \\begin{multline}\n",
       "\\Delta P_{\\mathrm{уск}} = \\left( \\frac{G_{\\text{реак}}}{N_{\\mathrm{TBC}} \\cdot S_{\\mathrm{npox}}} \\right)^{2} \\cdot \\left(\\frac{1}{\\rho_{\\mathrm{вых}}} - \\frac{1}{\\rho_{\\mathrm{вx}}} \\right)\n",
       "\n",
       "= \\\\ = \n",
       "\\left( \\frac{ 1.710 \\cdot 10^{ 4 } } { 1.630 \\cdot 10^{ 2 } \\cdot 2.402 \\cdot 10^{ -02 } } \\right)^2 \\cdot \\left(\\frac 1 { 6.808 \\cdot 10^{ 2 } } - \\frac 1  { 7.521 \\cdot 10^{ 2 } } \\right) =  2.658 \\cdot 10^{ 3 } \\text{Па}\n",
       "\\end{multline}$"
      ],
      "text/plain": [
       "<IPython.core.display.Math object>"
      ]
     },
     "execution_count": 48,
     "metadata": {},
     "output_type": "execute_result"
    }
   ],
   "source": [
    "rho_vih = 680.8\n",
    "rho_vh = 752.1\n",
    "Delta_P_usk = ( G_reak  / (N_tvs * S_proh)) ** 2 * (1 / rho_vih - 1 / rho_vh)\n",
    "Delta_P_usk\n",
    "\n",
    "Delta_P_usk_formula = r\"\"\"\n",
    "\\Delta P_{\\mathrm{уск}} = \\left( \\frac{G_{\\text{реак}}}{N_{\\mathrm{TBC}} \\cdot S_{\\mathrm{npox}}} \\right)^{2} \\cdot \\left(\\frac{1}{\\rho_{\\mathrm{вых}}} - \\frac{1}{\\rho_{\\mathrm{вx}}} \\right)\n",
    "\n",
    "\"\"\"\n",
    "\n",
    "Delta_P_usk_nums = fr\"\"\"\n",
    "\\left( \\frac{{ {tex_exp(G_reak)} }} {{ {tex_exp(N_tvs)} \\cdot {tex_exp(S_proh)} }} \\right)^2 \\cdot \\left(\\frac 1 {{ {tex_exp(rho_vih)} }} - \\frac 1  {{ {tex_exp(rho_vh)} }} \\right) =  {tex_exp(Delta_P_usk)} \\text{{Па}}\n",
    "\"\"\"\n",
    "\n",
    "final_code = fr\"\\begin{{multline}}{Delta_P_usk_formula}= \\\\ = {Delta_P_usk_nums}\\end{{multline}}\"\n",
    "print(final_code)\n",
    "Math(final_code)"
   ]
  },
  {
   "cell_type": "code",
   "execution_count": 50,
   "id": "3a62e02e",
   "metadata": {},
   "outputs": [
    {
     "name": "stdout",
     "output_type": "stream",
     "text": [
      "\n",
      "\\Delta P_{\\text{нив}} = \\rho_{\\text{ср}} \\cdot g \\cdot H_{\\text{аз}}\n",
      "=\n",
      "7.200 \\cdot 10^{ 2 } \\cdot 9.807 \\cdot 3.500  = 2.471 \\cdot 10^{ 4 } \\text{Па}\n",
      "\n"
     ]
    },
    {
     "data": {
      "text/latex": [
       "$\\displaystyle \n",
       "\\Delta P_{\\text{нив}} = \\rho_{\\text{ср}} \\cdot g \\cdot H_{\\text{аз}}\n",
       "=\n",
       "7.200 \\cdot 10^{ 2 } \\cdot 9.807 \\cdot 3.500  = 2.471 \\cdot 10^{ 4 } \\text{Па}\n",
       "$"
      ],
      "text/plain": [
       "<IPython.core.display.Math object>"
      ]
     },
     "execution_count": 50,
     "metadata": {},
     "output_type": "execute_result"
    }
   ],
   "source": [
    "Delta_P_niv = rho_sr * 9.80665*H_az\n",
    "\n",
    "Delta_P_niv_formula = r\"\"\"\n",
    "\\Delta P_{\\text{нив}} = \\rho_{\\text{ср}} \\cdot g \\cdot H_{\\text{аз}}\n",
    "\"\"\"\n",
    "\n",
    "Delta_P_niv_nums = fr\"\"\"\n",
    "{tex_exp(rho_sr)} \\cdot 9.807 \\cdot {tex_exp(H_az)} = {tex_exp(Delta_P_niv)} \\text{{Па}}\n",
    "\"\"\"\n",
    "\n",
    "final_code = f\"{Delta_P_niv_formula}={Delta_P_niv_nums}\"\n",
    "print(final_code)\n",
    "Math(final_code)"
   ]
  },
  {
   "cell_type": "code",
   "execution_count": 58,
   "id": "d3336112",
   "metadata": {},
   "outputs": [
    {
     "name": "stdout",
     "output_type": "stream",
     "text": [
      "\n",
      "\\Delta P_{\\text{мест}} = \\frac{ \\left( \\frac{1.710 \\cdot 10^{ 4 }} {163 \\cdot 2.402 \\cdot 10^{ -02 } }  \\right)^2 } {2} \\cdot \\left( \\frac{ 2.6 }{ 7.521 \\cdot 10^{ 2 } } +\\frac{ 13 \\cdot 0.45 }{7.200 \\cdot 10^{ 2 }}+\\frac{0.26} { 6.808 \\cdot 10^{ 2 } } \\right) = 1.142 \\cdot 10^{ 5 } \\text{Па}\n",
      "\n"
     ]
    },
    {
     "data": {
      "text/latex": [
       "$\\displaystyle \n",
       "\\Delta P_{\\text{мест}} = \\frac{ \\left( \\frac{1.710 \\cdot 10^{ 4 }} {163 \\cdot 2.402 \\cdot 10^{ -02 } }  \\right)^2 } {2} \\cdot \\left( \\frac{ 2.6 }{ 7.521 \\cdot 10^{ 2 } } +\\frac{ 13 \\cdot 0.45 }{7.200 \\cdot 10^{ 2 }}+\\frac{0.26} { 6.808 \\cdot 10^{ 2 } } \\right) = 1.142 \\cdot 10^{ 5 } \\text{Па}\n",
       "$"
      ],
      "text/plain": [
       "<IPython.core.display.Math object>"
      ]
     },
     "execution_count": 58,
     "metadata": {},
     "output_type": "execute_result"
    }
   ],
   "source": [
    "Delta_P_mest = (G_reak / (N_tvs * S_proh)) ** 2 / 2 * (2.6 / rho_vh + 13 * 0.45 / rho_sr + 0.26 / rho_vih)\n",
    "Delta_P_mest_nums = fr\"\"\"\n",
    "\\Delta P_{{\\text{{мест}}}} = \\frac{{ \\left( \\frac{{{tex_exp(G_reak)}}} {{{N_tvs} \\cdot {tex_exp(S_proh)} }}  \\right)^2 }} {{2}} \\cdot \\left( \\frac{{ 2.6 }}{{ {tex_exp(rho_vh)} }} +\\frac{{ 13 \\cdot 0.45 }}{{{tex_exp(rho_sr)}}}+\\frac{{0.26}} {{ {tex_exp(rho_vih)} }} \\right) = {tex_exp(Delta_P_mest)} \\text{{Па}}\n",
    "\"\"\"\n",
    "print(Delta_P_mest_nums)\n",
    "Math(Delta_P_mest_nums)"
   ]
  },
  {
   "cell_type": "code",
   "execution_count": 51,
   "id": "0f5f52a8",
   "metadata": {},
   "outputs": [
    {
     "data": {
      "text/plain": [
       "'1.983 \\\\cdot 10^{ 5 }'"
      ]
     },
     "execution_count": 51,
     "metadata": {},
     "output_type": "execute_result"
    }
   ],
   "source": [
    "Delta_P = Delta_P_tr + Delta_P_usk + Delta_P_niv + Delta_P_mest\n",
    "Delta_P\n",
    "tex_exp(Delta_P)"
   ]
  },
  {
   "cell_type": "code",
   "execution_count": 61,
   "id": "ec1bfc94",
   "metadata": {},
   "outputs": [
    {
     "name": "stdout",
     "output_type": "stream",
     "text": [
      "\n",
      "N_{\\text{пр}} = 163 \\cdot \\frac {1.983 \\cdot 10^{ 5 } \\cdot 1.049 \\cdot 10^{ 2 }} {0.8 \\cdot 7.521 \\cdot 10^{ 2 }} = 5.635 \\cdot 10^{ 6 } \\text{Вт}\n",
      "\n"
     ]
    },
    {
     "data": {
      "text/latex": [
       "$\\displaystyle \n",
       "N_{\\text{пр}} = 163 \\cdot \\frac {1.983 \\cdot 10^{ 5 } \\cdot 1.049 \\cdot 10^{ 2 }} {0.8 \\cdot 7.521 \\cdot 10^{ 2 }} = 5.635 \\cdot 10^{ 6 } \\text{Вт}\n",
       "$"
      ],
      "text/plain": [
       "<IPython.core.display.Math object>"
      ]
     },
     "execution_count": 61,
     "metadata": {},
     "output_type": "execute_result"
    }
   ],
   "source": [
    "N_pr = N_tvs * Delta_P * G_tvs / ( 0.8 * rho_vh)\n",
    "N_pr\n",
    "N_pr_nums = fr\"\"\"\n",
    "N_{{\\text{{пр}}}} = {N_tvs} \\cdot \\frac {{{tex_exp(Delta_P)} \\cdot {tex_exp(G_tvs)}}} {{0.8 \\cdot {tex_exp(rho_vh)}}} = {tex_exp(N_pr)} \\text{{Вт}}\n",
    "\"\"\"\n",
    "\n",
    "print(N_pr_nums)\n",
    "Math(N_pr_nums)"
   ]
  },
  {
   "cell_type": "code",
   "execution_count": 66,
   "id": "980ab728",
   "metadata": {},
   "outputs": [
    {
     "name": "stdout",
     "output_type": "stream",
     "text": [
      "\\eta^{\\prime} = \\frac{1.000 \\cdot 10^{ 9 } - 5.635 \\cdot 10^{ 6 }}{3.146 \\cdot 10^{ 9 }}={3.161 \\cdot 10^{ -01 }}\n"
     ]
    },
    {
     "data": {
      "text/latex": [
       "$\\displaystyle \\eta^{\\prime} = \\frac{1.000 \\cdot 10^{ 9 } - 5.635 \\cdot 10^{ 6 }}{3.146 \\cdot 10^{ 9 }}={3.161 \\cdot 10^{ -01 }}$"
      ],
      "text/plain": [
       "<IPython.core.display.Math object>"
      ]
     },
     "execution_count": 66,
     "metadata": {},
     "output_type": "execute_result"
    }
   ],
   "source": [
    "eta_netto = (Q_el - N_pr) / Q_tep\n",
    "eta_netto_nums = fr\"\\eta^{{\\prime}} = \\frac{{{tex_exp(Q_el)} - {tex_exp(N_pr)}}}{{{tex_exp(Q_tep)}}}={{{tex_exp(eta_netto)}}}\"\n",
    "\n",
    "print(eta_netto_nums)\n",
    "Math(eta_netto_nums)"
   ]
  }
 ],
 "metadata": {
  "kernelspec": {
   "display_name": "Python 3 (ipykernel)",
   "language": "python",
   "name": "python3"
  },
  "language_info": {
   "codemirror_mode": {
    "name": "ipython",
    "version": 3
   },
   "file_extension": ".py",
   "mimetype": "text/x-python",
   "name": "python",
   "nbconvert_exporter": "python",
   "pygments_lexer": "ipython3",
   "version": "3.10.4"
  }
 },
 "nbformat": 4,
 "nbformat_minor": 5
}
