{
 "cells": [
  {
   "cell_type": "markdown",
   "id": "39850978",
   "metadata": {},
   "source": [
    "## Расчет КПД термодинамического цикла"
   ]
  },
  {
   "cell_type": "code",
   "execution_count": 13,
   "id": "considerable-maryland",
   "metadata": {},
   "outputs": [
    {
     "ename": "FileNotFoundError",
     "evalue": "Could not find module 'okawsp6.dll' (or one of its dependencies). Try using the full path with constructor syntax.",
     "output_type": "error",
     "traceback": [
      "\u001b[1;31m---------------------------------------------------------------------------\u001b[0m",
      "\u001b[1;31mFileNotFoundError\u001b[0m                         Traceback (most recent call last)",
      "Input \u001b[1;32mIn [13]\u001b[0m, in \u001b[0;36m<cell line: 13>\u001b[1;34m()\u001b[0m\n\u001b[0;32m     11\u001b[0m \u001b[38;5;66;03m# P_h = wsp.wspPST(T_h)\u001b[39;00m\n\u001b[0;32m     12\u001b[0m P_h \u001b[38;5;241m=\u001b[39m \u001b[38;5;241m5.9\u001b[39m \u001b[38;5;241m*\u001b[39m \u001b[38;5;241m10\u001b[39m \u001b[38;5;241m*\u001b[39m\u001b[38;5;241m*\u001b[39m \u001b[38;5;241m6\u001b[39m\n\u001b[1;32m---> 13\u001b[0m S_h \u001b[38;5;241m=\u001b[39m \u001b[43mwsp\u001b[49m\u001b[38;5;241;43m.\u001b[39;49m\u001b[43mwspSSWT\u001b[49m\u001b[43m(\u001b[49m\u001b[43mT_h\u001b[49m\u001b[43m)\u001b[49m\n\u001b[0;32m     14\u001b[0m H_h \u001b[38;5;241m=\u001b[39m wsp\u001b[38;5;241m.\u001b[39mwspHSWT(T_h)\n\u001b[0;32m     16\u001b[0m \u001b[38;5;66;03m# b\u001b[39;00m\n",
      "File \u001b[1;32mD:\\Знания\\учебный склад\\4 курс\\Курсач\\test.py:27\u001b[0m, in \u001b[0;36mmake_wsp_func.<locals>.inner\u001b[1;34m(*args, **kwargs)\u001b[0m\n\u001b[0;32m     25\u001b[0m \u001b[38;5;129m@functools\u001b[39m\u001b[38;5;241m.\u001b[39mwraps(func)\n\u001b[0;32m     26\u001b[0m \u001b[38;5;28;01mdef\u001b[39;00m \u001b[38;5;21minner\u001b[39m(\u001b[38;5;241m*\u001b[39margs, \u001b[38;5;241m*\u001b[39m\u001b[38;5;241m*\u001b[39mkwargs):\n\u001b[1;32m---> 27\u001b[0m     \u001b[38;5;28;01mwith\u001b[39;00m load_dll(\u001b[38;5;124m\"\u001b[39m\u001b[38;5;124mokawsp6.dll\u001b[39m\u001b[38;5;124m\"\u001b[39m) \u001b[38;5;28;01mas\u001b[39;00m wsp_lib:\n\u001b[0;32m     28\u001b[0m         target_func \u001b[38;5;241m=\u001b[39m \u001b[38;5;28mgetattr\u001b[39m(wsp_lib, func_name)\n\u001b[0;32m     29\u001b[0m         target_func\u001b[38;5;241m.\u001b[39mrestype \u001b[38;5;241m=\u001b[39m func_restype\n",
      "File \u001b[1;32mC:\\Program Files\\WindowsApps\\PythonSoftwareFoundation.Python.3.9_3.9.3568.0_x64__qbz5n2kfra8p0\\lib\\contextlib.py:119\u001b[0m, in \u001b[0;36m_GeneratorContextManager.__enter__\u001b[1;34m(self)\u001b[0m\n\u001b[0;32m    117\u001b[0m \u001b[38;5;28;01mdel\u001b[39;00m \u001b[38;5;28mself\u001b[39m\u001b[38;5;241m.\u001b[39margs, \u001b[38;5;28mself\u001b[39m\u001b[38;5;241m.\u001b[39mkwds, \u001b[38;5;28mself\u001b[39m\u001b[38;5;241m.\u001b[39mfunc\n\u001b[0;32m    118\u001b[0m \u001b[38;5;28;01mtry\u001b[39;00m:\n\u001b[1;32m--> 119\u001b[0m     \u001b[38;5;28;01mreturn\u001b[39;00m \u001b[38;5;28;43mnext\u001b[39;49m\u001b[43m(\u001b[49m\u001b[38;5;28;43mself\u001b[39;49m\u001b[38;5;241;43m.\u001b[39;49m\u001b[43mgen\u001b[49m\u001b[43m)\u001b[49m\n\u001b[0;32m    120\u001b[0m \u001b[38;5;28;01mexcept\u001b[39;00m \u001b[38;5;167;01mStopIteration\u001b[39;00m:\n\u001b[0;32m    121\u001b[0m     \u001b[38;5;28;01mraise\u001b[39;00m \u001b[38;5;167;01mRuntimeError\u001b[39;00m(\u001b[38;5;124m\"\u001b[39m\u001b[38;5;124mgenerator didn\u001b[39m\u001b[38;5;124m'\u001b[39m\u001b[38;5;124mt yield\u001b[39m\u001b[38;5;124m\"\u001b[39m) \u001b[38;5;28;01mfrom\u001b[39;00m \u001b[38;5;28mNone\u001b[39m\n",
      "File \u001b[1;32mD:\\Знания\\учебный склад\\4 курс\\Курсач\\test.py:10\u001b[0m, in \u001b[0;36mload_dll\u001b[1;34m(path)\u001b[0m\n\u001b[0;32m      8\u001b[0m \u001b[38;5;129m@contextlib\u001b[39m\u001b[38;5;241m.\u001b[39mcontextmanager\n\u001b[0;32m      9\u001b[0m \u001b[38;5;28;01mdef\u001b[39;00m \u001b[38;5;21mload_dll\u001b[39m(path):\n\u001b[1;32m---> 10\u001b[0m     lib \u001b[38;5;241m=\u001b[39m \u001b[43mct\u001b[49m\u001b[38;5;241;43m.\u001b[39;49m\u001b[43mwindll\u001b[49m\u001b[38;5;241;43m.\u001b[39;49m\u001b[43mLoadLibrary\u001b[49m\u001b[43m(\u001b[49m\u001b[43mpath\u001b[49m\u001b[43m)\u001b[49m\n\u001b[0;32m     11\u001b[0m     libHandle \u001b[38;5;241m=\u001b[39m lib\u001b[38;5;241m.\u001b[39m_handle\n\u001b[0;32m     12\u001b[0m     \u001b[38;5;28;01myield\u001b[39;00m lib\n",
      "File \u001b[1;32mC:\\Program Files\\WindowsApps\\PythonSoftwareFoundation.Python.3.9_3.9.3568.0_x64__qbz5n2kfra8p0\\lib\\ctypes\\__init__.py:452\u001b[0m, in \u001b[0;36mLibraryLoader.LoadLibrary\u001b[1;34m(self, name)\u001b[0m\n\u001b[0;32m    451\u001b[0m \u001b[38;5;28;01mdef\u001b[39;00m \u001b[38;5;21mLoadLibrary\u001b[39m(\u001b[38;5;28mself\u001b[39m, name):\n\u001b[1;32m--> 452\u001b[0m     \u001b[38;5;28;01mreturn\u001b[39;00m \u001b[38;5;28;43mself\u001b[39;49m\u001b[38;5;241;43m.\u001b[39;49m\u001b[43m_dlltype\u001b[49m\u001b[43m(\u001b[49m\u001b[43mname\u001b[49m\u001b[43m)\u001b[49m\n",
      "File \u001b[1;32mC:\\Program Files\\WindowsApps\\PythonSoftwareFoundation.Python.3.9_3.9.3568.0_x64__qbz5n2kfra8p0\\lib\\ctypes\\__init__.py:374\u001b[0m, in \u001b[0;36mCDLL.__init__\u001b[1;34m(self, name, mode, handle, use_errno, use_last_error, winmode)\u001b[0m\n\u001b[0;32m    371\u001b[0m \u001b[38;5;28mself\u001b[39m\u001b[38;5;241m.\u001b[39m_FuncPtr \u001b[38;5;241m=\u001b[39m _FuncPtr\n\u001b[0;32m    373\u001b[0m \u001b[38;5;28;01mif\u001b[39;00m handle \u001b[38;5;129;01mis\u001b[39;00m \u001b[38;5;28;01mNone\u001b[39;00m:\n\u001b[1;32m--> 374\u001b[0m     \u001b[38;5;28mself\u001b[39m\u001b[38;5;241m.\u001b[39m_handle \u001b[38;5;241m=\u001b[39m \u001b[43m_dlopen\u001b[49m\u001b[43m(\u001b[49m\u001b[38;5;28;43mself\u001b[39;49m\u001b[38;5;241;43m.\u001b[39;49m\u001b[43m_name\u001b[49m\u001b[43m,\u001b[49m\u001b[43m \u001b[49m\u001b[43mmode\u001b[49m\u001b[43m)\u001b[49m\n\u001b[0;32m    375\u001b[0m \u001b[38;5;28;01melse\u001b[39;00m:\n\u001b[0;32m    376\u001b[0m     \u001b[38;5;28mself\u001b[39m\u001b[38;5;241m.\u001b[39m_handle \u001b[38;5;241m=\u001b[39m handle\n",
      "\u001b[1;31mFileNotFoundError\u001b[0m: Could not find module 'okawsp6.dll' (or one of its dependencies). Try using the full path with constructor syntax."
     ]
    }
   ],
   "source": [
    "import test as wsp\n",
    "import matplotlib.pyplot as pl\n",
    "import numpy as np\n",
    "from coursache import tex_exp, print_latex\n",
    "\n",
    "# P_f = 1088538.1638538  # 11.1 кгс/см² https://fis.bobrodobro.ru/8395\n",
    "P_f = 980665.01248092  # 10 кгс/см² из https://ru.wikipedia.org/wiki/%D0%9A-1000-60/1500\n",
    "\n",
    "# h\n",
    "T_h = 220 + 273\n",
    "# P_h = wsp.wspPST(T_h)\n",
    "P_h = 5.9 * 10 ** 6\n",
    "S_h = wsp.wspSSWT(T_h)\n",
    "H_h = wsp.wspHSWT(T_h)\n",
    "\n",
    "# b\n",
    "P_b = P_h\n",
    "T_b = wsp.wspTSP(P_b)\n",
    "S_b = wsp.wspSSWT(T_b)\n",
    "H_b = wsp.wspHSWT(T_b)\n",
    "\n",
    "# c\n",
    "P_c = P_b\n",
    "T_c = T_b\n",
    "S_c = wsp.wspSSST(T_c)\n",
    "H_c = wsp.wspHSST(T_c)\n",
    "\n",
    "# d\n",
    "P_d = P_f\n",
    "T_d = wsp.wspTSP(P_d)\n",
    "S_d = S_c\n",
    "H_d = wsp.wspHPS(P_d, S_d)\n",
    "x_d = wsp.wspXPS(P_d, S_d)\n",
    "\n",
    "# f\n",
    "T_f = 250 + 273\n",
    "S_f = wsp.wspSPT(P_f, T_f)\n",
    "H_f = wsp.wspHPT(P_f, T_f)\n",
    "\n",
    "# k\n",
    "P_k = 4381 # 5883.9900748855 # конденсаторах типа К-22550. из https://leg.co.ua/arhiv/generaciya/ekspluatacionnye-rezhimy-vodo-vodyanyh-energeticheskih-reaktorov-33.html старое значение\n",
    "x_k = x_d\n",
    "T_k = wsp.wspTSP(P_k) - 2\n",
    "S_k = S_f\n",
    "H_k = wsp.wspHPS(P_k, S_k)\n",
    "\n",
    "\n",
    "# e\n",
    "T_e = T_d\n",
    "P_e = P_d\n",
    "S_e = wsp.wspSSST(T_e)\n",
    "H_e = wsp.wspHSST(T_e)\n",
    "\n",
    "\n",
    "# k'\n",
    "P_k1 = P_k\n",
    "T_k1 = T_k\n",
    "S_k1 = wsp.wspSSWT(T_k1)\n",
    "H_k1 = wsp.wspHSWT(T_k1)\n",
    "\n",
    "# a\n",
    "P_a = P_b\n",
    "T_a = T_k\n",
    "S_a = wsp.wspSPT(P_a, T_a)\n",
    "H_a = wsp.wspHPS(P_a, S_a)\n",
    "\n",
    "# g\n",
    "T_g = T_d\n",
    "P_g = P_d\n",
    "S_g = wsp.wspSSWT(T_g)\n",
    "H_g = wsp.wspHSWT(T_g)\n",
    "\n",
    "n = 7\n",
    "Q_el = 1000 * 10 ** 6 # Вт\n",
    "\n",
    "import tabulate\n",
    "from IPython.display import Latex, Math\n",
    "display(tabulate.tabulate(\n",
    "    {\"Точка\": ['h', 'b', 'c', 'd', 'e', 'f', 'k', 'k`', 'a', 'g'],\n",
    "     \"P\":     np.array([P_h, P_b, P_c, P_d, P_e, P_f, P_k, P_k1, P_a, P_g]) * 10 ** -6,\n",
    "     \"T\":     np.array([T_h, T_b, T_c, T_d, T_e, T_f, T_k, T_k1, T_a, T_g]) - 273,\n",
    "     \"S\":     np.array([S_h, S_b, S_c, S_d, S_e, S_f, S_k, S_k1, S_a, S_g]),\n",
    "     \"H\":     np.array([H_h, H_b, H_c, H_d, H_e, H_f, H_k, H_k1, H_a, H_g]) * 10 ** -3},\n",
    "    tablefmt=\"html\", headers=\"keys\"))\n",
    "Math(f\"x_d = {tex_exp(x_d)}\")"
   ]
  },
  {
   "cell_type": "code",
   "execution_count": null,
   "id": "ff54e262",
   "metadata": {},
   "outputs": [],
   "source": [
    "wsp.wspTSP(P_k) - 2 - 273"
   ]
  },
  {
   "cell_type": "code",
   "execution_count": null,
   "id": "1540d907",
   "metadata": {},
   "outputs": [],
   "source": [
    "tex_table = fr\"\"\"\n",
    "\\begin{{table}}[H]\n",
    "\t\\caption{{Значения параметров TS-диаграммы}}\n",
    "\t\\begin{{center}}\n",
    "        \\begin{{tabular}}{{|c|c|c|c|c|}}\n",
    "        \\toprule\n",
    "         Точка & P, МПа & T, $^\\circ C$ & S, Дж/(кг $\\cdot$ К) & h, кДж/кг \\\\ \n",
    "         \\midrule\n",
    "         \\hline\n",
    "          h & {P_h * 10 ** (-6):.01f} & {T_h -273} &  {S_h:.02f} & {H_h:.02f}\\\\ \n",
    "         \\hline\n",
    "          b & {P_b * 10 ** (-6):.01f} & {T_b - 273:.01f} & {S_b:.02f} & {H_b} \\\\ \n",
    "         \\hline\n",
    "          c & {P_c} & {T_c} & {S_c} & {H_c}\\\\ \n",
    "         \\hline\n",
    "          d & {P_d} & {T_d} & {S_d} & {H_d} \\\\ \n",
    "         \\hline\n",
    "          e & {P_e} & {T_e} & {S_e} & {H_e} \\\\ \n",
    "         \\hline\n",
    "          f & {P_f} & {T_f}  & {S_f} & {H_e} \\\\ \n",
    "         \\hline\n",
    "          k & {P_k} & {T_k} & {S_k} & {H_k} \\\\ \n",
    "         \\hline\n",
    "          k′ & {P_k1} & {T_k1} & {S_k1} & {H_k1} \\\\ \n",
    "         \\hline\n",
    "          a & {P_a} & {T_a} & {S_a} & {H_a} \\\\ \n",
    "         \\hline\n",
    "          g & {P_g} & {T_g} &  {S_g} & {H_g} \\\\ \n",
    "         \\bottomrule\n",
    "\t\t\\end{{tabular}}\n",
    "\t\t\\label{{tabular:coeffs}}\n",
    "\t\\end{{center}}\n",
    "\\end{{table}}\n",
    "\"\"\"\n",
    "Latex(tex_table)"
   ]
  },
  {
   "cell_type": "code",
   "execution_count": null,
   "id": "a558eaa5",
   "metadata": {},
   "outputs": [],
   "source": [
    "eta_t0 = 1 - ((T_k * (S_f - S_a) * x_d) / \n",
    "          # -------------------------------------------------\n",
    "            ((H_c - H_g) + x_d * ((H_g - H_a) + (H_f - H_e))))\n",
    "\n",
    "eta_t0_formulas = r\"\"\"\n",
    "1 - \n",
    "\\frac{T_{k} ⋅ \\left( s_{f} - s_{a} \\right) ⋅ x_{d}}\n",
    "{\\left( h_{c} - h_{g} \\right) +x_{d}\\left( \\left( h_{g} - h_{a} \\right) + \\left( h_{f} - h_{e} \\right) \\right)}\n",
    "\"\"\"\n",
    "\n",
    "eta_t0_nums = fr\"\"\"\n",
    "1 - \n",
    "\\frac{{{tex_exp(T_k)} ⋅ \\left( {tex_exp(S_f)} - {tex_exp(S_a)} \\right) ⋅ {tex_exp(x_d)}}}\n",
    "{{\\left( {tex_exp(H_c)} - {tex_exp(H_g)} \\right) + {tex_exp(x_d)} \\left( \\left( {tex_exp(H_g)} - {tex_exp(H_a)} \\right) + \\left( {tex_exp(H_f)} - {tex_exp(H_e)} \\right) \\right)}}\n",
    "\"\"\"\n",
    "\n",
    "final_code = fr\"\\begin{{align}} \\eta_{{t0}}=&{eta_t0_formulas}=\\\\=&{eta_t0_nums}=\\\\=&{tex_exp(eta_t0)}\\end{{align}}\"\n",
    "\n",
    "print(final_code)\n",
    "display(Math(final_code))\n"
   ]
  },
  {
   "cell_type": "code",
   "execution_count": null,
   "id": "bf3cc4cb",
   "metadata": {},
   "outputs": [],
   "source": [
    "eta_t_infty = 1 - ((T_k * (S_f - S_g) * (S_c - S_h)) /\n",
    "                # ------------------------------------------------------\n",
    "                 ((H_c - H_h) * (S_e - S_g) + (H_f - H_e) * (S_c - S_h)))\n",
    "\n",
    "eta_t_infty_formula = r\"\"\"\n",
    "1 -\n",
    "\\frac{T_{k} ⋅ \\left( s_{f} - s_{g} \\right) \\left( s_{c} - s_{h} \\right)}\n",
    "{\\left(h_{c} - h_{h}\\right) ⋅ \\left( s_{e} - s_{g} \\right) + \\left( h_{f} - h_{e} \\right) ⋅ \\left( s_{c} - s_{h} \\right)}\n",
    "\"\"\"\n",
    "\n",
    "eta_t_infty_nums = fr\"\"\"\n",
    "1 -\n",
    "\\frac{{{tex_exp(T_k)} ⋅ \\left( {tex_exp(S_f)} - {tex_exp(S_g)} \\right) \\left( {tex_exp(S_c)} - {tex_exp(S_h)} \\right)}}\n",
    "{{\\left({tex_exp(H_c)}) - {tex_exp(H_h)}\\right) ⋅ \\left( {tex_exp(S_e)} - {tex_exp(S_g)} \\right) + \\left( {tex_exp(H_f)} - {tex_exp(H_e)} \\right) ⋅ \\left( {tex_exp(S_c)} - {tex_exp(S_h)} \\right)}}\n",
    "\"\"\"\n",
    "\n",
    "final_code = fr\"\\begin{{align}}η_{{t∞}}&={eta_t_infty_formula}=\\\\&={eta_t_infty_nums}=\\\\&={tex_exp(eta_t_infty)}\\end{{align}}\"\n",
    "print(final_code)\n",
    "\n",
    "Math(final_code)"
   ]
  },
  {
   "cell_type": "code",
   "execution_count": null,
   "id": "a2e96d70",
   "metadata": {},
   "outputs": [],
   "source": [
    "eta_tn = eta_t0 + (eta_t_infty - eta_t0) * n / (n + 1)\n",
    "\n",
    "eta_tn_formula = r\"\"\"\n",
    "η_{tn} = η_{t0} + \\left( η_{t∞} - η_{t0} \\right) ⋅ \\frac{n}{n+1}\n",
    "\"\"\"\n",
    "\n",
    "eta_tn_nums = fr\"\"\"\n",
    "{tex_exp(eta_t0)} + \\left( {tex_exp(eta_t_infty)} - {tex_exp(eta_t0)} \\right) \\cdot \\frac{{{n}}}{{{n + 1}}}\n",
    "\"\"\"\n",
    "\n",
    "final_code = fr\"{eta_tn_formula}={eta_tn_nums}={tex_exp(eta_tn)}\"\n",
    "print(final_code)\n",
    "\n",
    "Math(final_code)"
   ]
  },
  {
   "cell_type": "code",
   "execution_count": null,
   "id": "e0117abc",
   "metadata": {},
   "outputs": [],
   "source": [
    "eta_brutto = eta_tn * 0.85 * 0.98 * 0.98 * 0.97\n",
    "\n",
    "eta_brutto_formula = r\"\"\"\n",
    "\\eta_{\\text{брутто}} = \\eta^7 \\cdot \\eta^{\\text{вн}} \\cdot \\eta_{\\text{ос}} \\cdot \\eta_{\\text{эг}} \\cdot \\eta_{\\text{мех}} = 0.335\n",
    "\"\"\"\n",
    "\n",
    "eta_brutto_nums = fr\"{tex_exp(eta_tn)} \\cdot 0.85 \\cdot 0.98 \\cdot 0.98 \\cdot 0.97\"\n",
    "final_code=fr\"{eta_brutto_formula}={eta_brutto_nums}={tex_exp(eta_brutto)}\"\n",
    "print(final_code)\n",
    "Math(final_code)"
   ]
  },
  {
   "cell_type": "code",
   "execution_count": null,
   "id": "e199e3cf",
   "metadata": {},
   "outputs": [],
   "source": [
    "Q_tep = Q_el / eta_brutto\n",
    "\n",
    "final_code = fr\"Q_{{\\text{{теп}}}} = \\frac{{Q_{{\\text{{эл}}}}}}{{\\eta_{{\\text{{брутто}}}}}}=\\frac{{ {tex_exp(Q_el)} }} {{ {tex_exp(eta_brutto)} }} = {tex_exp(Q_tep * 10 ** -6)} \\text{{МВт}}\"\n",
    "Q_tep\n",
    "\n",
    "print(final_code)\n",
    "Math(final_code)"
   ]
  },
  {
   "cell_type": "code",
   "execution_count": null,
   "id": "d8995511",
   "metadata": {
    "scrolled": false
   },
   "outputs": [],
   "source": [
    "pl.plot([S_h, S_b, S_c, S_d, S_e, S_f, S_k, S_k1, S_a, S_g, S_h],\n",
    "        np.array([T_h, T_b, T_c, T_d, T_e, T_f, T_k, T_k1, T_a, T_g, T_h]) - 273, '-o')\n",
    "pl.grid()\n",
    "pl.xlabel(r\"$S, Дж/ (кг \\cdot К)$\")\n",
    "pl.ylabel(r\"$T,^\\circ C$\")\n",
    "pl.savefig(\"TS_raw.svg\")"
   ]
  },
  {
   "cell_type": "markdown",
   "id": "34b218e4",
   "metadata": {},
   "source": [
    "## Расчет изменения теплового потока в наиболее нагруженном канале"
   ]
  },
  {
   "cell_type": "code",
   "execution_count": null,
   "id": "c6734daa",
   "metadata": {},
   "outputs": [],
   "source": [
    "K_r = 1.25\n",
    "K_z = 1.5\n",
    "N_tvs = 163\n",
    "N_tvel = 317\n",
    "H_az = 3.5 \n",
    "q_max = Q_tep  * K_r * K_z / ( N_tvs * N_tvel * H_az )\n",
    "q_max * 10 ** 4\n",
    "\n",
    "q_max_formula = r\"\"\"\n",
    "q_{max} = \\frac {Q_{\\text{теп}}K_r K_z}{N_{\\text{ТВС}}N_{\\text{твэл}}H_{\\text{аз}}}  \n",
    "\"\"\"\n",
    "\n",
    "q_max_nums = fr\"\"\"\n",
    "\\frac \n",
    "{{ {tex_exp(Q_tep)} \\cdot {K_r} \\cdot {K_z}  }}\n",
    "{{ {N_tvs} \\cdot {N_tvel} \\cdot {H_az} }}\n",
    "\"\"\"\n",
    "\n",
    "final_code = fr\"{q_max_formula}={q_max_nums}={tex_exp(q_max / 100) } \\frac {{\\text{{Вт}}}} {{\\text{{см}}}}\"\n",
    "print(final_code)\n",
    "Math(final_code)"
   ]
  },
  {
   "cell_type": "markdown",
   "id": "99a55c8a",
   "metadata": {},
   "source": [
    "## Распределение температуры теплоносителя по высоте "
   ]
  },
  {
   "cell_type": "code",
   "execution_count": null,
   "id": "1059b072",
   "metadata": {},
   "outputs": [],
   "source": [
    "P_az = 15.7 * 10 ** 6\n",
    "T_az_vh = 287 + 273\n",
    "T_az_vih = 320 + 273\n",
    "H_vh = wsp.wspHPT(P_az, T_az_vh)\n",
    "H_vih = wsp.wspHPT(P_az, T_az_vih)\n",
    "\n",
    "\n",
    "G_tvs = (\n",
    "            Q_tep           /\n",
    "  # --------------------------\n",
    "    ( (H_vih - H_vh) * N_tvs )\n",
    ")\n",
    "\n",
    "G_tvs_formula = r\"\"\"\n",
    "G_{\\text{ТВС}} = \\frac {Q_{\\text{теп}}} {(h_{\\text{вых}} - h_{\\text{вх}})N_{\\text{ТВС}}}\n",
    "\"\"\"\n",
    "\n",
    "G_tvs_nums = fr\"\"\"\n",
    "\\frac {{ {tex_exp(Q_tep)} }} {{ ( { tex_exp(H_vih) } - { tex_exp(H_vh) }) \\cdot {N_tvs} }} = {tex_exp(G_tvs)} \\ \\frac {{\\text{{кг}}}}{{\\text{{c}}}}\n",
    "\"\"\"\n",
    "\n",
    "final_code = f\"{G_tvs_formula}={G_tvs_nums}\"\n",
    "\n",
    "print(final_code)\n",
    "Math(final_code)\n"
   ]
  },
  {
   "cell_type": "code",
   "execution_count": null,
   "id": "f02d47ec",
   "metadata": {
    "scrolled": true
   },
   "outputs": [],
   "source": [
    "G_reak = (\n",
    "            Q_tep           /\n",
    "  # --------------------------\n",
    "    ( (H_vih - H_vh) )\n",
    ")\n",
    "\n",
    "G_reak_formula = r\"\"\"\n",
    "G_{\\text{реак}} = \\frac {Q_{\\text{теп}}} {(h_{\\text{вых}} - h_{\\text{вх}})}\n",
    "\"\"\"\n",
    "\n",
    "G_reak_nums = fr\"\"\"\n",
    "\\frac {{ {tex_exp(Q_tep)} }} {{ ( { tex_exp(H_vih) } - { tex_exp(H_vh) }) }} = {tex_exp(G_reak)} \\ \\frac {{\\text{{кг}}}}{{\\text{{c}}}}\n",
    "\"\"\"\n",
    "\n",
    "final_code = f\"{G_reak_formula}={G_reak_nums}\"\n",
    "\n",
    "print(final_code)\n",
    "Math(final_code)"
   ]
  },
  {
   "cell_type": "code",
   "execution_count": null,
   "id": "7d85a3c0",
   "metadata": {},
   "outputs": [],
   "source": [
    "C_p = (\n",
    "      (H_vih - H_vh)  /\n",
    "  # --------------------\n",
    "    (T_az_vih - T_az_vh)\n",
    ")\n",
    "\n",
    "C_p_formula = r\"\"\"\n",
    "C_p = \\frac {h_{\\text{вых}} - h_{\\text{вх}}} {T_{\\text{вых}} - T_{\\text{вх}}}\n",
    "\"\"\"\n",
    "\n",
    "C_p_nums = fr\"\"\"\n",
    "C_p = \\frac {{ {tex_exp(H_vih)} - {tex_exp(H_vh)} }} {{ {tex_exp(T_az_vih)} - {tex_exp(T_az_vh)} }} = {tex_exp(C_p)} \\ \\frac{{ \\text{{Дж}}}} {{ \\text{{кг}} \\cdot \\text{{К}} }}\n",
    "\"\"\"\n",
    "\n",
    "final_code = f\"{C_p_formula}={C_p_nums}\"\n",
    "\n",
    "print(final_code)\n",
    "Math(final_code)"
   ]
  },
  {
   "cell_type": "code",
   "execution_count": null,
   "id": "9c9d1e51",
   "metadata": {},
   "outputs": [],
   "source": [
    "from math import pi, sin\n",
    "H_eff = 3.715\n",
    "\n",
    "def T(z): \n",
    "    return T_az_vh + (\n",
    "        N_tvs * N_tvel * q_max * H_eff / (G_reak * C_p * pi) \n",
    "        * ( np.sin( pi * z / H_eff) + np.sin( pi * H_az / 2 / H_eff))\n",
    "    )\n",
    "\n",
    "Dz = np.arange(-H_az / 2 , H_az / 2, 0.05)\n",
    "\n",
    "Et = T(Dz) - 273\n",
    "pl.plot(Et, Dz)\n",
    "pl.grid()\n",
    "pl.xlabel(r\"Температура T, $^\\circ C$\")\n",
    "pl.ylabel(r\"Высота Z, м\")\n",
    "\n",
    "pl.text(280, H_az / 2, r\"$\\frac{H_{аз}}{2}$\")\n",
    "pl.axhline(H_az / 2, linestyle='--', color=\"grey\")\n",
    "\n",
    "pl.text(280,  - H_az / 2  - 0.07, r\"$\\frac{ - H_{аз}}{2}$\")\n",
    "pl.axhline( - H_az / 2, linestyle='--', color=\"grey\")\n",
    "\n",
    "pl.savefig(\"Ttep_.png\", dpi=200)\n",
    "pl.show()\n",
    "\n",
    "print(f\"макс температура {Et.max()}\")\n",
    "print(f\"запас до кипения {345.8 - Et.max()}\")"
   ]
  },
  {
   "cell_type": "markdown",
   "id": "8e84680a",
   "metadata": {},
   "source": [
    "## Расчет распроеделения температуры внешней стенки оболочки по высоте"
   ]
  },
  {
   "cell_type": "code",
   "execution_count": null,
   "id": "8020ab74",
   "metadata": {},
   "outputs": [],
   "source": [
    "a = 234 * 10 ** -3\n",
    "delta_chehol = 1.5 * 10 ** -3\n",
    "d_tv = 9.1 * 10 ** -3\n",
    "D_nk = 12.6 * 10 ** -3\n",
    "N_nk = 12\n",
    "D_ck = 10.3 * 10 ** -3\n",
    "S_proh = (\n",
    "    np.sqrt(3)/2 * (a - 2 * delta_chehol) ** 2 \n",
    "    - N_tvel * pi * d_tv ** 2 / 4\n",
    "    - N_nk * pi * D_nk ** 2 / 4\n",
    "    - D_ck ** 2 * pi / 4\n",
    ")\n",
    "\n",
    "S_proh_formula = r\"\"\"\n",
    "S_{\\text{прох}} =& \\sqrt{3}/2(a - 2 \\cdot \\delta_{\\text{чехла}})^2 - N_{\\text{твэл}} \\frac {\\pi d^2_{\\text{тв}}} {4} - N_{\\text{н.к.}} \\frac {\\pi D_{\\text{н.к}}^2} {4} - \\frac {D_{\\text{ц.к}}^2\\pi}{4}\n",
    "\"\"\"\n",
    "\n",
    "S_proh_nums = fr\"\"\"\n",
    "\\sqrt{{3}}/2({tex_exp(a)} - 2 \\cdot {delta_chehol})^2 - {tex_exp(N_tvel)} \\frac {{ \\pi ({tex_exp(d_tv)})^2 }} {{4}} - {tex_exp(N_nk)} \\frac {{ \\pi ({tex_exp(D_nk)}))^2}} {{4}} - \\frac {{ ({tex_exp(D_ck)})^2\\pi }} {{4}} =\\\\=& {tex_exp(S_proh * 10 ** 6 )} \\text{{мм}}^2\n",
    "\"\"\"\n",
    "\n",
    "final_code = fr\"\\begin{{align*}}{S_proh_formula}=&\\\\=&{S_proh_nums}\\end{{align*}}\"\n",
    "print(final_code)\n",
    "Math(final_code)"
   ]
  },
  {
   "cell_type": "code",
   "execution_count": null,
   "id": "39110a1d",
   "metadata": {},
   "outputs": [],
   "source": [
    "П = (\n",
    "    (2 * (a - 2 * delta_chehol) * np.sqrt(3))\n",
    "    + N_tvel * pi * d_tv\n",
    "    + N_nk * pi * D_nk\n",
    "    + pi * D_ck\n",
    ")\n",
    "\n",
    "П_formula = r\"\"\"\n",
    "\\Pi=& (2(a-2\\delta_{\\text{чехла}})\\sqrt{3}) - N_{\\text {твэл }} \\pi d_{\\text {тв }}+N_{\\text {н.к }} \\pi D_{\\text {н.к }}+\\pi D_{\\text {ц.к}}\n",
    "\"\"\"\n",
    "\n",
    "П_nums = fr\"\"\"\n",
    "(2( \\cdot {tex_exp(a)}-2 \\cdot {tex_exp(delta_chehol)}) \\cdot \\sqrt{{3}}) - {tex_exp(N_tvel)} \\cdot \\pi \\cdot {tex_exp(d_tv)} + {tex_exp(N_nk)} \\cdot \\pi \\cdot {tex_exp(D_nk)} + \\pi \\cdot {tex_exp(D_ck)}= {tex_exp(П * 10 ** 3)} \\text{{мм}}\n",
    "\"\"\"\n",
    "\n",
    "final_code = fr\"\\begin{{align*}}{П_formula}=&\\\\={П_nums}\\end{{align*}}\"\n",
    "print(final_code)\n",
    "Math(final_code)"
   ]
  },
  {
   "cell_type": "code",
   "execution_count": null,
   "id": "8f9d8d33",
   "metadata": {},
   "outputs": [],
   "source": [
    "d_g = 4 * S_proh / П\n",
    "\n",
    "d_g_formula = r\"\"\"\n",
    "d_{\\text{Г}} = \\frac {4 S_{\\text{прох}}}{\\text{П}}\n",
    "\"\"\"\n",
    "\n",
    "d_g_nums = fr\"\"\"\n",
    "\\frac {{4 \\cdot {tex_exp(S_proh)}}} {{{tex_exp(П)}}} = {tex_exp(d_g)}\n",
    "\"\"\"\n",
    "\n",
    "final_code = fr\"{d_g_formula}={d_g_nums} \\text{{мм}}\"\n",
    "print(final_code)\n",
    "Math(final_code)"
   ]
  },
  {
   "cell_type": "code",
   "execution_count": null,
   "id": "b4e23982",
   "metadata": {},
   "outputs": [],
   "source": [
    "mu = 8.721 * 10 ** -5\n",
    "lambda_ = 0.5536\n",
    "Pr = 0.8729\n",
    "\n",
    "Re_petukhov = (\n",
    "    ( G_reak * d_g )    / \n",
    "   # --------------------\n",
    "    ( N_tvs * S_proh * mu )\n",
    ")\n",
    "\n",
    "Re_petukhov\n",
    "tex_exp(Re_petukhov)"
   ]
  },
  {
   "cell_type": "code",
   "execution_count": null,
   "id": "56146c1f",
   "metadata": {},
   "outputs": [],
   "source": [
    "xi = (1.82 * np.log10(Re_petukhov) - 1.64) ** -2\n",
    "xi"
   ]
  },
  {
   "cell_type": "code",
   "execution_count": null,
   "id": "0dac95c3",
   "metadata": {},
   "outputs": [],
   "source": [
    "k = 1 + 900 / Re_petukhov\n",
    "\n",
    "Nu_petukhov = (\n",
    "            ( xi / 8 * Re_petukhov * Pr )  /\n",
    "    # ------------------------------------------------\n",
    "      (k + 12.7 * (Pr ** (2 / 3) - 1) * np.sqrt(xi / 8))\n",
    ")\n",
    "\n",
    "Nu_petukhov_formula = r\"\"\"\n",
    "\\mathrm{Nu}=&\\frac{\\frac{\\xi}{8} \\cdot \\mathrm{Re} \\cdot \\operatorname{Pr}}{k+12.7 \\cdot\\left(\\operatorname{Pr}^{\\frac{2}{3}}-1\\right) \\cdot \\sqrt{\\frac{\\xi}{8}}}\n",
    "\"\"\"\n",
    "\n",
    "Nu_petukhov_nums = fr\"\"\"\n",
    "\\frac{{ \n",
    "    \\frac{{{tex_exp(xi)}}}{{8}} \\cdot {tex_exp(Re_petukhov)} \\cdot {tex_exp(Pr)} \n",
    "}}\n",
    "{{ \n",
    "    1 + \\frac{{900}}{{{tex_exp(Re_petukhov)}}} + 12.7 \\cdot\\left(({tex_exp(Pr)})^{{\\frac{{2}}{{3}}}}-1\\right) \\cdot \\sqrt{{\\frac{{{tex_exp(xi)}}}{{8}}}} \n",
    "}} = {tex_exp(Nu_petukhov)} \n",
    "\"\"\"\n",
    "    \n",
    "    \n",
    "final_code = fr\"\\begin{{align*}}{Nu_petukhov_formula}=\\\\=&{Nu_petukhov_nums}\\end{{align*}}\"\n",
    "\n",
    "print(final_code)\n",
    "Math(final_code)"
   ]
  },
  {
   "cell_type": "code",
   "execution_count": null,
   "id": "cf4cafce",
   "metadata": {},
   "outputs": [],
   "source": [
    "alpha_1 = Nu_petukhov * lambda_ / d_g\n",
    "\n",
    "final_code = fr\"\\alpha_1 = \\frac {{Nu \\cdot \\lambda}} {{d_\\text{{г}}}} = \\frac {{{tex_exp(Nu_petukhov)} \\cdot {tex_exp(lambda_)}}}{{{tex_exp(d_g)}}} = {tex_exp(alpha_1)} \\frac {{\\text{{Вт}}}}{{\\text{{м}}^2\\cdot\\mathrm{{K}}}}\"\n",
    "print(final_code)\n",
    "Math(final_code)"
   ]
  },
  {
   "cell_type": "code",
   "execution_count": null,
   "id": "3c64379a",
   "metadata": {},
   "outputs": [],
   "source": [
    "Nu_dittus = 0.023 * Re_petukhov ** 0.8 * Pr ** 0.4\n",
    "print(Nu_dittus)\n",
    "\n",
    "\n",
    "alpha_2 = Nu_dittus * lambda_ / d_g\n",
    "\n",
    "final_code = fr\"\\alpha_2 = \\frac {{Nu \\cdot \\lambda}} {{d_\\text{{г}}}} = \\frac {{{tex_exp(Nu_dittus)} \\cdot {tex_exp(lambda_)}}}{{{tex_exp(d_g)}}} = {tex_exp(alpha_2)} \\frac {{\\text{{Вт}}}}{{\\text{{м}}^2\\cdot\\mathrm{{K}}}}\"\n",
    "print(final_code)\n",
    "Math(final_code)"
   ]
  },
  {
   "cell_type": "code",
   "execution_count": null,
   "id": "1bf8eee9",
   "metadata": {},
   "outputs": [],
   "source": [
    "Nu_mikheev = 0.021 * Re_petukhov ** 0.8 * Pr ** 0.43\n",
    "print(Nu_mikheev)\n",
    "\n",
    "alpha_3 = Nu_mikheev * lambda_ / d_g\n",
    "\n",
    "final_code = fr\"\\alpha_3 = \\frac {{Nu \\cdot \\lambda}} {{d_\\text{{г}}}} = \\frac {{{tex_exp(Nu_mikheev)} \\cdot {tex_exp(lambda_)}}}{{{tex_exp(d_g)}}} = {tex_exp(alpha_3)} \\frac {{\\text{{Вт}}}}{{\\text{{м}}^2\\cdot\\mathrm{{K}}}}\"\n",
    "print(final_code)\n",
    "Math(final_code)"
   ]
  },
  {
   "cell_type": "code",
   "execution_count": null,
   "id": "9e978ea4",
   "metadata": {},
   "outputs": [],
   "source": [
    "# S_m = 12.75 * 10 ** -3\n",
    "alpha = (alpha_1 + alpha_2 + alpha_3) / 3\n",
    "alpha\n",
    "tex_exp(alpha)\n"
   ]
  },
  {
   "cell_type": "code",
   "execution_count": null,
   "id": "98d15a97",
   "metadata": {},
   "outputs": [],
   "source": [
    "def T_ob(z): \n",
    "    return (\n",
    "    T(z) + (q_max * np.cos(pi * z / H_eff)) / (pi * d_tv * alpha)\n",
    ")\n",
    "\n",
    "Dz = np.arange(-H_az / 2 , H_az / 2, 0.05)\n",
    "\n",
    "Et = T_ob(Dz) - 273\n",
    "pl.plot(Et, Dz)\n",
    "pl.grid()\n",
    "pl.xlabel(r\"Температура T, $^\\circ C$\")\n",
    "pl.ylabel(r\"Высота Z, м\")\n",
    "\n",
    "# pl.text(280, H_az / 2, r\"$\\frac{H_{аз}}{2}$\")\n",
    "# pl.axhline(H_az / 2, linestyle='--', color=\"grey\")\n",
    "\n",
    "# pl.text(280,  - H_az / 2  - 0.07, r\"$\\frac{ - H_{аз}}{2}$\")\n",
    "# pl.axhline( - H_az / 2, linestyle='--', color=\"grey\")\n",
    "# pl.show()\n",
    "\n",
    "# print(f\"макс температура {Et.max()}\")\n",
    "# print(f\"запас до кипения {345.8 - Et.max()}\")\n",
    "pl.axvline(345.8, color=\"orange\", linestyle=\"--\")\n",
    "pl.axvline(Et.max(), color=\"green\", linestyle=\"--\")\n",
    "pl.text(Et.max() - 17, -1.5, fr\"$T_{{об}}^{{max}}={tex_exp(Et.max())}$\", color=\"green\")\n",
    "z_max = max(stats := {x: y for x, y in zip(Dz, Et)}, key=stats.get)\n",
    "pl.axhline(z_max, linestyle=\"--\", color=\"green\")\n",
    "pl.text(290, z_max + 0.1, fr\"$Z_{{max}}={tex_exp(z_max, after_comma=0)}$\", color=\"green\")\n",
    "pl.scatter(Et.max(), z_max, color=\"green\")\n",
    "pl.text(345.8 + 1, -1.0, \"$T_{кип}=345.8$\", color=\"orange\")\n",
    "pl.text(280, H_az / 2, r\"$\\frac{H_{аз}}{2}$\")\n",
    "pl.axhline(H_az / 2, linestyle='--', color=\"grey\")\n",
    "\n",
    "pl.text(280,  - H_az / 2  - 0.07, r\"$\\frac{ - H_{аз}}{2}$\")\n",
    "pl.axhline( - H_az / 2, linestyle='--', color=\"grey\")\n",
    "pl.savefig(\"Tob_.png\", dpi=200)"
   ]
  },
  {
   "cell_type": "code",
   "execution_count": null,
   "id": "2dffcdc5",
   "metadata": {},
   "outputs": [],
   "source": [
    "pl.plot(Dz, T(Dz) - 273, label=\"Теплоноситель\")\n",
    "pl.plot(Dz, T_ob(Dz) - 273, label=\"Оболочка\")\n",
    "pl.legend()\n",
    "pl.grid()\n",
    "pl.xlabel(r\"Температура T, $^\\circ C$\")\n",
    "pl.ylabel(r\"Высота Z, м\")\n",
    "pl.axhline(345.8, color=\"red\", linestyle=\"--\")\n",
    "pl.savefig(\"Tobltep_.png\", dpi=200)"
   ]
  },
  {
   "cell_type": "markdown",
   "id": "9413fae7",
   "metadata": {},
   "source": [
    "## Расчет температуры топлива\n"
   ]
  },
  {
   "cell_type": "markdown",
   "id": "69e0dea4",
   "metadata": {},
   "source": [
    "## Расчет температуры топлива"
   ]
  },
  {
   "cell_type": "code",
   "execution_count": null,
   "id": "5d4c9595",
   "metadata": {},
   "outputs": [],
   "source": [
    "lambda_gz = 0.35\n",
    "lambda_ob = 20.1\n",
    "lambda_top = 3.5\n",
    "# delta_gz = "
   ]
  },
  {
   "cell_type": "code",
   "execution_count": null,
   "id": "d20f03cc",
   "metadata": {},
   "outputs": [],
   "source": [
    "delta_tvel = 0.65 * 10 ** -3\n",
    "d_top = 7.53 * 10 ** -3\n",
    "d_otv = 1.3 * 10 ** -3\n",
    "delta_ob = 0.65 * 10 ** -3\n",
    "\n",
    "Ri = (\n",
    "    np.log(d_tv / (d_tv - 2 * delta_ob)) / (2 * pi * lambda_ob) \n",
    "    + np.log((d_tv - 2 * delta_ob) / d_top) / (2 * pi * lambda_gz) \n",
    "    + (0.5 - d_otv ** 2 / (d_top ** 2 - d_otv ** 2) * np.log(d_top / d_otv)) / (2 * pi * lambda_top)\n",
    ")\n",
    "\n",
    "Ri_formula = r\"\"\"\n",
    "\\sum R_i =& \n",
    "\\frac {\\ln \\frac {d_{\\text{тв}}}{d_{\\text{тв}} - 2\\delta_{об}}  }{2\\pi\\lambda_{\\text{об}}}+\\frac {\\ln \\frac {d_{\\text{тв}} - 2\\delta_{об}}{d_{\\text{топ}}}  }{2\\pi\\lambda_{\\text{г.з}}}+\\frac {\\frac 1 2 - \\frac {d_{\\text{отв}}^2} {d_{\\text{топ}}^2 - d_{\\text{отв}}^2}\\ln \\frac {d_{\\text{топ}}}{d_{\\text{отв}}}} {2 \\pi \\lambda_{\\text{топ}}} =\n",
    "\"\"\"\n",
    "\n",
    "Ri_nums = fr\"\"\"\n",
    "\\frac {{\\ln \\frac{{ {tex_exp(d_tv)} }}{{ {tex_exp(d_tv)} - 2 \\cdot {tex_exp(delta_ob)}}} }} {{2\\cdot \\pi \\cdot {tex_exp(lambda_ob)}}}\n",
    "\n",
    "+ \\frac {{\\ln \\frac {{{tex_exp(d_tv)} - 2 \\cdot {tex_exp(delta_ob)}}}{{{tex_exp(d_top)}}} }} {{2 \\pi \\cdot {tex_exp(lambda_gz)}}}\n",
    "\n",
    "+ \\frac {{ 0.5 - \\frac{{ ({tex_exp(d_otv)})^2 }}{{ ({tex_exp(d_top)})^2 - ({tex_exp(d_otv)})^2 }} \\ln \\frac {{ {tex_exp(d_top)} }}{{ {tex_exp(d_otv)} }} }} {{2 \\pi \\cdot {tex_exp(lambda_top)} }}\n",
    "\"\"\"\n",
    "final_code = fr\"\\begin{{align*}}{Ri_formula}=\\\\=&{Ri_nums}=\\\\=&{tex_exp(Ri)} \\frac {{\\text{{м}} \\cdot K}}{{\\text{{Вт}}}}\\end{{align*}}\"\n",
    "print(final_code)\n",
    "Math(final_code)"
   ]
  },
  {
   "cell_type": "code",
   "execution_count": null,
   "id": "e1398614",
   "metadata": {},
   "outputs": [],
   "source": [
    "def T_top(z): \n",
    "    return (\n",
    "    T_ob(z) + Ri * q_max * np.cos(pi * z / H_eff)\n",
    ")\n",
    "\n",
    "Dz = np.arange(-H_az / 2 , H_az / 2, 0.05)\n",
    "\n",
    "Et = T_top(Dz) - 273\n",
    "pl.plot(Et, Dz)\n",
    "pl.grid()\n",
    "pl.xlabel(r\"Температура T, $^\\circ C$\")\n",
    "pl.ylabel(r\"Высота Z, м\")\n",
    "\n",
    "# pl.text(280, H_az / 2, r\"$\\frac{H_{аз}}{2}$\")\n",
    "# pl.axhline(H_az / 2, linestyle='--', color=\"grey\")\n",
    "\n",
    "# pl.text(280,  - H_az / 2  - 0.07, r\"$\\frac{ - H_{аз}}{2}$\")\n",
    "# pl.axhline( - H_az / 2, linestyle='--', color=\"grey\")\n",
    "# pl.show()\n",
    "\n",
    "# print(f\"макс температура {Et.max()}\")\n",
    "# print(f\"запас до кипения {345.8 - Et.max()}\")\n",
    "# pl.axvline(Et.max(), color=\"green\", linestyle=\"--\")\n",
    "# pl.text(Et.max() - 17, -1.5, fr\"$T_{{об}}^{{max}}={tex_exp(Et.max())}$\", color=\"green\")\n",
    "# z_max = max(stats := {x: y for x, y in zip(Dz, Et)}, key=stats.get)\n",
    "# pl.axhline(z_max, linestyle=\"--\", color=\"green\")\n",
    "# pl.text(290, z_max + 0.1, fr\"$Z_{{max}}={tex_exp(z_max, after_comma=0)}$\", color=\"green\")\n",
    "# pl.scatter(Et.max(), z_max, color=\"green\")\n",
    "# pl.text(345.8 + 1, -1.0, \"$T_{кип}=345.8$\", color=\"orange\")\n",
    "pl.text(280, H_az / 2, r\"$\\frac{H_{аз}}{2}$\")\n",
    "pl.axhline(H_az / 2, linestyle='--', color=\"grey\")\n",
    "\n",
    "pl.text(280,  - H_az / 2  - 0.07, r\"$\\frac{ - H_{аз}}{2}$\")\n",
    "pl.axhline( - H_az / 2, linestyle='--', color=\"grey\")\n",
    "pl.axvline(Et.max(), color=\"green\", linestyle=\"--\")\n",
    "pl.text(Et.max() - 350, -1.3, f\"$T^{{max}}_{{топ}}={tex_exp(Et.max())}$\", color=\"green\")\n",
    "z_max = max(stats := {x: y for x, y in zip(Dz, Et)}, key=stats.get)\n",
    "pl.axhline(z_max, linestyle=\"--\", color=\"green\")\n",
    "pl.text(400, z_max + 0.1, fr\"$Z_{{max}}={tex_exp(z_max, after_comma=2)}$\", color=\"green\")\n",
    "pl.savefig(\"Ttop_.png\", dpi=200)"
   ]
  },
  {
   "cell_type": "code",
   "execution_count": null,
   "id": "90b13d6c",
   "metadata": {},
   "outputs": [],
   "source": [
    "z_max"
   ]
  },
  {
   "cell_type": "markdown",
   "id": "8f85fd8f",
   "metadata": {},
   "source": [
    "## Определение перепадов давления и необходимой мощности насосов на прокачку"
   ]
  },
  {
   "cell_type": "code",
   "execution_count": null,
   "id": "3d02158f",
   "metadata": {},
   "outputs": [],
   "source": [
    "rho_vih = 680.8\n",
    "rho_vh = 752.1\n",
    "rho_sr = (rho_vh + rho_vih) / 2\n",
    "w = G_reak / rho_sr / S_proh / N_tvs\n",
    "\n",
    "final_code = (\n",
    "r\"w = \\frac{G_{\\text{реак}}}{\\rho_{\\text{ср}} \\cdot S_{\\text{прох}} \\cdot N_{\\text{ТВС}}}\"\n",
    "fr\"= \\frac {{{tex_exp(G_reak)}}} {{{tex_exp(rho_sr)} \\cdot {tex_exp(S_proh)} \\cdot {tex_exp(N_tvs)}}} = {tex_exp(w)}\"\n",
    "r\"\\ \\text{м} /\\text{c}\"\n",
    ")\n",
    "\n",
    "print(final_code)\n",
    "Math(final_code)"
   ]
  },
  {
   "cell_type": "code",
   "execution_count": null,
   "id": "05063a3d",
   "metadata": {},
   "outputs": [],
   "source": [
    "# w = 5.6\n",
    "rho_vih = 680.8\n",
    "rho_vh = 752.1\n",
    "rho_sr = (rho_vh + rho_vih) / 2\n",
    "w = G_tvs / rho_sr / S_proh\n",
    "Delta_P_tr = xi * H_az / d_g * w ** 2 / 2 * rho_sr\n",
    "Delta_P_tr_formula = r\"\"\"\n",
    "\\Delta P_{\\text{тр}}=\\xi_{\\text{тр}}\\cdot\\frac{H_{\\text{аз}}}{d_{\\text{г}}}\\cdot \\frac {w^2}{2}\\rho\n",
    "\"\"\"\n",
    "\n",
    "Delta_P_tr_nums = fr\"\"\"\n",
    "{tex_exp(xi)} \\frac {{{tex_exp(H_az)}}} {{{tex_exp(d_g)}}} \\cdot \\frac {{({tex_exp(w)})^2}} {{2}} \\cdot {tex_exp(rho_sr)}\n",
    "\"\"\"\n",
    "\n",
    "final_code = fr\"\"\"\n",
    "{Delta_P_tr_formula}={Delta_P_tr_nums}={tex_exp(Delta_P_tr)} \\text{{Па}}\n",
    "\"\"\"\n",
    "print(final_code)\n",
    "Math(final_code)"
   ]
  },
  {
   "cell_type": "code",
   "execution_count": null,
   "id": "1292b8a4",
   "metadata": {},
   "outputs": [],
   "source": [
    "Delta_P_usk = ( G_reak  / (N_tvs * S_proh)) ** 2 * (1 / rho_vih - 1 / rho_vh)\n",
    "Delta_P_usk\n",
    "\n",
    "Delta_P_usk_formula = r\"\"\"\n",
    "\\Delta P_{\\mathrm{уск}} = \\left( \\frac{G_{\\text{реак}}}{N_{\\mathrm{TBC}} \\cdot S_{\\mathrm{npox}}} \\right)^{2} \\cdot \\left(\\frac{1}{\\rho_{\\mathrm{вых}}} - \\frac{1}{\\rho_{\\mathrm{вx}}} \\right)\n",
    "\n",
    "\"\"\"\n",
    "\n",
    "Delta_P_usk_nums = fr\"\"\"\n",
    "\\left( \\frac{{ {tex_exp(G_reak)} }} {{ {tex_exp(N_tvs)} \\cdot {tex_exp(S_proh)} }} \\right)^2 \\cdot \\left(\\frac 1 {{ {tex_exp(rho_vih)} }} - \\frac 1  {{ {tex_exp(rho_vh)} }} \\right) =  {tex_exp(Delta_P_usk)} \\text{{Па}}\n",
    "\"\"\"\n",
    "\n",
    "final_code = fr\"\\begin{{multline}}{Delta_P_usk_formula}= \\\\ = {Delta_P_usk_nums}\\end{{multline}}\"\n",
    "print(final_code)\n",
    "Math(final_code)"
   ]
  },
  {
   "cell_type": "code",
   "execution_count": null,
   "id": "3a62e02e",
   "metadata": {},
   "outputs": [],
   "source": [
    "Delta_P_niv = rho_sr * 9.80665*H_az\n",
    "\n",
    "Delta_P_niv_formula = r\"\"\"\n",
    "\\Delta P_{\\text{нив}} = \\rho_{\\text{ср}} \\cdot g \\cdot H_{\\text{аз}}\n",
    "\"\"\"\n",
    "\n",
    "Delta_P_niv_nums = fr\"\"\"\n",
    "{tex_exp(rho_sr)} \\cdot 9.807 \\cdot {tex_exp(H_az)} = {tex_exp(Delta_P_niv)} \\text{{Па}}\n",
    "\"\"\"\n",
    "\n",
    "final_code = f\"{Delta_P_niv_formula}={Delta_P_niv_nums}\"\n",
    "print(final_code)\n",
    "Math(final_code)"
   ]
  },
  {
   "cell_type": "code",
   "execution_count": null,
   "id": "d3336112",
   "metadata": {},
   "outputs": [],
   "source": [
    "Delta_P_mest = (G_reak / (N_tvs * S_proh)) ** 2 / 2 * (2.6 / rho_vh + 13 * 0.45 / rho_sr + 0.26 / rho_vih)\n",
    "Delta_P_mest_nums = fr\"\"\"\n",
    "\\Delta P_{{\\text{{мест}}}} = \\frac{{ \\left( \\frac{{{tex_exp(G_reak)}}} {{{N_tvs} \\cdot {tex_exp(S_proh)} }}  \\right)^2 }} {{2}} \\cdot \\left( \\frac{{ 2.6 }}{{ {tex_exp(rho_vh)} }} +\\frac{{ 13 \\cdot 0.45 }}{{{tex_exp(rho_sr)}}}+\\frac{{0.26}} {{ {tex_exp(rho_vih)} }} \\right) = {tex_exp(Delta_P_mest)} \\text{{Па}}\n",
    "\"\"\"\n",
    "print(Delta_P_mest_nums)\n",
    "Math(Delta_P_mest_nums)"
   ]
  },
  {
   "cell_type": "code",
   "execution_count": null,
   "id": "0f5f52a8",
   "metadata": {},
   "outputs": [],
   "source": [
    "Delta_P = Delta_P_tr + Delta_P_usk + Delta_P_niv + Delta_P_mest\n",
    "Delta_P\n",
    "tex_exp(Delta_P)"
   ]
  },
  {
   "cell_type": "code",
   "execution_count": null,
   "id": "ec1bfc94",
   "metadata": {},
   "outputs": [],
   "source": [
    "N_pr = N_tvs * Delta_P * G_tvs / ( 0.8 * rho_vh)\n",
    "N_pr\n",
    "N_pr_nums = fr\"\"\"\n",
    "N_{{\\text{{пр}}}} = {N_tvs} \\cdot \\frac {{{tex_exp(Delta_P)} \\cdot {tex_exp(G_tvs)}}} {{0.8 \\cdot {tex_exp(rho_vh)}}} = {tex_exp(N_pr)} \\text{{Вт}}\n",
    "\"\"\"\n",
    "\n",
    "print(N_pr_nums)\n",
    "Math(N_pr_nums)"
   ]
  },
  {
   "cell_type": "code",
   "execution_count": null,
   "id": "980ab728",
   "metadata": {},
   "outputs": [],
   "source": [
    "eta_netto = (Q_el - N_pr) / Q_tep\n",
    "eta_netto_nums = fr\"\\eta^{{\\prime}} = \\frac{{{tex_exp(Q_el)} - {tex_exp(N_pr)}}}{{{tex_exp(Q_tep)}}}={{{tex_exp(eta_netto)}}}\"\n",
    "\n",
    "print(eta_netto_nums)\n",
    "Math(eta_netto_nums)"
   ]
  },
  {
   "cell_type": "markdown",
   "id": "aadf02c1",
   "metadata": {},
   "source": [
    "## ТРЕТОН"
   ]
  },
  {
   "cell_type": "markdown",
   "id": "eba09f96",
   "metadata": {},
   "source": [
    "### Подготовка $K_r$"
   ]
  },
  {
   "cell_type": "code",
   "execution_count": 43,
   "id": "b07441d5",
   "metadata": {},
   "outputs": [
    {
     "name": "stdout",
     "output_type": "stream",
     "text": [
      "array([1.25, 1.24, 1.22, 1.19, 1.14, 1.08, 1.  , 0.93, 0.84])\n"
     ]
    },
    {
     "data": {
      "text/latex": [
       "$\\displaystyle \\sum K_r^iN^i=163.0$"
      ],
      "text/plain": [
       "<IPython.core.display.Math object>"
      ]
     },
     "metadata": {},
     "output_type": "display_data"
    },
    {
     "name": "stdout",
     "output_type": "stream",
     "text": [
      "press f to save1\n",
      "not saved\n"
     ]
    },
    {
     "data": {
      "image/png": "[encoded data removed]",
      "text/plain": [
       "<Figure size 432x288 with 1 Axes>"
      ]
     },
     "metadata": {
      "needs_background": "light"
     },
     "output_type": "display_data"
    }
   ],
   "source": [
    "import matplotlib.pyplot as pl\n",
    "from coursache import print_latex\n",
    "import numpy as np\n",
    "from pathlib import Path\n",
    "# from scipy.special import j0\n",
    "\n",
    "R_az = 1.56\n",
    "delta_eff = 10 * 10 ** -2\n",
    "\n",
    "def split_r_by_n(r, n) -> np.ndarray:\n",
    "    return np.array([ (r / n) * i for i in range(n+1) ])\n",
    "\n",
    "\n",
    "grid = split_r_by_n(R_az, 8)\n",
    "\n",
    "# def K_z_ref(r):\n",
    "    # return - r ** 2 + 1.25\n",
    " #    return j0(2.4048 / (R_az + delta_eff) * r) + 0.25\n",
    "def Podgon(r): \n",
    "    return - 0.17369 * r ** 2 + 1.25\n",
    "\n",
    "\n",
    "\n",
    "# ref_plot = (grid) , # K_z_ref(grid))\n",
    "\n",
    "# K_zs = (lambda r: - r ** 2 + 1)(grid) # np.array([1, 0.9, 0.8, 0.6, 0.5, 0.3, 0.25, 0.2, 0.1 ])\n",
    "\n",
    "K_zs = [1.25, 1.248, 1.22, 1.17 , 1.1,\n",
    "       1.02, 0.95, 0.88, 0.8]\n",
    "\n",
    "K_zs = np.round(Podgon(grid), decimals=2)\n",
    "K_zs = np.array([1.25, 1.24, 1.22, 1.19, 1.14, 1.08, 1, 0.93, 0.84])\n",
    "print(repr(K_zs))\n",
    "# K_zs = K_z_ref(grid)\n",
    "\n",
    "Tvses = np.array([0, 1, 6, 12, 18, 24, 30, 36, 36])\n",
    "\n",
    "Tvses_total = sum(K_zs[i] * Tvses[i] for i in range(8 + 1))\n",
    "print_latex(fr\"$\\sum K_r^iN^i={Tvses_total}$\")\n",
    "\n",
    "K_z_podgon = (grid, K_zs)\n",
    "\n",
    "\n",
    "# pl.plot(*ref_plot)\n",
    "# pl.scatter(*ref_plot)\n",
    "\n",
    "pl.scatter(*K_z_podgon)\n",
    "pl.plot(*K_z_podgon)\n",
    "\n",
    "for n, i in enumerate(grid, start=1):\n",
    "    pl.axvline(i, linestyle='--', color=\"gray\")\n",
    "    if n <= 8:\n",
    "        pl.text(i + R_az / 8 / 2 - 0.03, 0.9, f\"{n}\")\n",
    "pl.xlabel('r, м')\n",
    "pl.ylabel('$K_r$')\n",
    "K_rs = K_zs[1:]\n",
    "save = input(\"press f to save\"); pl.savefig(\"fig/Kr.png\", dpi=1000) if save == \"f\" else print(\"not saved\")"
   ]
  },
  {
   "cell_type": "markdown",
   "id": "d401014b",
   "metadata": {},
   "source": [
    "### Подготовка $K_z$"
   ]
  },
  {
   "cell_type": "code",
   "execution_count": 44,
   "id": "da3e26de",
   "metadata": {},
   "outputs": [],
   "source": [
    "from math import pi as π\n",
    "from math import cos\n",
    "H_az = 3.5\n",
    "Q_az = 2.904 * 10 ** 3\n",
    "split = 30\n",
    "grid_z = [- H_az / 2 + H_az / split / 2 * (2 * n + 1) for n in range(30)]\n",
    "\n",
    "def Kz(z):\n",
    "    Kz = 1.5\n",
    "    Heff = 3.715\n",
    "    return Kz * cos (π * z / Heff)\n",
    "\n",
    "K_zs = np.array(list(map(Kz, grid_z)))"
   ]
  },
  {
   "cell_type": "code",
   "execution_count": 45,
   "id": "0ae45e70",
   "metadata": {},
   "outputs": [
    {
     "name": "stdout",
     "output_type": "stream",
     "text": [
      "press f to saveq\n",
      "not saved\n"
     ]
    },
    {
     "data": {
      "image/png": "[encoded data removed]",
      "text/plain": [
       "<Figure size 432x288 with 1 Axes>"
      ]
     },
     "metadata": {
      "needs_background": "light"
     },
     "output_type": "display_data"
    }
   ],
   "source": [
    "pl.plot(grid_z, K_zs)\n",
    "pl.scatter(grid_z, K_zs)\n",
    "pl.xlabel(\"z, м\")\n",
    "pl.ylabel(\"$K_z$\")\n",
    "pl.grid()\n",
    "save = input(\"press f to save\"); pl.savefig(\"fig/Kz.png\", dpi=1000) if save == \"f\" else print(\"not saved\")\n"
   ]
  },
  {
   "cell_type": "markdown",
   "id": "a43a2512",
   "metadata": {},
   "source": [
    "Определим генерацию файла с тепловыделениями `Q6.txt`"
   ]
  },
  {
   "cell_type": "code",
   "execution_count": 46,
   "id": "bc432f51",
   "metadata": {},
   "outputs": [],
   "source": [
    "import pandas as pd\n",
    "\n",
    "#Q_txt = pd.read_csv(\"tools/TRETON/Q6.txt\", sep=r\"\\s+\", header=None)\n",
    "#Q_txt.head()\n",
    "\n",
    "r_split = [\n",
    "    [82],  # 1 белый\n",
    "    [68, 69, 83, 96, 95, 81],  # 2 фиолетовый\n",
    "    [54, 55, 56, 70, 84, 97, 110, 109, 108, 94, 80, 67],\n",
    "    [41, 42, 43, 44, 57, 71, 85, 98, 111, 123, 122, 121, 120, 107, 93, 79, 66, 53],\n",
    "    [29, 30, 31, 32, 33, 45, 58, 72, 86, 99, 112, 124, 135, 134, 133, 132, 131, 119, 106, 92, 78, 65, 52, 40],\n",
    "    [18, 19, 20, 21, 22, 23, 34, 46, 59, 73, 87, 100, 113, 125, 136, 146, 145, 144, 143, 142, 141, 130, 118, 105, 91, 77, 64, 51, 39, 28],\n",
    "    [8, 9, 10, 11, 12, 13, 14, 24, 35, 47, 60, 74, 88, 101, 114, 126, 137, 147, 156, 155, 154, 153, 152, 151, 150, 140, 129, 117, 104, 90, 76, 63, 50, 38, 27, 17],\n",
    "    [1, 2, 3, 4, 5, 6, 15, 25, 36, 48, 61, 75, 102, 115, 127, 138, 148, 157, 163, 162, 161, 160, 159, 158, 149, 139, 128, 116, 103, 89, 62, 49, 37, 26, 16, 7]\n",
    "]\n",
    "\n",
    "def Q_by_r(N=1, save=False, file=\"Q_my.txt\"):\n",
    "    Q_my = pd.DataFrame(np.zeros((163, 30)))\n",
    "    for i in range(8):\n",
    "        for j in r_split[i]:\n",
    "            Q_my.iloc[j - 1] = N * K_rs[i] * K_zs * Q_az / 163 / split\n",
    "    if save:\n",
    "        Q_my.to_csv(file, sep= ' ', header=None, index=False)\n",
    "    return Q_my"
   ]
  },
  {
   "cell_type": "markdown",
   "id": "620f5fd5",
   "metadata": {},
   "source": [
    "Определим генерацию температур `T_IN.txt`"
   ]
  },
  {
   "cell_type": "code",
   "execution_count": 50,
   "id": "2f8c5b1b",
   "metadata": {},
   "outputs": [],
   "source": [
    "from itertools import chain\n",
    "\n",
    "T_low = 284\n",
    "T_normal = 287\n",
    "az_quarts = {\n",
    "    'I': [1, 2, 3, 7, 8, 9, 10, 16, 17, 18, 19, 20, 26, 27, 28, 29, 30, 31, 37, 38, 39, 40, 41, 42, 49, 50, 51, 52, 53, 55, 62, 63, 64, 65, 66, 67, 68, 77, 79],\n",
    "    'II': [4, 5, 6, 11, 12, 13, 14, 15, 21, 22, 23, 24, 25, 32, 33, 34, 35, 36, 43, 44, 45, 46, 47, 48, 56, 57, 58, 59, 60, 61, 69, 70, 71, 72, 73, 74, 75, 83, 85, 87, 88],\n",
    "    'III': [76, 78, 80, 81, 89, 90, 91, 92, 93, 94, 95, 103, 104, 105, 106, 107, 108, 116, 117, 118, 119, 120, 121, 128, 129, 130, 131, 132, 139, 140, 141, 142, 143, 149, 150, 151, 152, 158, 159, 160],\n",
    "    'IV': [84, 86, 96, 97, 98, 99, 100, 101, 102, 109, 110, 111, 112, 113, 114, 115, 122, 123, 124, 125, 126, 127, 133, 134, 135, 136, 137, 138, 144, 145, 146, 147, 148, 153, 154, 155, 156, 157, 161, 162, 163]\n",
    "}\n",
    "DISABLED_QUARTS = 'I', 'IV'\n",
    "disabled_cells_i = set(chain.from_iterable(az_quarts[q] for q in DISABLED_QUARTS))\n",
    "\n",
    "\n",
    "def T_for_quarts(disabled_quarts=[], save=False, file=\"T_IN.txt\", t_low=T_low, t_normal=T_normal):\n",
    "    DISABLED_QUARTS = disabled_quarts\n",
    "    disabled_cells_i = set(chain.from_iterable(az_quarts[q] for q in DISABLED_QUARTS))\n",
    "    Ts = pd.Series(np.full((163,), t_normal))\n",
    "    for i in range(163):\n",
    "        if i + 1 in disabled_cells_i:\n",
    "            Ts[i] = t_low\n",
    "    if save:\n",
    "        Ts.to_csv(file, sep=\" \", index=False, header=False)\n",
    "    return Ts\n"
   ]
  },
  {
   "cell_type": "markdown",
   "id": "69d29f98",
   "metadata": {},
   "source": [
    "### Номинальная мощность\n",
    "\n",
    "**Запускаем третон руками**"
   ]
  },
  {
   "cell_type": "code",
   "execution_count": 88,
   "id": "015575ab",
   "metadata": {},
   "outputs": [],
   "source": [
    "TRETON_NOMINAL_FOLDER = Path(\"tools/TRETON-nominal\")\n",
    "\n",
    "Q_nominals = Q_by_r(N=1, save=True, file=TRETON_NOMINAL_FOLDER / \"Q6.txt\")\n",
    "T_IN_nominal = T_for_quarts(save=True, file=TRETON_NOMINAL_FOLDER / \"T_IN.txt\")"
   ]
  },
  {
   "cell_type": "code",
   "execution_count": 14,
   "id": "13895b5a",
   "metadata": {},
   "outputs": [
    {
     "name": "stdout",
     "output_type": "stream",
     "text": [
      "Microsoft Windows [Version 10.0.22000.739]\n",
      "(c) Корпорация Майкрософт (Microsoft Corporation). Все права защищены.\n",
      "\n",
      "D:\\Знания\\учебный склад\\4 курс\\Курсач>chcp 65001\n",
      "Active code page: 65001\n",
      "\n",
      "D:\\Знания\\учебный склад\\4 курс\\Курсач>cd tools/TRETON-nominal\n",
      "\n",
      "D:\\Знания\\учебный склад\\4 курс\\Курсач\\tools\\TRETON-nominal>test.exe\n",
      "  Attention! Short tables of water properties are compleated\n",
      " Enter 0 for new or 1 for continue\n",
      "\n",
      "\n",
      "D:\\Знания\\учебный склад\\4 курс\\Курсач\\tools\\TRETON-nominal>"
     ]
    },
    {
     "name": "stderr",
     "output_type": "stream",
     "text": [
      "Task exception was never retrieved\n",
      "future: <Task finished name='Task-73' coro=<ScriptMagics.shebang.<locals>._handle_stream() done, defined at C:\\Users\\maxon\\AppData\\Local\\Packages\\PythonSoftwareFoundation.Python.3.9_qbz5n2kfra8p0\\LocalCache\\local-packages\\Python39\\site-packages\\IPython\\core\\magics\\script.py:211> exception=UnicodeDecodeError('utf-8', b'forrtl: \\xca\\xe0\\xed\\xe0\\xeb \\xe1\\xfb\\xeb \\xe7\\xe0\\xea\\xf0\\xfb\\xf2.\\r\\r\\n', 8, 9, 'invalid continuation byte')>\n",
      "Traceback (most recent call last):\n",
      "  File \"C:\\Users\\maxon\\AppData\\Local\\Packages\\PythonSoftwareFoundation.Python.3.9_qbz5n2kfra8p0\\LocalCache\\local-packages\\Python39\\site-packages\\IPython\\core\\magics\\script.py\", line 213, in _handle_stream\n",
      "    line = (await stream.readline()).decode(\"utf8\")\n",
      "UnicodeDecodeError: 'utf-8' codec can't decode byte 0xca in position 8: invalid continuation byte\n"
     ]
    }
   ],
   "source": [
    "%%cmd\n",
    "chcp 65001\n",
    "cd tools/TRETON-nominal\n",
    "test.exe"
   ]
  },
  {
   "cell_type": "markdown",
   "id": "1a8c74e1",
   "metadata": {},
   "source": [
    "**Графики**"
   ]
  },
  {
   "cell_type": "code",
   "execution_count": null,
   "id": "be8cb471",
   "metadata": {},
   "outputs": [],
   "source": [
    "t_nominal = pd.read_csv(\"tools/TRETON-nominal/t_tepl.dat\", sep=\"\\s+\", header=None)\n",
    "\n",
    "# T_z_by_r = [nominal.iloc[np.array(r_split[i]) - 1].mean().values for i in range(8)]\n",
    "# for i in range(8):\n",
    "#     pl.plot(grid_z, T_z_by_r[i][1:-1], label=f\"{i+1} radius\")\n",
    "# pl.legend()\n",
    "# t_nominal.iloc[:, 1:]\n",
    "T_z_by_r = [t_nominal.iloc[np.array(r_split[i]) - 1, 1:].mean().values for i in range(8)]\n",
    "for i in range(8):\n",
    "    pl.plot(T_z_by_r[i][1:-1], grid_z[1:], label=f\"{i+1} radius\")"
   ]
  },
  {
   "cell_type": "code",
   "execution_count": null,
   "id": "b9343664",
   "metadata": {},
   "outputs": [],
   "source": [
    "# pl.plot([R_az / 8 / 2 * (2 * n ) for n in range(8)], list(map(np.mean, Q_z_by_r)))\n",
    "pl.bar([R_az / 8 / 2 * (2 * n ) + R_az / 8 / 2 for n in range(8)], list(map(np.mean, Q_z_by_r)), width=R_az / 8)\n",
    "for i in grid:\n",
    "    pl.axvline(i, linestyle='--', color=\"gray\")\n",
    "pl.xlabel(\"r, м\")\n",
    "pl.ylabel(\"Q, Вт\")"
   ]
  },
  {
   "cell_type": "markdown",
   "id": "df43e32f",
   "metadata": {},
   "source": [
    "### Повышенная мощность\n",
    "**Запускаем третон руками**"
   ]
  },
  {
   "cell_type": "code",
   "execution_count": 89,
   "id": "3b5a4313",
   "metadata": {},
   "outputs": [],
   "source": [
    "TRETON_POVISH_FOLDER = Path(\"tools/TRETON-povish\")\n",
    "\n",
    "Q_povish = Q_by_r(N=1.15, save=True, file=TRETON_NOMINAL_FOLDER / \"Q6.txt\")\n",
    "T_IN_povish = T_for_quarts(save=True, file=TRETON_NOMINAL_FOLDER / \"T_IN.txt\")"
   ]
  },
  {
   "cell_type": "markdown",
   "id": "5d70e653",
   "metadata": {},
   "source": [
    "**Графики**"
   ]
  },
  {
   "cell_type": "markdown",
   "id": "5fdda0a0",
   "metadata": {},
   "source": [
    "### 3 ГЦН\n",
    "**Запускаем третон руками**"
   ]
  },
  {
   "cell_type": "code",
   "execution_count": 96,
   "id": "24b626b3",
   "metadata": {},
   "outputs": [],
   "source": [
    "TRETON_ONE_GCN_FOLDER = Path(\"tools/TRETON-one-gcn/\")\n",
    "\n",
    "Q_one_gcn = Q_by_r(N=0.75, save=True, file=TRETON_ONE_GCN_FOLDER / \"Q6.txt\")\n",
    "T_IN_one_gcn = T_for_quarts(disabled_quarts=['I'], save=True, file=TRETON_ONE_GCN_FOLDER / \"T_IN.txt\")"
   ]
  },
  {
   "cell_type": "markdown",
   "id": "14ef0a97",
   "metadata": {},
   "source": [
    "**Графики**"
   ]
  },
  {
   "cell_type": "markdown",
   "id": "5931d101",
   "metadata": {},
   "source": [
    "### 2 ГЦН\n",
    "**Запускаем третон руками**\n"
   ]
  },
  {
   "cell_type": "code",
   "execution_count": 97,
   "id": "a05121cb",
   "metadata": {},
   "outputs": [],
   "source": [
    "TRETON_TWO_GCN_FOLDER = Path(\"tools/TRETON-two-gcn/\")\n",
    "\n",
    "Q_two_gcn = Q_by_r(N=0.5, save=True, file=TRETON_TWO_GCN_FOLDER / \"Q6.txt\")\n",
    "T_IN_two_gcn = T_for_quarts(disabled_quarts=['I', 'IV'], save=True, file=TRETON_TWO_GCN_FOLDER / \"T_IN.txt\")"
   ]
  },
  {
   "cell_type": "markdown",
   "id": "16799c95",
   "metadata": {},
   "source": [
    "**Графики**"
   ]
  }
 ],
 "metadata": {
  "interpreter": {
   "hash": "8d4abcdc4321e38a90fa2e36a9366eba2f35d33598b2cec45affced90ab07adb"
  },
  "kernelspec": {
   "display_name": "Python 3 (ipykernel)",
   "language": "python",
   "name": "python3"
  },
  "language_info": {
   "codemirror_mode": {
    "name": "ipython",
    "version": 3
   },
   "file_extension": ".py",
   "mimetype": "text/x-python",
   "name": "python",
   "nbconvert_exporter": "python",
   "pygments_lexer": "ipython3",
   "version": "3.9.13"
  }
 },
 "nbformat": 4,
 "nbformat_minor": 5
}
