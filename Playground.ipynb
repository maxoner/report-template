{
 "cells": [
  {
   "cell_type": "markdown",
   "id": "39850978",
   "metadata": {},
   "source": [
    "## Расчет КПД термодинамического цикла"
   ]
  },
  {
   "cell_type": "code",
   "execution_count": 3,
   "id": "9ccf6d57",
   "metadata": {},
   "outputs": [
    {
     "name": "stdout",
     "output_type": "stream",
     "text": [
      "Requirement already satisfied: cache_magic in /Users/mpanin/.pyenv/versions/3.10.1/lib/python3.10/site-packages (1.0.4)\n",
      "Requirement already satisfied: matplotlib in /Users/mpanin/.pyenv/versions/3.10.1/lib/python3.10/site-packages (3.5.1)\n",
      "Requirement already satisfied: pandas in /Users/mpanin/.pyenv/versions/3.10.1/lib/python3.10/site-packages (1.4.2)\n",
      "Requirement already satisfied: numpy in /Users/mpanin/.pyenv/versions/3.10.1/lib/python3.10/site-packages (1.22.3)\n",
      "Collecting scipy\n",
      "  Downloading scipy-1.8.1.tar.gz (38.2 MB)\n",
      "\u001b[K     |████████████████████████████████| 38.2 MB 3.0 MB/s eta 0:00:01\n",
      "\u001b[?25h  Installing build dependencies ... \u001b[?25ldone\n",
      "\u001b[?25h  Getting requirements to build wheel ... \u001b[?25ldone\n",
      "\u001b[?25h    Preparing wheel metadata ... \u001b[?25lerror\n",
      "\u001b[31m    ERROR: Command errored out with exit status 1:\n",
      "     command: /Users/mpanin/.pyenv/versions/3.10.1/bin/python /Users/mpanin/.pyenv/versions/3.10.1/lib/python3.10/site-packages/pip/_vendor/pep517/in_process/_in_process.py prepare_metadata_for_build_wheel /var/folders/hh/68jgbx_d0vg2b9jswqz9rntr0000gp/T/tmprhpm6b60\n",
      "         cwd: /private/var/folders/hh/68jgbx_d0vg2b9jswqz9rntr0000gp/T/pip-install-__8gnqtg/scipy_c2aa00b7e9b4453ba5f26530bc3d3f7d\n",
      "    Complete output (192 lines):\n",
      "    setup.py:486: UserWarning: Unrecognized setuptools command ('dist_info --egg-base /private/var/folders/hh/68jgbx_d0vg2b9jswqz9rntr0000gp/T/pip-modern-metadata-w3e9kwjh'), proceeding with generating Cython sources and expanding templates\n",
      "      warnings.warn(\"Unrecognized setuptools command ('{}'), proceeding with \"\n",
      "    Running from SciPy source directory.\n",
      "    Cythonizing sources\n",
      "    Running scipy/linalg/_generate_pyx.py\n",
      "    Running scipy/special/_generate_pyx.py\n",
      "    Running scipy/stats/_generate_pyx.py\n",
      "    /private/var/folders/hh/68jgbx_d0vg2b9jswqz9rntr0000gp/T/pip-install-__8gnqtg/scipy_c2aa00b7e9b4453ba5f26530bc3d3f7d/scipy/linalg/_generate_pyx.py:674: DeprecationWarning: The distutils package is deprecated and slated for removal in Python 3.12. Use setuptools or check PEP 632 for potential alternatives\n",
      "      from distutils.dep_util import newer\n",
      "    /private/var/folders/hh/68jgbx_d0vg2b9jswqz9rntr0000gp/T/pip-install-__8gnqtg/scipy_c2aa00b7e9b4453ba5f26530bc3d3f7d/scipy/special/_generate_pyx.py:1443: DeprecationWarning: The distutils package is deprecated and slated for removal in Python 3.12. Use setuptools or check PEP 632 for potential alternatives\n",
      "      from distutils.dep_util import newer\n",
      "    Processing scipy/cluster/_vq.pyx\n",
      "    Processing scipy/cluster/_optimal_leaf_ordering.pyx\n",
      "    Processing scipy/cluster/_hierarchy.pyx\n",
      "    Processing scipy/ndimage/src/_cytest.pyx\n",
      "    Processing scipy/ndimage/src/_ni_label.pyx\n",
      "    Processing scipy/linalg/cython_lapack.pyx\n",
      "    Processing scipy/linalg/_matfuncs_sqrtm_triu.pyx\n",
      "    Processing scipy/linalg/_cythonized_array_utils.pyx\n",
      "    Processing scipy/linalg/_solve_toeplitz.pyx\n",
      "    Processing scipy/linalg/cython_blas.pyx\n",
      "    Processing scipy/linalg/_decomp_update.pyx.in\n",
      "    Processing scipy/optimize/_group_columns.pyx\n",
      "    Processing scipy/optimize/_bglu_dense.pyx\n",
      "    Processing scipy/optimize/_trlib/_trlib.pyx\n",
      "    Processing scipy/optimize/_highs/cython/src/_highs_constants.pyx\n",
      "    Processing scipy/optimize/_highs/cython/src/_highs_wrapper.pyx\n",
      "    Processing scipy/optimize/_lsq/givens_elimination.pyx\n",
      "    Processing scipy/optimize/cython_optimize/_zeros.pyx.in\n",
      "    Processing scipy/optimize/tnc/_moduleTNC.pyx\n",
      "    Processing scipy/io/matlab/_streams.pyx\n",
      "    Processing scipy/io/matlab/_mio_utils.pyx\n",
      "    Processing scipy/io/matlab/_mio5_utils.pyx\n",
      "    Processing scipy/_lib/_ccallback_c.pyx\n",
      "    Processing scipy/_lib/_test_deprecation_def.pyx\n",
      "    Processing scipy/_lib/_test_deprecation_call.pyx\n",
      "    Processing scipy/_lib/messagestream.pyx\n",
      "    Processing scipy/special/_ufuncs_cxx.pyx\n",
      "    Processing scipy/special/cython_special.pyx\n",
      "    Processing scipy/special/_ellip_harm_2.pyx\n",
      "    Processing scipy/special/_comb.pyx\n",
      "    Processing scipy/special/_test_round.pyx\n",
      "    Processing scipy/special/_ufuncs.pyx\n",
      "    Processing scipy/fftpack/convolve.pyx\n",
      "    Processing scipy/interpolate/interpnd.pyx\n",
      "    Processing scipy/interpolate/_bspl.pyx\n",
      "    Processing scipy/interpolate/_ppoly.pyx\n",
      "    Processing scipy/sparse/_csparsetools.pyx.in\n",
      "    Processing scipy/sparse/csgraph/_shortest_path.pyx\n",
      "    Processing scipy/sparse/csgraph/_traversal.pyx\n",
      "    Processing scipy/sparse/csgraph/_flow.pyx\n",
      "    Processing scipy/sparse/csgraph/_tools.pyx\n",
      "    Processing scipy/sparse/csgraph/_matching.pyx\n",
      "    Processing scipy/sparse/csgraph/_reordering.pyx\n",
      "    Processing scipy/sparse/csgraph/_min_spanning_tree.pyx\n",
      "    Processing scipy/spatial/_qhull.pyx\n",
      "    Processing scipy/spatial/_ckdtree.pyx\n",
      "    Processing scipy/spatial/_voronoi.pyx\n",
      "    Processing scipy/spatial/_hausdorff.pyx\n",
      "    Processing scipy/spatial/transform/_rotation.pyx\n",
      "    Processing scipy/signal/_max_len_seq_inner.pyx\n",
      "    Processing scipy/signal/_peak_finding_utils.pyx\n",
      "    Processing scipy/signal/_upfirdn_apply.pyx\n",
      "    Processing scipy/signal/_spectral.pyx\n",
      "    Processing scipy/signal/_sosfilt.pyx\n",
      "    Processing scipy/stats/_stats.pyx\n",
      "    Processing scipy/stats/_qmc_cy.pyx\n",
      "    Processing scipy/stats/_biasedurn.pyx\n",
      "    Processing scipy/stats/_sobol.pyx\n",
      "    Processing scipy/stats/_boost/src/beta_ufunc.pyx\n",
      "    Processing scipy/stats/_boost/src/nbinom_ufunc.pyx\n",
      "    Processing scipy/stats/_boost/src/hypergeom_ufunc.pyx\n",
      "    Processing scipy/stats/_boost/src/binom_ufunc.pyx\n",
      "    Processing scipy/stats/_unuran/unuran_wrapper.pyx\n",
      "    warning: unuran_wrapper.pyx:470:21: Non-trivial type declarators in shared declaration (e.g. mix of pointers and values). Each pointer declaration should be on its own line.\n",
      "    warning: unuran_wrapper.pyx:470:28: Non-trivial type declarators in shared declaration (e.g. mix of pointers and values). Each pointer declaration should be on its own line.\n",
      "    warning: unuran_wrapper.pyx:470:36: Non-trivial type declarators in shared declaration (e.g. mix of pointers and values). Each pointer declaration should be on its own line.\n",
      "    warning: unuran_wrapper.pyx:515:21: Non-trivial type declarators in shared declaration (e.g. mix of pointers and values). Each pointer declaration should be on its own line.\n",
      "    warning: unuran_wrapper.pyx:515:28: Non-trivial type declarators in shared declaration (e.g. mix of pointers and values). Each pointer declaration should be on its own line.\n",
      "    warning: unuran_wrapper.pyx:515:36: Non-trivial type declarators in shared declaration (e.g. mix of pointers and values). Each pointer declaration should be on its own line.\n",
      "    warning: unuran_wrapper.pyx:1469:21: Non-trivial type declarators in shared declaration (e.g. mix of pointers and values). Each pointer declaration should be on its own line.\n",
      "    warning: unuran_wrapper.pyx:1469:28: Non-trivial type declarators in shared declaration (e.g. mix of pointers and values). Each pointer declaration should be on its own line.\n",
      "    warning: unuran_wrapper.pyx:1469:36: Non-trivial type declarators in shared declaration (e.g. mix of pointers and values). Each pointer declaration should be on its own line.\n",
      "    lapack_opt_info:\n",
      "    lapack_mkl_info:\n",
      "    customize UnixCCompiler\n",
      "      libraries mkl_rt not found in ['/Users/mpanin/.pyenv/versions/3.10.1/lib', '/usr/local/lib', '/usr/lib']\n",
      "      NOT AVAILABLE\n",
      "    \n",
      "    openblas_lapack_info:\n",
      "      libraries openblas not found in ['/Users/mpanin/.pyenv/versions/3.10.1/lib', '/usr/local/lib', '/usr/lib']\n",
      "      NOT AVAILABLE\n",
      "    \n",
      "    openblas_clapack_info:\n",
      "      libraries openblas,lapack not found in ['/Users/mpanin/.pyenv/versions/3.10.1/lib', '/usr/local/lib', '/usr/lib']\n",
      "      NOT AVAILABLE\n",
      "    \n",
      "    flame_info:\n",
      "      libraries flame not found in ['/Users/mpanin/.pyenv/versions/3.10.1/lib', '/usr/local/lib', '/usr/lib']\n",
      "      NOT AVAILABLE\n",
      "    \n",
      "    accelerate_info:\n",
      "      NOT AVAILABLE\n",
      "    \n",
      "    atlas_3_10_threads_info:\n",
      "    Setting PTATLAS=ATLAS\n",
      "      libraries lapack_atlas not found in /Users/mpanin/.pyenv/versions/3.10.1/lib\n",
      "      libraries tatlas,tatlas not found in /Users/mpanin/.pyenv/versions/3.10.1/lib\n",
      "      libraries lapack_atlas not found in /usr/local/lib\n",
      "      libraries tatlas,tatlas not found in /usr/local/lib\n",
      "      libraries lapack_atlas not found in /usr/lib\n",
      "      libraries tatlas,tatlas not found in /usr/lib\n",
      "    <class 'numpy.distutils.system_info.atlas_3_10_threads_info'>\n",
      "      NOT AVAILABLE\n",
      "    \n",
      "    atlas_3_10_info:\n",
      "      libraries lapack_atlas not found in /Users/mpanin/.pyenv/versions/3.10.1/lib\n",
      "      libraries satlas,satlas not found in /Users/mpanin/.pyenv/versions/3.10.1/lib\n",
      "      libraries lapack_atlas not found in /usr/local/lib\n",
      "      libraries satlas,satlas not found in /usr/local/lib\n",
      "      libraries lapack_atlas not found in /usr/lib\n",
      "      libraries satlas,satlas not found in /usr/lib\n",
      "    <class 'numpy.distutils.system_info.atlas_3_10_info'>\n",
      "      NOT AVAILABLE\n",
      "    \n",
      "    atlas_threads_info:\n",
      "    Setting PTATLAS=ATLAS\n",
      "      libraries lapack_atlas not found in /Users/mpanin/.pyenv/versions/3.10.1/lib\n",
      "      libraries ptf77blas,ptcblas,atlas not found in /Users/mpanin/.pyenv/versions/3.10.1/lib\n",
      "      libraries lapack_atlas not found in /usr/local/lib\n",
      "      libraries ptf77blas,ptcblas,atlas not found in /usr/local/lib\n",
      "      libraries lapack_atlas not found in /usr/lib\n",
      "      libraries ptf77blas,ptcblas,atlas not found in /usr/lib\n",
      "    <class 'numpy.distutils.system_info.atlas_threads_info'>\n",
      "      NOT AVAILABLE\n",
      "    \n",
      "    atlas_info:\n",
      "      libraries lapack_atlas not found in /Users/mpanin/.pyenv/versions/3.10.1/lib\n",
      "      libraries f77blas,cblas,atlas not found in /Users/mpanin/.pyenv/versions/3.10.1/lib\n",
      "      libraries lapack_atlas not found in /usr/local/lib\n",
      "      libraries f77blas,cblas,atlas not found in /usr/local/lib\n",
      "      libraries lapack_atlas not found in /usr/lib\n",
      "      libraries f77blas,cblas,atlas not found in /usr/lib\n",
      "    <class 'numpy.distutils.system_info.atlas_info'>\n",
      "      NOT AVAILABLE\n",
      "    \n",
      "    lapack_info:\n",
      "      libraries lapack not found in ['/Users/mpanin/.pyenv/versions/3.10.1/lib', '/usr/local/lib', '/usr/lib']\n",
      "      NOT AVAILABLE\n",
      "    \n",
      "    /private/var/folders/hh/68jgbx_d0vg2b9jswqz9rntr0000gp/T/pip-build-env-hqoyku1z/overlay/lib/python3.10/site-packages/numpy/distutils/system_info.py:1858: UserWarning:\n",
      "        Lapack (http://www.netlib.org/lapack/) libraries not found.\n",
      "        Directories to search for the libraries can be specified in the\n",
      "        numpy/distutils/site.cfg file (section [lapack]) or by setting\n",
      "        the LAPACK environment variable.\n",
      "      return getattr(self, '_calc_info_{}'.format(name))()\n",
      "    lapack_src_info:\n",
      "      NOT AVAILABLE\n",
      "    \n",
      "    /private/var/folders/hh/68jgbx_d0vg2b9jswqz9rntr0000gp/T/pip-build-env-hqoyku1z/overlay/lib/python3.10/site-packages/numpy/distutils/system_info.py:1858: UserWarning:\n",
      "        Lapack (http://www.netlib.org/lapack/) sources not found.\n",
      "        Directories to search for the sources can be specified in the\n",
      "        numpy/distutils/site.cfg file (section [lapack_src]) or by setting\n",
      "        the LAPACK_SRC environment variable.\n",
      "      return getattr(self, '_calc_info_{}'.format(name))()\n",
      "      NOT AVAILABLE\n",
      "    \n",
      "    Traceback (most recent call last):\n",
      "      File \"/Users/mpanin/.pyenv/versions/3.10.1/lib/python3.10/site-packages/pip/_vendor/pep517/in_process/_in_process.py\", line 349, in <module>\n",
      "        main()\n",
      "      File \"/Users/mpanin/.pyenv/versions/3.10.1/lib/python3.10/site-packages/pip/_vendor/pep517/in_process/_in_process.py\", line 331, in main\n",
      "        json_out['return_val'] = hook(**hook_input['kwargs'])\n",
      "      File \"/Users/mpanin/.pyenv/versions/3.10.1/lib/python3.10/site-packages/pip/_vendor/pep517/in_process/_in_process.py\", line 151, in prepare_metadata_for_build_wheel\n",
      "        return hook(metadata_directory, config_settings)\n",
      "      File \"/private/var/folders/hh/68jgbx_d0vg2b9jswqz9rntr0000gp/T/pip-build-env-hqoyku1z/overlay/lib/python3.10/site-packages/setuptools/build_meta.py\", line 174, in prepare_metadata_for_build_wheel\n",
      "        self.run_setup()\n",
      "      File \"/private/var/folders/hh/68jgbx_d0vg2b9jswqz9rntr0000gp/T/pip-build-env-hqoyku1z/overlay/lib/python3.10/site-packages/setuptools/build_meta.py\", line 267, in run_setup\n",
      "        super(_BuildMetaLegacyBackend,\n",
      "      File \"/private/var/folders/hh/68jgbx_d0vg2b9jswqz9rntr0000gp/T/pip-build-env-hqoyku1z/overlay/lib/python3.10/site-packages/setuptools/build_meta.py\", line 158, in run_setup\n",
      "        exec(compile(code, __file__, 'exec'), locals())\n",
      "      File \"setup.py\", line 628, in <module>\n",
      "        setup_package()\n",
      "      File \"setup.py\", line 624, in setup_package\n",
      "        setup(**metadata)\n",
      "      File \"/private/var/folders/hh/68jgbx_d0vg2b9jswqz9rntr0000gp/T/pip-build-env-hqoyku1z/overlay/lib/python3.10/site-packages/numpy/distutils/core.py\", line 135, in setup\n",
      "        config = configuration()\n",
      "      File \"setup.py\", line 526, in configuration\n",
      "        raise NotFoundError(msg)\n",
      "    numpy.distutils.system_info.NotFoundError: No BLAS/LAPACK libraries found. Note: Accelerate is no longer supported.\n",
      "    To build Scipy from sources, BLAS & LAPACK libraries need to be installed.\n",
      "    See site.cfg.example in the Scipy source directory and\n",
      "    https://docs.scipy.org/doc/scipy/reference/building/index.html for details.\n",
      "    ----------------------------------------\u001b[0m\n",
      "\u001b[?25h\u001b[33mWARNING: Discarding https://files.pythonhosted.org/packages/26/b5/9330f004b9a3b2b6a31f59f46f1617ce9ca15c0e7fe64288c20385a05c9d/scipy-1.8.1.tar.gz#sha256=9e3fb1b0e896f14a85aa9a28d5f755daaeeb54c897b746df7a55ccb02b340f33 (from https://pypi.org/simple/scipy/) (requires-python:>=3.8,<3.11). Command errored out with exit status 1: /Users/mpanin/.pyenv/versions/3.10.1/bin/python /Users/mpanin/.pyenv/versions/3.10.1/lib/python3.10/site-packages/pip/_vendor/pep517/in_process/_in_process.py prepare_metadata_for_build_wheel /var/folders/hh/68jgbx_d0vg2b9jswqz9rntr0000gp/T/tmprhpm6b60 Check the logs for full command output.\u001b[0m\n",
      "  Downloading scipy-1.8.0.tar.gz (38.3 MB)\n",
      "\u001b[K     |████████████████████████████████| 38.3 MB 1.9 MB/s eta 0:00:01\n",
      "\u001b[?25h  Installing build dependencies ... \u001b[?25ldone\n",
      "\u001b[?25h  Getting requirements to build wheel ... \u001b[?25ldone\n",
      "\u001b[?25h    Preparing wheel metadata ... \u001b[?25lerror\n",
      "\u001b[31m    ERROR: Command errored out with exit status 1:\n",
      "     command: /Users/mpanin/.pyenv/versions/3.10.1/bin/python /Users/mpanin/.pyenv/versions/3.10.1/lib/python3.10/site-packages/pip/_vendor/pep517/in_process/_in_process.py prepare_metadata_for_build_wheel /var/folders/hh/68jgbx_d0vg2b9jswqz9rntr0000gp/T/tmp9m34t981\n",
      "         cwd: /private/var/folders/hh/68jgbx_d0vg2b9jswqz9rntr0000gp/T/pip-install-__8gnqtg/scipy_a0f21ed97c844e289d397eee9352a284\n",
      "    Complete output (192 lines):\n",
      "    setup.py:482: UserWarning: Unrecognized setuptools command ('dist_info --egg-base /private/var/folders/hh/68jgbx_d0vg2b9jswqz9rntr0000gp/T/pip-modern-metadata-hiedtqgq'), proceeding with generating Cython sources and expanding templates\n",
      "      warnings.warn(\"Unrecognized setuptools command ('{}'), proceeding with \"\n",
      "    Running from SciPy source directory.\n",
      "    Cythonizing sources\n",
      "    Running scipy/linalg/_generate_pyx.py\n",
      "    Running scipy/special/_generate_pyx.py\n",
      "    Running scipy/stats/_generate_pyx.py\n",
      "    /private/var/folders/hh/68jgbx_d0vg2b9jswqz9rntr0000gp/T/pip-install-__8gnqtg/scipy_a0f21ed97c844e289d397eee9352a284/scipy/linalg/_generate_pyx.py:674: DeprecationWarning: The distutils package is deprecated and slated for removal in Python 3.12. Use setuptools or check PEP 632 for potential alternatives\n",
      "      from distutils.dep_util import newer\n",
      "    /private/var/folders/hh/68jgbx_d0vg2b9jswqz9rntr0000gp/T/pip-install-__8gnqtg/scipy_a0f21ed97c844e289d397eee9352a284/scipy/special/_generate_pyx.py:1443: DeprecationWarning: The distutils package is deprecated and slated for removal in Python 3.12. Use setuptools or check PEP 632 for potential alternatives\n",
      "      from distutils.dep_util import newer\n",
      "    Processing scipy/cluster/_vq.pyx\n",
      "    Processing scipy/cluster/_optimal_leaf_ordering.pyx\n",
      "    Processing scipy/cluster/_hierarchy.pyx\n",
      "    Processing scipy/ndimage/src/_cytest.pyx\n",
      "    Processing scipy/ndimage/src/_ni_label.pyx\n",
      "    Processing scipy/linalg/cython_lapack.pyx\n",
      "    Processing scipy/linalg/_matfuncs_sqrtm_triu.pyx\n",
      "    Processing scipy/linalg/_cythonized_array_utils.pyx\n",
      "    Processing scipy/linalg/_solve_toeplitz.pyx\n",
      "    Processing scipy/linalg/cython_blas.pyx\n",
      "    Processing scipy/linalg/_decomp_update.pyx.in\n",
      "    Processing scipy/optimize/_group_columns.pyx\n",
      "    Processing scipy/optimize/_bglu_dense.pyx\n",
      "    Processing scipy/optimize/_trlib/_trlib.pyx\n",
      "    Processing scipy/optimize/_highs/cython/src/_highs_constants.pyx\n",
      "    Processing scipy/optimize/_highs/cython/src/_highs_wrapper.pyx\n",
      "    Processing scipy/optimize/_lsq/givens_elimination.pyx\n",
      "    Processing scipy/optimize/cython_optimize/_zeros.pyx.in\n",
      "    Processing scipy/optimize/tnc/_moduleTNC.pyx\n",
      "    Processing scipy/io/matlab/_streams.pyx\n",
      "    Processing scipy/io/matlab/_mio_utils.pyx\n",
      "    Processing scipy/io/matlab/_mio5_utils.pyx\n",
      "    Processing scipy/_lib/_ccallback_c.pyx\n",
      "    Processing scipy/_lib/_test_deprecation_def.pyx\n",
      "    Processing scipy/_lib/_test_deprecation_call.pyx\n",
      "    Processing scipy/_lib/messagestream.pyx\n",
      "    Processing scipy/special/_ufuncs_cxx.pyx\n",
      "    Processing scipy/special/cython_special.pyx\n",
      "    Processing scipy/special/_ellip_harm_2.pyx\n",
      "    Processing scipy/special/_comb.pyx\n",
      "    Processing scipy/special/_test_round.pyx\n",
      "    Processing scipy/special/_ufuncs.pyx\n",
      "    Processing scipy/fftpack/convolve.pyx\n",
      "    Processing scipy/interpolate/interpnd.pyx\n",
      "    Processing scipy/interpolate/_bspl.pyx\n",
      "    Processing scipy/interpolate/_ppoly.pyx\n",
      "    Processing scipy/sparse/_csparsetools.pyx.in\n",
      "    Processing scipy/sparse/csgraph/_shortest_path.pyx\n",
      "    Processing scipy/sparse/csgraph/_traversal.pyx\n",
      "    Processing scipy/sparse/csgraph/_flow.pyx\n",
      "    Processing scipy/sparse/csgraph/_tools.pyx\n",
      "    Processing scipy/sparse/csgraph/_matching.pyx\n",
      "    Processing scipy/sparse/csgraph/_reordering.pyx\n",
      "    Processing scipy/sparse/csgraph/_min_spanning_tree.pyx\n",
      "    Processing scipy/spatial/_qhull.pyx\n",
      "    Processing scipy/spatial/_ckdtree.pyx\n",
      "    Processing scipy/spatial/_voronoi.pyx\n",
      "    Processing scipy/spatial/_hausdorff.pyx\n",
      "    Processing scipy/spatial/transform/_rotation.pyx\n",
      "    Processing scipy/signal/_max_len_seq_inner.pyx\n",
      "    Processing scipy/signal/_peak_finding_utils.pyx\n",
      "    Processing scipy/signal/_upfirdn_apply.pyx\n",
      "    Processing scipy/signal/_spectral.pyx\n",
      "    Processing scipy/signal/_sosfilt.pyx\n",
      "    Processing scipy/stats/_stats.pyx\n",
      "    Processing scipy/stats/_qmc_cy.pyx\n",
      "    Processing scipy/stats/_biasedurn.pyx\n",
      "    Processing scipy/stats/_sobol.pyx\n",
      "    Processing scipy/stats/_boost/src/beta_ufunc.pyx\n",
      "    Processing scipy/stats/_boost/src/nbinom_ufunc.pyx\n",
      "    Processing scipy/stats/_boost/src/hypergeom_ufunc.pyx\n",
      "    Processing scipy/stats/_boost/src/binom_ufunc.pyx\n",
      "    Processing scipy/stats/_unuran/unuran_wrapper.pyx\n",
      "    warning: unuran_wrapper.pyx:470:21: Non-trivial type declarators in shared declaration (e.g. mix of pointers and values). Each pointer declaration should be on its own line.\n",
      "    warning: unuran_wrapper.pyx:470:28: Non-trivial type declarators in shared declaration (e.g. mix of pointers and values). Each pointer declaration should be on its own line.\n",
      "    warning: unuran_wrapper.pyx:470:36: Non-trivial type declarators in shared declaration (e.g. mix of pointers and values). Each pointer declaration should be on its own line.\n",
      "    warning: unuran_wrapper.pyx:515:21: Non-trivial type declarators in shared declaration (e.g. mix of pointers and values). Each pointer declaration should be on its own line.\n",
      "    warning: unuran_wrapper.pyx:515:28: Non-trivial type declarators in shared declaration (e.g. mix of pointers and values). Each pointer declaration should be on its own line.\n",
      "    warning: unuran_wrapper.pyx:515:36: Non-trivial type declarators in shared declaration (e.g. mix of pointers and values). Each pointer declaration should be on its own line.\n",
      "    warning: unuran_wrapper.pyx:1476:21: Non-trivial type declarators in shared declaration (e.g. mix of pointers and values). Each pointer declaration should be on its own line.\n",
      "    warning: unuran_wrapper.pyx:1476:28: Non-trivial type declarators in shared declaration (e.g. mix of pointers and values). Each pointer declaration should be on its own line.\n",
      "    warning: unuran_wrapper.pyx:1476:36: Non-trivial type declarators in shared declaration (e.g. mix of pointers and values). Each pointer declaration should be on its own line.\n",
      "    lapack_opt_info:\n",
      "    lapack_mkl_info:\n",
      "    customize UnixCCompiler\n",
      "      libraries mkl_rt not found in ['/Users/mpanin/.pyenv/versions/3.10.1/lib', '/usr/local/lib', '/usr/lib']\n",
      "      NOT AVAILABLE\n",
      "    \n",
      "    openblas_lapack_info:\n",
      "      libraries openblas not found in ['/Users/mpanin/.pyenv/versions/3.10.1/lib', '/usr/local/lib', '/usr/lib']\n",
      "      NOT AVAILABLE\n",
      "    \n",
      "    openblas_clapack_info:\n",
      "      libraries openblas,lapack not found in ['/Users/mpanin/.pyenv/versions/3.10.1/lib', '/usr/local/lib', '/usr/lib']\n",
      "      NOT AVAILABLE\n",
      "    \n",
      "    flame_info:\n",
      "      libraries flame not found in ['/Users/mpanin/.pyenv/versions/3.10.1/lib', '/usr/local/lib', '/usr/lib']\n",
      "      NOT AVAILABLE\n",
      "    \n",
      "    accelerate_info:\n",
      "      NOT AVAILABLE\n",
      "    \n",
      "    atlas_3_10_threads_info:\n",
      "    Setting PTATLAS=ATLAS\n",
      "      libraries lapack_atlas not found in /Users/mpanin/.pyenv/versions/3.10.1/lib\n",
      "      libraries tatlas,tatlas not found in /Users/mpanin/.pyenv/versions/3.10.1/lib\n",
      "      libraries lapack_atlas not found in /usr/local/lib\n",
      "      libraries tatlas,tatlas not found in /usr/local/lib\n",
      "      libraries lapack_atlas not found in /usr/lib\n",
      "      libraries tatlas,tatlas not found in /usr/lib\n",
      "    <class 'numpy.distutils.system_info.atlas_3_10_threads_info'>\n",
      "      NOT AVAILABLE\n",
      "    \n",
      "    atlas_3_10_info:\n",
      "      libraries lapack_atlas not found in /Users/mpanin/.pyenv/versions/3.10.1/lib\n",
      "      libraries satlas,satlas not found in /Users/mpanin/.pyenv/versions/3.10.1/lib\n",
      "      libraries lapack_atlas not found in /usr/local/lib\n",
      "      libraries satlas,satlas not found in /usr/local/lib\n",
      "      libraries lapack_atlas not found in /usr/lib\n",
      "      libraries satlas,satlas not found in /usr/lib\n",
      "    <class 'numpy.distutils.system_info.atlas_3_10_info'>\n",
      "      NOT AVAILABLE\n",
      "    \n",
      "    atlas_threads_info:\n",
      "    Setting PTATLAS=ATLAS\n",
      "      libraries lapack_atlas not found in /Users/mpanin/.pyenv/versions/3.10.1/lib\n",
      "      libraries ptf77blas,ptcblas,atlas not found in /Users/mpanin/.pyenv/versions/3.10.1/lib\n",
      "      libraries lapack_atlas not found in /usr/local/lib\n",
      "      libraries ptf77blas,ptcblas,atlas not found in /usr/local/lib\n",
      "      libraries lapack_atlas not found in /usr/lib\n",
      "      libraries ptf77blas,ptcblas,atlas not found in /usr/lib\n",
      "    <class 'numpy.distutils.system_info.atlas_threads_info'>\n",
      "      NOT AVAILABLE\n",
      "    \n",
      "    atlas_info:\n",
      "      libraries lapack_atlas not found in /Users/mpanin/.pyenv/versions/3.10.1/lib\n",
      "      libraries f77blas,cblas,atlas not found in /Users/mpanin/.pyenv/versions/3.10.1/lib\n",
      "      libraries lapack_atlas not found in /usr/local/lib\n",
      "      libraries f77blas,cblas,atlas not found in /usr/local/lib\n",
      "      libraries lapack_atlas not found in /usr/lib\n",
      "      libraries f77blas,cblas,atlas not found in /usr/lib\n",
      "    <class 'numpy.distutils.system_info.atlas_info'>\n",
      "      NOT AVAILABLE\n",
      "    \n",
      "    lapack_info:\n",
      "      libraries lapack not found in ['/Users/mpanin/.pyenv/versions/3.10.1/lib', '/usr/local/lib', '/usr/lib']\n",
      "      NOT AVAILABLE\n",
      "    \n",
      "    /private/var/folders/hh/68jgbx_d0vg2b9jswqz9rntr0000gp/T/pip-build-env-q08j2ye9/overlay/lib/python3.10/site-packages/numpy/distutils/system_info.py:1858: UserWarning:\n",
      "        Lapack (http://www.netlib.org/lapack/) libraries not found.\n",
      "        Directories to search for the libraries can be specified in the\n",
      "        numpy/distutils/site.cfg file (section [lapack]) or by setting\n",
      "        the LAPACK environment variable.\n",
      "      return getattr(self, '_calc_info_{}'.format(name))()\n",
      "    lapack_src_info:\n",
      "      NOT AVAILABLE\n",
      "    \n",
      "    /private/var/folders/hh/68jgbx_d0vg2b9jswqz9rntr0000gp/T/pip-build-env-q08j2ye9/overlay/lib/python3.10/site-packages/numpy/distutils/system_info.py:1858: UserWarning:\n",
      "        Lapack (http://www.netlib.org/lapack/) sources not found.\n",
      "        Directories to search for the sources can be specified in the\n",
      "        numpy/distutils/site.cfg file (section [lapack_src]) or by setting\n",
      "        the LAPACK_SRC environment variable.\n",
      "      return getattr(self, '_calc_info_{}'.format(name))()\n",
      "      NOT AVAILABLE\n",
      "    \n",
      "    Traceback (most recent call last):\n",
      "      File \"/Users/mpanin/.pyenv/versions/3.10.1/lib/python3.10/site-packages/pip/_vendor/pep517/in_process/_in_process.py\", line 349, in <module>\n",
      "        main()\n",
      "      File \"/Users/mpanin/.pyenv/versions/3.10.1/lib/python3.10/site-packages/pip/_vendor/pep517/in_process/_in_process.py\", line 331, in main\n",
      "        json_out['return_val'] = hook(**hook_input['kwargs'])\n",
      "      File \"/Users/mpanin/.pyenv/versions/3.10.1/lib/python3.10/site-packages/pip/_vendor/pep517/in_process/_in_process.py\", line 151, in prepare_metadata_for_build_wheel\n",
      "        return hook(metadata_directory, config_settings)\n",
      "      File \"/private/var/folders/hh/68jgbx_d0vg2b9jswqz9rntr0000gp/T/pip-build-env-q08j2ye9/overlay/lib/python3.10/site-packages/setuptools/build_meta.py\", line 174, in prepare_metadata_for_build_wheel\n",
      "        self.run_setup()\n",
      "      File \"/private/var/folders/hh/68jgbx_d0vg2b9jswqz9rntr0000gp/T/pip-build-env-q08j2ye9/overlay/lib/python3.10/site-packages/setuptools/build_meta.py\", line 267, in run_setup\n",
      "        super(_BuildMetaLegacyBackend,\n",
      "      File \"/private/var/folders/hh/68jgbx_d0vg2b9jswqz9rntr0000gp/T/pip-build-env-q08j2ye9/overlay/lib/python3.10/site-packages/setuptools/build_meta.py\", line 158, in run_setup\n",
      "        exec(compile(code, __file__, 'exec'), locals())\n",
      "      File \"setup.py\", line 626, in <module>\n",
      "        setup_package()\n",
      "      File \"setup.py\", line 622, in setup_package\n",
      "        setup(**metadata)\n",
      "      File \"/private/var/folders/hh/68jgbx_d0vg2b9jswqz9rntr0000gp/T/pip-build-env-q08j2ye9/overlay/lib/python3.10/site-packages/numpy/distutils/core.py\", line 135, in setup\n",
      "        config = configuration()\n",
      "      File \"setup.py\", line 522, in configuration\n",
      "        raise NotFoundError(msg)\n",
      "    numpy.distutils.system_info.NotFoundError: No BLAS/LAPACK libraries found. Note: Accelerate is no longer supported.\n",
      "    To build Scipy from sources, BLAS & LAPACK libraries need to be installed.\n",
      "    See site.cfg.example in the Scipy source directory and\n",
      "    https://docs.scipy.org/doc/scipy/reference/building/index.html for details.\n",
      "    ----------------------------------------\u001b[0m\n",
      "\u001b[?25h\u001b[33mWARNING: Discarding https://files.pythonhosted.org/packages/b4/a2/4faa34bf0cdbefd5c706625f1234987795f368eb4e97bde9d6f46860843e/scipy-1.8.0.tar.gz#sha256=31d4f2d6b724bc9a98e527b5849b8a7e589bf1ea630c33aa563eda912c9ff0bd (from https://pypi.org/simple/scipy/) (requires-python:>=3.8,<3.11). Command errored out with exit status 1: /Users/mpanin/.pyenv/versions/3.10.1/bin/python /Users/mpanin/.pyenv/versions/3.10.1/lib/python3.10/site-packages/pip/_vendor/pep517/in_process/_in_process.py prepare_metadata_for_build_wheel /var/folders/hh/68jgbx_d0vg2b9jswqz9rntr0000gp/T/tmp9m34t981 Check the logs for full command output.\u001b[0m\n",
      "  Downloading scipy-1.7.3.tar.gz (36.1 MB)\n",
      "\u001b[K     |████████████████████████████████| 36.1 MB 1.7 MB/s eta 0:00:01     |██████████████████████▏         | 25.0 MB 3.3 MB/s eta 0:00:04\n",
      "\u001b[?25h  Installing build dependencies ... \u001b[?25ldone\n",
      "\u001b[?25h  Getting requirements to build wheel ... \u001b[?25ldone\n",
      "\u001b[?25h    Preparing wheel metadata ... \u001b[?25lerror\n",
      "\u001b[31m    ERROR: Command errored out with exit status 1:\n",
      "     command: /Users/mpanin/.pyenv/versions/3.10.1/bin/python /Users/mpanin/.pyenv/versions/3.10.1/lib/python3.10/site-packages/pip/_vendor/pep517/in_process/_in_process.py prepare_metadata_for_build_wheel /var/folders/hh/68jgbx_d0vg2b9jswqz9rntr0000gp/T/tmpa0wemdsj\n",
      "         cwd: /private/var/folders/hh/68jgbx_d0vg2b9jswqz9rntr0000gp/T/pip-install-__8gnqtg/scipy_b29de871946b42d683e68f9cbe027a00\n",
      "    Complete output (189 lines):\n",
      "    setup.py:491: UserWarning: Unrecognized setuptools command ('dist_info --egg-base /private/var/folders/hh/68jgbx_d0vg2b9jswqz9rntr0000gp/T/pip-modern-metadata-dhhegqrg'), proceeding with generating Cython sources and expanding templates\n",
      "      warnings.warn(\"Unrecognized setuptools command ('{}'), proceeding with \"\n",
      "    Running from SciPy source directory.\n",
      "    Cythonizing sources\n",
      "    Running scipy/linalg/_generate_pyx.py\n",
      "    Running scipy/special/_generate_pyx.py\n",
      "    Running scipy/stats/_generate_pyx.py\n",
      "    /private/var/folders/hh/68jgbx_d0vg2b9jswqz9rntr0000gp/T/pip-install-__8gnqtg/scipy_b29de871946b42d683e68f9cbe027a00/scipy/linalg/_generate_pyx.py:674: DeprecationWarning: The distutils package is deprecated and slated for removal in Python 3.12. Use setuptools or check PEP 632 for potential alternatives\n",
      "      from distutils.dep_util import newer\n",
      "    /private/var/folders/hh/68jgbx_d0vg2b9jswqz9rntr0000gp/T/pip-install-__8gnqtg/scipy_b29de871946b42d683e68f9cbe027a00/scipy/special/_generate_pyx.py:1443: DeprecationWarning: The distutils package is deprecated and slated for removal in Python 3.12. Use setuptools or check PEP 632 for potential alternatives\n",
      "      from distutils.dep_util import newer\n",
      "    Processing scipy/cluster/_vq.pyx\n",
      "    Processing scipy/cluster/_optimal_leaf_ordering.pyx\n",
      "    Processing scipy/cluster/_hierarchy.pyx\n",
      "    Processing scipy/ndimage/src/_cytest.pyx\n",
      "    Processing scipy/ndimage/src/_ni_label.pyx\n",
      "    /private/var/folders/hh/68jgbx_d0vg2b9jswqz9rntr0000gp/T/pip-install-__8gnqtg/scipy_b29de871946b42d683e68f9cbe027a00/tools/cythonize.py:62: DeprecationWarning: The distutils package is deprecated and slated for removal in Python 3.12. Use setuptools or check PEP 632 for potential alternatives\n",
      "      from distutils.version import LooseVersion\n",
      "    Processing scipy/linalg/cython_lapack.pyx\n",
      "    Processing scipy/linalg/_matfuncs_sqrtm_triu.pyx\n",
      "    Processing scipy/linalg/_solve_toeplitz.pyx\n",
      "    Processing scipy/linalg/cython_blas.pyx\n",
      "    Processing scipy/linalg/_decomp_update.pyx.in\n",
      "    Processing scipy/optimize/_group_columns.pyx\n",
      "    Processing scipy/optimize/_bglu_dense.pyx\n",
      "    Processing scipy/optimize/_trlib/_trlib.pyx\n",
      "    Processing scipy/optimize/_highs/cython/src/_highs_constants.pyx\n",
      "    Processing scipy/optimize/_highs/cython/src/_highs_wrapper.pyx\n",
      "    Processing scipy/optimize/_lsq/givens_elimination.pyx\n",
      "    Processing scipy/optimize/cython_optimize/_zeros.pyx.in\n",
      "    Processing scipy/io/matlab/mio_utils.pyx\n",
      "    Processing scipy/io/matlab/streams.pyx\n",
      "    Processing scipy/io/matlab/mio5_utils.pyx\n",
      "    Processing scipy/_lib/_ccallback_c.pyx\n",
      "    Processing scipy/_lib/_test_deprecation_def.pyx\n",
      "    Processing scipy/_lib/_test_deprecation_call.pyx\n",
      "    Processing scipy/_lib/messagestream.pyx\n",
      "    Processing scipy/special/_ufuncs_cxx.pyx\n",
      "    Processing scipy/special/cython_special.pyx\n",
      "    Processing scipy/special/_ellip_harm_2.pyx\n",
      "    Processing scipy/special/_comb.pyx\n",
      "    Processing scipy/special/_test_round.pyx\n",
      "    Processing scipy/special/_ufuncs.pyx\n",
      "    Processing scipy/fftpack/convolve.pyx\n",
      "    Processing scipy/interpolate/interpnd.pyx\n",
      "    Processing scipy/interpolate/_bspl.pyx\n",
      "    Processing scipy/interpolate/_ppoly.pyx\n",
      "    Processing scipy/sparse/_csparsetools.pyx.in\n",
      "    Processing scipy/sparse/csgraph/_shortest_path.pyx\n",
      "    Processing scipy/sparse/csgraph/_traversal.pyx\n",
      "    Processing scipy/sparse/csgraph/_flow.pyx\n",
      "    Processing scipy/sparse/csgraph/_tools.pyx\n",
      "    warning: _cython_special_custom.pxi:9:8: Unreachable code\n",
      "    warning: _cython_special_custom.pxi:13:4: Unreachable code\n",
      "    warning: _cython_special_custom.pxi:21:8: Unreachable code\n",
      "    warning: _cython_special_custom.pxi:25:4: Unreachable code\n",
      "    warning: _cython_special_custom.pxi:33:8: Unreachable code\n",
      "    warning: _cython_special_custom.pxi:37:4: Unreachable code\n",
      "    warning: _cython_special_custom.pxi:45:8: Unreachable code\n",
      "    warning: _cython_special_custom.pxi:49:4: Unreachable code\n",
      "    Processing scipy/sparse/csgraph/_matching.pyx\n",
      "    Processing scipy/sparse/csgraph/_reordering.pyx\n",
      "    Processing scipy/sparse/csgraph/_min_spanning_tree.pyx\n",
      "    Processing scipy/spatial/ckdtree.pyx\n",
      "    Processing scipy/spatial/_voronoi.pyx\n",
      "    Processing scipy/spatial/_hausdorff.pyx\n",
      "    Processing scipy/spatial/qhull.pyx\n",
      "    Processing scipy/spatial/transform/rotation.pyx\n",
      "    Processing scipy/signal/_max_len_seq_inner.pyx\n",
      "    Processing scipy/signal/_peak_finding_utils.pyx\n",
      "    Processing scipy/signal/_upfirdn_apply.pyx\n",
      "    Processing scipy/signal/_spectral.pyx\n",
      "    Processing scipy/signal/_sosfilt.pyx\n",
      "    Processing scipy/stats/_stats.pyx\n",
      "    Processing scipy/stats/_qmc_cy.pyx\n",
      "    Processing scipy/stats/_sobol.pyx\n",
      "    Processing scipy/stats/biasedurn.pyx\n",
      "    Processing scipy/stats/_boost/src/beta_ufunc.pyx\n",
      "    Processing scipy/stats/_boost/src/nbinom_ufunc.pyx\n",
      "    Processing scipy/stats/_boost/src/binom_ufunc.pyx\n",
      "    lapack_opt_info:\n",
      "    lapack_mkl_info:\n",
      "    customize UnixCCompiler\n",
      "      libraries mkl_rt not found in ['/Users/mpanin/.pyenv/versions/3.10.1/lib', '/usr/local/lib', '/usr/lib']\n",
      "      NOT AVAILABLE\n",
      "    \n",
      "    openblas_lapack_info:\n",
      "      libraries openblas not found in ['/Users/mpanin/.pyenv/versions/3.10.1/lib', '/usr/local/lib', '/usr/lib']\n",
      "      NOT AVAILABLE\n",
      "    \n",
      "    openblas_clapack_info:\n",
      "      libraries openblas,lapack not found in ['/Users/mpanin/.pyenv/versions/3.10.1/lib', '/usr/local/lib', '/usr/lib']\n",
      "      NOT AVAILABLE\n",
      "    \n",
      "    flame_info:\n",
      "      libraries flame not found in ['/Users/mpanin/.pyenv/versions/3.10.1/lib', '/usr/local/lib', '/usr/lib']\n",
      "      NOT AVAILABLE\n",
      "    \n",
      "    accelerate_info:\n",
      "      NOT AVAILABLE\n",
      "    \n",
      "    atlas_3_10_threads_info:\n",
      "    Setting PTATLAS=ATLAS\n",
      "      libraries lapack_atlas not found in /Users/mpanin/.pyenv/versions/3.10.1/lib\n",
      "      libraries tatlas,tatlas not found in /Users/mpanin/.pyenv/versions/3.10.1/lib\n",
      "      libraries lapack_atlas not found in /usr/local/lib\n",
      "      libraries tatlas,tatlas not found in /usr/local/lib\n",
      "      libraries lapack_atlas not found in /usr/lib\n",
      "      libraries tatlas,tatlas not found in /usr/lib\n",
      "    <class 'numpy.distutils.system_info.atlas_3_10_threads_info'>\n",
      "      NOT AVAILABLE\n",
      "    \n",
      "    atlas_3_10_info:\n",
      "      libraries lapack_atlas not found in /Users/mpanin/.pyenv/versions/3.10.1/lib\n",
      "      libraries satlas,satlas not found in /Users/mpanin/.pyenv/versions/3.10.1/lib\n",
      "      libraries lapack_atlas not found in /usr/local/lib\n",
      "      libraries satlas,satlas not found in /usr/local/lib\n",
      "      libraries lapack_atlas not found in /usr/lib\n",
      "      libraries satlas,satlas not found in /usr/lib\n",
      "    <class 'numpy.distutils.system_info.atlas_3_10_info'>\n",
      "      NOT AVAILABLE\n",
      "    \n",
      "    atlas_threads_info:\n",
      "    Setting PTATLAS=ATLAS\n",
      "      libraries lapack_atlas not found in /Users/mpanin/.pyenv/versions/3.10.1/lib\n",
      "      libraries ptf77blas,ptcblas,atlas not found in /Users/mpanin/.pyenv/versions/3.10.1/lib\n",
      "      libraries lapack_atlas not found in /usr/local/lib\n",
      "      libraries ptf77blas,ptcblas,atlas not found in /usr/local/lib\n",
      "      libraries lapack_atlas not found in /usr/lib\n",
      "      libraries ptf77blas,ptcblas,atlas not found in /usr/lib\n",
      "    <class 'numpy.distutils.system_info.atlas_threads_info'>\n",
      "      NOT AVAILABLE\n",
      "    \n",
      "    atlas_info:\n",
      "      libraries lapack_atlas not found in /Users/mpanin/.pyenv/versions/3.10.1/lib\n",
      "      libraries f77blas,cblas,atlas not found in /Users/mpanin/.pyenv/versions/3.10.1/lib\n",
      "      libraries lapack_atlas not found in /usr/local/lib\n",
      "      libraries f77blas,cblas,atlas not found in /usr/local/lib\n",
      "      libraries lapack_atlas not found in /usr/lib\n",
      "      libraries f77blas,cblas,atlas not found in /usr/lib\n",
      "    <class 'numpy.distutils.system_info.atlas_info'>\n",
      "      NOT AVAILABLE\n",
      "    \n",
      "    lapack_info:\n",
      "      libraries lapack not found in ['/Users/mpanin/.pyenv/versions/3.10.1/lib', '/usr/local/lib', '/usr/lib']\n",
      "      NOT AVAILABLE\n",
      "    \n",
      "    /private/var/folders/hh/68jgbx_d0vg2b9jswqz9rntr0000gp/T/pip-build-env-yertvsr7/overlay/lib/python3.10/site-packages/numpy/distutils/system_info.py:1858: UserWarning:\n",
      "        Lapack (http://www.netlib.org/lapack/) libraries not found.\n",
      "        Directories to search for the libraries can be specified in the\n",
      "        numpy/distutils/site.cfg file (section [lapack]) or by setting\n",
      "        the LAPACK environment variable.\n",
      "      return getattr(self, '_calc_info_{}'.format(name))()\n",
      "    lapack_src_info:\n",
      "      NOT AVAILABLE\n",
      "    \n",
      "    /private/var/folders/hh/68jgbx_d0vg2b9jswqz9rntr0000gp/T/pip-build-env-yertvsr7/overlay/lib/python3.10/site-packages/numpy/distutils/system_info.py:1858: UserWarning:\n",
      "        Lapack (http://www.netlib.org/lapack/) sources not found.\n",
      "        Directories to search for the sources can be specified in the\n",
      "        numpy/distutils/site.cfg file (section [lapack_src]) or by setting\n",
      "        the LAPACK_SRC environment variable.\n",
      "      return getattr(self, '_calc_info_{}'.format(name))()\n",
      "      NOT AVAILABLE\n",
      "    \n",
      "    Traceback (most recent call last):\n",
      "      File \"/Users/mpanin/.pyenv/versions/3.10.1/lib/python3.10/site-packages/pip/_vendor/pep517/in_process/_in_process.py\", line 349, in <module>\n",
      "        main()\n",
      "      File \"/Users/mpanin/.pyenv/versions/3.10.1/lib/python3.10/site-packages/pip/_vendor/pep517/in_process/_in_process.py\", line 331, in main\n",
      "        json_out['return_val'] = hook(**hook_input['kwargs'])\n",
      "      File \"/Users/mpanin/.pyenv/versions/3.10.1/lib/python3.10/site-packages/pip/_vendor/pep517/in_process/_in_process.py\", line 151, in prepare_metadata_for_build_wheel\n",
      "        return hook(metadata_directory, config_settings)\n",
      "      File \"/private/var/folders/hh/68jgbx_d0vg2b9jswqz9rntr0000gp/T/pip-build-env-yertvsr7/overlay/lib/python3.10/site-packages/setuptools/build_meta.py\", line 166, in prepare_metadata_for_build_wheel\n",
      "        self.run_setup()\n",
      "      File \"/private/var/folders/hh/68jgbx_d0vg2b9jswqz9rntr0000gp/T/pip-build-env-yertvsr7/overlay/lib/python3.10/site-packages/setuptools/build_meta.py\", line 258, in run_setup\n",
      "        super(_BuildMetaLegacyBackend,\n",
      "      File \"/private/var/folders/hh/68jgbx_d0vg2b9jswqz9rntr0000gp/T/pip-build-env-yertvsr7/overlay/lib/python3.10/site-packages/setuptools/build_meta.py\", line 150, in run_setup\n",
      "        exec(compile(code, __file__, 'exec'), locals())\n",
      "      File \"setup.py\", line 631, in <module>\n",
      "        setup_package()\n",
      "      File \"setup.py\", line 627, in setup_package\n",
      "        setup(**metadata)\n",
      "      File \"/private/var/folders/hh/68jgbx_d0vg2b9jswqz9rntr0000gp/T/pip-build-env-yertvsr7/overlay/lib/python3.10/site-packages/numpy/distutils/core.py\", line 135, in setup\n",
      "        config = configuration()\n",
      "      File \"setup.py\", line 529, in configuration\n",
      "        raise NotFoundError(msg)\n",
      "    numpy.distutils.system_info.NotFoundError: No BLAS/LAPACK libraries found. Note: Accelerate is no longer supported.\n",
      "    To build Scipy from sources, BLAS & LAPACK libraries need to be installed.\n",
      "    See site.cfg.example in the Scipy source directory and\n",
      "    https://docs.scipy.org/doc/scipy/reference/building/index.html for details.\n",
      "    ----------------------------------------\u001b[0m\n",
      "\u001b[?25h\u001b[33mWARNING: Discarding https://files.pythonhosted.org/packages/61/67/1a654b96309c991762ee9bc39c363fc618076b155fe52d295211cf2536c7/scipy-1.7.3.tar.gz#sha256=ab5875facfdef77e0a47d5fd39ea178b58e60e454a4c85aa1e52fcb80db7babf (from https://pypi.org/simple/scipy/) (requires-python:>=3.7,<3.11). Command errored out with exit status 1: /Users/mpanin/.pyenv/versions/3.10.1/bin/python /Users/mpanin/.pyenv/versions/3.10.1/lib/python3.10/site-packages/pip/_vendor/pep517/in_process/_in_process.py prepare_metadata_for_build_wheel /var/folders/hh/68jgbx_d0vg2b9jswqz9rntr0000gp/T/tmpa0wemdsj Check the logs for full command output.\u001b[0m\n",
      "  Downloading scipy-1.7.2.tar.gz (36.1 MB)\n",
      "\u001b[K     |████████████████████████████████| 36.1 MB 1.4 MB/s eta 0:00:01\n",
      "\u001b[?25h  Installing build dependencies ... \u001b[?25ldone\n",
      "\u001b[?25h  Getting requirements to build wheel ... \u001b[?25ldone\n",
      "\u001b[?25h    Preparing wheel metadata ... \u001b[?25lerror\n",
      "\u001b[31m    ERROR: Command errored out with exit status 1:\n",
      "     command: /Users/mpanin/.pyenv/versions/3.10.1/bin/python /Users/mpanin/.pyenv/versions/3.10.1/lib/python3.10/site-packages/pip/_vendor/pep517/in_process/_in_process.py prepare_metadata_for_build_wheel /var/folders/hh/68jgbx_d0vg2b9jswqz9rntr0000gp/T/tmpkxxw8w53\n",
      "         cwd: /private/var/folders/hh/68jgbx_d0vg2b9jswqz9rntr0000gp/T/pip-install-__8gnqtg/scipy_4aba4c3104434347b18cebfc08b63fc7\n",
      "    Complete output (189 lines):\n",
      "    setup.py:491: UserWarning: Unrecognized setuptools command ('dist_info --egg-base /private/var/folders/hh/68jgbx_d0vg2b9jswqz9rntr0000gp/T/pip-modern-metadata-t7g2srqd'), proceeding with generating Cython sources and expanding templates\n",
      "      warnings.warn(\"Unrecognized setuptools command ('{}'), proceeding with \"\n",
      "    Running from SciPy source directory.\n",
      "    Cythonizing sources\n",
      "    Running scipy/linalg/_generate_pyx.py\n",
      "    Running scipy/special/_generate_pyx.py\n",
      "    Running scipy/stats/_generate_pyx.py\n",
      "    /private/var/folders/hh/68jgbx_d0vg2b9jswqz9rntr0000gp/T/pip-install-__8gnqtg/scipy_4aba4c3104434347b18cebfc08b63fc7/scipy/linalg/_generate_pyx.py:674: DeprecationWarning: The distutils package is deprecated and slated for removal in Python 3.12. Use setuptools or check PEP 632 for potential alternatives\n",
      "      from distutils.dep_util import newer\n",
      "    /private/var/folders/hh/68jgbx_d0vg2b9jswqz9rntr0000gp/T/pip-install-__8gnqtg/scipy_4aba4c3104434347b18cebfc08b63fc7/scipy/special/_generate_pyx.py:1443: DeprecationWarning: The distutils package is deprecated and slated for removal in Python 3.12. Use setuptools or check PEP 632 for potential alternatives\n",
      "      from distutils.dep_util import newer\n",
      "    Processing scipy/cluster/_vq.pyx\n",
      "    Processing scipy/cluster/_optimal_leaf_ordering.pyx\n",
      "    Processing scipy/cluster/_hierarchy.pyx\n",
      "    Processing scipy/ndimage/src/_cytest.pyx\n",
      "    Processing scipy/ndimage/src/_ni_label.pyx\n",
      "    Processing scipy/linalg/cython_lapack.pyx\n",
      "    /private/var/folders/hh/68jgbx_d0vg2b9jswqz9rntr0000gp/T/pip-install-__8gnqtg/scipy_4aba4c3104434347b18cebfc08b63fc7/tools/cythonize.py:62: DeprecationWarning: The distutils package is deprecated and slated for removal in Python 3.12. Use setuptools or check PEP 632 for potential alternatives\n",
      "      from distutils.version import LooseVersion\n",
      "    Processing scipy/linalg/_matfuncs_sqrtm_triu.pyx\n",
      "    Processing scipy/linalg/_solve_toeplitz.pyx\n",
      "    Processing scipy/linalg/cython_blas.pyx\n",
      "    Processing scipy/linalg/_decomp_update.pyx.in\n",
      "    Processing scipy/optimize/_group_columns.pyx\n",
      "    Processing scipy/optimize/_bglu_dense.pyx\n",
      "    Processing scipy/optimize/_trlib/_trlib.pyx\n",
      "    Processing scipy/optimize/_highs/cython/src/_highs_constants.pyx\n",
      "    Processing scipy/optimize/_highs/cython/src/_highs_wrapper.pyx\n",
      "    Processing scipy/optimize/_lsq/givens_elimination.pyx\n",
      "    Processing scipy/optimize/cython_optimize/_zeros.pyx.in\n",
      "    Processing scipy/io/matlab/mio_utils.pyx\n",
      "    Processing scipy/io/matlab/streams.pyx\n",
      "    Processing scipy/io/matlab/mio5_utils.pyx\n",
      "    Processing scipy/_lib/_ccallback_c.pyx\n",
      "    Processing scipy/_lib/_test_deprecation_def.pyx\n",
      "    Processing scipy/_lib/_test_deprecation_call.pyx\n",
      "    Processing scipy/_lib/messagestream.pyx\n",
      "    Processing scipy/special/_ufuncs_cxx.pyx\n",
      "    Processing scipy/special/cython_special.pyx\n",
      "    Processing scipy/special/_ellip_harm_2.pyx\n",
      "    Processing scipy/special/_comb.pyx\n",
      "    Processing scipy/special/_test_round.pyx\n",
      "    Processing scipy/special/_ufuncs.pyx\n",
      "    Processing scipy/fftpack/convolve.pyx\n",
      "    Processing scipy/interpolate/interpnd.pyx\n",
      "    Processing scipy/interpolate/_bspl.pyx\n",
      "    Processing scipy/interpolate/_ppoly.pyx\n",
      "    Processing scipy/sparse/_csparsetools.pyx.in\n",
      "    Processing scipy/sparse/csgraph/_shortest_path.pyx\n",
      "    Processing scipy/sparse/csgraph/_traversal.pyx\n",
      "    Processing scipy/sparse/csgraph/_flow.pyx\n",
      "    Processing scipy/sparse/csgraph/_tools.pyx\n",
      "    warning: _cython_special_custom.pxi:9:8: Unreachable code\n",
      "    warning: _cython_special_custom.pxi:13:4: Unreachable code\n",
      "    warning: _cython_special_custom.pxi:21:8: Unreachable code\n",
      "    warning: _cython_special_custom.pxi:25:4: Unreachable code\n",
      "    warning: _cython_special_custom.pxi:33:8: Unreachable code\n",
      "    warning: _cython_special_custom.pxi:37:4: Unreachable code\n",
      "    warning: _cython_special_custom.pxi:45:8: Unreachable code\n",
      "    warning: _cython_special_custom.pxi:49:4: Unreachable code\n",
      "    Processing scipy/sparse/csgraph/_matching.pyx\n",
      "    Processing scipy/sparse/csgraph/_reordering.pyx\n",
      "    Processing scipy/sparse/csgraph/_min_spanning_tree.pyx\n",
      "    Processing scipy/spatial/ckdtree.pyx\n",
      "    Processing scipy/spatial/_voronoi.pyx\n",
      "    Processing scipy/spatial/_hausdorff.pyx\n",
      "    Processing scipy/spatial/qhull.pyx\n",
      "    Processing scipy/spatial/transform/rotation.pyx\n",
      "    Processing scipy/signal/_max_len_seq_inner.pyx\n",
      "    Processing scipy/signal/_peak_finding_utils.pyx\n",
      "    Processing scipy/signal/_upfirdn_apply.pyx\n",
      "    Processing scipy/signal/_spectral.pyx\n",
      "    Processing scipy/signal/_sosfilt.pyx\n",
      "    Processing scipy/stats/_stats.pyx\n",
      "    Processing scipy/stats/_qmc_cy.pyx\n",
      "    Processing scipy/stats/_sobol.pyx\n",
      "    Processing scipy/stats/biasedurn.pyx\n",
      "    Processing scipy/stats/_boost/src/beta_ufunc.pyx\n",
      "    Processing scipy/stats/_boost/src/nbinom_ufunc.pyx\n",
      "    Processing scipy/stats/_boost/src/binom_ufunc.pyx\n",
      "    lapack_opt_info:\n",
      "    lapack_mkl_info:\n",
      "    customize UnixCCompiler\n",
      "      libraries mkl_rt not found in ['/Users/mpanin/.pyenv/versions/3.10.1/lib', '/usr/local/lib', '/usr/lib']\n",
      "      NOT AVAILABLE\n",
      "    \n",
      "    openblas_lapack_info:\n",
      "      libraries openblas not found in ['/Users/mpanin/.pyenv/versions/3.10.1/lib', '/usr/local/lib', '/usr/lib']\n",
      "      NOT AVAILABLE\n",
      "    \n",
      "    openblas_clapack_info:\n",
      "      libraries openblas,lapack not found in ['/Users/mpanin/.pyenv/versions/3.10.1/lib', '/usr/local/lib', '/usr/lib']\n",
      "      NOT AVAILABLE\n",
      "    \n",
      "    flame_info:\n",
      "      libraries flame not found in ['/Users/mpanin/.pyenv/versions/3.10.1/lib', '/usr/local/lib', '/usr/lib']\n",
      "      NOT AVAILABLE\n",
      "    \n",
      "    accelerate_info:\n",
      "      NOT AVAILABLE\n",
      "    \n",
      "    atlas_3_10_threads_info:\n",
      "    Setting PTATLAS=ATLAS\n",
      "      libraries lapack_atlas not found in /Users/mpanin/.pyenv/versions/3.10.1/lib\n",
      "      libraries tatlas,tatlas not found in /Users/mpanin/.pyenv/versions/3.10.1/lib\n",
      "      libraries lapack_atlas not found in /usr/local/lib\n",
      "      libraries tatlas,tatlas not found in /usr/local/lib\n",
      "      libraries lapack_atlas not found in /usr/lib\n",
      "      libraries tatlas,tatlas not found in /usr/lib\n",
      "    <class 'numpy.distutils.system_info.atlas_3_10_threads_info'>\n",
      "      NOT AVAILABLE\n",
      "    \n",
      "    atlas_3_10_info:\n",
      "      libraries lapack_atlas not found in /Users/mpanin/.pyenv/versions/3.10.1/lib\n",
      "      libraries satlas,satlas not found in /Users/mpanin/.pyenv/versions/3.10.1/lib\n",
      "      libraries lapack_atlas not found in /usr/local/lib\n",
      "      libraries satlas,satlas not found in /usr/local/lib\n",
      "      libraries lapack_atlas not found in /usr/lib\n",
      "      libraries satlas,satlas not found in /usr/lib\n",
      "    <class 'numpy.distutils.system_info.atlas_3_10_info'>\n",
      "      NOT AVAILABLE\n",
      "    \n",
      "    atlas_threads_info:\n",
      "    Setting PTATLAS=ATLAS\n",
      "      libraries lapack_atlas not found in /Users/mpanin/.pyenv/versions/3.10.1/lib\n",
      "      libraries ptf77blas,ptcblas,atlas not found in /Users/mpanin/.pyenv/versions/3.10.1/lib\n",
      "      libraries lapack_atlas not found in /usr/local/lib\n",
      "      libraries ptf77blas,ptcblas,atlas not found in /usr/local/lib\n",
      "      libraries lapack_atlas not found in /usr/lib\n",
      "      libraries ptf77blas,ptcblas,atlas not found in /usr/lib\n",
      "    <class 'numpy.distutils.system_info.atlas_threads_info'>\n",
      "      NOT AVAILABLE\n",
      "    \n",
      "    atlas_info:\n",
      "      libraries lapack_atlas not found in /Users/mpanin/.pyenv/versions/3.10.1/lib\n",
      "      libraries f77blas,cblas,atlas not found in /Users/mpanin/.pyenv/versions/3.10.1/lib\n",
      "      libraries lapack_atlas not found in /usr/local/lib\n",
      "      libraries f77blas,cblas,atlas not found in /usr/local/lib\n",
      "      libraries lapack_atlas not found in /usr/lib\n",
      "      libraries f77blas,cblas,atlas not found in /usr/lib\n",
      "    <class 'numpy.distutils.system_info.atlas_info'>\n",
      "      NOT AVAILABLE\n",
      "    \n",
      "    lapack_info:\n",
      "      libraries lapack not found in ['/Users/mpanin/.pyenv/versions/3.10.1/lib', '/usr/local/lib', '/usr/lib']\n",
      "      NOT AVAILABLE\n",
      "    \n",
      "    /private/var/folders/hh/68jgbx_d0vg2b9jswqz9rntr0000gp/T/pip-build-env-4vwu0dxm/overlay/lib/python3.10/site-packages/numpy/distutils/system_info.py:1858: UserWarning:\n",
      "        Lapack (http://www.netlib.org/lapack/) libraries not found.\n",
      "        Directories to search for the libraries can be specified in the\n",
      "        numpy/distutils/site.cfg file (section [lapack]) or by setting\n",
      "        the LAPACK environment variable.\n",
      "      return getattr(self, '_calc_info_{}'.format(name))()\n",
      "    lapack_src_info:\n",
      "      NOT AVAILABLE\n",
      "    \n",
      "    /private/var/folders/hh/68jgbx_d0vg2b9jswqz9rntr0000gp/T/pip-build-env-4vwu0dxm/overlay/lib/python3.10/site-packages/numpy/distutils/system_info.py:1858: UserWarning:\n",
      "        Lapack (http://www.netlib.org/lapack/) sources not found.\n",
      "        Directories to search for the sources can be specified in the\n",
      "        numpy/distutils/site.cfg file (section [lapack_src]) or by setting\n",
      "        the LAPACK_SRC environment variable.\n",
      "      return getattr(self, '_calc_info_{}'.format(name))()\n",
      "      NOT AVAILABLE\n",
      "    \n",
      "    Traceback (most recent call last):\n",
      "      File \"/Users/mpanin/.pyenv/versions/3.10.1/lib/python3.10/site-packages/pip/_vendor/pep517/in_process/_in_process.py\", line 349, in <module>\n",
      "        main()\n",
      "      File \"/Users/mpanin/.pyenv/versions/3.10.1/lib/python3.10/site-packages/pip/_vendor/pep517/in_process/_in_process.py\", line 331, in main\n",
      "        json_out['return_val'] = hook(**hook_input['kwargs'])\n",
      "      File \"/Users/mpanin/.pyenv/versions/3.10.1/lib/python3.10/site-packages/pip/_vendor/pep517/in_process/_in_process.py\", line 151, in prepare_metadata_for_build_wheel\n",
      "        return hook(metadata_directory, config_settings)\n",
      "      File \"/private/var/folders/hh/68jgbx_d0vg2b9jswqz9rntr0000gp/T/pip-build-env-4vwu0dxm/overlay/lib/python3.10/site-packages/setuptools/build_meta.py\", line 166, in prepare_metadata_for_build_wheel\n",
      "        self.run_setup()\n",
      "      File \"/private/var/folders/hh/68jgbx_d0vg2b9jswqz9rntr0000gp/T/pip-build-env-4vwu0dxm/overlay/lib/python3.10/site-packages/setuptools/build_meta.py\", line 258, in run_setup\n",
      "        super(_BuildMetaLegacyBackend,\n",
      "      File \"/private/var/folders/hh/68jgbx_d0vg2b9jswqz9rntr0000gp/T/pip-build-env-4vwu0dxm/overlay/lib/python3.10/site-packages/setuptools/build_meta.py\", line 150, in run_setup\n",
      "        exec(compile(code, __file__, 'exec'), locals())\n",
      "      File \"setup.py\", line 631, in <module>\n",
      "        setup_package()\n",
      "      File \"setup.py\", line 627, in setup_package\n",
      "        setup(**metadata)\n",
      "      File \"/private/var/folders/hh/68jgbx_d0vg2b9jswqz9rntr0000gp/T/pip-build-env-4vwu0dxm/overlay/lib/python3.10/site-packages/numpy/distutils/core.py\", line 135, in setup\n",
      "        config = configuration()\n",
      "      File \"setup.py\", line 529, in configuration\n",
      "        raise NotFoundError(msg)\n",
      "    numpy.distutils.system_info.NotFoundError: No BLAS/LAPACK libraries found. Note: Accelerate is no longer supported.\n",
      "    To build Scipy from sources, BLAS & LAPACK libraries need to be installed.\n",
      "    See site.cfg.example in the Scipy source directory and\n",
      "    https://docs.scipy.org/doc/scipy/reference/building/index.html for details.\n",
      "    ----------------------------------------\u001b[0m\n",
      "\u001b[?25h\u001b[33mWARNING: Discarding https://files.pythonhosted.org/packages/0e/23/58c4f995475a2a97cb5f4a032aedaf881ad87cd976a7180c55118d105a1d/scipy-1.7.2.tar.gz#sha256=fa2dbabaaecdb502641b0b3c00dec05fb475ae48655c66da16c9ed24eda1e711 (from https://pypi.org/simple/scipy/) (requires-python:>=3.7,<3.11). Command errored out with exit status 1: /Users/mpanin/.pyenv/versions/3.10.1/bin/python /Users/mpanin/.pyenv/versions/3.10.1/lib/python3.10/site-packages/pip/_vendor/pep517/in_process/_in_process.py prepare_metadata_for_build_wheel /var/folders/hh/68jgbx_d0vg2b9jswqz9rntr0000gp/T/tmpkxxw8w53 Check the logs for full command output.\u001b[0m\n",
      "  Downloading scipy-1.6.1.tar.gz (27.3 MB)\n",
      "\u001b[K     |████████████████████████████████| 27.3 MB 4.8 MB/s eta 0:00:01\n",
      "\u001b[?25h  Installing build dependencies ... \u001b[?25ldone\n",
      "\u001b[?25h  Getting requirements to build wheel ... \u001b[?25ldone\n",
      "\u001b[?25h    Preparing wheel metadata ... \u001b[?25lerror\n",
      "\u001b[31m    ERROR: Command errored out with exit status 1:\n",
      "     command: /Users/mpanin/.pyenv/versions/3.10.1/bin/python /Users/mpanin/.pyenv/versions/3.10.1/lib/python3.10/site-packages/pip/_vendor/pep517/in_process/_in_process.py prepare_metadata_for_build_wheel /var/folders/hh/68jgbx_d0vg2b9jswqz9rntr0000gp/T/tmpaasrfxql\n",
      "         cwd: /private/var/folders/hh/68jgbx_d0vg2b9jswqz9rntr0000gp/T/pip-install-__8gnqtg/scipy_93ee3d6ce42041a8b9a2624cba12e387\n",
      "    Complete output (104 lines):\n",
      "    setup.py:461: UserWarning: Unrecognized setuptools command ('dist_info --egg-base /private/var/folders/hh/68jgbx_d0vg2b9jswqz9rntr0000gp/T/pip-modern-metadata-9cj2hyrs'), proceeding with generating Cython sources and expanding templates\n",
      "      warnings.warn(\"Unrecognized setuptools command ('{}'), proceeding with \"\n",
      "    Running from SciPy source directory.\n",
      "    INFO: lapack_opt_info:\n",
      "    INFO: lapack_armpl_info:\n",
      "    INFO: customize UnixCCompiler\n",
      "    INFO:   libraries armpl_lp64_mp not found in ['/Users/mpanin/.pyenv/versions/3.10.1/lib', '/usr/local/lib', '/usr/lib']\n",
      "    INFO:   NOT AVAILABLE\n",
      "    INFO:\n",
      "    INFO: lapack_mkl_info:\n",
      "    INFO:   libraries mkl_rt not found in ['/Users/mpanin/.pyenv/versions/3.10.1/lib', '/usr/local/lib', '/usr/lib']\n",
      "    INFO:   NOT AVAILABLE\n",
      "    INFO:\n",
      "    INFO: openblas_lapack_info:\n",
      "    INFO:   libraries openblas not found in ['/Users/mpanin/.pyenv/versions/3.10.1/lib', '/usr/local/lib', '/usr/lib']\n",
      "    INFO:   NOT AVAILABLE\n",
      "    INFO:\n",
      "    INFO: openblas_clapack_info:\n",
      "    INFO:   libraries openblas,lapack not found in ['/Users/mpanin/.pyenv/versions/3.10.1/lib', '/usr/local/lib', '/usr/lib']\n",
      "    INFO:   NOT AVAILABLE\n",
      "    INFO:\n",
      "    INFO: flame_info:\n",
      "    INFO:   libraries flame not found in ['/Users/mpanin/.pyenv/versions/3.10.1/lib', '/usr/local/lib', '/usr/lib']\n",
      "    INFO:   NOT AVAILABLE\n",
      "    INFO:\n",
      "    INFO: accelerate_info:\n",
      "    INFO:   NOT AVAILABLE\n",
      "    INFO:\n",
      "    INFO: atlas_3_10_threads_info:\n",
      "    INFO: Setting PTATLAS=ATLAS\n",
      "    INFO:   libraries tatlas,tatlas not found in /Users/mpanin/.pyenv/versions/3.10.1/lib\n",
      "    INFO:   libraries tatlas,tatlas not found in /usr/local/lib\n",
      "    INFO:   libraries tatlas,tatlas not found in /usr/lib\n",
      "    INFO: <class 'numpy.distutils.system_info.atlas_3_10_threads_info'>\n",
      "    INFO:   NOT AVAILABLE\n",
      "    INFO:\n",
      "    INFO: atlas_3_10_info:\n",
      "    INFO:   libraries satlas,satlas not found in /Users/mpanin/.pyenv/versions/3.10.1/lib\n",
      "    INFO:   libraries satlas,satlas not found in /usr/local/lib\n",
      "    INFO:   libraries satlas,satlas not found in /usr/lib\n",
      "    INFO: <class 'numpy.distutils.system_info.atlas_3_10_info'>\n",
      "    INFO:   NOT AVAILABLE\n",
      "    INFO:\n",
      "    INFO: atlas_threads_info:\n",
      "    INFO: Setting PTATLAS=ATLAS\n",
      "    INFO:   libraries ptf77blas,ptcblas,atlas not found in /Users/mpanin/.pyenv/versions/3.10.1/lib\n",
      "    INFO:   libraries ptf77blas,ptcblas,atlas not found in /usr/local/lib\n",
      "    INFO:   libraries ptf77blas,ptcblas,atlas not found in /usr/lib\n",
      "    INFO: <class 'numpy.distutils.system_info.atlas_threads_info'>\n",
      "    INFO:   NOT AVAILABLE\n",
      "    INFO:\n",
      "    INFO: atlas_info:\n",
      "    INFO:   libraries f77blas,cblas,atlas not found in /Users/mpanin/.pyenv/versions/3.10.1/lib\n",
      "    INFO:   libraries f77blas,cblas,atlas not found in /usr/local/lib\n",
      "    INFO:   libraries f77blas,cblas,atlas not found in /usr/lib\n",
      "    INFO: <class 'numpy.distutils.system_info.atlas_info'>\n",
      "    INFO:   NOT AVAILABLE\n",
      "    INFO:\n",
      "    INFO: lapack_info:\n",
      "    INFO:   libraries lapack not found in ['/Users/mpanin/.pyenv/versions/3.10.1/lib', '/usr/local/lib', '/usr/lib']\n",
      "    INFO:   NOT AVAILABLE\n",
      "    INFO:\n",
      "    /private/var/folders/hh/68jgbx_d0vg2b9jswqz9rntr0000gp/T/pip-build-env-7no3nnnk/overlay/lib/python3.10/site-packages/numpy/distutils/system_info.py:1902: UserWarning:\n",
      "        Lapack (http://www.netlib.org/lapack/) libraries not found.\n",
      "        Directories to search for the libraries can be specified in the\n",
      "        numpy/distutils/site.cfg file (section [lapack]) or by setting\n",
      "        the LAPACK environment variable.\n",
      "      return getattr(self, '_calc_info_{}'.format(name))()\n",
      "    INFO: lapack_src_info:\n",
      "    INFO:   NOT AVAILABLE\n",
      "    INFO:\n",
      "    /private/var/folders/hh/68jgbx_d0vg2b9jswqz9rntr0000gp/T/pip-build-env-7no3nnnk/overlay/lib/python3.10/site-packages/numpy/distutils/system_info.py:1902: UserWarning:\n",
      "        Lapack (http://www.netlib.org/lapack/) sources not found.\n",
      "        Directories to search for the sources can be specified in the\n",
      "        numpy/distutils/site.cfg file (section [lapack_src]) or by setting\n",
      "        the LAPACK_SRC environment variable.\n",
      "      return getattr(self, '_calc_info_{}'.format(name))()\n",
      "    INFO:   NOT AVAILABLE\n",
      "    INFO:\n",
      "    Traceback (most recent call last):\n",
      "      File \"/Users/mpanin/.pyenv/versions/3.10.1/lib/python3.10/site-packages/pip/_vendor/pep517/in_process/_in_process.py\", line 349, in <module>\n",
      "        main()\n",
      "      File \"/Users/mpanin/.pyenv/versions/3.10.1/lib/python3.10/site-packages/pip/_vendor/pep517/in_process/_in_process.py\", line 331, in main\n",
      "        json_out['return_val'] = hook(**hook_input['kwargs'])\n",
      "      File \"/Users/mpanin/.pyenv/versions/3.10.1/lib/python3.10/site-packages/pip/_vendor/pep517/in_process/_in_process.py\", line 151, in prepare_metadata_for_build_wheel\n",
      "        return hook(metadata_directory, config_settings)\n",
      "      File \"/private/var/folders/hh/68jgbx_d0vg2b9jswqz9rntr0000gp/T/pip-build-env-7no3nnnk/overlay/lib/python3.10/site-packages/setuptools/build_meta.py\", line 161, in prepare_metadata_for_build_wheel\n",
      "        self.run_setup()\n",
      "      File \"/private/var/folders/hh/68jgbx_d0vg2b9jswqz9rntr0000gp/T/pip-build-env-7no3nnnk/overlay/lib/python3.10/site-packages/setuptools/build_meta.py\", line 253, in run_setup\n",
      "        super(_BuildMetaLegacyBackend,\n",
      "      File \"/private/var/folders/hh/68jgbx_d0vg2b9jswqz9rntr0000gp/T/pip-build-env-7no3nnnk/overlay/lib/python3.10/site-packages/setuptools/build_meta.py\", line 145, in run_setup\n",
      "        exec(compile(code, __file__, 'exec'), locals())\n",
      "      File \"setup.py\", line 588, in <module>\n",
      "        setup_package()\n",
      "      File \"setup.py\", line 584, in setup_package\n",
      "        setup(**metadata)\n",
      "      File \"/private/var/folders/hh/68jgbx_d0vg2b9jswqz9rntr0000gp/T/pip-build-env-7no3nnnk/overlay/lib/python3.10/site-packages/numpy/distutils/core.py\", line 135, in setup\n",
      "        config = configuration()\n",
      "      File \"setup.py\", line 499, in configuration\n",
      "        raise NotFoundError(msg)\n",
      "    numpy.distutils.system_info.NotFoundError: No BLAS/LAPACK libraries found. Note: Accelerate is no longer supported.\n",
      "    To build Scipy from sources, BLAS & LAPACK libraries need to be installed.\n",
      "    See site.cfg.example in the Scipy source directory and\n",
      "    https://docs.scipy.org/doc/scipy/reference/building/index.html for details.\n",
      "    ----------------------------------------\u001b[0m\n",
      "\u001b[?25h\u001b[33mWARNING: Discarding https://files.pythonhosted.org/packages/26/68/84dbe18583e79e56e4cee8d00232a8dd7d4ae33bc3acf3be1c347991848f/scipy-1.6.1.tar.gz#sha256=c4fceb864890b6168e79b0e714c585dbe2fd4222768ee90bc1aa0f8218691b11 (from https://pypi.org/simple/scipy/) (requires-python:>=3.7). Command errored out with exit status 1: /Users/mpanin/.pyenv/versions/3.10.1/bin/python /Users/mpanin/.pyenv/versions/3.10.1/lib/python3.10/site-packages/pip/_vendor/pep517/in_process/_in_process.py prepare_metadata_for_build_wheel /var/folders/hh/68jgbx_d0vg2b9jswqz9rntr0000gp/T/tmpaasrfxql Check the logs for full command output.\u001b[0m\n",
      "  Downloading scipy-1.6.0.tar.gz (27.3 MB)\n",
      "\u001b[K     |████████████████████████████████| 27.3 MB 3.1 MB/s eta 0:00:01    |███████████▋                    | 9.9 MB 2.2 MB/s eta 0:00:08\n",
      "\u001b[?25h  Installing build dependencies ... \u001b[?25ldone\n",
      "\u001b[?25h  Getting requirements to build wheel ... \u001b[?25ldone\n",
      "\u001b[?25h    Preparing wheel metadata ... \u001b[?25lerror\n",
      "\u001b[31m    ERROR: Command errored out with exit status 1:\n",
      "     command: /Users/mpanin/.pyenv/versions/3.10.1/bin/python /Users/mpanin/.pyenv/versions/3.10.1/lib/python3.10/site-packages/pip/_vendor/pep517/in_process/_in_process.py prepare_metadata_for_build_wheel /var/folders/hh/68jgbx_d0vg2b9jswqz9rntr0000gp/T/tmpu1k90x90\n",
      "         cwd: /private/var/folders/hh/68jgbx_d0vg2b9jswqz9rntr0000gp/T/pip-install-__8gnqtg/scipy_e647e10f4e9e4d72a231a3c4abdcb5bf\n",
      "    Complete output (104 lines):\n",
      "    setup.py:461: UserWarning: Unrecognized setuptools command ('dist_info --egg-base /private/var/folders/hh/68jgbx_d0vg2b9jswqz9rntr0000gp/T/pip-modern-metadata-shmgtctn'), proceeding with generating Cython sources and expanding templates\n",
      "      warnings.warn(\"Unrecognized setuptools command ('{}'), proceeding with \"\n",
      "    Running from SciPy source directory.\n",
      "    INFO: lapack_opt_info:\n",
      "    INFO: lapack_armpl_info:\n",
      "    INFO: customize UnixCCompiler\n",
      "    INFO:   libraries armpl_lp64_mp not found in ['/Users/mpanin/.pyenv/versions/3.10.1/lib', '/usr/local/lib', '/usr/lib']\n",
      "    INFO:   NOT AVAILABLE\n",
      "    INFO:\n",
      "    INFO: lapack_mkl_info:\n",
      "    INFO:   libraries mkl_rt not found in ['/Users/mpanin/.pyenv/versions/3.10.1/lib', '/usr/local/lib', '/usr/lib']\n",
      "    INFO:   NOT AVAILABLE\n",
      "    INFO:\n",
      "    INFO: openblas_lapack_info:\n",
      "    INFO:   libraries openblas not found in ['/Users/mpanin/.pyenv/versions/3.10.1/lib', '/usr/local/lib', '/usr/lib']\n",
      "    INFO:   NOT AVAILABLE\n",
      "    INFO:\n",
      "    INFO: openblas_clapack_info:\n",
      "    INFO:   libraries openblas,lapack not found in ['/Users/mpanin/.pyenv/versions/3.10.1/lib', '/usr/local/lib', '/usr/lib']\n",
      "    INFO:   NOT AVAILABLE\n",
      "    INFO:\n",
      "    INFO: flame_info:\n",
      "    INFO:   libraries flame not found in ['/Users/mpanin/.pyenv/versions/3.10.1/lib', '/usr/local/lib', '/usr/lib']\n",
      "    INFO:   NOT AVAILABLE\n",
      "    INFO:\n",
      "    INFO: accelerate_info:\n",
      "    INFO:   NOT AVAILABLE\n",
      "    INFO:\n",
      "    INFO: atlas_3_10_threads_info:\n",
      "    INFO: Setting PTATLAS=ATLAS\n",
      "    INFO:   libraries tatlas,tatlas not found in /Users/mpanin/.pyenv/versions/3.10.1/lib\n",
      "    INFO:   libraries tatlas,tatlas not found in /usr/local/lib\n",
      "    INFO:   libraries tatlas,tatlas not found in /usr/lib\n",
      "    INFO: <class 'numpy.distutils.system_info.atlas_3_10_threads_info'>\n",
      "    INFO:   NOT AVAILABLE\n",
      "    INFO:\n",
      "    INFO: atlas_3_10_info:\n",
      "    INFO:   libraries satlas,satlas not found in /Users/mpanin/.pyenv/versions/3.10.1/lib\n",
      "    INFO:   libraries satlas,satlas not found in /usr/local/lib\n",
      "    INFO:   libraries satlas,satlas not found in /usr/lib\n",
      "    INFO: <class 'numpy.distutils.system_info.atlas_3_10_info'>\n",
      "    INFO:   NOT AVAILABLE\n",
      "    INFO:\n",
      "    INFO: atlas_threads_info:\n",
      "    INFO: Setting PTATLAS=ATLAS\n",
      "    INFO:   libraries ptf77blas,ptcblas,atlas not found in /Users/mpanin/.pyenv/versions/3.10.1/lib\n",
      "    INFO:   libraries ptf77blas,ptcblas,atlas not found in /usr/local/lib\n",
      "    INFO:   libraries ptf77blas,ptcblas,atlas not found in /usr/lib\n",
      "    INFO: <class 'numpy.distutils.system_info.atlas_threads_info'>\n",
      "    INFO:   NOT AVAILABLE\n",
      "    INFO:\n",
      "    INFO: atlas_info:\n",
      "    INFO:   libraries f77blas,cblas,atlas not found in /Users/mpanin/.pyenv/versions/3.10.1/lib\n",
      "    INFO:   libraries f77blas,cblas,atlas not found in /usr/local/lib\n",
      "    INFO:   libraries f77blas,cblas,atlas not found in /usr/lib\n",
      "    INFO: <class 'numpy.distutils.system_info.atlas_info'>\n",
      "    INFO:   NOT AVAILABLE\n",
      "    INFO:\n",
      "    INFO: lapack_info:\n",
      "    INFO:   libraries lapack not found in ['/Users/mpanin/.pyenv/versions/3.10.1/lib', '/usr/local/lib', '/usr/lib']\n",
      "    INFO:   NOT AVAILABLE\n",
      "    INFO:\n",
      "    /private/var/folders/hh/68jgbx_d0vg2b9jswqz9rntr0000gp/T/pip-build-env-0p7j9hge/overlay/lib/python3.10/site-packages/numpy/distutils/system_info.py:1902: UserWarning:\n",
      "        Lapack (http://www.netlib.org/lapack/) libraries not found.\n",
      "        Directories to search for the libraries can be specified in the\n",
      "        numpy/distutils/site.cfg file (section [lapack]) or by setting\n",
      "        the LAPACK environment variable.\n",
      "      return getattr(self, '_calc_info_{}'.format(name))()\n",
      "    INFO: lapack_src_info:\n",
      "    INFO:   NOT AVAILABLE\n",
      "    INFO:\n",
      "    /private/var/folders/hh/68jgbx_d0vg2b9jswqz9rntr0000gp/T/pip-build-env-0p7j9hge/overlay/lib/python3.10/site-packages/numpy/distutils/system_info.py:1902: UserWarning:\n",
      "        Lapack (http://www.netlib.org/lapack/) sources not found.\n",
      "        Directories to search for the sources can be specified in the\n",
      "        numpy/distutils/site.cfg file (section [lapack_src]) or by setting\n",
      "        the LAPACK_SRC environment variable.\n",
      "      return getattr(self, '_calc_info_{}'.format(name))()\n",
      "    INFO:   NOT AVAILABLE\n",
      "    INFO:\n",
      "    Traceback (most recent call last):\n",
      "      File \"/Users/mpanin/.pyenv/versions/3.10.1/lib/python3.10/site-packages/pip/_vendor/pep517/in_process/_in_process.py\", line 349, in <module>\n",
      "        main()\n",
      "      File \"/Users/mpanin/.pyenv/versions/3.10.1/lib/python3.10/site-packages/pip/_vendor/pep517/in_process/_in_process.py\", line 331, in main\n",
      "        json_out['return_val'] = hook(**hook_input['kwargs'])\n",
      "      File \"/Users/mpanin/.pyenv/versions/3.10.1/lib/python3.10/site-packages/pip/_vendor/pep517/in_process/_in_process.py\", line 151, in prepare_metadata_for_build_wheel\n",
      "        return hook(metadata_directory, config_settings)\n",
      "      File \"/private/var/folders/hh/68jgbx_d0vg2b9jswqz9rntr0000gp/T/pip-build-env-0p7j9hge/overlay/lib/python3.10/site-packages/setuptools/build_meta.py\", line 161, in prepare_metadata_for_build_wheel\n",
      "        self.run_setup()\n",
      "      File \"/private/var/folders/hh/68jgbx_d0vg2b9jswqz9rntr0000gp/T/pip-build-env-0p7j9hge/overlay/lib/python3.10/site-packages/setuptools/build_meta.py\", line 253, in run_setup\n",
      "        super(_BuildMetaLegacyBackend,\n",
      "      File \"/private/var/folders/hh/68jgbx_d0vg2b9jswqz9rntr0000gp/T/pip-build-env-0p7j9hge/overlay/lib/python3.10/site-packages/setuptools/build_meta.py\", line 145, in run_setup\n",
      "        exec(compile(code, __file__, 'exec'), locals())\n",
      "      File \"setup.py\", line 588, in <module>\n",
      "        setup_package()\n",
      "      File \"setup.py\", line 584, in setup_package\n",
      "        setup(**metadata)\n",
      "      File \"/private/var/folders/hh/68jgbx_d0vg2b9jswqz9rntr0000gp/T/pip-build-env-0p7j9hge/overlay/lib/python3.10/site-packages/numpy/distutils/core.py\", line 135, in setup\n",
      "        config = configuration()\n",
      "      File \"setup.py\", line 499, in configuration\n",
      "        raise NotFoundError(msg)\n",
      "    numpy.distutils.system_info.NotFoundError: No BLAS/LAPACK libraries found. Note: Accelerate is no longer supported.\n",
      "    To build Scipy from sources, BLAS & LAPACK libraries need to be installed.\n",
      "    See site.cfg.example in the Scipy source directory and\n",
      "    https://docs.scipy.org/doc/scipy/reference/building/index.html for details.\n",
      "    ----------------------------------------\u001b[0m\n",
      "\u001b[?25h\u001b[33mWARNING: Discarding https://files.pythonhosted.org/packages/16/48/ff7026d26dfd92520f00b109333e22c05a235f0c9115a5a2d7679cdf39ef/scipy-1.6.0.tar.gz#sha256=cb6dc9f82dfd95f6b9032a8d7ea70efeeb15d5b5fd6ed4e8537bb3c673580566 (from https://pypi.org/simple/scipy/) (requires-python:>=3.7). Command errored out with exit status 1: /Users/mpanin/.pyenv/versions/3.10.1/bin/python /Users/mpanin/.pyenv/versions/3.10.1/lib/python3.10/site-packages/pip/_vendor/pep517/in_process/_in_process.py prepare_metadata_for_build_wheel /var/folders/hh/68jgbx_d0vg2b9jswqz9rntr0000gp/T/tmpu1k90x90 Check the logs for full command output.\u001b[0m\n",
      "  Downloading scipy-1.5.4.tar.gz (25.2 MB)\n",
      "\u001b[K     |████████████████████████████████| 25.2 MB 1.1 MB/s eta 0:00:01    |███▉                            | 3.1 MB 3.9 MB/s eta 0:00:06\n",
      "\u001b[?25h  Installing build dependencies ... \u001b[?25l|"
     ]
    }
   ],
   "source": [
    "%pip install cache_magic matplotlib pandas numpy scipy"
   ]
  },
  {
   "cell_type": "code",
   "execution_count": 18,
   "id": "ccd73b07",
   "metadata": {},
   "outputs": [],
   "source": [
    "import cache_magic"
   ]
  },
  {
   "cell_type": "code",
   "execution_count": 34,
   "id": "considerable-maryland",
   "metadata": {},
   "outputs": [
    {
     "name": "stdout",
     "output_type": "stream",
     "text": [
      "Loading cached value for variable 'S_h'. Time since caching: 1 day, 16:54:43.660739\n",
      "Loading cached value for variable 'H_h'. Time since caching: 1 day, 16:52:02.698213\n",
      "Loading cached value for variable 'T_b'. Time since caching: 1 day, 16:52:02.690598\n",
      "Loading cached value for variable 'S_b'. Time since caching: 1 day, 16:52:02.384331\n",
      "Loading cached value for variable 'H_b'. Time since caching: 1 day, 16:52:02.372536\n",
      "Loading cached value for variable 'S_c'. Time since caching: 1 day, 16:52:02.340449\n",
      "Loading cached value for variable 'H_c'. Time since caching: 1 day, 16:52:02.316737\n",
      "Loading cached value for variable 'T_d'. Time since caching: 1 day, 16:52:02.298981\n",
      "Loading cached value for variable 'H_d'. Time since caching: 1 day, 16:52:02.277249\n",
      "Loading cached value for variable 'x_d'. Time since caching: 1 day, 16:52:02.269485\n",
      "Loading cached value for variable 'S_f'. Time since caching: 1 day, 16:52:02.257014\n",
      "Loading cached value for variable 'H_f'. Time since caching: 1 day, 16:52:02.249276\n",
      "Loading cached value for variable 'T_k'. Time since caching: 1 day, 16:52:02.207520\n",
      "Loading cached value for variable 'H_k'. Time since caching: 1 day, 16:52:02.200721\n",
      "Loading cached value for variable 'S_e'. Time since caching: 1 day, 16:52:02.161179\n",
      "Loading cached value for variable 'H_e'. Time since caching: 1 day, 16:52:02.153324\n",
      "Loading cached value for variable 'S_k1'. Time since caching: 1 day, 16:52:02.131469\n",
      "Loading cached value for variable 'H_k1'. Time since caching: 1 day, 16:52:02.121697\n",
      "Loading cached value for variable 'S_a'. Time since caching: 1 day, 16:52:02.111189\n",
      "Loading cached value for variable 'H_a'. Time since caching: 1 day, 16:52:02.080849\n",
      "Loading cached value for variable 'S_g'. Time since caching: 1 day, 16:52:02.044040\n",
      "Loading cached value for variable 'H_g'. Time since caching: 1 day, 16:52:02.020669\n"
     ]
    },
    {
     "data": {
      "text/html": [
       "<table>\n",
       "<thead>\n",
       "<tr><th>Точка  </th><th style=\"text-align: right;\">       P</th><th style=\"text-align: right;\">       T</th><th style=\"text-align: right;\">       S</th><th style=\"text-align: right;\">       H</th></tr>\n",
       "</thead>\n",
       "<tbody>\n",
       "<tr><td>h      </td><td style=\"text-align: right;\">5.9     </td><td style=\"text-align: right;\">220     </td><td style=\"text-align: right;\">2516.43 </td><td style=\"text-align: right;\"> 942.948</td></tr>\n",
       "<tr><td>b      </td><td style=\"text-align: right;\">5.9     </td><td style=\"text-align: right;\">274.642 </td><td style=\"text-align: right;\">3017.38 </td><td style=\"text-align: right;\">1208.09 </td></tr>\n",
       "<tr><td>c      </td><td style=\"text-align: right;\">5.9     </td><td style=\"text-align: right;\">274.642 </td><td style=\"text-align: right;\">5898.01 </td><td style=\"text-align: right;\">2785.64 </td></tr>\n",
       "<tr><td>d      </td><td style=\"text-align: right;\">0.980665</td><td style=\"text-align: right;\">179.189 </td><td style=\"text-align: right;\">5898.01 </td><td style=\"text-align: right;\">2462.69 </td></tr>\n",
       "<tr><td>e      </td><td style=\"text-align: right;\">0.980665</td><td style=\"text-align: right;\">179.189 </td><td style=\"text-align: right;\">6591.71 </td><td style=\"text-align: right;\">2776.38 </td></tr>\n",
       "<tr><td>f      </td><td style=\"text-align: right;\">0.980665</td><td style=\"text-align: right;\">250     </td><td style=\"text-align: right;\">6936.05 </td><td style=\"text-align: right;\">2943.61 </td></tr>\n",
       "<tr><td>k      </td><td style=\"text-align: right;\">0.004381</td><td style=\"text-align: right;\"> 28.6935</td><td style=\"text-align: right;\">6936.05 </td><td style=\"text-align: right;\">2099.52 </td></tr>\n",
       "<tr><td>k`     </td><td style=\"text-align: right;\">0.004381</td><td style=\"text-align: right;\"> 28.6935</td><td style=\"text-align: right;\"> 416.66 </td><td style=\"text-align: right;\"> 119.656</td></tr>\n",
       "<tr><td>a      </td><td style=\"text-align: right;\">5.9     </td><td style=\"text-align: right;\"> 28.6935</td><td style=\"text-align: right;\"> 414.931</td><td style=\"text-align: right;\"> 125.046</td></tr>\n",
       "<tr><td>g      </td><td style=\"text-align: right;\">0.980665</td><td style=\"text-align: right;\">179.189 </td><td style=\"text-align: right;\">2130.22 </td><td style=\"text-align: right;\"> 758.945</td></tr>\n",
       "</tbody>\n",
       "</table>"
      ],
      "text/plain": [
       "'<table>\\n<thead>\\n<tr><th>Точка  </th><th style=\"text-align: right;\">       P</th><th style=\"text-align: right;\">       T</th><th style=\"text-align: right;\">       S</th><th style=\"text-align: right;\">       H</th></tr>\\n</thead>\\n<tbody>\\n<tr><td>h      </td><td style=\"text-align: right;\">5.9     </td><td style=\"text-align: right;\">220     </td><td style=\"text-align: right;\">2516.43 </td><td style=\"text-align: right;\"> 942.948</td></tr>\\n<tr><td>b      </td><td style=\"text-align: right;\">5.9     </td><td style=\"text-align: right;\">274.642 </td><td style=\"text-align: right;\">3017.38 </td><td style=\"text-align: right;\">1208.09 </td></tr>\\n<tr><td>c      </td><td style=\"text-align: right;\">5.9     </td><td style=\"text-align: right;\">274.642 </td><td style=\"text-align: right;\">5898.01 </td><td style=\"text-align: right;\">2785.64 </td></tr>\\n<tr><td>d      </td><td style=\"text-align: right;\">0.980665</td><td style=\"text-align: right;\">179.189 </td><td style=\"text-align: right;\">5898.01 </td><td style=\"text-align: right;\">2462.69 </td></tr>\\n<tr><td>e      </td><td style=\"text-align: right;\">0.980665</td><td style=\"text-align: right;\">179.189 </td><td style=\"text-align: right;\">6591.71 </td><td style=\"text-align: right;\">2776.38 </td></tr>\\n<tr><td>f      </td><td style=\"text-align: right;\">0.980665</td><td style=\"text-align: right;\">250     </td><td style=\"text-align: right;\">6936.05 </td><td style=\"text-align: right;\">2943.61 </td></tr>\\n<tr><td>k      </td><td style=\"text-align: right;\">0.004381</td><td style=\"text-align: right;\"> 28.6935</td><td style=\"text-align: right;\">6936.05 </td><td style=\"text-align: right;\">2099.52 </td></tr>\\n<tr><td>k`     </td><td style=\"text-align: right;\">0.004381</td><td style=\"text-align: right;\"> 28.6935</td><td style=\"text-align: right;\"> 416.66 </td><td style=\"text-align: right;\"> 119.656</td></tr>\\n<tr><td>a      </td><td style=\"text-align: right;\">5.9     </td><td style=\"text-align: right;\"> 28.6935</td><td style=\"text-align: right;\"> 414.931</td><td style=\"text-align: right;\"> 125.046</td></tr>\\n<tr><td>g      </td><td style=\"text-align: right;\">0.980665</td><td style=\"text-align: right;\">179.189 </td><td style=\"text-align: right;\">2130.22 </td><td style=\"text-align: right;\"> 758.945</td></tr>\\n</tbody>\\n</table>'"
      ]
     },
     "metadata": {},
     "output_type": "display_data"
    },
    {
     "data": {
      "text/latex": [
       "$\\displaystyle x_d = 8.445 \\cdot 10^{ -01 }$"
      ],
      "text/plain": [
       "<IPython.core.display.Math object>"
      ]
     },
     "execution_count": 34,
     "metadata": {},
     "output_type": "execute_result"
    }
   ],
   "source": [
    "import test as wsp\n",
    "import matplotlib.pyplot as pl\n",
    "import numpy as np\n",
    "from coursache import tex_exp, print_latex\n",
    "\n",
    "# P_f = 1088538.1638538  # 11.1 кгс/см² https://fis.bobrodobro.ru/8395\n",
    "P_f = 980665.01248092  # 10 кгс/см² из https://ru.wikipedia.org/wiki/%D0%9A-1000-60/1500\n",
    "\n",
    "# h\n",
    "T_h = 220 + 273\n",
    "# P_h = wsp.wspPST(T_h)\n",
    "P_h = 5.9 * 10 ** 6\n",
    "%cache S_h = wsp.wspSSWT(T_h)\n",
    "%cache H_h = wsp.wspHSWT(T_h)\n",
    "\n",
    "# b\n",
    "P_b = P_h\n",
    "%cache T_b = wsp.wspTSP(P_b)\n",
    "%cache S_b = wsp.wspSSWT(T_b)\n",
    "%cache H_b = wsp.wspHSWT(T_b)\n",
    "\n",
    "# c\n",
    "P_c = P_b\n",
    "T_c = T_b\n",
    "%cache S_c = wsp.wspSSST(T_c)\n",
    "%cache H_c = wsp.wspHSST(T_c)\n",
    "\n",
    "# d\n",
    "P_d = P_f\n",
    "%cache T_d = wsp.wspTSP(P_d)\n",
    "S_d = S_c\n",
    "%cache H_d = wsp.wspHPS(P_d, S_d)\n",
    "%cache x_d = wsp.wspXPS(P_d, S_d)\n",
    "\n",
    "# f\n",
    "T_f = 250 + 273\n",
    "%cache S_f = wsp.wspSPT(P_f, T_f)\n",
    "%cache H_f = wsp.wspHPT(P_f, T_f)\n",
    "\n",
    "# k\n",
    "P_k = 4381 # 5883.9900748855 # конденсаторах типа К-22550. из https://leg.co.ua/arhiv/generaciya/ekspluatacionnye-rezhimy-vodo-vodyanyh-energeticheskih-reaktorov-33.html старое значение\n",
    "x_k = x_d\n",
    "%cache T_k = wsp.wspTSP(P_k) - 2\n",
    "S_k = S_f\n",
    "%cache H_k = wsp.wspHPS(P_k, S_k)\n",
    "\n",
    "\n",
    "# e\n",
    "T_e = T_d\n",
    "P_e = P_d\n",
    "%cache S_e = wsp.wspSSST(T_e)\n",
    "%cache H_e = wsp.wspHSST(T_e)\n",
    "\n",
    "\n",
    "# k'\n",
    "P_k1 = P_k\n",
    "T_k1 = T_k\n",
    "%cache S_k1 = wsp.wspSSWT(T_k1)\n",
    "%cache H_k1 = wsp.wspHSWT(T_k1)\n",
    "\n",
    "# a\n",
    "P_a = P_b\n",
    "T_a = T_k\n",
    "%cache S_a = wsp.wspSPT(P_a, T_a)\n",
    "%cache H_a = wsp.wspHPS(P_a, S_a)\n",
    "\n",
    "# g\n",
    "T_g = T_d\n",
    "P_g = P_d\n",
    "%cache S_g = wsp.wspSSWT(T_g)\n",
    "%cache H_g = wsp.wspHSWT(T_g)\n",
    "\n",
    "n = 7\n",
    "Q_el = 1000 * 10 ** 6 # Вт\n",
    "\n",
    "import tabulate\n",
    "from IPython.display import Latex, Math\n",
    "display(tabulate.tabulate(\n",
    "    {\"Точка\": ['h', 'b', 'c', 'd', 'e', 'f', 'k', 'k`', 'a', 'g'],\n",
    "     \"P\":     np.array([P_h, P_b, P_c, P_d, P_e, P_f, P_k, P_k1, P_a, P_g]) * 10 ** -6,\n",
    "     \"T\":     np.array([T_h, T_b, T_c, T_d, T_e, T_f, T_k, T_k1, T_a, T_g]) - 273,\n",
    "     \"S\":     np.array([S_h, S_b, S_c, S_d, S_e, S_f, S_k, S_k1, S_a, S_g]),\n",
    "     \"H\":     np.array([H_h, H_b, H_c, H_d, H_e, H_f, H_k, H_k1, H_a, H_g]) * 10 ** -3},\n",
    "    tablefmt=\"html\", headers=\"keys\"))\n",
    "Math(f\"x_d = {tex_exp(x_d)}\")"
   ]
  },
  {
   "cell_type": "code",
   "execution_count": 3,
   "id": "6eb454f7",
   "metadata": {},
   "outputs": [
    {
     "ename": "NameError",
     "evalue": "name 'iS_h' is not defined",
     "output_type": "error",
     "traceback": [
      "\u001b[0;31m---------------------------------------------------------------------------\u001b[0m",
      "\u001b[0;31mNameError\u001b[0m                                 Traceback (most recent call last)",
      "Input \u001b[0;32mIn [3]\u001b[0m, in \u001b[0;36m<cell line: 1>\u001b[0;34m()\u001b[0m\n\u001b[0;32m----> 1\u001b[0m \u001b[43miS_h\u001b[49m\n",
      "\u001b[0;31mNameError\u001b[0m: name 'iS_h' is not defined"
     ]
    }
   ],
   "source": [
    "iS_h"
   ]
  },
  {
   "cell_type": "code",
   "execution_count": null,
   "id": "ff54e262",
   "metadata": {},
   "outputs": [],
   "source": [
    "wsp.wspTSP(P_k) - 2 - 273"
   ]
  },
  {
   "cell_type": "code",
   "execution_count": 48,
   "id": "1540d907",
   "metadata": {},
   "outputs": [
    {
     "data": {
      "text/latex": [
       "\n",
       "\\begin{table}[H]\n",
       "\t\\caption{Значения параметров TS-диаграммы}\n",
       "\t\\begin{center}\n",
       "        \\begin{tabular}{|c|c|c|c|c|}\n",
       "        \\toprule\n",
       "         Точка & P, МПа & T, $^\\circ C$ & S, Дж/(кг $\\cdot$ К) & h, кДж/кг \\\\ \n",
       "         \\midrule\n",
       "         \\hline\n",
       "          h & 5.9 & 220 &  2516.43 & 942948.38\\\\ \n",
       "         \\hline\n",
       "          b & 5.9 & 274.6 & 3017.38 & 1208086.425777297 \\\\ \n",
       "         \\hline\n",
       "          c & 5900000.0 & 547.6419371623789 & 5898.010124779337 & 2785640.9517910588\\\\ \n",
       "         \\hline\n",
       "          d & 980665.01248092 & 452.18894894827514 & 5898.010124779337 & 2462691.027754456 \\\\ \n",
       "         \\hline\n",
       "          e & 980665.01248092 & 452.18894894827514 & 6591.71423424383 & 2776375.157348476 \\\\ \n",
       "         \\hline\n",
       "          f & 980665.01248092 & 523  & 6936.050132848158 & 2776375.157348476 \\\\ \n",
       "         \\hline\n",
       "          k & 4381 & 301.6935486956528 & 6936.050132848158 & 2099520.7991838795 \\\\ \n",
       "         \\hline\n",
       "          k′ & 4381 & 301.6935486956528 & 416.6598382620722 & 119656.1416098983 \\\\ \n",
       "         \\hline\n",
       "          a & 5900000.0 & 301.6935486956528 & 414.93061767019805 & 125046.21893567855 \\\\ \n",
       "         \\hline\n",
       "          g & 980665.01248092 & 452.18894894827514 &  2130.220448020585 & 758944.7054791402 \\\\ \n",
       "         \\bottomrule\n",
       "\t\t\\end{tabular}\n",
       "\t\t\\label{tabular:coeffs}\n",
       "\t\\end{center}\n",
       "\\end{table}\n"
      ],
      "text/plain": [
       "<IPython.core.display.Latex object>"
      ]
     },
     "execution_count": 48,
     "metadata": {},
     "output_type": "execute_result"
    }
   ],
   "source": [
    "tex_table = fr\"\"\"\n",
    "\\begin{{table}}[H]\n",
    "\t\\caption{{Значения параметров TS-диаграммы}}\n",
    "\t\\begin{{center}}\n",
    "        \\begin{{tabular}}{{|c|c|c|c|c|}}\n",
    "        \\toprule\n",
    "         Точка & P, МПа & T, $^\\circ C$ & S, Дж/(кг $\\cdot$ К) & h, кДж/кг \\\\ \n",
    "         \\midrule\n",
    "         \\hline\n",
    "          h & {P_h * 10 ** (-6):.01f} & {T_h -273} &  {S_h:.02f} & {H_h:.02f}\\\\ \n",
    "         \\hline\n",
    "          b & {P_b * 10 ** (-6):.01f} & {T_b - 273:.01f} & {S_b:.02f} & {H_b} \\\\ \n",
    "         \\hline\n",
    "          c & {P_c} & {T_c} & {S_c} & {H_c}\\\\ \n",
    "         \\hline\n",
    "          d & {P_d} & {T_d} & {S_d} & {H_d} \\\\ \n",
    "         \\hline\n",
    "          e & {P_e} & {T_e} & {S_e} & {H_e} \\\\ \n",
    "         \\hline\n",
    "          f & {P_f} & {T_f}  & {S_f} & {H_e} \\\\ \n",
    "         \\hline\n",
    "          k & {P_k} & {T_k} & {S_k} & {H_k} \\\\ \n",
    "         \\hline\n",
    "          k′ & {P_k1} & {T_k1} & {S_k1} & {H_k1} \\\\ \n",
    "         \\hline\n",
    "          a & {P_a} & {T_a} & {S_a} & {H_a} \\\\ \n",
    "         \\hline\n",
    "          g & {P_g} & {T_g} &  {S_g} & {H_g} \\\\ \n",
    "         \\bottomrule\n",
    "\t\t\\end{{tabular}}\n",
    "\t\t\\label{{tabular:coeffs}}\n",
    "\t\\end{{center}}\n",
    "\\end{{table}}\n",
    "\"\"\"\n",
    "Latex(tex_table)"
   ]
  },
  {
   "cell_type": "code",
   "execution_count": 47,
   "id": "a558eaa5",
   "metadata": {},
   "outputs": [
    {
     "name": "stdout",
     "output_type": "stream",
     "text": [
      "\\begin{align} \\eta_{t0}=&\n",
      "1 - \n",
      "\\frac{T_{k} ⋅ \\left( s_{f} - s_{a} \\right) ⋅ x_{d}}\n",
      "{\\left( h_{c} - h_{g} \\right) +x_{d}\\left( \\left( h_{g} - h_{a} \\right) + \\left( h_{f} - h_{e} \\right) \\right)}\n",
      "=\\\\=&\n",
      "1 - \n",
      "\\frac{3.017 \\cdot 10^{ 2 } ⋅ \\left( 6.936 \\cdot 10^{ 3 } - 4.149 \\cdot 10^{ 2 } \\right) ⋅ 8.445 \\cdot 10^{ -01 }}\n",
      "{\\left( 2.786 \\cdot 10^{ 6 } - 7.589 \\cdot 10^{ 5 } \\right) + 8.445 \\cdot 10^{ -01 } \\left( \\left( 7.589 \\cdot 10^{ 5 } - 1.250 \\cdot 10^{ 5 } \\right) + \\left( 2.944 \\cdot 10^{ 6 } - 2.776 \\cdot 10^{ 6 } \\right) \\right)}\n",
      "=\\\\=&3.854 \\cdot 10^{ -01 }\\end{align}\n"
     ]
    },
    {
     "data": {
      "text/latex": [
       "$\\displaystyle \\begin{align} \\eta_{t0}=&\n",
       "1 - \n",
       "\\frac{T_{k} ⋅ \\left( s_{f} - s_{a} \\right) ⋅ x_{d}}\n",
       "{\\left( h_{c} - h_{g} \\right) +x_{d}\\left( \\left( h_{g} - h_{a} \\right) + \\left( h_{f} - h_{e} \\right) \\right)}\n",
       "=\\\\=&\n",
       "1 - \n",
       "\\frac{3.017 \\cdot 10^{ 2 } ⋅ \\left( 6.936 \\cdot 10^{ 3 } - 4.149 \\cdot 10^{ 2 } \\right) ⋅ 8.445 \\cdot 10^{ -01 }}\n",
       "{\\left( 2.786 \\cdot 10^{ 6 } - 7.589 \\cdot 10^{ 5 } \\right) + 8.445 \\cdot 10^{ -01 } \\left( \\left( 7.589 \\cdot 10^{ 5 } - 1.250 \\cdot 10^{ 5 } \\right) + \\left( 2.944 \\cdot 10^{ 6 } - 2.776 \\cdot 10^{ 6 } \\right) \\right)}\n",
       "=\\\\=&3.854 \\cdot 10^{ -01 }\\end{align}$"
      ],
      "text/plain": [
       "<IPython.core.display.Math object>"
      ]
     },
     "metadata": {},
     "output_type": "display_data"
    }
   ],
   "source": [
    "eta_t0 = 1 - ((T_k * (S_f - S_a) * x_d) / \n",
    "          # -------------------------------------------------\n",
    "            ((H_c - H_g) + x_d * ((H_g - H_a) + (H_f - H_e))))\n",
    "\n",
    "eta_t0_formulas = r\"\"\"\n",
    "1 - \n",
    "\\frac{T_{k} ⋅ \\left( s_{f} - s_{a} \\right) ⋅ x_{d}}\n",
    "{\\left( h_{c} - h_{g} \\right) +x_{d}\\left( \\left( h_{g} - h_{a} \\right) + \\left( h_{f} - h_{e} \\right) \\right)}\n",
    "\"\"\"\n",
    "\n",
    "eta_t0_nums = fr\"\"\"\n",
    "1 - \n",
    "\\frac{{{tex_exp(T_k)} ⋅ \\left( {tex_exp(S_f)} - {tex_exp(S_a)} \\right) ⋅ {tex_exp(x_d)}}}\n",
    "{{\\left( {tex_exp(H_c)} - {tex_exp(H_g)} \\right) + {tex_exp(x_d)} \\left( \\left( {tex_exp(H_g)} - {tex_exp(H_a)} \\right) + \\left( {tex_exp(H_f)} - {tex_exp(H_e)} \\right) \\right)}}\n",
    "\"\"\"\n",
    "\n",
    "final_code = fr\"\\begin{{align}} \\eta_{{t0}}=&{eta_t0_formulas}=\\\\=&{eta_t0_nums}=\\\\=&{tex_exp(eta_t0)}\\end{{align}}\"\n",
    "\n",
    "print(final_code)\n",
    "display(Math(final_code))\n"
   ]
  },
  {
   "cell_type": "code",
   "execution_count": 46,
   "id": "bf3cc4cb",
   "metadata": {},
   "outputs": [
    {
     "name": "stdout",
     "output_type": "stream",
     "text": [
      "\\begin{align}η_{t∞}&=\n",
      "1 -\n",
      "\\frac{T_{k} ⋅ \\left( s_{f} - s_{g} \\right) \\left( s_{c} - s_{h} \\right)}\n",
      "{\\left(h_{c} - h_{h}\\right) ⋅ \\left( s_{e} - s_{g} \\right) + \\left( h_{f} - h_{e} \\right) ⋅ \\left( s_{c} - s_{h} \\right)}\n",
      "=\\\\&=\n",
      "1 -\n",
      "\\frac{3.017 \\cdot 10^{ 2 } ⋅ \\left( 6.936 \\cdot 10^{ 3 } - 2.130 \\cdot 10^{ 3 } \\right) \\left( 5.898 \\cdot 10^{ 3 } - 2.516 \\cdot 10^{ 3 } \\right)}\n",
      "{\\left(2.786 \\cdot 10^{ 6 }) - 9.429 \\cdot 10^{ 5 }\\right) ⋅ \\left( 6.592 \\cdot 10^{ 3 } - 2.130 \\cdot 10^{ 3 } \\right) + \\left( 2.944 \\cdot 10^{ 6 } - 2.776 \\cdot 10^{ 6 } \\right) ⋅ \\left( 5.898 \\cdot 10^{ 3 } - 2.516 \\cdot 10^{ 3 } \\right)}\n",
      "=\\\\&=4.420 \\cdot 10^{ -01 }\\end{align}\n"
     ]
    },
    {
     "data": {
      "text/latex": [
       "$\\displaystyle \\begin{align}η_{t∞}&=\n",
       "1 -\n",
       "\\frac{T_{k} ⋅ \\left( s_{f} - s_{g} \\right) \\left( s_{c} - s_{h} \\right)}\n",
       "{\\left(h_{c} - h_{h}\\right) ⋅ \\left( s_{e} - s_{g} \\right) + \\left( h_{f} - h_{e} \\right) ⋅ \\left( s_{c} - s_{h} \\right)}\n",
       "=\\\\&=\n",
       "1 -\n",
       "\\frac{3.017 \\cdot 10^{ 2 } ⋅ \\left( 6.936 \\cdot 10^{ 3 } - 2.130 \\cdot 10^{ 3 } \\right) \\left( 5.898 \\cdot 10^{ 3 } - 2.516 \\cdot 10^{ 3 } \\right)}\n",
       "{\\left(2.786 \\cdot 10^{ 6 }) - 9.429 \\cdot 10^{ 5 }\\right) ⋅ \\left( 6.592 \\cdot 10^{ 3 } - 2.130 \\cdot 10^{ 3 } \\right) + \\left( 2.944 \\cdot 10^{ 6 } - 2.776 \\cdot 10^{ 6 } \\right) ⋅ \\left( 5.898 \\cdot 10^{ 3 } - 2.516 \\cdot 10^{ 3 } \\right)}\n",
       "=\\\\&=4.420 \\cdot 10^{ -01 }\\end{align}$"
      ],
      "text/plain": [
       "<IPython.core.display.Math object>"
      ]
     },
     "execution_count": 46,
     "metadata": {},
     "output_type": "execute_result"
    }
   ],
   "source": [
    "eta_t_infty = 1 - ((T_k * (S_f - S_g) * (S_c - S_h)) /\n",
    "                # ------------------------------------------------------\n",
    "                 ((H_c - H_h) * (S_e - S_g) + (H_f - H_e) * (S_c - S_h)))\n",
    "\n",
    "eta_t_infty_formula = r\"\"\"\n",
    "1 -\n",
    "\\frac{T_{k} ⋅ \\left( s_{f} - s_{g} \\right) \\left( s_{c} - s_{h} \\right)}\n",
    "{\\left(h_{c} - h_{h}\\right) ⋅ \\left( s_{e} - s_{g} \\right) + \\left( h_{f} - h_{e} \\right) ⋅ \\left( s_{c} - s_{h} \\right)}\n",
    "\"\"\"\n",
    "\n",
    "eta_t_infty_nums = fr\"\"\"\n",
    "1 -\n",
    "\\frac{{{tex_exp(T_k)} ⋅ \\left( {tex_exp(S_f)} - {tex_exp(S_g)} \\right) \\left( {tex_exp(S_c)} - {tex_exp(S_h)} \\right)}}\n",
    "{{\\left({tex_exp(H_c)}) - {tex_exp(H_h)}\\right) ⋅ \\left( {tex_exp(S_e)} - {tex_exp(S_g)} \\right) + \\left( {tex_exp(H_f)} - {tex_exp(H_e)} \\right) ⋅ \\left( {tex_exp(S_c)} - {tex_exp(S_h)} \\right)}}\n",
    "\"\"\"\n",
    "\n",
    "final_code = fr\"\\begin{{align}}η_{{t∞}}&={eta_t_infty_formula}=\\\\&={eta_t_infty_nums}=\\\\&={tex_exp(eta_t_infty)}\\end{{align}}\"\n",
    "print(final_code)\n",
    "\n",
    "Math(final_code)"
   ]
  },
  {
   "cell_type": "code",
   "execution_count": 45,
   "id": "a2e96d70",
   "metadata": {},
   "outputs": [
    {
     "name": "stdout",
     "output_type": "stream",
     "text": [
      "\n",
      "η_{tn} = η_{t0} + \\left( η_{t∞} - η_{t0} \\right) ⋅ \\frac{n}{n+1}\n",
      "=\n",
      "3.854 \\cdot 10^{ -01 } + \\left( 4.420 \\cdot 10^{ -01 } - 3.854 \\cdot 10^{ -01 } \\right) \\cdot \\frac{7}{8}\n",
      "=4.349 \\cdot 10^{ -01 }\n"
     ]
    },
    {
     "data": {
      "text/latex": [
       "$\\displaystyle \n",
       "η_{tn} = η_{t0} + \\left( η_{t∞} - η_{t0} \\right) ⋅ \\frac{n}{n+1}\n",
       "=\n",
       "3.854 \\cdot 10^{ -01 } + \\left( 4.420 \\cdot 10^{ -01 } - 3.854 \\cdot 10^{ -01 } \\right) \\cdot \\frac{7}{8}\n",
       "=4.349 \\cdot 10^{ -01 }$"
      ],
      "text/plain": [
       "<IPython.core.display.Math object>"
      ]
     },
     "execution_count": 45,
     "metadata": {},
     "output_type": "execute_result"
    }
   ],
   "source": [
    "eta_tn = eta_t0 + (eta_t_infty - eta_t0) * n / (n + 1)\n",
    "\n",
    "eta_tn_formula = r\"\"\"\n",
    "η_{tn} = η_{t0} + \\left( η_{t∞} - η_{t0} \\right) ⋅ \\frac{n}{n+1}\n",
    "\"\"\"\n",
    "\n",
    "eta_tn_nums = fr\"\"\"\n",
    "{tex_exp(eta_t0)} + \\left( {tex_exp(eta_t_infty)} - {tex_exp(eta_t0)} \\right) \\cdot \\frac{{{n}}}{{{n + 1}}}\n",
    "\"\"\"\n",
    "\n",
    "final_code = fr\"{eta_tn_formula}={eta_tn_nums}={tex_exp(eta_tn)}\"\n",
    "print(final_code)\n",
    "\n",
    "Math(final_code)"
   ]
  },
  {
   "cell_type": "code",
   "execution_count": 49,
   "id": "e0117abc",
   "metadata": {},
   "outputs": [
    {
     "name": "stdout",
     "output_type": "stream",
     "text": [
      "\n",
      "\\eta_{\\text{брутто}} = \\eta^7 \\cdot \\eta^{\\text{вн}} \\cdot \\eta_{\\text{ос}} \\cdot \\eta_{\\text{эг}} \\cdot \\eta_{\\text{мех}} = 0.335\n",
      "=4.349 \\cdot 10^{ -01 } \\cdot 0.85 \\cdot 0.98 \\cdot 0.98 \\cdot 0.97=3.444 \\cdot 10^{ -01 }\n"
     ]
    },
    {
     "data": {
      "text/latex": [
       "$\\displaystyle \n",
       "\\eta_{\\text{брутто}} = \\eta^7 \\cdot \\eta^{\\text{вн}} \\cdot \\eta_{\\text{ос}} \\cdot \\eta_{\\text{эг}} \\cdot \\eta_{\\text{мех}} = 0.335\n",
       "=4.349 \\cdot 10^{ -01 } \\cdot 0.85 \\cdot 0.98 \\cdot 0.98 \\cdot 0.97=3.444 \\cdot 10^{ -01 }$"
      ],
      "text/plain": [
       "<IPython.core.display.Math object>"
      ]
     },
     "execution_count": 49,
     "metadata": {},
     "output_type": "execute_result"
    }
   ],
   "source": [
    "eta_brutto = eta_tn * 0.85 * 0.98 * 0.98 * 0.97\n",
    "\n",
    "eta_brutto_formula = r\"\"\"\n",
    "\\eta_{\\text{брутто}} = \\eta^7 \\cdot \\eta^{\\text{вн}} \\cdot \\eta_{\\text{ос}} \\cdot \\eta_{\\text{эг}} \\cdot \\eta_{\\text{мех}} = 0.335\n",
    "\"\"\"\n",
    "\n",
    "eta_brutto_nums = fr\"{tex_exp(eta_tn)} \\cdot 0.85 \\cdot 0.98 \\cdot 0.98 \\cdot 0.97\"\n",
    "final_code=fr\"{eta_brutto_formula}={eta_brutto_nums}={tex_exp(eta_brutto)}\"\n",
    "print(final_code)\n",
    "Math(final_code)"
   ]
  },
  {
   "cell_type": "code",
   "execution_count": 50,
   "id": "e199e3cf",
   "metadata": {},
   "outputs": [
    {
     "name": "stdout",
     "output_type": "stream",
     "text": [
      "Q_{\\text{теп}} = \\frac{Q_{\\text{эл}}}{\\eta_{\\text{брутто}}}=\\frac{ 1.000 \\cdot 10^{ 9 } } { 3.444 \\cdot 10^{ -01 } } = 2.904 \\cdot 10^{ 3 } \\text{МВт}\n"
     ]
    },
    {
     "data": {
      "text/latex": [
       "$\\displaystyle Q_{\\text{теп}} = \\frac{Q_{\\text{эл}}}{\\eta_{\\text{брутто}}}=\\frac{ 1.000 \\cdot 10^{ 9 } } { 3.444 \\cdot 10^{ -01 } } = 2.904 \\cdot 10^{ 3 } \\text{МВт}$"
      ],
      "text/plain": [
       "<IPython.core.display.Math object>"
      ]
     },
     "execution_count": 50,
     "metadata": {},
     "output_type": "execute_result"
    }
   ],
   "source": [
    "Q_tep = Q_el / eta_brutto\n",
    "\n",
    "final_code = fr\"Q_{{\\text{{теп}}}} = \\frac{{Q_{{\\text{{эл}}}}}}{{\\eta_{{\\text{{брутто}}}}}}=\\frac{{ {tex_exp(Q_el)} }} {{ {tex_exp(eta_brutto)} }} = {tex_exp(Q_tep * 10 ** -6)} \\text{{МВт}}\"\n",
    "Q_tep\n",
    "\n",
    "print(final_code)\n",
    "Math(final_code)"
   ]
  },
  {
   "cell_type": "code",
   "execution_count": 51,
   "id": "d8995511",
   "metadata": {
    "scrolled": false
   },
   "outputs": [
    {
     "data": {
      "image/png": "[encoded data removed]",
      "text/plain": [
       "<Figure size 432x288 with 1 Axes>"
      ]
     },
     "metadata": {
      "needs_background": "light"
     },
     "output_type": "display_data"
    }
   ],
   "source": [
    "pl.plot([S_h, S_b, S_c, S_d, S_e, S_f, S_k, S_k1, S_a, S_g, S_h],\n",
    "        np.array([T_h, T_b, T_c, T_d, T_e, T_f, T_k, T_k1, T_a, T_g, T_h]) - 273, '-o')\n",
    "pl.grid()\n",
    "pl.xlabel(r\"$S, Дж/ (кг \\cdot К)$\")\n",
    "pl.ylabel(r\"$T,^\\circ C$\")\n",
    "pl.savefig(\"TS_raw.svg\")"
   ]
  },
  {
   "cell_type": "markdown",
   "id": "34b218e4",
   "metadata": {},
   "source": [
    "## Расчет изменения теплового потока в наиболее нагруженном канале"
   ]
  },
  {
   "cell_type": "code",
   "execution_count": 52,
   "id": "c6734daa",
   "metadata": {},
   "outputs": [
    {
     "name": "stdout",
     "output_type": "stream",
     "text": [
      "\n",
      "q_{max} = \\frac {Q_{\\text{теп}}K_r K_z}{N_{\\text{ТВС}}N_{\\text{твэл}}H_{\\text{аз}}}  \n",
      "=\n",
      "\\frac \n",
      "{ 2.904 \\cdot 10^{ 9 } \\cdot 1.25 \\cdot 1.5  }\n",
      "{ 163 \\cdot 317 \\cdot 3.5 }\n",
      "=3.010 \\cdot 10^{ 2 } \\frac {\\text{Вт}} {\\text{см}}\n"
     ]
    },
    {
     "data": {
      "text/latex": [
       "$\\displaystyle \n",
       "q_{max} = \\frac {Q_{\\text{теп}}K_r K_z}{N_{\\text{ТВС}}N_{\\text{твэл}}H_{\\text{аз}}}  \n",
       "=\n",
       "\\frac \n",
       "{ 2.904 \\cdot 10^{ 9 } \\cdot 1.25 \\cdot 1.5  }\n",
       "{ 163 \\cdot 317 \\cdot 3.5 }\n",
       "=3.010 \\cdot 10^{ 2 } \\frac {\\text{Вт}} {\\text{см}}$"
      ],
      "text/plain": [
       "<IPython.core.display.Math object>"
      ]
     },
     "execution_count": 52,
     "metadata": {},
     "output_type": "execute_result"
    }
   ],
   "source": [
    "K_r = 1.25\n",
    "K_z = 1.5\n",
    "N_tvs = 163\n",
    "N_tvel = 317\n",
    "H_az = 3.5 \n",
    "q_max = Q_tep  * K_r * K_z / ( N_tvs * N_tvel * H_az )\n",
    "q_max * 10 ** 4\n",
    "\n",
    "q_max_formula = r\"\"\"\n",
    "q_{max} = \\frac {Q_{\\text{теп}}K_r K_z}{N_{\\text{ТВС}}N_{\\text{твэл}}H_{\\text{аз}}}  \n",
    "\"\"\"\n",
    "\n",
    "q_max_nums = fr\"\"\"\n",
    "\\frac \n",
    "{{ {tex_exp(Q_tep)} \\cdot {K_r} \\cdot {K_z}  }}\n",
    "{{ {N_tvs} \\cdot {N_tvel} \\cdot {H_az} }}\n",
    "\"\"\"\n",
    "\n",
    "final_code = fr\"{q_max_formula}={q_max_nums}={tex_exp(q_max / 100) } \\frac {{\\text{{Вт}}}} {{\\text{{см}}}}\"\n",
    "print(final_code)\n",
    "Math(final_code)"
   ]
  },
  {
   "cell_type": "markdown",
   "id": "99a55c8a",
   "metadata": {},
   "source": [
    "## Распределение температуры теплоносителя по высоте "
   ]
  },
  {
   "cell_type": "code",
   "execution_count": 53,
   "id": "1059b072",
   "metadata": {},
   "outputs": [
    {
     "name": "stdout",
     "output_type": "stream",
     "text": [
      "Loading cached value for variable 'H_vh'. Time since caching: 1 day, 16:36:39.893032\n",
      "Loading cached value for variable 'H_vih'. Time since caching: 1 day, 16:36:39.558794\n",
      "\n",
      "G_{\\text{ТВС}} = \\frac {Q_{\\text{теп}}} {(h_{\\text{вых}} - h_{\\text{вх}})N_{\\text{ТВС}}}\n",
      "=\n",
      "\\frac { 2.904 \\cdot 10^{ 9 } } { ( 1.452 \\cdot 10^{ 6 } - 1.268 \\cdot 10^{ 6 }) \\cdot 163 } = 9.685 \\cdot 10^{ 1 } \\ \\frac {\\text{кг}}{\\text{c}}\n",
      "\n"
     ]
    },
    {
     "data": {
      "text/latex": [
       "$\\displaystyle \n",
       "G_{\\text{ТВС}} = \\frac {Q_{\\text{теп}}} {(h_{\\text{вых}} - h_{\\text{вх}})N_{\\text{ТВС}}}\n",
       "=\n",
       "\\frac { 2.904 \\cdot 10^{ 9 } } { ( 1.452 \\cdot 10^{ 6 } - 1.268 \\cdot 10^{ 6 }) \\cdot 163 } = 9.685 \\cdot 10^{ 1 } \\ \\frac {\\text{кг}}{\\text{c}}\n",
       "$"
      ],
      "text/plain": [
       "<IPython.core.display.Math object>"
      ]
     },
     "execution_count": 53,
     "metadata": {},
     "output_type": "execute_result"
    }
   ],
   "source": [
    "P_az = 15.7 * 10 ** 6\n",
    "T_az_vh = 287 + 273\n",
    "T_az_vih = 320 + 273\n",
    "%cache H_vh = wsp.wspHPT(P_az, T_az_vh)\n",
    "%cache H_vih = wsp.wspHPT(P_az, T_az_vih)\n",
    "\n",
    "\n",
    "G_tvs = (\n",
    "            Q_tep           /\n",
    "  # --------------------------\n",
    "    ( (H_vih - H_vh) * N_tvs )\n",
    ")\n",
    "\n",
    "G_tvs_formula = r\"\"\"\n",
    "G_{\\text{ТВС}} = \\frac {Q_{\\text{теп}}} {(h_{\\text{вых}} - h_{\\text{вх}})N_{\\text{ТВС}}}\n",
    "\"\"\"\n",
    "\n",
    "G_tvs_nums = fr\"\"\"\n",
    "\\frac {{ {tex_exp(Q_tep)} }} {{ ( { tex_exp(H_vih) } - { tex_exp(H_vh) }) \\cdot {N_tvs} }} = {tex_exp(G_tvs)} \\ \\frac {{\\text{{кг}}}}{{\\text{{c}}}}\n",
    "\"\"\"\n",
    "\n",
    "final_code = f\"{G_tvs_formula}={G_tvs_nums}\"\n",
    "\n",
    "print(final_code)\n",
    "Math(final_code)\n"
   ]
  },
  {
   "cell_type": "code",
   "execution_count": 54,
   "id": "f02d47ec",
   "metadata": {
    "scrolled": true
   },
   "outputs": [
    {
     "name": "stdout",
     "output_type": "stream",
     "text": [
      "\n",
      "G_{\\text{реак}} = \\frac {Q_{\\text{теп}}} {(h_{\\text{вых}} - h_{\\text{вх}})}\n",
      "=\n",
      "\\frac { 2.904 \\cdot 10^{ 9 } } { ( 1.452 \\cdot 10^{ 6 } - 1.268 \\cdot 10^{ 6 }) } = 1.579 \\cdot 10^{ 4 } \\ \\frac {\\text{кг}}{\\text{c}}\n",
      "\n"
     ]
    },
    {
     "data": {
      "text/latex": [
       "$\\displaystyle \n",
       "G_{\\text{реак}} = \\frac {Q_{\\text{теп}}} {(h_{\\text{вых}} - h_{\\text{вх}})}\n",
       "=\n",
       "\\frac { 2.904 \\cdot 10^{ 9 } } { ( 1.452 \\cdot 10^{ 6 } - 1.268 \\cdot 10^{ 6 }) } = 1.579 \\cdot 10^{ 4 } \\ \\frac {\\text{кг}}{\\text{c}}\n",
       "$"
      ],
      "text/plain": [
       "<IPython.core.display.Math object>"
      ]
     },
     "execution_count": 54,
     "metadata": {},
     "output_type": "execute_result"
    }
   ],
   "source": [
    "G_reak = (\n",
    "            Q_tep           /\n",
    "  # --------------------------\n",
    "    ( (H_vih - H_vh) )\n",
    ")\n",
    "\n",
    "G_reak_formula = r\"\"\"\n",
    "G_{\\text{реак}} = \\frac {Q_{\\text{теп}}} {(h_{\\text{вых}} - h_{\\text{вх}})}\n",
    "\"\"\"\n",
    "\n",
    "G_reak_nums = fr\"\"\"\n",
    "\\frac {{ {tex_exp(Q_tep)} }} {{ ( { tex_exp(H_vih) } - { tex_exp(H_vh) }) }} = {tex_exp(G_reak)} \\ \\frac {{\\text{{кг}}}}{{\\text{{c}}}}\n",
    "\"\"\"\n",
    "\n",
    "final_code = f\"{G_reak_formula}={G_reak_nums}\"\n",
    "\n",
    "print(final_code)\n",
    "Math(final_code)"
   ]
  },
  {
   "cell_type": "code",
   "execution_count": 55,
   "id": "7d85a3c0",
   "metadata": {},
   "outputs": [
    {
     "name": "stdout",
     "output_type": "stream",
     "text": [
      "\n",
      "C_p = \\frac {h_{\\text{вых}} - h_{\\text{вх}}} {T_{\\text{вых}} - T_{\\text{вх}}}\n",
      "=\n",
      "C_p = \\frac { 1.452 \\cdot 10^{ 6 } - 1.268 \\cdot 10^{ 6 } } { 5.930 \\cdot 10^{ 2 } - 5.600 \\cdot 10^{ 2 } } = 5.574 \\cdot 10^{ 3 } \\ \\frac{ \\text{Дж}} { \\text{кг} \\cdot \\text{К} }\n",
      "\n"
     ]
    },
    {
     "data": {
      "text/latex": [
       "$\\displaystyle \n",
       "C_p = \\frac {h_{\\text{вых}} - h_{\\text{вх}}} {T_{\\text{вых}} - T_{\\text{вх}}}\n",
       "=\n",
       "C_p = \\frac { 1.452 \\cdot 10^{ 6 } - 1.268 \\cdot 10^{ 6 } } { 5.930 \\cdot 10^{ 2 } - 5.600 \\cdot 10^{ 2 } } = 5.574 \\cdot 10^{ 3 } \\ \\frac{ \\text{Дж}} { \\text{кг} \\cdot \\text{К} }\n",
       "$"
      ],
      "text/plain": [
       "<IPython.core.display.Math object>"
      ]
     },
     "execution_count": 55,
     "metadata": {},
     "output_type": "execute_result"
    }
   ],
   "source": [
    "C_p = (\n",
    "      (H_vih - H_vh)  /\n",
    "  # --------------------\n",
    "    (T_az_vih - T_az_vh)\n",
    ")\n",
    "\n",
    "C_p_formula = r\"\"\"\n",
    "C_p = \\frac {h_{\\text{вых}} - h_{\\text{вх}}} {T_{\\text{вых}} - T_{\\text{вх}}}\n",
    "\"\"\"\n",
    "\n",
    "C_p_nums = fr\"\"\"\n",
    "C_p = \\frac {{ {tex_exp(H_vih)} - {tex_exp(H_vh)} }} {{ {tex_exp(T_az_vih)} - {tex_exp(T_az_vh)} }} = {tex_exp(C_p)} \\ \\frac{{ \\text{{Дж}}}} {{ \\text{{кг}} \\cdot \\text{{К}} }}\n",
    "\"\"\"\n",
    "\n",
    "final_code = f\"{C_p_formula}={C_p_nums}\"\n",
    "\n",
    "print(final_code)\n",
    "Math(final_code)"
   ]
  },
  {
   "cell_type": "code",
   "execution_count": 56,
   "id": "9c9d1e51",
   "metadata": {},
   "outputs": [
    {
     "data": {
      "image/png": "[encoded data removed]",
      "text/plain": [
       "<Figure size 432x288 with 1 Axes>"
      ]
     },
     "metadata": {
      "needs_background": "light"
     },
     "output_type": "display_data"
    },
    {
     "name": "stdout",
     "output_type": "stream",
     "text": [
      "макс температура 328.5390975578629\n",
      "запас до кипения 17.260902442137137\n"
     ]
    }
   ],
   "source": [
    "from math import pi, sin\n",
    "H_eff = 3.715\n",
    "\n",
    "def T(z): \n",
    "    return T_az_vh + (\n",
    "        N_tvs * N_tvel * q_max * H_eff / (G_reak * C_p * pi) \n",
    "        * ( np.sin( pi * z / H_eff) + np.sin( pi * H_az / 2 / H_eff))\n",
    "    )\n",
    "\n",
    "Dz = np.arange(-H_az / 2 , H_az / 2, 0.05)\n",
    "\n",
    "Et = T(Dz) - 273\n",
    "pl.plot(Et, Dz)\n",
    "pl.grid()\n",
    "pl.xlabel(r\"Температура T, $^\\circ C$\")\n",
    "pl.ylabel(r\"Высота Z, м\")\n",
    "\n",
    "pl.text(280, H_az / 2, r\"$\\frac{H_{аз}}{2}$\")\n",
    "pl.axhline(H_az / 2, linestyle='--', color=\"grey\")\n",
    "\n",
    "pl.text(280,  - H_az / 2  - 0.07, r\"$\\frac{ - H_{аз}}{2}$\")\n",
    "pl.axhline( - H_az / 2, linestyle='--', color=\"grey\")\n",
    "\n",
    "pl.savefig(\"Ttep_.png\", dpi=200)\n",
    "pl.show()\n",
    "\n",
    "print(f\"макс температура {Et.max()}\")\n",
    "print(f\"запас до кипения {345.8 - Et.max()}\")"
   ]
  },
  {
   "cell_type": "markdown",
   "id": "8e84680a",
   "metadata": {},
   "source": [
    "## Расчет распроеделения температуры внешней стенки оболочки по высоте"
   ]
  },
  {
   "cell_type": "code",
   "execution_count": 57,
   "id": "8020ab74",
   "metadata": {},
   "outputs": [
    {
     "name": "stdout",
     "output_type": "stream",
     "text": [
      "\\begin{align*}\n",
      "S_{\\text{прох}} =& \\sqrt{3}/2(a - 2 \\cdot \\delta_{\\text{чехла}})^2 - N_{\\text{твэл}} \\frac {\\pi d^2_{\\text{тв}}} {4} - N_{\\text{н.к.}} \\frac {\\pi D_{\\text{н.к}}^2} {4} - \\frac {D_{\\text{ц.к}}^2\\pi}{4}\n",
      "=&\\\\=&\n",
      "\\sqrt{3}/2(2.340 \\cdot 10^{ -01 } - 2 \\cdot 0.0015)^2 - 3.170 \\cdot 10^{ 2 } \\frac { \\pi (9.100 \\cdot 10^{ -03 })^2 } {4} - 1.200 \\cdot 10^{ 1 } \\frac { \\pi (1.260 \\cdot 10^{ -02 }))^2} {4} - \\frac { (1.030 \\cdot 10^{ -02 })^2\\pi } {4} =\\\\=& 2.402 \\cdot 10^{ 4 } \\text{мм}^2\n",
      "\\end{align*}\n"
     ]
    },
    {
     "data": {
      "text/latex": [
       "$\\displaystyle \\begin{align*}\n",
       "S_{\\text{прох}} =& \\sqrt{3}/2(a - 2 \\cdot \\delta_{\\text{чехла}})^2 - N_{\\text{твэл}} \\frac {\\pi d^2_{\\text{тв}}} {4} - N_{\\text{н.к.}} \\frac {\\pi D_{\\text{н.к}}^2} {4} - \\frac {D_{\\text{ц.к}}^2\\pi}{4}\n",
       "=&\\\\=&\n",
       "\\sqrt{3}/2(2.340 \\cdot 10^{ -01 } - 2 \\cdot 0.0015)^2 - 3.170 \\cdot 10^{ 2 } \\frac { \\pi (9.100 \\cdot 10^{ -03 })^2 } {4} - 1.200 \\cdot 10^{ 1 } \\frac { \\pi (1.260 \\cdot 10^{ -02 }))^2} {4} - \\frac { (1.030 \\cdot 10^{ -02 })^2\\pi } {4} =\\\\=& 2.402 \\cdot 10^{ 4 } \\text{мм}^2\n",
       "\\end{align*}$"
      ],
      "text/plain": [
       "<IPython.core.display.Math object>"
      ]
     },
     "execution_count": 57,
     "metadata": {},
     "output_type": "execute_result"
    }
   ],
   "source": [
    "a = 234 * 10 ** -3\n",
    "delta_chehol = 1.5 * 10 ** -3\n",
    "d_tv = 9.1 * 10 ** -3\n",
    "D_nk = 12.6 * 10 ** -3\n",
    "N_nk = 12\n",
    "D_ck = 10.3 * 10 ** -3\n",
    "S_proh = (\n",
    "    np.sqrt(3)/2 * (a - 2 * delta_chehol) ** 2 \n",
    "    - N_tvel * pi * d_tv ** 2 / 4\n",
    "    - N_nk * pi * D_nk ** 2 / 4\n",
    "    - D_ck ** 2 * pi / 4\n",
    ")\n",
    "\n",
    "S_proh_formula = r\"\"\"\n",
    "S_{\\text{прох}} =& \\sqrt{3}/2(a - 2 \\cdot \\delta_{\\text{чехла}})^2 - N_{\\text{твэл}} \\frac {\\pi d^2_{\\text{тв}}} {4} - N_{\\text{н.к.}} \\frac {\\pi D_{\\text{н.к}}^2} {4} - \\frac {D_{\\text{ц.к}}^2\\pi}{4}\n",
    "\"\"\"\n",
    "\n",
    "S_proh_nums = fr\"\"\"\n",
    "\\sqrt{{3}}/2({tex_exp(a)} - 2 \\cdot {delta_chehol})^2 - {tex_exp(N_tvel)} \\frac {{ \\pi ({tex_exp(d_tv)})^2 }} {{4}} - {tex_exp(N_nk)} \\frac {{ \\pi ({tex_exp(D_nk)}))^2}} {{4}} - \\frac {{ ({tex_exp(D_ck)})^2\\pi }} {{4}} =\\\\=& {tex_exp(S_proh * 10 ** 6 )} \\text{{мм}}^2\n",
    "\"\"\"\n",
    "\n",
    "final_code = fr\"\\begin{{align*}}{S_proh_formula}=&\\\\=&{S_proh_nums}\\end{{align*}}\"\n",
    "print(final_code)\n",
    "Math(final_code)"
   ]
  },
  {
   "cell_type": "code",
   "execution_count": 58,
   "id": "39110a1d",
   "metadata": {},
   "outputs": [
    {
     "name": "stdout",
     "output_type": "stream",
     "text": [
      "\\begin{align*}\n",
      "\\Pi=& (2(a-2\\delta_{\\text{чехла}})\\sqrt{3}) - N_{\\text {твэл }} \\pi d_{\\text {тв }}+N_{\\text {н.к }} \\pi D_{\\text {н.к }}+\\pi D_{\\text {ц.к}}\n",
      "=&\\\\=\n",
      "(2( \\cdot 2.340 \\cdot 10^{ -01 }-2 \\cdot 1.500 \\cdot 10^{ -03 }) \\cdot \\sqrt{3}) - 3.170 \\cdot 10^{ 2 } \\cdot \\pi \\cdot 9.100 \\cdot 10^{ -03 } + 1.200 \\cdot 10^{ 1 } \\cdot \\pi \\cdot 1.260 \\cdot 10^{ -02 } + \\pi \\cdot 1.030 \\cdot 10^{ -02 }= 1.037 \\cdot 10^{ 4 } \\text{мм}\n",
      "\\end{align*}\n"
     ]
    },
    {
     "data": {
      "text/latex": [
       "$\\displaystyle \\begin{align*}\n",
       "\\Pi=& (2(a-2\\delta_{\\text{чехла}})\\sqrt{3}) - N_{\\text {твэл }} \\pi d_{\\text {тв }}+N_{\\text {н.к }} \\pi D_{\\text {н.к }}+\\pi D_{\\text {ц.к}}\n",
       "=&\\\\=\n",
       "(2( \\cdot 2.340 \\cdot 10^{ -01 }-2 \\cdot 1.500 \\cdot 10^{ -03 }) \\cdot \\sqrt{3}) - 3.170 \\cdot 10^{ 2 } \\cdot \\pi \\cdot 9.100 \\cdot 10^{ -03 } + 1.200 \\cdot 10^{ 1 } \\cdot \\pi \\cdot 1.260 \\cdot 10^{ -02 } + \\pi \\cdot 1.030 \\cdot 10^{ -02 }= 1.037 \\cdot 10^{ 4 } \\text{мм}\n",
       "\\end{align*}$"
      ],
      "text/plain": [
       "<IPython.core.display.Math object>"
      ]
     },
     "execution_count": 58,
     "metadata": {},
     "output_type": "execute_result"
    }
   ],
   "source": [
    "П = (\n",
    "    (2 * (a - 2 * delta_chehol) * np.sqrt(3))\n",
    "    + N_tvel * pi * d_tv\n",
    "    + N_nk * pi * D_nk\n",
    "    + pi * D_ck\n",
    ")\n",
    "\n",
    "П_formula = r\"\"\"\n",
    "\\Pi=& (2(a-2\\delta_{\\text{чехла}})\\sqrt{3}) - N_{\\text {твэл }} \\pi d_{\\text {тв }}+N_{\\text {н.к }} \\pi D_{\\text {н.к }}+\\pi D_{\\text {ц.к}}\n",
    "\"\"\"\n",
    "\n",
    "П_nums = fr\"\"\"\n",
    "(2( \\cdot {tex_exp(a)}-2 \\cdot {tex_exp(delta_chehol)}) \\cdot \\sqrt{{3}}) - {tex_exp(N_tvel)} \\cdot \\pi \\cdot {tex_exp(d_tv)} + {tex_exp(N_nk)} \\cdot \\pi \\cdot {tex_exp(D_nk)} + \\pi \\cdot {tex_exp(D_ck)}= {tex_exp(П * 10 ** 3)} \\text{{мм}}\n",
    "\"\"\"\n",
    "\n",
    "final_code = fr\"\\begin{{align*}}{П_formula}=&\\\\={П_nums}\\end{{align*}}\"\n",
    "print(final_code)\n",
    "Math(final_code)"
   ]
  },
  {
   "cell_type": "code",
   "execution_count": 59,
   "id": "8f9d8d33",
   "metadata": {},
   "outputs": [
    {
     "name": "stdout",
     "output_type": "stream",
     "text": [
      "\n",
      "d_{\\text{Г}} = \\frac {4 S_{\\text{прох}}}{\\text{П}}\n",
      "=\n",
      "\\frac {4 \\cdot 2.402 \\cdot 10^{ -02 }} {1.037 \\cdot 10^{ 1 }} = 9.263 \\cdot 10^{ -03 }\n",
      " \\text{мм}\n"
     ]
    },
    {
     "data": {
      "text/latex": [
       "$\\displaystyle \n",
       "d_{\\text{Г}} = \\frac {4 S_{\\text{прох}}}{\\text{П}}\n",
       "=\n",
       "\\frac {4 \\cdot 2.402 \\cdot 10^{ -02 }} {1.037 \\cdot 10^{ 1 }} = 9.263 \\cdot 10^{ -03 }\n",
       " \\text{мм}$"
      ],
      "text/plain": [
       "<IPython.core.display.Math object>"
      ]
     },
     "execution_count": 59,
     "metadata": {},
     "output_type": "execute_result"
    }
   ],
   "source": [
    "d_g = 4 * S_proh / П\n",
    "\n",
    "d_g_formula = r\"\"\"\n",
    "d_{\\text{Г}} = \\frac {4 S_{\\text{прох}}}{\\text{П}}\n",
    "\"\"\"\n",
    "\n",
    "d_g_nums = fr\"\"\"\n",
    "\\frac {{4 \\cdot {tex_exp(S_proh)}}} {{{tex_exp(П)}}} = {tex_exp(d_g)}\n",
    "\"\"\"\n",
    "\n",
    "final_code = fr\"{d_g_formula}={d_g_nums} \\text{{мм}}\"\n",
    "print(final_code)\n",
    "Math(final_code)"
   ]
  },
  {
   "cell_type": "code",
   "execution_count": 60,
   "id": "b4e23982",
   "metadata": {},
   "outputs": [
    {
     "data": {
      "text/plain": [
       "'4.283 \\\\cdot 10^{ 5 }'"
      ]
     },
     "execution_count": 60,
     "metadata": {},
     "output_type": "execute_result"
    }
   ],
   "source": [
    "mu = 8.721 * 10 ** -5\n",
    "lambda_ = 0.5536\n",
    "Pr = 0.8729\n",
    "\n",
    "Re_petukhov = (\n",
    "    ( G_reak * d_g )    / \n",
    "   # --------------------\n",
    "    ( N_tvs * S_proh * mu )\n",
    ")\n",
    "\n",
    "Re_petukhov\n",
    "tex_exp(Re_petukhov)"
   ]
  },
  {
   "cell_type": "code",
   "execution_count": 61,
   "id": "56146c1f",
   "metadata": {},
   "outputs": [
    {
     "data": {
      "text/plain": [
       "0.0134898337003546"
      ]
     },
     "execution_count": 61,
     "metadata": {},
     "output_type": "execute_result"
    }
   ],
   "source": [
    "xi = (1.82 * np.log10(Re_petukhov) - 1.64) ** -2\n",
    "xi"
   ]
  },
  {
   "cell_type": "code",
   "execution_count": 62,
   "id": "0dac95c3",
   "metadata": {},
   "outputs": [
    {
     "name": "stdout",
     "output_type": "stream",
     "text": [
      "\\begin{align*}\n",
      "\\mathrm{Nu}=&\\frac{\\frac{\\xi}{8} \\cdot \\mathrm{Re} \\cdot \\operatorname{Pr}}{k+12.7 \\cdot\\left(\\operatorname{Pr}^{\\frac{2}{3}}-1\\right) \\cdot \\sqrt{\\frac{\\xi}{8}}}\n",
      "=\\\\=&\n",
      "\\frac{ \n",
      "    \\frac{1.349 \\cdot 10^{ -02 }}{8} \\cdot 4.283 \\cdot 10^{ 5 } \\cdot 8.729 \\cdot 10^{ -01 } \n",
      "}\n",
      "{ \n",
      "    1 + \\frac{900}{4.283 \\cdot 10^{ 5 }} + 12.7 \\cdot\\left((8.729 \\cdot 10^{ -01 })^{\\frac{2}{3}}-1\\right) \\cdot \\sqrt{\\frac{1.349 \\cdot 10^{ -02 }}{8}} \n",
      "} = 6.589 \\cdot 10^{ 2 } \n",
      "\\end{align*}\n"
     ]
    },
    {
     "data": {
      "text/latex": [
       "$\\displaystyle \\begin{align*}\n",
       "\\mathrm{Nu}=&\\frac{\\frac{\\xi}{8} \\cdot \\mathrm{Re} \\cdot \\operatorname{Pr}}{k+12.7 \\cdot\\left(\\operatorname{Pr}^{\\frac{2}{3}}-1\\right) \\cdot \\sqrt{\\frac{\\xi}{8}}}\n",
       "=\\\\=&\n",
       "\\frac{ \n",
       "    \\frac{1.349 \\cdot 10^{ -02 }}{8} \\cdot 4.283 \\cdot 10^{ 5 } \\cdot 8.729 \\cdot 10^{ -01 } \n",
       "}\n",
       "{ \n",
       "    1 + \\frac{900}{4.283 \\cdot 10^{ 5 }} + 12.7 \\cdot\\left((8.729 \\cdot 10^{ -01 })^{\\frac{2}{3}}-1\\right) \\cdot \\sqrt{\\frac{1.349 \\cdot 10^{ -02 }}{8}} \n",
       "} = 6.589 \\cdot 10^{ 2 } \n",
       "\\end{align*}$"
      ],
      "text/plain": [
       "<IPython.core.display.Math object>"
      ]
     },
     "execution_count": 62,
     "metadata": {},
     "output_type": "execute_result"
    }
   ],
   "source": [
    "k = 1 + 900 / Re_petukhov\n",
    "\n",
    "Nu_petukhov = (\n",
    "            ( xi / 8 * Re_petukhov * Pr )  /\n",
    "    # ------------------------------------------------\n",
    "      (k + 12.7 * (Pr ** (2 / 3) - 1) * np.sqrt(xi / 8))\n",
    ")\n",
    "\n",
    "Nu_petukhov_formula = r\"\"\"\n",
    "\\mathrm{Nu}=&\\frac{\\frac{\\xi}{8} \\cdot \\mathrm{Re} \\cdot \\operatorname{Pr}}{k+12.7 \\cdot\\left(\\operatorname{Pr}^{\\frac{2}{3}}-1\\right) \\cdot \\sqrt{\\frac{\\xi}{8}}}\n",
    "\"\"\"\n",
    "\n",
    "Nu_petukhov_nums = fr\"\"\"\n",
    "\\frac{{ \n",
    "    \\frac{{{tex_exp(xi)}}}{{8}} \\cdot {tex_exp(Re_petukhov)} \\cdot {tex_exp(Pr)} \n",
    "}}\n",
    "{{ \n",
    "    1 + \\frac{{900}}{{{tex_exp(Re_petukhov)}}} + 12.7 \\cdot\\left(({tex_exp(Pr)})^{{\\frac{{2}}{{3}}}}-1\\right) \\cdot \\sqrt{{\\frac{{{tex_exp(xi)}}}{{8}}}} \n",
    "}} = {tex_exp(Nu_petukhov)} \n",
    "\"\"\"\n",
    "    \n",
    "    \n",
    "final_code = fr\"\\begin{{align*}}{Nu_petukhov_formula}=\\\\=&{Nu_petukhov_nums}\\end{{align*}}\"\n",
    "\n",
    "print(final_code)\n",
    "Math(final_code)"
   ]
  },
  {
   "cell_type": "code",
   "execution_count": 63,
   "id": "cf4cafce",
   "metadata": {},
   "outputs": [
    {
     "name": "stdout",
     "output_type": "stream",
     "text": [
      "\\alpha_1 = \\frac {Nu \\cdot \\lambda} {d_\\text{г}} = \\frac {6.589 \\cdot 10^{ 2 } \\cdot 5.536 \\cdot 10^{ -01 }}{9.263 \\cdot 10^{ -03 }} = 3.938 \\cdot 10^{ 4 } \\frac {\\text{Вт}}{\\text{м}^2\\cdot\\mathrm{K}}\n"
     ]
    },
    {
     "data": {
      "text/latex": [
       "$\\displaystyle \\alpha_1 = \\frac {Nu \\cdot \\lambda} {d_\\text{г}} = \\frac {6.589 \\cdot 10^{ 2 } \\cdot 5.536 \\cdot 10^{ -01 }}{9.263 \\cdot 10^{ -03 }} = 3.938 \\cdot 10^{ 4 } \\frac {\\text{Вт}}{\\text{м}^2\\cdot\\mathrm{K}}$"
      ],
      "text/plain": [
       "<IPython.core.display.Math object>"
      ]
     },
     "execution_count": 63,
     "metadata": {},
     "output_type": "execute_result"
    }
   ],
   "source": [
    "alpha_1 = Nu_petukhov * lambda_ / d_g\n",
    "\n",
    "final_code = fr\"\\alpha_1 = \\frac {{Nu \\cdot \\lambda}} {{d_\\text{{г}}}} = \\frac {{{tex_exp(Nu_petukhov)} \\cdot {tex_exp(lambda_)}}}{{{tex_exp(d_g)}}} = {tex_exp(alpha_1)} \\frac {{\\text{{Вт}}}}{{\\text{{м}}^2\\cdot\\mathrm{{K}}}}\"\n",
    "print(final_code)\n",
    "Math(final_code)"
   ]
  },
  {
   "cell_type": "code",
   "execution_count": 64,
   "id": "3c64379a",
   "metadata": {},
   "outputs": [
    {
     "name": "stdout",
     "output_type": "stream",
     "text": [
      "697.5124069562332\n",
      "\\alpha_2 = \\frac {Nu \\cdot \\lambda} {d_\\text{г}} = \\frac {6.975 \\cdot 10^{ 2 } \\cdot 5.536 \\cdot 10^{ -01 }}{9.263 \\cdot 10^{ -03 }} = 4.169 \\cdot 10^{ 4 } \\frac {\\text{Вт}}{\\text{м}^2\\cdot\\mathrm{K}}\n"
     ]
    },
    {
     "data": {
      "text/latex": [
       "$\\displaystyle \\alpha_2 = \\frac {Nu \\cdot \\lambda} {d_\\text{г}} = \\frac {6.975 \\cdot 10^{ 2 } \\cdot 5.536 \\cdot 10^{ -01 }}{9.263 \\cdot 10^{ -03 }} = 4.169 \\cdot 10^{ 4 } \\frac {\\text{Вт}}{\\text{м}^2\\cdot\\mathrm{K}}$"
      ],
      "text/plain": [
       "<IPython.core.display.Math object>"
      ]
     },
     "execution_count": 64,
     "metadata": {},
     "output_type": "execute_result"
    }
   ],
   "source": [
    "Nu_dittus = 0.023 * Re_petukhov ** 0.8 * Pr ** 0.4\n",
    "print(Nu_dittus)\n",
    "\n",
    "\n",
    "alpha_2 = Nu_dittus * lambda_ / d_g\n",
    "\n",
    "final_code = fr\"\\alpha_2 = \\frac {{Nu \\cdot \\lambda}} {{d_\\text{{г}}}} = \\frac {{{tex_exp(Nu_dittus)} \\cdot {tex_exp(lambda_)}}}{{{tex_exp(d_g)}}} = {tex_exp(alpha_2)} \\frac {{\\text{{Вт}}}}{{\\text{{м}}^2\\cdot\\mathrm{{K}}}}\"\n",
    "print(final_code)\n",
    "Math(final_code)"
   ]
  },
  {
   "cell_type": "code",
   "execution_count": 65,
   "id": "1bf8eee9",
   "metadata": {},
   "outputs": [
    {
     "name": "stdout",
     "output_type": "stream",
     "text": [
      "634.2673129055883\n",
      "\\alpha_3 = \\frac {Nu \\cdot \\lambda} {d_\\text{г}} = \\frac {6.343 \\cdot 10^{ 2 } \\cdot 5.536 \\cdot 10^{ -01 }}{9.263 \\cdot 10^{ -03 }} = 3.791 \\cdot 10^{ 4 } \\frac {\\text{Вт}}{\\text{м}^2\\cdot\\mathrm{K}}\n"
     ]
    },
    {
     "data": {
      "text/latex": [
       "$\\displaystyle \\alpha_3 = \\frac {Nu \\cdot \\lambda} {d_\\text{г}} = \\frac {6.343 \\cdot 10^{ 2 } \\cdot 5.536 \\cdot 10^{ -01 }}{9.263 \\cdot 10^{ -03 }} = 3.791 \\cdot 10^{ 4 } \\frac {\\text{Вт}}{\\text{м}^2\\cdot\\mathrm{K}}$"
      ],
      "text/plain": [
       "<IPython.core.display.Math object>"
      ]
     },
     "execution_count": 65,
     "metadata": {},
     "output_type": "execute_result"
    }
   ],
   "source": [
    "Nu_mikheev = 0.021 * Re_petukhov ** 0.8 * Pr ** 0.43\n",
    "print(Nu_mikheev)\n",
    "\n",
    "alpha_3 = Nu_mikheev * lambda_ / d_g\n",
    "\n",
    "final_code = fr\"\\alpha_3 = \\frac {{Nu \\cdot \\lambda}} {{d_\\text{{г}}}} = \\frac {{{tex_exp(Nu_mikheev)} \\cdot {tex_exp(lambda_)}}}{{{tex_exp(d_g)}}} = {tex_exp(alpha_3)} \\frac {{\\text{{Вт}}}}{{\\text{{м}}^2\\cdot\\mathrm{{K}}}}\"\n",
    "print(final_code)\n",
    "Math(final_code)"
   ]
  },
  {
   "cell_type": "code",
   "execution_count": 66,
   "id": "9e978ea4",
   "metadata": {},
   "outputs": [
    {
     "data": {
      "text/plain": [
       "'3.966 \\\\cdot 10^{ 4 }'"
      ]
     },
     "execution_count": 66,
     "metadata": {},
     "output_type": "execute_result"
    }
   ],
   "source": [
    "# S_m = 12.75 * 10 ** -3\n",
    "alpha = (alpha_1 + alpha_2 + alpha_3) / 3\n",
    "alpha\n",
    "tex_exp(alpha)\n"
   ]
  },
  {
   "cell_type": "code",
   "execution_count": 67,
   "id": "98d15a97",
   "metadata": {},
   "outputs": [
    {
     "data": {
      "image/png": "[encoded data removed]",
      "text/plain": [
       "<Figure size 432x288 with 1 Axes>"
      ]
     },
     "metadata": {
      "needs_background": "light"
     },
     "output_type": "display_data"
    }
   ],
   "source": [
    "def T_ob(z): \n",
    "    return (\n",
    "    T(z) + (q_max * np.cos(pi * z / H_eff)) / (pi * d_tv * alpha)\n",
    ")\n",
    "\n",
    "Dz = np.arange(-H_az / 2 , H_az / 2, 0.05)\n",
    "\n",
    "Et = T_ob(Dz) - 273\n",
    "pl.plot(Et, Dz)\n",
    "pl.grid()\n",
    "pl.xlabel(r\"Температура T, $^\\circ C$\")\n",
    "pl.ylabel(r\"Высота Z, м\")\n",
    "\n",
    "# pl.text(280, H_az / 2, r\"$\\frac{H_{аз}}{2}$\")\n",
    "# pl.axhline(H_az / 2, linestyle='--', color=\"grey\")\n",
    "\n",
    "# pl.text(280,  - H_az / 2  - 0.07, r\"$\\frac{ - H_{аз}}{2}$\")\n",
    "# pl.axhline( - H_az / 2, linestyle='--', color=\"grey\")\n",
    "# pl.show()\n",
    "\n",
    "# print(f\"макс температура {Et.max()}\")\n",
    "# print(f\"запас до кипения {345.8 - Et.max()}\")\n",
    "pl.axvline(345.8, color=\"orange\", linestyle=\"--\")\n",
    "pl.axvline(Et.max(), color=\"green\", linestyle=\"--\")\n",
    "pl.text(Et.max() - 17, -1.5, fr\"$T_{{об}}^{{max}}={tex_exp(Et.max())}$\", color=\"green\")\n",
    "z_max = max(stats := {x: y for x, y in zip(Dz, Et)}, key=stats.get)\n",
    "pl.axhline(z_max, linestyle=\"--\", color=\"green\")\n",
    "pl.text(290, z_max + 0.1, fr\"$Z_{{max}}={tex_exp(z_max, after_comma=0)}$\", color=\"green\")\n",
    "pl.scatter(Et.max(), z_max, color=\"green\")\n",
    "pl.text(345.8 + 1, -1.0, \"$T_{кип}=345.8$\", color=\"orange\")\n",
    "pl.text(280, H_az / 2, r\"$\\frac{H_{аз}}{2}$\")\n",
    "pl.axhline(H_az / 2, linestyle='--', color=\"grey\")\n",
    "\n",
    "pl.text(280,  - H_az / 2  - 0.07, r\"$\\frac{ - H_{аз}}{2}$\")\n",
    "pl.axhline( - H_az / 2, linestyle='--', color=\"grey\")\n",
    "pl.savefig(\"Tob_.png\", dpi=200)"
   ]
  },
  {
   "cell_type": "code",
   "execution_count": 68,
   "id": "2dffcdc5",
   "metadata": {},
   "outputs": [
    {
     "data": {
      "image/png": "[encoded data removed]",
      "text/plain": [
       "<Figure size 432x288 with 1 Axes>"
      ]
     },
     "metadata": {
      "needs_background": "light"
     },
     "output_type": "display_data"
    }
   ],
   "source": [
    "pl.plot(Dz, T(Dz) - 273, label=\"Теплоноситель\")\n",
    "pl.plot(Dz, T_ob(Dz) - 273, label=\"Оболочка\")\n",
    "pl.legend()\n",
    "pl.grid()\n",
    "pl.xlabel(r\"Температура T, $^\\circ C$\")\n",
    "pl.ylabel(r\"Высота Z, м\")\n",
    "pl.axhline(345.8, color=\"red\", linestyle=\"--\")\n",
    "pl.savefig(\"Tobltep_.png\", dpi=200)"
   ]
  },
  {
   "cell_type": "markdown",
   "id": "9413fae7",
   "metadata": {},
   "source": [
    "## Расчет температуры топлива\n"
   ]
  },
  {
   "cell_type": "markdown",
   "id": "69e0dea4",
   "metadata": {},
   "source": [
    "## Расчет температуры топлива"
   ]
  },
  {
   "cell_type": "code",
   "execution_count": 77,
   "id": "5d4c9595",
   "metadata": {},
   "outputs": [],
   "source": [
    "lambda_gz = 0.35\n",
    "lambda_ob = 20.1\n",
    "lambda_top = 3.5\n",
    "# delta_gz = "
   ]
  },
  {
   "cell_type": "code",
   "execution_count": 78,
   "id": "d20f03cc",
   "metadata": {},
   "outputs": [
    {
     "name": "stdout",
     "output_type": "stream",
     "text": [
      "\\begin{align*}\n",
      "\\sum R_i =& \n",
      "\\frac {\\ln \\frac {d_{\\text{тв}}}{d_{\\text{тв}} - 2\\delta_{об}}  }{2\\pi\\lambda_{\\text{об}}}+\\frac {\\ln \\frac {d_{\\text{тв}} - 2\\delta_{об}}{d_{\\text{топ}}}  }{2\\pi\\lambda_{\\text{г.з}}}+\\frac {\\frac 1 2 - \\frac {d_{\\text{отв}}^2} {d_{\\text{топ}}^2 - d_{\\text{отв}}^2}\\ln \\frac {d_{\\text{топ}}}{d_{\\text{отв}}}} {2 \\pi \\lambda_{\\text{топ}}} =\n",
      "=\\\\=&\n",
      "\\frac {\\ln \\frac{ 9.100 \\cdot 10^{ -03 } }{ 9.100 \\cdot 10^{ -03 } - 2 \\cdot 6.500 \\cdot 10^{ -04 }} } {2\\cdot \\pi \\cdot 2.010 \\cdot 10^{ 1 }}\n",
      "\n",
      "+ \\frac {\\ln \\frac {9.100 \\cdot 10^{ -03 } - 2 \\cdot 6.500 \\cdot 10^{ -04 }}{7.530 \\cdot 10^{ -03 }} } {2 \\pi \\cdot 3.500 \\cdot 10^{ -01 }}\n",
      "\n",
      "+ \\frac { 0.5 - \\frac{ (1.300 \\cdot 10^{ -03 })^2 }{ (7.530 \\cdot 10^{ -03 })^2 - (1.300 \\cdot 10^{ -03 })^2 } \\ln \\frac { 7.530 \\cdot 10^{ -03 } }{ 1.300 \\cdot 10^{ -03 } } } {2 \\pi \\cdot 3.500  }\n",
      "=\\\\=&3.752 \\cdot 10^{ -02 } \\frac {\\text{м} \\cdot K}{\\text{Вт}}\\end{align*}\n"
     ]
    },
    {
     "data": {
      "text/latex": [
       "$\\displaystyle \\begin{align*}\n",
       "\\sum R_i =& \n",
       "\\frac {\\ln \\frac {d_{\\text{тв}}}{d_{\\text{тв}} - 2\\delta_{об}}  }{2\\pi\\lambda_{\\text{об}}}+\\frac {\\ln \\frac {d_{\\text{тв}} - 2\\delta_{об}}{d_{\\text{топ}}}  }{2\\pi\\lambda_{\\text{г.з}}}+\\frac {\\frac 1 2 - \\frac {d_{\\text{отв}}^2} {d_{\\text{топ}}^2 - d_{\\text{отв}}^2}\\ln \\frac {d_{\\text{топ}}}{d_{\\text{отв}}}} {2 \\pi \\lambda_{\\text{топ}}} =\n",
       "=\\\\=&\n",
       "\\frac {\\ln \\frac{ 9.100 \\cdot 10^{ -03 } }{ 9.100 \\cdot 10^{ -03 } - 2 \\cdot 6.500 \\cdot 10^{ -04 }} } {2\\cdot \\pi \\cdot 2.010 \\cdot 10^{ 1 }}\n",
       "\n",
       "+ \\frac {\\ln \\frac {9.100 \\cdot 10^{ -03 } - 2 \\cdot 6.500 \\cdot 10^{ -04 }}{7.530 \\cdot 10^{ -03 }} } {2 \\pi \\cdot 3.500 \\cdot 10^{ -01 }}\n",
       "\n",
       "+ \\frac { 0.5 - \\frac{ (1.300 \\cdot 10^{ -03 })^2 }{ (7.530 \\cdot 10^{ -03 })^2 - (1.300 \\cdot 10^{ -03 })^2 } \\ln \\frac { 7.530 \\cdot 10^{ -03 } }{ 1.300 \\cdot 10^{ -03 } } } {2 \\pi \\cdot 3.500  }\n",
       "=\\\\=&3.752 \\cdot 10^{ -02 } \\frac {\\text{м} \\cdot K}{\\text{Вт}}\\end{align*}$"
      ],
      "text/plain": [
       "<IPython.core.display.Math object>"
      ]
     },
     "execution_count": 78,
     "metadata": {},
     "output_type": "execute_result"
    }
   ],
   "source": [
    "delta_tvel = 0.65 * 10 ** -3\n",
    "d_top = 7.53 * 10 ** -3\n",
    "d_otv = 1.3 * 10 ** -3\n",
    "delta_ob = 0.65 * 10 ** -3\n",
    "\n",
    "Ri = (\n",
    "    np.log(d_tv / (d_tv - 2 * delta_ob)) / (2 * pi * lambda_ob) \n",
    "    + np.log((d_tv - 2 * delta_ob) / d_top) / (2 * pi * lambda_gz) \n",
    "    + (0.5 - d_otv ** 2 / (d_top ** 2 - d_otv ** 2) * np.log(d_top / d_otv)) / (2 * pi * lambda_top)\n",
    ")\n",
    "\n",
    "Ri_formula = r\"\"\"\n",
    "\\sum R_i =& \n",
    "\\frac {\\ln \\frac {d_{\\text{тв}}}{d_{\\text{тв}} - 2\\delta_{об}}  }{2\\pi\\lambda_{\\text{об}}}+\\frac {\\ln \\frac {d_{\\text{тв}} - 2\\delta_{об}}{d_{\\text{топ}}}  }{2\\pi\\lambda_{\\text{г.з}}}+\\frac {\\frac 1 2 - \\frac {d_{\\text{отв}}^2} {d_{\\text{топ}}^2 - d_{\\text{отв}}^2}\\ln \\frac {d_{\\text{топ}}}{d_{\\text{отв}}}} {2 \\pi \\lambda_{\\text{топ}}} =\n",
    "\"\"\"\n",
    "\n",
    "Ri_nums = fr\"\"\"\n",
    "\\frac {{\\ln \\frac{{ {tex_exp(d_tv)} }}{{ {tex_exp(d_tv)} - 2 \\cdot {tex_exp(delta_ob)}}} }} {{2\\cdot \\pi \\cdot {tex_exp(lambda_ob)}}}\n",
    "\n",
    "+ \\frac {{\\ln \\frac {{{tex_exp(d_tv)} - 2 \\cdot {tex_exp(delta_ob)}}}{{{tex_exp(d_top)}}} }} {{2 \\pi \\cdot {tex_exp(lambda_gz)}}}\n",
    "\n",
    "+ \\frac {{ 0.5 - \\frac{{ ({tex_exp(d_otv)})^2 }}{{ ({tex_exp(d_top)})^2 - ({tex_exp(d_otv)})^2 }} \\ln \\frac {{ {tex_exp(d_top)} }}{{ {tex_exp(d_otv)} }} }} {{2 \\pi \\cdot {tex_exp(lambda_top)} }}\n",
    "\"\"\"\n",
    "final_code = fr\"\\begin{{align*}}{Ri_formula}=\\\\=&{Ri_nums}=\\\\=&{tex_exp(Ri)} \\frac {{\\text{{м}} \\cdot K}}{{\\text{{Вт}}}}\\end{{align*}}\"\n",
    "print(final_code)\n",
    "Math(final_code)"
   ]
  },
  {
   "cell_type": "code",
   "execution_count": 79,
   "id": "e1398614",
   "metadata": {},
   "outputs": [
    {
     "data": {
      "image/png": "[encoded data removed]",
      "text/plain": [
       "<Figure size 432x288 with 1 Axes>"
      ]
     },
     "metadata": {
      "needs_background": "light"
     },
     "output_type": "display_data"
    }
   ],
   "source": [
    "def T_top(z): \n",
    "    return (\n",
    "    T_ob(z) + Ri * q_max * np.cos(pi * z / H_eff)\n",
    ")\n",
    "\n",
    "Dz = np.arange(-H_az / 2 , H_az / 2, 0.05)\n",
    "\n",
    "Et = T_top(Dz) - 273\n",
    "pl.plot(Et, Dz)\n",
    "pl.grid()\n",
    "pl.xlabel(r\"Температура T, $^\\circ C$\")\n",
    "pl.ylabel(r\"Высота Z, м\")\n",
    "\n",
    "# pl.text(280, H_az / 2, r\"$\\frac{H_{аз}}{2}$\")\n",
    "# pl.axhline(H_az / 2, linestyle='--', color=\"grey\")\n",
    "\n",
    "# pl.text(280,  - H_az / 2  - 0.07, r\"$\\frac{ - H_{аз}}{2}$\")\n",
    "# pl.axhline( - H_az / 2, linestyle='--', color=\"grey\")\n",
    "# pl.show()\n",
    "\n",
    "# print(f\"макс температура {Et.max()}\")\n",
    "# print(f\"запас до кипения {345.8 - Et.max()}\")\n",
    "# pl.axvline(Et.max(), color=\"green\", linestyle=\"--\")\n",
    "# pl.text(Et.max() - 17, -1.5, fr\"$T_{{об}}^{{max}}={tex_exp(Et.max())}$\", color=\"green\")\n",
    "# z_max = max(stats := {x: y for x, y in zip(Dz, Et)}, key=stats.get)\n",
    "# pl.axhline(z_max, linestyle=\"--\", color=\"green\")\n",
    "# pl.text(290, z_max + 0.1, fr\"$Z_{{max}}={tex_exp(z_max, after_comma=0)}$\", color=\"green\")\n",
    "# pl.scatter(Et.max(), z_max, color=\"green\")\n",
    "# pl.text(345.8 + 1, -1.0, \"$T_{кип}=345.8$\", color=\"orange\")\n",
    "pl.text(280, H_az / 2, r\"$\\frac{H_{аз}}{2}$\")\n",
    "pl.axhline(H_az / 2, linestyle='--', color=\"grey\")\n",
    "\n",
    "pl.text(280,  - H_az / 2  - 0.07, r\"$\\frac{ - H_{аз}}{2}$\")\n",
    "pl.axhline( - H_az / 2, linestyle='--', color=\"grey\")\n",
    "pl.axvline(Et.max(), color=\"green\", linestyle=\"--\")\n",
    "pl.text(Et.max() - 350, -1.3, f\"$T^{{max}}_{{топ}}={tex_exp(Et.max())}$\", color=\"green\")\n",
    "z_max = max(stats := {x: y for x, y in zip(Dz, Et)}, key=stats.get)\n",
    "pl.axhline(z_max, linestyle=\"--\", color=\"green\")\n",
    "pl.text(400, z_max + 0.1, fr\"$Z_{{max}}={tex_exp(z_max, after_comma=2)}$\", color=\"green\")\n",
    "pl.savefig(\"Ttop_.png\", dpi=200)"
   ]
  },
  {
   "cell_type": "code",
   "execution_count": 80,
   "id": "90b13d6c",
   "metadata": {},
   "outputs": [
    {
     "data": {
      "text/plain": [
       "1.5543122344752192e-15"
      ]
     },
     "execution_count": 80,
     "metadata": {},
     "output_type": "execute_result"
    }
   ],
   "source": [
    "z_max"
   ]
  },
  {
   "cell_type": "markdown",
   "id": "8f85fd8f",
   "metadata": {},
   "source": [
    "## Определение перепадов давления и необходимой мощности насосов на прокачку"
   ]
  },
  {
   "cell_type": "code",
   "execution_count": 81,
   "id": "3d02158f",
   "metadata": {},
   "outputs": [
    {
     "name": "stdout",
     "output_type": "stream",
     "text": [
      "w = \\frac{G_{\\text{реак}}}{\\rho_{\\text{ср}} \\cdot S_{\\text{прох}} \\cdot N_{\\text{ТВС}}}= \\frac {1.579 \\cdot 10^{ 4 }} {7.165 \\cdot 10^{ 2 } \\cdot 2.402 \\cdot 10^{ -02 } \\cdot 1.630 \\cdot 10^{ 2 }} = 5.629 \\ \\text{м} /\\text{c}\n"
     ]
    },
    {
     "data": {
      "text/latex": [
       "$\\displaystyle w = \\frac{G_{\\text{реак}}}{\\rho_{\\text{ср}} \\cdot S_{\\text{прох}} \\cdot N_{\\text{ТВС}}}= \\frac {1.579 \\cdot 10^{ 4 }} {7.165 \\cdot 10^{ 2 } \\cdot 2.402 \\cdot 10^{ -02 } \\cdot 1.630 \\cdot 10^{ 2 }} = 5.629 \\ \\text{м} /\\text{c}$"
      ],
      "text/plain": [
       "<IPython.core.display.Math object>"
      ]
     },
     "execution_count": 81,
     "metadata": {},
     "output_type": "execute_result"
    }
   ],
   "source": [
    "rho_vih = 680.8\n",
    "rho_vh = 752.1\n",
    "rho_sr = (rho_vh + rho_vih) / 2\n",
    "w = G_reak / rho_sr / S_proh / N_tvs\n",
    "\n",
    "final_code = (\n",
    "r\"w = \\frac{G_{\\text{реак}}}{\\rho_{\\text{ср}} \\cdot S_{\\text{прох}} \\cdot N_{\\text{ТВС}}}\"\n",
    "fr\"= \\frac {{{tex_exp(G_reak)}}} {{{tex_exp(rho_sr)} \\cdot {tex_exp(S_proh)} \\cdot {tex_exp(N_tvs)}}} = {tex_exp(w)}\"\n",
    "r\"\\ \\text{м} /\\text{c}\"\n",
    ")\n",
    "\n",
    "print(final_code)\n",
    "Math(final_code)"
   ]
  },
  {
   "cell_type": "code",
   "execution_count": 82,
   "id": "05063a3d",
   "metadata": {},
   "outputs": [
    {
     "name": "stdout",
     "output_type": "stream",
     "text": [
      "\n",
      "\n",
      "\\Delta P_{\\text{тр}}=\\xi_{\\text{тр}}\\cdot\\frac{H_{\\text{аз}}}{d_{\\text{г}}}\\cdot \\frac {w^2}{2}\\rho\n",
      "=\n",
      "1.349 \\cdot 10^{ -02 } \\frac {3.500 } {9.263 \\cdot 10^{ -03 }} \\cdot \\frac {(5.629 )^2} {2} \\cdot 7.165 \\cdot 10^{ 2 }\n",
      "=5.785 \\cdot 10^{ 4 } \\text{Па}\n",
      "\n"
     ]
    },
    {
     "data": {
      "text/latex": [
       "$\\displaystyle \n",
       "\n",
       "\\Delta P_{\\text{тр}}=\\xi_{\\text{тр}}\\cdot\\frac{H_{\\text{аз}}}{d_{\\text{г}}}\\cdot \\frac {w^2}{2}\\rho\n",
       "=\n",
       "1.349 \\cdot 10^{ -02 } \\frac {3.500 } {9.263 \\cdot 10^{ -03 }} \\cdot \\frac {(5.629 )^2} {2} \\cdot 7.165 \\cdot 10^{ 2 }\n",
       "=5.785 \\cdot 10^{ 4 } \\text{Па}\n",
       "$"
      ],
      "text/plain": [
       "<IPython.core.display.Math object>"
      ]
     },
     "execution_count": 82,
     "metadata": {},
     "output_type": "execute_result"
    }
   ],
   "source": [
    "# w = 5.6\n",
    "rho_vih = 680.8\n",
    "rho_vh = 752.1\n",
    "rho_sr = (rho_vh + rho_vih) / 2\n",
    "w = G_tvs / rho_sr / S_proh\n",
    "Delta_P_tr = xi * H_az / d_g * w ** 2 / 2 * rho_sr\n",
    "Delta_P_tr_formula = r\"\"\"\n",
    "\\Delta P_{\\text{тр}}=\\xi_{\\text{тр}}\\cdot\\frac{H_{\\text{аз}}}{d_{\\text{г}}}\\cdot \\frac {w^2}{2}\\rho\n",
    "\"\"\"\n",
    "\n",
    "Delta_P_tr_nums = fr\"\"\"\n",
    "{tex_exp(xi)} \\frac {{{tex_exp(H_az)}}} {{{tex_exp(d_g)}}} \\cdot \\frac {{({tex_exp(w)})^2}} {{2}} \\cdot {tex_exp(rho_sr)}\n",
    "\"\"\"\n",
    "\n",
    "final_code = fr\"\"\"\n",
    "{Delta_P_tr_formula}={Delta_P_tr_nums}={tex_exp(Delta_P_tr)} \\text{{Па}}\n",
    "\"\"\"\n",
    "print(final_code)\n",
    "Math(final_code)"
   ]
  },
  {
   "cell_type": "code",
   "execution_count": 83,
   "id": "1292b8a4",
   "metadata": {},
   "outputs": [
    {
     "name": "stdout",
     "output_type": "stream",
     "text": [
      "\\begin{multline}\n",
      "\\Delta P_{\\mathrm{уск}} = \\left( \\frac{G_{\\text{реак}}}{N_{\\mathrm{TBC}} \\cdot S_{\\mathrm{npox}}} \\right)^{2} \\cdot \\left(\\frac{1}{\\rho_{\\mathrm{вых}}} - \\frac{1}{\\rho_{\\mathrm{вx}}} \\right)\n",
      "\n",
      "= \\\\ = \n",
      "\\left( \\frac{ 1.579 \\cdot 10^{ 4 } } { 1.630 \\cdot 10^{ 2 } \\cdot 2.402 \\cdot 10^{ -02 } } \\right)^2 \\cdot \\left(\\frac 1 { 6.808 \\cdot 10^{ 2 } } - \\frac 1  { 7.521 \\cdot 10^{ 2 } } \\right) =  2.265 \\cdot 10^{ 3 } \\text{Па}\n",
      "\\end{multline}\n"
     ]
    },
    {
     "data": {
      "text/latex": [
       "$\\displaystyle \\begin{multline}\n",
       "\\Delta P_{\\mathrm{уск}} = \\left( \\frac{G_{\\text{реак}}}{N_{\\mathrm{TBC}} \\cdot S_{\\mathrm{npox}}} \\right)^{2} \\cdot \\left(\\frac{1}{\\rho_{\\mathrm{вых}}} - \\frac{1}{\\rho_{\\mathrm{вx}}} \\right)\n",
       "\n",
       "= \\\\ = \n",
       "\\left( \\frac{ 1.579 \\cdot 10^{ 4 } } { 1.630 \\cdot 10^{ 2 } \\cdot 2.402 \\cdot 10^{ -02 } } \\right)^2 \\cdot \\left(\\frac 1 { 6.808 \\cdot 10^{ 2 } } - \\frac 1  { 7.521 \\cdot 10^{ 2 } } \\right) =  2.265 \\cdot 10^{ 3 } \\text{Па}\n",
       "\\end{multline}$"
      ],
      "text/plain": [
       "<IPython.core.display.Math object>"
      ]
     },
     "execution_count": 83,
     "metadata": {},
     "output_type": "execute_result"
    }
   ],
   "source": [
    "Delta_P_usk = ( G_reak  / (N_tvs * S_proh)) ** 2 * (1 / rho_vih - 1 / rho_vh)\n",
    "Delta_P_usk\n",
    "\n",
    "Delta_P_usk_formula = r\"\"\"\n",
    "\\Delta P_{\\mathrm{уск}} = \\left( \\frac{G_{\\text{реак}}}{N_{\\mathrm{TBC}} \\cdot S_{\\mathrm{npox}}} \\right)^{2} \\cdot \\left(\\frac{1}{\\rho_{\\mathrm{вых}}} - \\frac{1}{\\rho_{\\mathrm{вx}}} \\right)\n",
    "\n",
    "\"\"\"\n",
    "\n",
    "Delta_P_usk_nums = fr\"\"\"\n",
    "\\left( \\frac{{ {tex_exp(G_reak)} }} {{ {tex_exp(N_tvs)} \\cdot {tex_exp(S_proh)} }} \\right)^2 \\cdot \\left(\\frac 1 {{ {tex_exp(rho_vih)} }} - \\frac 1  {{ {tex_exp(rho_vh)} }} \\right) =  {tex_exp(Delta_P_usk)} \\text{{Па}}\n",
    "\"\"\"\n",
    "\n",
    "final_code = fr\"\\begin{{multline}}{Delta_P_usk_formula}= \\\\ = {Delta_P_usk_nums}\\end{{multline}}\"\n",
    "print(final_code)\n",
    "Math(final_code)"
   ]
  },
  {
   "cell_type": "code",
   "execution_count": 84,
   "id": "3a62e02e",
   "metadata": {},
   "outputs": [
    {
     "name": "stdout",
     "output_type": "stream",
     "text": [
      "\n",
      "\\Delta P_{\\text{нив}} = \\rho_{\\text{ср}} \\cdot g \\cdot H_{\\text{аз}}\n",
      "=\n",
      "7.165 \\cdot 10^{ 2 } \\cdot 9.807 \\cdot 3.500  = 2.459 \\cdot 10^{ 4 } \\text{Па}\n",
      "\n"
     ]
    },
    {
     "data": {
      "text/latex": [
       "$\\displaystyle \n",
       "\\Delta P_{\\text{нив}} = \\rho_{\\text{ср}} \\cdot g \\cdot H_{\\text{аз}}\n",
       "=\n",
       "7.165 \\cdot 10^{ 2 } \\cdot 9.807 \\cdot 3.500  = 2.459 \\cdot 10^{ 4 } \\text{Па}\n",
       "$"
      ],
      "text/plain": [
       "<IPython.core.display.Math object>"
      ]
     },
     "execution_count": 84,
     "metadata": {},
     "output_type": "execute_result"
    }
   ],
   "source": [
    "Delta_P_niv = rho_sr * 9.80665*H_az\n",
    "\n",
    "Delta_P_niv_formula = r\"\"\"\n",
    "\\Delta P_{\\text{нив}} = \\rho_{\\text{ср}} \\cdot g \\cdot H_{\\text{аз}}\n",
    "\"\"\"\n",
    "\n",
    "Delta_P_niv_nums = fr\"\"\"\n",
    "{tex_exp(rho_sr)} \\cdot 9.807 \\cdot {tex_exp(H_az)} = {tex_exp(Delta_P_niv)} \\text{{Па}}\n",
    "\"\"\"\n",
    "\n",
    "final_code = f\"{Delta_P_niv_formula}={Delta_P_niv_nums}\"\n",
    "print(final_code)\n",
    "Math(final_code)"
   ]
  },
  {
   "cell_type": "code",
   "execution_count": 86,
   "id": "d3336112",
   "metadata": {},
   "outputs": [
    {
     "name": "stdout",
     "output_type": "stream",
     "text": [
      "\n",
      "\\Delta P_{\\text{мест}} = \\frac{ \\left( \\frac{1.579 \\cdot 10^{ 4 }} {163 \\cdot 2.402 \\cdot 10^{ -02 } }  \\right)^2 } {2} \\cdot \\left( \\frac{ 2.6 }{ 7.521 \\cdot 10^{ 2 } } +\\frac{ 13 \\cdot 0.45 }{7.165 \\cdot 10^{ 2 }}+\\frac{0.26} { 6.808 \\cdot 10^{ 2 } } \\right) = 9.761 \\cdot 10^{ 4 } \\text{Па}\n",
      "\n"
     ]
    },
    {
     "data": {
      "text/latex": [
       "$\\displaystyle \n",
       "\\Delta P_{\\text{мест}} = \\frac{ \\left( \\frac{1.579 \\cdot 10^{ 4 }} {163 \\cdot 2.402 \\cdot 10^{ -02 } }  \\right)^2 } {2} \\cdot \\left( \\frac{ 2.6 }{ 7.521 \\cdot 10^{ 2 } } +\\frac{ 13 \\cdot 0.45 }{7.165 \\cdot 10^{ 2 }}+\\frac{0.26} { 6.808 \\cdot 10^{ 2 } } \\right) = 9.761 \\cdot 10^{ 4 } \\text{Па}\n",
       "$"
      ],
      "text/plain": [
       "<IPython.core.display.Math object>"
      ]
     },
     "execution_count": 86,
     "metadata": {},
     "output_type": "execute_result"
    }
   ],
   "source": [
    "Delta_P_mest = (G_reak / (N_tvs * S_proh)) ** 2 / 2 * (2.6 / rho_vh + 13 * 0.45 / rho_sr + 0.26 / rho_vih)\n",
    "Delta_P_mest_nums = fr\"\"\"\n",
    "\\Delta P_{{\\text{{мест}}}} = \\frac{{ \\left( \\frac{{{tex_exp(G_reak)}}} {{{N_tvs} \\cdot {tex_exp(S_proh)} }}  \\right)^2 }} {{2}} \\cdot \\left( \\frac{{ 2.6 }}{{ {tex_exp(rho_vh)} }} +\\frac{{ 13 \\cdot 0.45 }}{{{tex_exp(rho_sr)}}}+\\frac{{0.26}} {{ {tex_exp(rho_vih)} }} \\right) = {tex_exp(Delta_P_mest)} \\text{{Па}}\n",
    "\"\"\"\n",
    "print(Delta_P_mest_nums)\n",
    "Math(Delta_P_mest_nums)"
   ]
  },
  {
   "cell_type": "code",
   "execution_count": 87,
   "id": "0f5f52a8",
   "metadata": {},
   "outputs": [
    {
     "data": {
      "text/plain": [
       "'1.823 \\\\cdot 10^{ 5 }'"
      ]
     },
     "execution_count": 87,
     "metadata": {},
     "output_type": "execute_result"
    }
   ],
   "source": [
    "Delta_P = Delta_P_tr + Delta_P_usk + Delta_P_niv + Delta_P_mest\n",
    "Delta_P\n",
    "tex_exp(Delta_P)"
   ]
  },
  {
   "cell_type": "code",
   "execution_count": 88,
   "id": "ec1bfc94",
   "metadata": {},
   "outputs": [
    {
     "name": "stdout",
     "output_type": "stream",
     "text": [
      "\n",
      "N_{\\text{пр}} = 163 \\cdot \\frac {1.823 \\cdot 10^{ 5 } \\cdot 9.685 \\cdot 10^{ 1 }} {0.8 \\cdot 7.521 \\cdot 10^{ 2 }} = 4.783 \\cdot 10^{ 6 } \\text{Вт}\n",
      "\n"
     ]
    },
    {
     "data": {
      "text/latex": [
       "$\\displaystyle \n",
       "N_{\\text{пр}} = 163 \\cdot \\frac {1.823 \\cdot 10^{ 5 } \\cdot 9.685 \\cdot 10^{ 1 }} {0.8 \\cdot 7.521 \\cdot 10^{ 2 }} = 4.783 \\cdot 10^{ 6 } \\text{Вт}\n",
       "$"
      ],
      "text/plain": [
       "<IPython.core.display.Math object>"
      ]
     },
     "execution_count": 88,
     "metadata": {},
     "output_type": "execute_result"
    }
   ],
   "source": [
    "N_pr = N_tvs * Delta_P * G_tvs / ( 0.8 * rho_vh)\n",
    "N_pr\n",
    "N_pr_nums = fr\"\"\"\n",
    "N_{{\\text{{пр}}}} = {N_tvs} \\cdot \\frac {{{tex_exp(Delta_P)} \\cdot {tex_exp(G_tvs)}}} {{0.8 \\cdot {tex_exp(rho_vh)}}} = {tex_exp(N_pr)} \\text{{Вт}}\n",
    "\"\"\"\n",
    "\n",
    "print(N_pr_nums)\n",
    "Math(N_pr_nums)"
   ]
  },
  {
   "cell_type": "code",
   "execution_count": 89,
   "id": "980ab728",
   "metadata": {},
   "outputs": [
    {
     "name": "stdout",
     "output_type": "stream",
     "text": [
      "\\eta^{\\prime} = \\frac{1.000 \\cdot 10^{ 9 } - 4.783 \\cdot 10^{ 6 }}{2.904 \\cdot 10^{ 9 }}={3.427 \\cdot 10^{ -01 }}\n"
     ]
    },
    {
     "data": {
      "text/latex": [
       "$\\displaystyle \\eta^{\\prime} = \\frac{1.000 \\cdot 10^{ 9 } - 4.783 \\cdot 10^{ 6 }}{2.904 \\cdot 10^{ 9 }}={3.427 \\cdot 10^{ -01 }}$"
      ],
      "text/plain": [
       "<IPython.core.display.Math object>"
      ]
     },
     "execution_count": 89,
     "metadata": {},
     "output_type": "execute_result"
    }
   ],
   "source": [
    "eta_netto = (Q_el - N_pr) / Q_tep\n",
    "eta_netto_nums = fr\"\\eta^{{\\prime}} = \\frac{{{tex_exp(Q_el)} - {tex_exp(N_pr)}}}{{{tex_exp(Q_tep)}}}={{{tex_exp(eta_netto)}}}\"\n",
    "\n",
    "print(eta_netto_nums)\n",
    "Math(eta_netto_nums)"
   ]
  },
  {
   "cell_type": "markdown",
   "id": "aadf02c1",
   "metadata": {},
   "source": [
    "## ТРЕТОН"
   ]
  },
  {
   "cell_type": "markdown",
   "id": "eba09f96",
   "metadata": {},
   "source": [
    "### Подготовка $K_r$"
   ]
  },
  {
   "cell_type": "code",
   "execution_count": 90,
   "id": "b07441d5",
   "metadata": {},
   "outputs": [
    {
     "name": "stdout",
     "output_type": "stream",
     "text": [
      "[1.25, 1.248, 1.22, 1.17, 1.1, 1.02, 0.95, 0.88, 0.8]\n"
     ]
    },
    {
     "data": {
      "text/latex": [
       "$\\displaystyle \\sum K_r^iN^i=155.86800000000002$"
      ],
      "text/plain": [
       "<IPython.core.display.Math object>"
      ]
     },
     "metadata": {},
     "output_type": "display_data"
    },
    {
     "name": "stdout",
     "output_type": "stream",
     "text": [
      "press f to savej\n",
      "not saved\n"
     ]
    },
    {
     "data": {
      "image/png": "[encoded data removed]",
      "text/plain": [
       "<Figure size 432x288 with 1 Axes>"
      ]
     },
     "metadata": {
      "needs_background": "light"
     },
     "output_type": "display_data"
    }
   ],
   "source": [
    "import matplotlib.pyplot as pl\n",
    "from coursache import print_latex\n",
    "import numpy as np\n",
    "from pathlib import Path\n",
    "# from scipy.special import j0\n",
    "\n",
    "R_az = 1.56\n",
    "delta_eff = 10 * 10 ** -2\n",
    "\n",
    "def split_r_by_n(r, n) -> np.ndarray:\n",
    "    return np.array([ (r / n) * i for i in range(n+1) ])\n",
    "\n",
    "\n",
    "grid = split_r_by_n(R_az, 8)\n",
    "\n",
    "# def K_z_ref(r):\n",
    "    # return - r ** 2 + 1.25\n",
    " #    return j0(2.4048 / (R_az + delta_eff) * r) + 0.25\n",
    "\n",
    "def Podgon(r): \n",
    "    return - 0.17369 * r ** 2 + 1.25\n",
    "\n",
    "\n",
    "\n",
    "# ref_plot = (grid) , # K_z_ref(grid))\n",
    "\n",
    "# K_zs = (lambda r: - r ** 2 + 1)(grid) # np.array([1, 0.9, 0.8, 0.6, 0.5, 0.3, 0.25, 0.2, 0.1 ])\n",
    "\n",
    "K_zs = [1.25, 1.248, 1.22, 1.17 , 1.1,\n",
    "       1.02, 0.95, 0.88, 0.8]\n",
    "\n",
    "K_rs = np.round(Podgon(grid), decimals=2)\n",
    "K_rs = np.array([1.25, 1.24, 1.22, 1.19, 1.14, 1.08, 1, 0.93, 0.84])\n",
    "print(repr(K_zs))\n",
    "# K_zs = K_z_ref(grid)\n",
    "\n",
    "Tvses = np.array([0, 1, 6, 12, 18, 24, 30, 36, 36])\n",
    "\n",
    "Tvses_total = sum(K_zs[i] * Tvses[i] for i in range(8 + 1))\n",
    "print_latex(fr\"$\\sum K_r^iN^i={Tvses_total}$\")\n",
    "\n",
    "K_r_podgon = (grid, K_rs)\n",
    "\n",
    "\n",
    "# pl.plot(*ref_plot)\n",
    "# pl.scatter(*ref_plot)\n",
    "\n",
    "pl.scatter(*K_r_podgon)\n",
    "pl.plot(*K_r_podgon)\n",
    "\n",
    "for n, i in enumerate(grid, start=1):\n",
    "    pl.axvline(i, linestyle='--', color=\"gray\")\n",
    "    if n <= 8:\n",
    "        pl.text(i + R_az / 8 / 2 - 0.03, 0.9, f\"{n}\")\n",
    "pl.xlabel('r, м')\n",
    "pl.ylabel('$K_r$')\n",
    "K_rs = K_rs[1:]\n",
    "save = input(\"press f to save\"); pl.savefig(\"fig/Kr.png\", dpi=1000) if save == \"f\" else print(\"not saved\")"
   ]
  },
  {
   "cell_type": "code",
   "execution_count": 91,
   "id": "87cd69a8",
   "metadata": {},
   "outputs": [
    {
     "data": {
      "text/plain": [
       "array([0.   , 0.195, 0.39 , 0.585, 0.78 , 0.975, 1.17 , 1.365, 1.56 ])"
      ]
     },
     "execution_count": 91,
     "metadata": {},
     "output_type": "execute_result"
    }
   ],
   "source": [
    "grid"
   ]
  },
  {
   "cell_type": "markdown",
   "id": "d401014b",
   "metadata": {},
   "source": [
    "### Подготовка $K_z$"
   ]
  },
  {
   "cell_type": "code",
   "execution_count": 92,
   "id": "da3e26de",
   "metadata": {},
   "outputs": [],
   "source": [
    "from math import pi as π\n",
    "from math import cos\n",
    "H_az = 3.5\n",
    "Q_az = 2.904 * 10 ** 3 * 10 ** 6\n",
    "split = 30\n",
    "grid_z = [- H_az / 2 + H_az / split / 2 * (2 * n + 1) for n in range(30)]\n",
    "\n",
    "def Kz(z):\n",
    "    Kz = 1.5\n",
    "    Heff = 3.715\n",
    "    return Kz * cos (π * z / Heff)\n",
    "\n",
    "K_zs = np.array(list(map(Kz, grid_z)))"
   ]
  },
  {
   "cell_type": "code",
   "execution_count": 93,
   "id": "0ae45e70",
   "metadata": {},
   "outputs": [
    {
     "name": "stdout",
     "output_type": "stream",
     "text": [
      "press f to save9\n",
      "not saved\n"
     ]
    },
    {
     "data": {
      "image/png": "[encoded data removed]",
      "text/plain": [
       "<Figure size 432x288 with 1 Axes>"
      ]
     },
     "metadata": {
      "needs_background": "light"
     },
     "output_type": "display_data"
    }
   ],
   "source": [
    "pl.plot(grid_z, K_zs)\n",
    "pl.scatter(grid_z, K_zs)\n",
    "pl.xlabel(\"z, м\")\n",
    "pl.ylabel(\"$K_z$\")\n",
    "pl.grid()\n",
    "save = input(\"press f to save\"); pl.savefig(\"fig/Kz.png\", dpi=1000) if save == \"f\" else print(\"not saved\")\n"
   ]
  },
  {
   "cell_type": "markdown",
   "id": "a43a2512",
   "metadata": {},
   "source": [
    "Определим генерацию файла с тепловыделениями `Q6.txt`"
   ]
  },
  {
   "cell_type": "code",
   "execution_count": 97,
   "id": "bc432f51",
   "metadata": {},
   "outputs": [],
   "source": [
    "import pandas as pd\n",
    "\n",
    "#Q_txt = pd.read_csv(\"tools/TRETON/Q6.txt\", sep=r\"\\s+\", header=None)\n",
    "#Q_txt.head()\n",
    "\n",
    "r_split = [\n",
    "    [82],  # 1 белый\n",
    "    [68, 69, 83, 96, 95, 81],  # 2 фиолетовый\n",
    "    [54, 55, 56, 70, 84, 97, 110, 109, 108, 94, 80, 67],\n",
    "    [41, 42, 43, 44, 57, 71, 85, 98, 111, 123, 122, 121, 120, 107, 93, 79, 66, 53],\n",
    "    [29, 30, 31, 32, 33, 45, 58, 72, 86, 99, 112, 124, 135, 134, 133, 132, 131, 119, 106, 92, 78, 65, 52, 40],\n",
    "    [18, 19, 20, 21, 22, 23, 34, 46, 59, 73, 87, 100, 113, 125, 136, 146, 145, 144, 143, 142, 141, 130, 118, 105, 91, 77, 64, 51, 39, 28],\n",
    "    [8, 9, 10, 11, 12, 13, 14, 24, 35, 47, 60, 74, 88, 101, 114, 126, 137, 147, 156, 155, 154, 153, 152, 151, 150, 140, 129, 117, 104, 90, 76, 63, 50, 38, 27, 17],\n",
    "    [1, 2, 3, 4, 5, 6, 15, 25, 36, 48, 61, 75, 102, 115, 127, 138, 148, 157, 163, 162, 161, 160, 159, 158, 149, 139, 128, 116, 103, 89, 62, 49, 37, 26, 16, 7]\n",
    "]\n",
    "\n",
    "def Q_by_r(N=1, save=False, file: str | Path =\"Q_my.txt\"):\n",
    "    Q_my = pd.DataFrame(np.zeros((163, 30)))\n",
    "    for i in range(8):\n",
    "        for j in r_split[i]:\n",
    "            Q_my.iloc[j - 1] = N * K_rs[i] * Q_az / 163 / split * K_zs\n",
    "    if save:\n",
    "        Q_my.round(3).to_csv(file, sep= ' ', header=None, index=False)\n",
    "    return Q_my"
   ]
  },
  {
   "cell_type": "code",
   "execution_count": 95,
   "id": "1d60e9ba",
   "metadata": {},
   "outputs": [
    {
     "ename": "NameError",
     "evalue": "name 'Q_nominal' is not defined",
     "output_type": "error",
     "traceback": [
      "\u001b[0;31m---------------------------------------------------------------------------\u001b[0m",
      "\u001b[0;31mNameError\u001b[0m                                 Traceback (most recent call last)",
      "Input \u001b[0;32mIn [95]\u001b[0m, in \u001b[0;36m<cell line: 1>\u001b[0;34m()\u001b[0m\n\u001b[0;32m----> 1\u001b[0m \u001b[43mQ_nominal\u001b[49m\u001b[38;5;241m.\u001b[39mround(\u001b[38;5;241m3\u001b[39m)\u001b[38;5;241m.\u001b[39mto_csv(\u001b[38;5;124m\"\u001b[39m\u001b[38;5;124mwow.txt\u001b[39m\u001b[38;5;124m\"\u001b[39m, sep\u001b[38;5;241m=\u001b[39m \u001b[38;5;124m'\u001b[39m\u001b[38;5;124m \u001b[39m\u001b[38;5;124m'\u001b[39m, header\u001b[38;5;241m=\u001b[39m\u001b[38;5;28;01mNone\u001b[39;00m, index\u001b[38;5;241m=\u001b[39m\u001b[38;5;28;01mFalse\u001b[39;00m)\n",
      "\u001b[0;31mNameError\u001b[0m: name 'Q_nominal' is not defined"
     ]
    }
   ],
   "source": [
    "Q_nominal.round(3).to_csv(\"wow.txt\", sep= ' ', header=None, index=False)"
   ]
  },
  {
   "cell_type": "markdown",
   "id": "620f5fd5",
   "metadata": {},
   "source": [
    "Определим генерацию температур `T_IN.txt`"
   ]
  },
  {
   "cell_type": "code",
   "execution_count": 99,
   "id": "1dde632a",
   "metadata": {},
   "outputs": [],
   "source": [
    "from itertools import chain\n",
    "\n",
    "T_low = 284\n",
    "T_normal = 287\n",
    "az_quarts = {\n",
    "    'I': [1, 2, 3, 7, 8, 9, 10, 16, 17, 18, 19, 20, 26, 27, 28, 29, 30, 31, 37, 38, 39, 40, 41, 42, 49, 50, 51, 52, 53, 55, 62, 63, 64, 65, 66, 67, 68, 77, 79],\n",
    "    'II': [4, 5, 6, 11, 12, 13, 14, 15, 21, 22, 23, 24, 25, 32, 33, 34, 35, 36, 43, 44, 45, 46, 47, 48, 56, 57, 58, 59, 60, 61, 69, 70, 71, 72, 73, 74, 75, 83, 85, 87, 88],\n",
    "    'III': [76, 78, 80, 81, 89, 90, 91, 92, 93, 94, 95, 103, 104, 105, 106, 107, 108, 116, 117, 118, 119, 120, 121, 128, 129, 130, 131, 132, 139, 140, 141, 142, 143, 149, 150, 151, 152, 158, 159, 160],\n",
    "    'IV': [84, 86, 96, 97, 98, 99, 100, 101, 102, 109, 110, 111, 112, 113, 114, 115, 122, 123, 124, 125, 126, 127, 133, 134, 135, 136, 137, 138, 144, 145, 146, 147, 148, 153, 154, 155, 156, 157, 161, 162, 163]\n",
    "}\n",
    "DISABLED_QUARTS = 'I', 'IV'\n",
    "disabled_cells_i = set(chain.from_iterable(az_quarts[q] for q in DISABLED_QUARTS))\n",
    "\n",
    "\n",
    "def T_for_quarts(disabled_quarts=[], save=False, file: str | Path =\"T_IN.txt\", t_low=T_low, t_normal=T_normal):\n",
    "    DISABLED_QUARTS = disabled_quarts\n",
    "    disabled_cells_i = set(chain.from_iterable(az_quarts[q] for q in DISABLED_QUARTS))\n",
    "    Ts = pd.Series(np.full((163,), t_normal))\n",
    "    for i in range(163):\n",
    "        if i + 1 in disabled_cells_i:\n",
    "            Ts[i] = t_low\n",
    "    if save:\n",
    "        Ts.to_csv(file, sep=\" \", index=False, header=False)\n",
    "    return Ts\n"
   ]
  },
  {
   "cell_type": "markdown",
   "id": "69d29f98",
   "metadata": {},
   "source": [
    "### Номинальная мощность\n",
    "\n",
    "**Запускаем третон руками**"
   ]
  },
  {
   "cell_type": "code",
   "execution_count": 100,
   "id": "83653331",
   "metadata": {},
   "outputs": [],
   "source": [
    "TRETON_NOMINAL_FOLDER = Path(\"tools/TRETON-nominal\")\n",
    "COMMON_T_R_PLOT_ARGS = dict(xlabel=r\"z, м\", ylabel=r\"$T, ^\\circ C$\", grid=True)"
   ]
  },
  {
   "cell_type": "code",
   "execution_count": 106,
   "id": "721c6161",
   "metadata": {},
   "outputs": [
    {
     "data": {
      "text/html": [
       "<div>\n",
       "<style scoped>\n",
       "    .dataframe tbody tr th:only-of-type {\n",
       "        vertical-align: middle;\n",
       "    }\n",
       "\n",
       "    .dataframe tbody tr th {\n",
       "        vertical-align: top;\n",
       "    }\n",
       "\n",
       "    .dataframe thead th {\n",
       "        text-align: right;\n",
       "    }\n",
       "</style>\n",
       "<table border=\"1\" class=\"dataframe\">\n",
       "  <thead>\n",
       "    <tr style=\"text-align: right;\">\n",
       "      <th></th>\n",
       "      <th>0</th>\n",
       "      <th>1</th>\n",
       "      <th>2</th>\n",
       "      <th>3</th>\n",
       "      <th>4</th>\n",
       "      <th>5</th>\n",
       "      <th>6</th>\n",
       "      <th>7</th>\n",
       "      <th>8</th>\n",
       "      <th>9</th>\n",
       "      <th>...</th>\n",
       "      <th>20</th>\n",
       "      <th>21</th>\n",
       "      <th>22</th>\n",
       "      <th>23</th>\n",
       "      <th>24</th>\n",
       "      <th>25</th>\n",
       "      <th>26</th>\n",
       "      <th>27</th>\n",
       "      <th>28</th>\n",
       "      <th>29</th>\n",
       "    </tr>\n",
       "  </thead>\n",
       "  <tbody>\n",
       "    <tr>\n",
       "      <th>0</th>\n",
       "      <td>104591.584942</td>\n",
       "      <td>177063.460266</td>\n",
       "      <td>247813.259509</td>\n",
       "      <td>316152.887359</td>\n",
       "      <td>381417.689244</td>\n",
       "      <td>442972.915598</td>\n",
       "      <td>500219.895287</td>\n",
       "      <td>552601.85813</td>\n",
       "      <td>599609.349919</td>\n",
       "      <td>640785.187238</td>\n",
       "      <td>...</td>\n",
       "      <td>640785.187238</td>\n",
       "      <td>599609.349919</td>\n",
       "      <td>552601.85813</td>\n",
       "      <td>500219.895287</td>\n",
       "      <td>442972.915598</td>\n",
       "      <td>381417.689244</td>\n",
       "      <td>316152.887359</td>\n",
       "      <td>247813.259509</td>\n",
       "      <td>177063.460266</td>\n",
       "      <td>104591.584942</td>\n",
       "    </tr>\n",
       "    <tr>\n",
       "      <th>1</th>\n",
       "      <td>104591.584942</td>\n",
       "      <td>177063.460266</td>\n",
       "      <td>247813.259509</td>\n",
       "      <td>316152.887359</td>\n",
       "      <td>381417.689244</td>\n",
       "      <td>442972.915598</td>\n",
       "      <td>500219.895287</td>\n",
       "      <td>552601.85813</td>\n",
       "      <td>599609.349919</td>\n",
       "      <td>640785.187238</td>\n",
       "      <td>...</td>\n",
       "      <td>640785.187238</td>\n",
       "      <td>599609.349919</td>\n",
       "      <td>552601.85813</td>\n",
       "      <td>500219.895287</td>\n",
       "      <td>442972.915598</td>\n",
       "      <td>381417.689244</td>\n",
       "      <td>316152.887359</td>\n",
       "      <td>247813.259509</td>\n",
       "      <td>177063.460266</td>\n",
       "      <td>104591.584942</td>\n",
       "    </tr>\n",
       "    <tr>\n",
       "      <th>2</th>\n",
       "      <td>104591.584942</td>\n",
       "      <td>177063.460266</td>\n",
       "      <td>247813.259509</td>\n",
       "      <td>316152.887359</td>\n",
       "      <td>381417.689244</td>\n",
       "      <td>442972.915598</td>\n",
       "      <td>500219.895287</td>\n",
       "      <td>552601.85813</td>\n",
       "      <td>599609.349919</td>\n",
       "      <td>640785.187238</td>\n",
       "      <td>...</td>\n",
       "      <td>640785.187238</td>\n",
       "      <td>599609.349919</td>\n",
       "      <td>552601.85813</td>\n",
       "      <td>500219.895287</td>\n",
       "      <td>442972.915598</td>\n",
       "      <td>381417.689244</td>\n",
       "      <td>316152.887359</td>\n",
       "      <td>247813.259509</td>\n",
       "      <td>177063.460266</td>\n",
       "      <td>104591.584942</td>\n",
       "    </tr>\n",
       "    <tr>\n",
       "      <th>3</th>\n",
       "      <td>104591.584942</td>\n",
       "      <td>177063.460266</td>\n",
       "      <td>247813.259509</td>\n",
       "      <td>316152.887359</td>\n",
       "      <td>381417.689244</td>\n",
       "      <td>442972.915598</td>\n",
       "      <td>500219.895287</td>\n",
       "      <td>552601.85813</td>\n",
       "      <td>599609.349919</td>\n",
       "      <td>640785.187238</td>\n",
       "      <td>...</td>\n",
       "      <td>640785.187238</td>\n",
       "      <td>599609.349919</td>\n",
       "      <td>552601.85813</td>\n",
       "      <td>500219.895287</td>\n",
       "      <td>442972.915598</td>\n",
       "      <td>381417.689244</td>\n",
       "      <td>316152.887359</td>\n",
       "      <td>247813.259509</td>\n",
       "      <td>177063.460266</td>\n",
       "      <td>104591.584942</td>\n",
       "    </tr>\n",
       "    <tr>\n",
       "      <th>4</th>\n",
       "      <td>104591.584942</td>\n",
       "      <td>177063.460266</td>\n",
       "      <td>247813.259509</td>\n",
       "      <td>316152.887359</td>\n",
       "      <td>381417.689244</td>\n",
       "      <td>442972.915598</td>\n",
       "      <td>500219.895287</td>\n",
       "      <td>552601.85813</td>\n",
       "      <td>599609.349919</td>\n",
       "      <td>640785.187238</td>\n",
       "      <td>...</td>\n",
       "      <td>640785.187238</td>\n",
       "      <td>599609.349919</td>\n",
       "      <td>552601.85813</td>\n",
       "      <td>500219.895287</td>\n",
       "      <td>442972.915598</td>\n",
       "      <td>381417.689244</td>\n",
       "      <td>316152.887359</td>\n",
       "      <td>247813.259509</td>\n",
       "      <td>177063.460266</td>\n",
       "      <td>104591.584942</td>\n",
       "    </tr>\n",
       "    <tr>\n",
       "      <th>...</th>\n",
       "      <td>...</td>\n",
       "      <td>...</td>\n",
       "      <td>...</td>\n",
       "      <td>...</td>\n",
       "      <td>...</td>\n",
       "      <td>...</td>\n",
       "      <td>...</td>\n",
       "      <td>...</td>\n",
       "      <td>...</td>\n",
       "      <td>...</td>\n",
       "      <td>...</td>\n",
       "      <td>...</td>\n",
       "      <td>...</td>\n",
       "      <td>...</td>\n",
       "      <td>...</td>\n",
       "      <td>...</td>\n",
       "      <td>...</td>\n",
       "      <td>...</td>\n",
       "      <td>...</td>\n",
       "      <td>...</td>\n",
       "      <td>...</td>\n",
       "    </tr>\n",
       "    <tr>\n",
       "      <th>158</th>\n",
       "      <td>104591.584942</td>\n",
       "      <td>177063.460266</td>\n",
       "      <td>247813.259509</td>\n",
       "      <td>316152.887359</td>\n",
       "      <td>381417.689244</td>\n",
       "      <td>442972.915598</td>\n",
       "      <td>500219.895287</td>\n",
       "      <td>552601.85813</td>\n",
       "      <td>599609.349919</td>\n",
       "      <td>640785.187238</td>\n",
       "      <td>...</td>\n",
       "      <td>640785.187238</td>\n",
       "      <td>599609.349919</td>\n",
       "      <td>552601.85813</td>\n",
       "      <td>500219.895287</td>\n",
       "      <td>442972.915598</td>\n",
       "      <td>381417.689244</td>\n",
       "      <td>316152.887359</td>\n",
       "      <td>247813.259509</td>\n",
       "      <td>177063.460266</td>\n",
       "      <td>104591.584942</td>\n",
       "    </tr>\n",
       "    <tr>\n",
       "      <th>159</th>\n",
       "      <td>104591.584942</td>\n",
       "      <td>177063.460266</td>\n",
       "      <td>247813.259509</td>\n",
       "      <td>316152.887359</td>\n",
       "      <td>381417.689244</td>\n",
       "      <td>442972.915598</td>\n",
       "      <td>500219.895287</td>\n",
       "      <td>552601.85813</td>\n",
       "      <td>599609.349919</td>\n",
       "      <td>640785.187238</td>\n",
       "      <td>...</td>\n",
       "      <td>640785.187238</td>\n",
       "      <td>599609.349919</td>\n",
       "      <td>552601.85813</td>\n",
       "      <td>500219.895287</td>\n",
       "      <td>442972.915598</td>\n",
       "      <td>381417.689244</td>\n",
       "      <td>316152.887359</td>\n",
       "      <td>247813.259509</td>\n",
       "      <td>177063.460266</td>\n",
       "      <td>104591.584942</td>\n",
       "    </tr>\n",
       "    <tr>\n",
       "      <th>160</th>\n",
       "      <td>104591.584942</td>\n",
       "      <td>177063.460266</td>\n",
       "      <td>247813.259509</td>\n",
       "      <td>316152.887359</td>\n",
       "      <td>381417.689244</td>\n",
       "      <td>442972.915598</td>\n",
       "      <td>500219.895287</td>\n",
       "      <td>552601.85813</td>\n",
       "      <td>599609.349919</td>\n",
       "      <td>640785.187238</td>\n",
       "      <td>...</td>\n",
       "      <td>640785.187238</td>\n",
       "      <td>599609.349919</td>\n",
       "      <td>552601.85813</td>\n",
       "      <td>500219.895287</td>\n",
       "      <td>442972.915598</td>\n",
       "      <td>381417.689244</td>\n",
       "      <td>316152.887359</td>\n",
       "      <td>247813.259509</td>\n",
       "      <td>177063.460266</td>\n",
       "      <td>104591.584942</td>\n",
       "    </tr>\n",
       "    <tr>\n",
       "      <th>161</th>\n",
       "      <td>104591.584942</td>\n",
       "      <td>177063.460266</td>\n",
       "      <td>247813.259509</td>\n",
       "      <td>316152.887359</td>\n",
       "      <td>381417.689244</td>\n",
       "      <td>442972.915598</td>\n",
       "      <td>500219.895287</td>\n",
       "      <td>552601.85813</td>\n",
       "      <td>599609.349919</td>\n",
       "      <td>640785.187238</td>\n",
       "      <td>...</td>\n",
       "      <td>640785.187238</td>\n",
       "      <td>599609.349919</td>\n",
       "      <td>552601.85813</td>\n",
       "      <td>500219.895287</td>\n",
       "      <td>442972.915598</td>\n",
       "      <td>381417.689244</td>\n",
       "      <td>316152.887359</td>\n",
       "      <td>247813.259509</td>\n",
       "      <td>177063.460266</td>\n",
       "      <td>104591.584942</td>\n",
       "    </tr>\n",
       "    <tr>\n",
       "      <th>162</th>\n",
       "      <td>104591.584942</td>\n",
       "      <td>177063.460266</td>\n",
       "      <td>247813.259509</td>\n",
       "      <td>316152.887359</td>\n",
       "      <td>381417.689244</td>\n",
       "      <td>442972.915598</td>\n",
       "      <td>500219.895287</td>\n",
       "      <td>552601.85813</td>\n",
       "      <td>599609.349919</td>\n",
       "      <td>640785.187238</td>\n",
       "      <td>...</td>\n",
       "      <td>640785.187238</td>\n",
       "      <td>599609.349919</td>\n",
       "      <td>552601.85813</td>\n",
       "      <td>500219.895287</td>\n",
       "      <td>442972.915598</td>\n",
       "      <td>381417.689244</td>\n",
       "      <td>316152.887359</td>\n",
       "      <td>247813.259509</td>\n",
       "      <td>177063.460266</td>\n",
       "      <td>104591.584942</td>\n",
       "    </tr>\n",
       "  </tbody>\n",
       "</table>\n",
       "<p>163 rows × 30 columns</p>\n",
       "</div>"
      ],
      "text/plain": [
       "                0              1              2              3   \\\n",
       "0    104591.584942  177063.460266  247813.259509  316152.887359   \n",
       "1    104591.584942  177063.460266  247813.259509  316152.887359   \n",
       "2    104591.584942  177063.460266  247813.259509  316152.887359   \n",
       "3    104591.584942  177063.460266  247813.259509  316152.887359   \n",
       "4    104591.584942  177063.460266  247813.259509  316152.887359   \n",
       "..             ...            ...            ...            ...   \n",
       "158  104591.584942  177063.460266  247813.259509  316152.887359   \n",
       "159  104591.584942  177063.460266  247813.259509  316152.887359   \n",
       "160  104591.584942  177063.460266  247813.259509  316152.887359   \n",
       "161  104591.584942  177063.460266  247813.259509  316152.887359   \n",
       "162  104591.584942  177063.460266  247813.259509  316152.887359   \n",
       "\n",
       "                4              5              6             7              8   \\\n",
       "0    381417.689244  442972.915598  500219.895287  552601.85813  599609.349919   \n",
       "1    381417.689244  442972.915598  500219.895287  552601.85813  599609.349919   \n",
       "2    381417.689244  442972.915598  500219.895287  552601.85813  599609.349919   \n",
       "3    381417.689244  442972.915598  500219.895287  552601.85813  599609.349919   \n",
       "4    381417.689244  442972.915598  500219.895287  552601.85813  599609.349919   \n",
       "..             ...            ...            ...           ...            ...   \n",
       "158  381417.689244  442972.915598  500219.895287  552601.85813  599609.349919   \n",
       "159  381417.689244  442972.915598  500219.895287  552601.85813  599609.349919   \n",
       "160  381417.689244  442972.915598  500219.895287  552601.85813  599609.349919   \n",
       "161  381417.689244  442972.915598  500219.895287  552601.85813  599609.349919   \n",
       "162  381417.689244  442972.915598  500219.895287  552601.85813  599609.349919   \n",
       "\n",
       "                9   ...             20             21            22  \\\n",
       "0    640785.187238  ...  640785.187238  599609.349919  552601.85813   \n",
       "1    640785.187238  ...  640785.187238  599609.349919  552601.85813   \n",
       "2    640785.187238  ...  640785.187238  599609.349919  552601.85813   \n",
       "3    640785.187238  ...  640785.187238  599609.349919  552601.85813   \n",
       "4    640785.187238  ...  640785.187238  599609.349919  552601.85813   \n",
       "..             ...  ...            ...            ...           ...   \n",
       "158  640785.187238  ...  640785.187238  599609.349919  552601.85813   \n",
       "159  640785.187238  ...  640785.187238  599609.349919  552601.85813   \n",
       "160  640785.187238  ...  640785.187238  599609.349919  552601.85813   \n",
       "161  640785.187238  ...  640785.187238  599609.349919  552601.85813   \n",
       "162  640785.187238  ...  640785.187238  599609.349919  552601.85813   \n",
       "\n",
       "                23             24             25             26  \\\n",
       "0    500219.895287  442972.915598  381417.689244  316152.887359   \n",
       "1    500219.895287  442972.915598  381417.689244  316152.887359   \n",
       "2    500219.895287  442972.915598  381417.689244  316152.887359   \n",
       "3    500219.895287  442972.915598  381417.689244  316152.887359   \n",
       "4    500219.895287  442972.915598  381417.689244  316152.887359   \n",
       "..             ...            ...            ...            ...   \n",
       "158  500219.895287  442972.915598  381417.689244  316152.887359   \n",
       "159  500219.895287  442972.915598  381417.689244  316152.887359   \n",
       "160  500219.895287  442972.915598  381417.689244  316152.887359   \n",
       "161  500219.895287  442972.915598  381417.689244  316152.887359   \n",
       "162  500219.895287  442972.915598  381417.689244  316152.887359   \n",
       "\n",
       "                27             28             29  \n",
       "0    247813.259509  177063.460266  104591.584942  \n",
       "1    247813.259509  177063.460266  104591.584942  \n",
       "2    247813.259509  177063.460266  104591.584942  \n",
       "3    247813.259509  177063.460266  104591.584942  \n",
       "4    247813.259509  177063.460266  104591.584942  \n",
       "..             ...            ...            ...  \n",
       "158  247813.259509  177063.460266  104591.584942  \n",
       "159  247813.259509  177063.460266  104591.584942  \n",
       "160  247813.259509  177063.460266  104591.584942  \n",
       "161  247813.259509  177063.460266  104591.584942  \n",
       "162  247813.259509  177063.460266  104591.584942  \n",
       "\n",
       "[163 rows x 30 columns]"
      ]
     },
     "execution_count": 106,
     "metadata": {},
     "output_type": "execute_result"
    }
   ],
   "source": [
    "Q_nominal"
   ]
  },
  {
   "cell_type": "code",
   "execution_count": 48,
   "id": "015575ab",
   "metadata": {},
   "outputs": [
    {
     "ename": "NameError",
     "evalue": "name 'TRETON_NOMINAL_FOLDER' is not defined",
     "output_type": "error",
     "traceback": [
      "\u001b[0;31m---------------------------------------------------------------------------\u001b[0m",
      "\u001b[0;31mNameError\u001b[0m                                 Traceback (most recent call last)",
      "Input \u001b[0;32mIn [48]\u001b[0m, in \u001b[0;36m<cell line: 1>\u001b[0;34m()\u001b[0m\n\u001b[0;32m----> 1\u001b[0m Q_nominal \u001b[38;5;241m=\u001b[39m Q_by_r(N\u001b[38;5;241m=\u001b[39m\u001b[38;5;241m1\u001b[39m, save\u001b[38;5;241m=\u001b[39m\u001b[38;5;28;01mTrue\u001b[39;00m, file\u001b[38;5;241m=\u001b[39m\u001b[43mTRETON_NOMINAL_FOLDER\u001b[49m \u001b[38;5;241m/\u001b[39m \u001b[38;5;124m\"\u001b[39m\u001b[38;5;124mQ6.txt\u001b[39m\u001b[38;5;124m\"\u001b[39m)\n\u001b[1;32m      2\u001b[0m T_IN_nominal \u001b[38;5;241m=\u001b[39m T_for_quarts(save\u001b[38;5;241m=\u001b[39m\u001b[38;5;28;01mTrue\u001b[39;00m, file\u001b[38;5;241m=\u001b[39mTRETON_NOMINAL_FOLDER \u001b[38;5;241m/\u001b[39m \u001b[38;5;124m\"\u001b[39m\u001b[38;5;124mT_IN.txt\u001b[39m\u001b[38;5;124m\"\u001b[39m)\n",
      "\u001b[0;31mNameError\u001b[0m: name 'TRETON_NOMINAL_FOLDER' is not defined"
     ]
    }
   ],
   "source": [
    "Q_nominal = Q_by_r(N=1, save=True, file=TRETON_NOMINAL_FOLDER / \"Q6.txt\")\n",
    "T_IN_nominal = T_for_quarts(save=True, file=TRETON_NOMINAL_FOLDER / \"T_IN.txt\")"
   ]
  },
  {
   "cell_type": "markdown",
   "id": "1a8c74e1",
   "metadata": {},
   "source": [
    "**Графики**"
   ]
  },
  {
   "cell_type": "code",
   "execution_count": 101,
   "id": "e9baae5a",
   "metadata": {},
   "outputs": [],
   "source": [
    "import math\n",
    "T_teplonos_nominal = pd.read_csv(TRETON_NOMINAL_FOLDER / \"t_tepl.dat\", \n",
    "                                 sep=r\"\\s+\", header=None)\\\n",
    "                                    .loc[:, 2:].set_axis(grid_z, axis=1)"
   ]
  },
  {
   "cell_type": "markdown",
   "id": "5a5007f2",
   "metadata": {},
   "source": [
    "Температура теплоносителя усрелненная по всем кассетам в сравнении с теплофизом"
   ]
  },
  {
   "cell_type": "code",
   "execution_count": 102,
   "id": "c12d8026",
   "metadata": {},
   "outputs": [
    {
     "name": "stdout",
     "output_type": "stream",
     "text": [
      "Отклонение максимальной температуры теплоносителя от теплофиза составляет -0.0842066267327084 %\n",
      "среднее квадратичное отклонение  1.838261757930391\n"
     ]
    },
    {
     "data": {
      "image/png": "[encoded data removed]",
      "text/plain": [
       "<Figure size 432x288 with 1 Axes>"
      ]
     },
     "metadata": {
      "needs_background": "light"
     },
     "output_type": "display_data"
    }
   ],
   "source": [
    "T_teplonos_nominal.mean().plot(xlabel=r\"z, м\", ylabel=r\"$T, ^\\circ C$\", grid=True, label=\"расчет кодом ТРЕТОН\")\n",
    "pl.plot(grid_z, T(np.array(grid_z)) - 273, label=\"Теплофизический расчет\")\n",
    "pl.axhline(345.8, linestyle=\"--\", label=\"Температура кипения\", c='r')\n",
    "\n",
    "# pl.text(H_az / 2, 280, r\"$\\frac{H_{аз}}{2}$\")\n",
    "# pl.axvline(H_az / 2, linestyle='--', color=\"grey\")\n",
    "\n",
    "# pl.text(- H_az / 2  - 0.07, 280, r\"$\\frac{ - H_{аз}}{2}$\")\n",
    "# pl.axvline( - H_az / 2, linestyle='--', color=\"grey\")\n",
    "# pl.legend()\n",
    "\n",
    "\n",
    "\n",
    "Delta_T_teplonos_nominal_reference = T_teplonos_nominal.mean() * 100 / (T(np.array(grid_z)) - 273) - 100\n",
    "print(\"Отклонение максимальной температуры теплоносителя \"\n",
    "      f\"от теплофиза составляет {Delta_T_teplonos_nominal_reference[grid_z[-1]]} %\")\n",
    "\n",
    "# Pogr_Delta_T_teplonos_nominal_reference = np.sqrt(sum((T_teplonos_nominal.mean()[z] - (T(z) - 273)) ** 2 for z in grid_z) / len(grid_z) * (len(grid_\n",
    "print(\"среднее квадратичное отклонение \", \n",
    "      np.sqrt(\n",
    "           sum( (T_teplonos_nominal.mean() - T(np.array(grid_z)) + 273) ** 2 ) / \n",
    "          # --------------------------------------------------------------------\n",
    "                                   len(grid_z)\n",
    "      )\n",
    ")\n",
    "pl.legend()\n",
    "pl.savefig(\"fig/treton_nominal_t_z.png\", dpi=1000)\n",
    "pl.show()"
   ]
  },
  {
   "cell_type": "code",
   "execution_count": 103,
   "id": "578d1c47",
   "metadata": {},
   "outputs": [
    {
     "data": {
      "text/plain": [
       "[-1.6916666666666667,\n",
       " -1.575,\n",
       " -1.4583333333333333,\n",
       " -1.3416666666666668,\n",
       " -1.225,\n",
       " -1.1083333333333334,\n",
       " -0.9916666666666667,\n",
       " -0.875,\n",
       " -0.7583333333333333,\n",
       " -0.6416666666666666,\n",
       " -0.5249999999999999,\n",
       " -0.4083333333333332,\n",
       " -0.29166666666666674,\n",
       " -0.17500000000000004,\n",
       " -0.05833333333333335,\n",
       " 0.05833333333333335,\n",
       " 0.17500000000000004,\n",
       " 0.2916666666666665,\n",
       " 0.4083333333333332,\n",
       " 0.5249999999999999,\n",
       " 0.6416666666666666,\n",
       " 0.7583333333333333,\n",
       " 0.875,\n",
       " 0.9916666666666667,\n",
       " 1.1083333333333334,\n",
       " 1.225,\n",
       " 1.3416666666666668,\n",
       " 1.4583333333333335,\n",
       " 1.5750000000000002,\n",
       " 1.6916666666666669]"
      ]
     },
     "execution_count": 103,
     "metadata": {},
     "output_type": "execute_result"
    }
   ],
   "source": [
    "grid_z"
   ]
  },
  {
   "cell_type": "code",
   "execution_count": 104,
   "id": "6bb05146",
   "metadata": {},
   "outputs": [
    {
     "data": {
      "text/plain": [
       "<AxesSubplot:xlabel='z, м', ylabel='Превышение температуры, %'>"
      ]
     },
     "execution_count": 104,
     "metadata": {},
     "output_type": "execute_result"
    },
    {
     "data": {
      "image/png": "[encoded data removed]",
      "text/plain": [
       "<Figure size 432x288 with 1 Axes>"
      ]
     },
     "metadata": {
      "needs_background": "light"
     },
     "output_type": "display_data"
    }
   ],
   "source": [
    "Delta_T_teplonos_nominal_reference.plot(xlabel=\"z, м\", ylabel=\"Превышение температуры, %\", grid=True)"
   ]
  },
  {
   "cell_type": "code",
   "execution_count": 105,
   "id": "4cbf6449",
   "metadata": {},
   "outputs": [
    {
     "data": {
      "image/png": "[encoded data removed]",
      "text/plain": [
       "<Figure size 432x288 with 1 Axes>"
      ]
     },
     "metadata": {
      "needs_background": "light"
     },
     "output_type": "display_data"
    }
   ],
   "source": [
    "for r in range(8):\n",
    "    T_teplonos_nominal.iloc[np.array(r_split[r]) - 1].mean().plot(label=f\"{r + 1} зона\", **COMMON_T_R_PLOT_ARGS)\n",
    "pl.legend()\n",
    "pl.savefig(\"fig/treton_nominal_t_z_by_r.png\", dpi=1000)"
   ]
  },
  {
   "cell_type": "code",
   "execution_count": 136,
   "id": "6ca772c1",
   "metadata": {},
   "outputs": [
    {
     "name": "stdout",
     "output_type": "stream",
     "text": [
      "Запас до кипения 13.954099999999983\n",
      "Макс температура теплоносителя 332.5459\n"
     ]
    },
    {
     "data": {
      "image/png": "[encoded data removed]",
      "text/plain": [
       "<Figure size 432x288 with 1 Axes>"
      ]
     },
     "metadata": {
      "needs_background": "light"
     },
     "output_type": "display_data"
    }
   ],
   "source": [
    "T_tepl_max = T_teplonos_nominal.iloc[T_teplonos_nominal.idxmax().values[-1]]\n",
    "T_tepl_max.plot(xlabel=r\"z, м\", ylabel=r\"$T, ^\\circ C$\", grid=True, label=\"Температура теплоносителя\" )\n",
    "pl.axhline(346.5, linestyle=\"--\", label=\"Температура кипения теплоносителя\", c='r')\n",
    "pl.legend()\n",
    "pl.savefig(\"fig/treton_nominal_t_z_max.png\", dpi=1000)\n",
    "\n",
    "T_tepl_boil = 346.5 # for 15.8 МПа\n",
    "T_nominal_before_boiling = T_tepl_boil  - T_tepl_max.max()\n",
    "print(\"Запас до кипения\",  T_nominal_before_boiling)\n",
    "print(\"Макс температура теплоносителя\", T_tepl_max.max())"
   ]
  },
  {
   "cell_type": "code",
   "execution_count": 137,
   "id": "636d9143",
   "metadata": {},
   "outputs": [
    {
     "data": {
      "text/plain": [
       "-1.691667    287.9086\n",
       "-1.575000    288.9655\n",
       "-1.458333    290.1614\n",
       "-1.341667    291.4253\n",
       "-1.225000    292.8184\n",
       "-1.108333    294.3350\n",
       "-0.991667    295.9668\n",
       "-0.875000    297.7032\n",
       "-0.758333    299.5339\n",
       "-0.641667    301.4465\n",
       "-0.525000    303.4289\n",
       "-0.408333    305.4673\n",
       "-0.291667    307.5491\n",
       "-0.175000    309.6412\n",
       "-0.058333    311.5574\n",
       " 0.058333    313.4312\n",
       " 0.175000    315.2919\n",
       " 0.291667    317.1260\n",
       " 0.408333    318.9218\n",
       " 0.525000    320.6661\n",
       " 0.641667    322.3483\n",
       " 0.758333    323.9566\n",
       " 0.875000    325.4818\n",
       " 0.991667    326.9136\n",
       " 1.108333    328.2475\n",
       " 1.225000    329.4410\n",
       " 1.341667    330.3862\n",
       " 1.458333    331.2038\n",
       " 1.575000    331.8858\n",
       " 1.691667    332.5459\n",
       "Name: 81, dtype: float64"
      ]
     },
     "execution_count": 137,
     "metadata": {},
     "output_type": "execute_result"
    }
   ],
   "source": [
    "T_teplonos_nominal.iloc[T_teplonos_nominal.idxmax().values[-1]]"
   ]
  },
  {
   "cell_type": "markdown",
   "id": "aaebdf39",
   "metadata": {},
   "source": [
    "Температура топлива в кассете с максимальной температурой по высоте"
   ]
  },
  {
   "cell_type": "code",
   "execution_count": 108,
   "id": "1b9bc885",
   "metadata": {},
   "outputs": [
    {
     "data": {
      "text/plain": [
       "1087.36"
      ]
     },
     "execution_count": 108,
     "metadata": {},
     "output_type": "execute_result"
    },
    {
     "data": {
      "image/png": "[encoded data removed]",
      "text/plain": [
       "<Figure size 432x288 with 1 Axes>"
      ]
     },
     "metadata": {
      "needs_background": "light"
     },
     "output_type": "display_data"
    }
   ],
   "source": [
    "T_fuel_nominal = pd.read_csv(TRETON_NOMINAL_FOLDER / \"t_fuel.dat\", \n",
    "                             sep=r\"\\s+\", header=None)\\\n",
    "                              .loc[:, 2:].set_axis(grid_z, axis=1)\n",
    "T_fuel_max = T_fuel_nominal.iloc[T_fuel_nominal.idxmax().values[15]]\n",
    "T_fuel_max.plot(xlabel=r\"z, м\", ylabel=r\"$T, ^\\circ C$\", grid=True)\n",
    "# pl.plot(grid_z, T_top(np.array(grid_z)) - 273)\n",
    "pl.savefig(\"fig/treton_nominal_t_fuel_max.png\", dpi=1000)\n",
    "T_fuel_max.max()"
   ]
  },
  {
   "cell_type": "code",
   "execution_count": 109,
   "id": "d0cfc2c8",
   "metadata": {},
   "outputs": [
    {
     "data": {
      "text/plain": [
       "-1.691667     612.49\n",
       "-1.575000     665.08\n",
       "-1.458333     716.45\n",
       "-1.341667     766.14\n",
       "-1.225000     813.69\n",
       "-1.108333     858.64\n",
       "-0.991667     900.55\n",
       "-0.875000     939.04\n",
       "-0.758333     973.72\n",
       "-0.641667    1004.27\n",
       "-0.525000    1030.40\n",
       "-0.408333    1051.85\n",
       "-0.291667    1068.41\n",
       "-0.175000    1079.90\n",
       "-0.058333    1086.22\n",
       " 0.058333    1087.36\n",
       " 0.175000    1083.27\n",
       " 0.291667    1074.01\n",
       " 0.408333    1059.67\n",
       " 0.525000    1040.39\n",
       " 0.641667    1016.41\n",
       " 0.758333     987.96\n",
       " 0.875000     955.35\n",
       " 0.991667     918.92\n",
       " 1.108333     879.04\n",
       " 1.225000     836.05\n",
       " 1.341667     790.39\n",
       " 1.458333     742.53\n",
       " 1.575000     692.94\n",
       " 1.691667     642.23\n",
       "dtype: float64"
      ]
     },
     "execution_count": 109,
     "metadata": {},
     "output_type": "execute_result"
    }
   ],
   "source": [
    "T_fuel_nominal.max(axis=0)"
   ]
  },
  {
   "cell_type": "code",
   "execution_count": 110,
   "id": "57d9b263",
   "metadata": {},
   "outputs": [
    {
     "data": {
      "image/png": "[encoded data removed]",
      "text/plain": [
       "<Figure size 432x288 with 1 Axes>"
      ]
     },
     "metadata": {
      "needs_background": "light"
     },
     "output_type": "display_data"
    }
   ],
   "source": [
    "for r in range(8):\n",
    "    T_fuel_nominal.iloc[np.array(r_split[r]) - 1].mean().plot(label=f\"{r + 1} зона\", **COMMON_T_R_PLOT_ARGS)\n",
    "pl.legend()\n",
    "pl.savefig(\"fig/treton_nominal_t_fuel_by_r.png\", dpi=1000)"
   ]
  },
  {
   "cell_type": "code",
   "execution_count": 111,
   "id": "15cac955",
   "metadata": {},
   "outputs": [],
   "source": [
    "T_obl_naruj_nominal = pd.read_csv(TRETON_NOMINAL_FOLDER / \"t_r_obl_naruj.dat\",\n",
    "                                 sep=r\"\\s+\", header=None)\\\n",
    "                                    .loc[:, 2:].set_axis(grid_z, axis=1)\n",
    "T_obl_vnutr_nominal = pd.read_csv(TRETON_NOMINAL_FOLDER / \"t_r_obl_vnutr.dat\",\n",
    "                                 sep=r\"\\s+\", header=None)\\\n",
    "                                    .loc[:, 2:].set_axis(grid_z, axis=1)"
   ]
  },
  {
   "cell_type": "code",
   "execution_count": 112,
   "id": "d0450468",
   "metadata": {},
   "outputs": [
    {
     "name": "stdout",
     "output_type": "stream",
     "text": [
      "Запас до кипения 0.041200000000003456\n"
     ]
    },
    {
     "data": {
      "text/plain": [
       "346.4588"
      ]
     },
     "execution_count": 112,
     "metadata": {},
     "output_type": "execute_result"
    },
    {
     "data": {
      "image/png": "[encoded data removed]",
      "text/plain": [
       "<Figure size 432x288 with 1 Axes>"
      ]
     },
     "metadata": {
      "needs_background": "light"
     },
     "output_type": "display_data"
    }
   ],
   "source": [
    "T_obl_naruj_max = T_obl_naruj_nominal.iloc[T_obl_naruj_nominal.idxmax().values[-1]]\n",
    "T_obl_vnutr_max = T_obl_vnutr_nominal.iloc[T_obl_vnutr_nominal.idxmax().values[-1]]\n",
    "T_obl_naruj_max.plot(grid=True, xlabel=\"z, м\", ylabel=\"$T, ^\\circ C$\")\n",
    "pl.axhline(346.5, linestyle='--', c='r')\n",
    "print(\"Запас до кипения\", 346.5 - T_obl_naruj_max.max())\n",
    "pl.savefig(\"fig/treton_nominal_obl_naruj_max.png\", dpi=1000)\n",
    "T_obl_naruj_max.max()"
   ]
  },
  {
   "cell_type": "code",
   "execution_count": 113,
   "id": "8ec6ee53",
   "metadata": {},
   "outputs": [
    {
     "data": {
      "image/png": "[encoded data removed]",
      "text/plain": [
       "<Figure size 432x288 with 1 Axes>"
      ]
     },
     "metadata": {
      "needs_background": "light"
     },
     "output_type": "display_data"
    }
   ],
   "source": [
    "T_obl_naruj_max.plot(xlabel=r\"z, м\", ylabel=r\"$T, ^\\circ C$\", grid=True, label=\"Наружняя оболочка\")\n",
    "T_obl_vnutr_max.plot(xlabel=r\"z, м\", ylabel=r\"$T, ^\\circ C$\", grid=True, label=\"Внутренняя оболочка\")\n",
    "T_tepl_max.plot(xlabel=r\"z, м\", ylabel=r\"$T, ^\\circ C$\", grid=True, label=\"Температура теплоносителя\" )\n",
    "pl.legend()\n",
    "pl.savefig(\"fig/treton_nominal_obl_tepl_obsh.png\")"
   ]
  },
  {
   "cell_type": "code",
   "execution_count": 114,
   "id": "5fccc593",
   "metadata": {},
   "outputs": [
    {
     "data": {
      "text/html": [
       "<div>\n",
       "<style scoped>\n",
       "    .dataframe tbody tr th:only-of-type {\n",
       "        vertical-align: middle;\n",
       "    }\n",
       "\n",
       "    .dataframe tbody tr th {\n",
       "        vertical-align: top;\n",
       "    }\n",
       "\n",
       "    .dataframe thead th {\n",
       "        text-align: right;\n",
       "    }\n",
       "</style>\n",
       "<table border=\"1\" class=\"dataframe\">\n",
       "  <thead>\n",
       "    <tr style=\"text-align: right;\">\n",
       "      <th></th>\n",
       "      <th>-1.691667</th>\n",
       "      <th>-1.575000</th>\n",
       "      <th>-1.458333</th>\n",
       "      <th>-1.341667</th>\n",
       "      <th>-1.225000</th>\n",
       "      <th>-1.108333</th>\n",
       "      <th>-0.991667</th>\n",
       "      <th>-0.875000</th>\n",
       "      <th>-0.758333</th>\n",
       "      <th>-0.641667</th>\n",
       "      <th>...</th>\n",
       "      <th>0.641667</th>\n",
       "      <th>0.758333</th>\n",
       "      <th>0.875000</th>\n",
       "      <th>0.991667</th>\n",
       "      <th>1.108333</th>\n",
       "      <th>1.225000</th>\n",
       "      <th>1.341667</th>\n",
       "      <th>1.458333</th>\n",
       "      <th>1.575000</th>\n",
       "      <th>1.691667</th>\n",
       "    </tr>\n",
       "  </thead>\n",
       "  <tbody>\n",
       "    <tr>\n",
       "      <th>0</th>\n",
       "      <td>299.0683</td>\n",
       "      <td>301.4061</td>\n",
       "      <td>303.7891</td>\n",
       "      <td>306.1448</td>\n",
       "      <td>308.4980</td>\n",
       "      <td>310.8431</td>\n",
       "      <td>313.1633</td>\n",
       "      <td>315.4414</td>\n",
       "      <td>317.6620</td>\n",
       "      <td>319.8097</td>\n",
       "      <td>...</td>\n",
       "      <td>334.9683</td>\n",
       "      <td>335.4108</td>\n",
       "      <td>335.7140</td>\n",
       "      <td>335.8809</td>\n",
       "      <td>335.9170</td>\n",
       "      <td>335.8272</td>\n",
       "      <td>335.6186</td>\n",
       "      <td>335.2984</td>\n",
       "      <td>334.8712</td>\n",
       "      <td>334.4088</td>\n",
       "    </tr>\n",
       "    <tr>\n",
       "      <th>1</th>\n",
       "      <td>299.0683</td>\n",
       "      <td>301.4060</td>\n",
       "      <td>303.7891</td>\n",
       "      <td>306.1448</td>\n",
       "      <td>308.4980</td>\n",
       "      <td>310.8432</td>\n",
       "      <td>313.1635</td>\n",
       "      <td>315.4417</td>\n",
       "      <td>317.6623</td>\n",
       "      <td>319.8102</td>\n",
       "      <td>...</td>\n",
       "      <td>334.9636</td>\n",
       "      <td>335.4055</td>\n",
       "      <td>335.7080</td>\n",
       "      <td>335.8745</td>\n",
       "      <td>335.9103</td>\n",
       "      <td>335.8202</td>\n",
       "      <td>335.6114</td>\n",
       "      <td>335.2909</td>\n",
       "      <td>334.8632</td>\n",
       "      <td>334.3997</td>\n",
       "    </tr>\n",
       "    <tr>\n",
       "      <th>2</th>\n",
       "      <td>299.0697</td>\n",
       "      <td>301.4078</td>\n",
       "      <td>303.7912</td>\n",
       "      <td>306.1471</td>\n",
       "      <td>308.5007</td>\n",
       "      <td>310.8460</td>\n",
       "      <td>313.1663</td>\n",
       "      <td>315.4444</td>\n",
       "      <td>317.6646</td>\n",
       "      <td>319.8118</td>\n",
       "      <td>...</td>\n",
       "      <td>334.9494</td>\n",
       "      <td>335.3897</td>\n",
       "      <td>335.6910</td>\n",
       "      <td>335.8564</td>\n",
       "      <td>335.8915</td>\n",
       "      <td>335.8012</td>\n",
       "      <td>335.5927</td>\n",
       "      <td>335.2732</td>\n",
       "      <td>334.8470</td>\n",
       "      <td>334.3861</td>\n",
       "    </tr>\n",
       "    <tr>\n",
       "      <th>3</th>\n",
       "      <td>299.0690</td>\n",
       "      <td>301.4070</td>\n",
       "      <td>303.7902</td>\n",
       "      <td>306.1461</td>\n",
       "      <td>308.4995</td>\n",
       "      <td>310.8447</td>\n",
       "      <td>313.1649</td>\n",
       "      <td>315.4429</td>\n",
       "      <td>317.6632</td>\n",
       "      <td>319.8106</td>\n",
       "      <td>...</td>\n",
       "      <td>334.9574</td>\n",
       "      <td>335.3988</td>\n",
       "      <td>335.7009</td>\n",
       "      <td>335.8669</td>\n",
       "      <td>335.9023</td>\n",
       "      <td>335.8119</td>\n",
       "      <td>335.6030</td>\n",
       "      <td>335.2826</td>\n",
       "      <td>334.8555</td>\n",
       "      <td>334.3935</td>\n",
       "    </tr>\n",
       "    <tr>\n",
       "      <th>4</th>\n",
       "      <td>299.0677</td>\n",
       "      <td>301.4055</td>\n",
       "      <td>303.7886</td>\n",
       "      <td>306.1444</td>\n",
       "      <td>308.4977</td>\n",
       "      <td>310.8430</td>\n",
       "      <td>313.1633</td>\n",
       "      <td>315.4415</td>\n",
       "      <td>317.6621</td>\n",
       "      <td>319.8097</td>\n",
       "      <td>...</td>\n",
       "      <td>334.9537</td>\n",
       "      <td>335.3943</td>\n",
       "      <td>335.6957</td>\n",
       "      <td>335.8612</td>\n",
       "      <td>335.8962</td>\n",
       "      <td>335.8059</td>\n",
       "      <td>335.5974</td>\n",
       "      <td>335.2779</td>\n",
       "      <td>334.8521</td>\n",
       "      <td>334.3918</td>\n",
       "    </tr>\n",
       "    <tr>\n",
       "      <th>...</th>\n",
       "      <td>...</td>\n",
       "      <td>...</td>\n",
       "      <td>...</td>\n",
       "      <td>...</td>\n",
       "      <td>...</td>\n",
       "      <td>...</td>\n",
       "      <td>...</td>\n",
       "      <td>...</td>\n",
       "      <td>...</td>\n",
       "      <td>...</td>\n",
       "      <td>...</td>\n",
       "      <td>...</td>\n",
       "      <td>...</td>\n",
       "      <td>...</td>\n",
       "      <td>...</td>\n",
       "      <td>...</td>\n",
       "      <td>...</td>\n",
       "      <td>...</td>\n",
       "      <td>...</td>\n",
       "      <td>...</td>\n",
       "      <td>...</td>\n",
       "    </tr>\n",
       "    <tr>\n",
       "      <th>158</th>\n",
       "      <td>299.0707</td>\n",
       "      <td>301.4089</td>\n",
       "      <td>303.7923</td>\n",
       "      <td>306.1482</td>\n",
       "      <td>308.5016</td>\n",
       "      <td>310.8468</td>\n",
       "      <td>313.1669</td>\n",
       "      <td>315.4449</td>\n",
       "      <td>317.6651</td>\n",
       "      <td>319.8123</td>\n",
       "      <td>...</td>\n",
       "      <td>334.9573</td>\n",
       "      <td>335.3983</td>\n",
       "      <td>335.7000</td>\n",
       "      <td>335.8657</td>\n",
       "      <td>335.9007</td>\n",
       "      <td>335.8101</td>\n",
       "      <td>335.6011</td>\n",
       "      <td>335.2808</td>\n",
       "      <td>334.8538</td>\n",
       "      <td>334.3920</td>\n",
       "    </tr>\n",
       "    <tr>\n",
       "      <th>159</th>\n",
       "      <td>299.0705</td>\n",
       "      <td>301.4087</td>\n",
       "      <td>303.7921</td>\n",
       "      <td>306.1482</td>\n",
       "      <td>308.5017</td>\n",
       "      <td>310.8471</td>\n",
       "      <td>313.1675</td>\n",
       "      <td>315.4456</td>\n",
       "      <td>317.6660</td>\n",
       "      <td>319.8134</td>\n",
       "      <td>...</td>\n",
       "      <td>334.9522</td>\n",
       "      <td>335.3926</td>\n",
       "      <td>335.6939</td>\n",
       "      <td>335.8595</td>\n",
       "      <td>335.8946</td>\n",
       "      <td>335.8046</td>\n",
       "      <td>335.5964</td>\n",
       "      <td>335.2774</td>\n",
       "      <td>334.8521</td>\n",
       "      <td>334.3928</td>\n",
       "    </tr>\n",
       "    <tr>\n",
       "      <th>160</th>\n",
       "      <td>299.0699</td>\n",
       "      <td>301.4080</td>\n",
       "      <td>303.7913</td>\n",
       "      <td>306.1472</td>\n",
       "      <td>308.5006</td>\n",
       "      <td>310.8458</td>\n",
       "      <td>313.1660</td>\n",
       "      <td>315.4441</td>\n",
       "      <td>317.6645</td>\n",
       "      <td>319.8121</td>\n",
       "      <td>...</td>\n",
       "      <td>334.9595</td>\n",
       "      <td>335.4006</td>\n",
       "      <td>335.7021</td>\n",
       "      <td>335.8675</td>\n",
       "      <td>335.9020</td>\n",
       "      <td>335.8106</td>\n",
       "      <td>335.6005</td>\n",
       "      <td>335.2789</td>\n",
       "      <td>334.8505</td>\n",
       "      <td>334.3873</td>\n",
       "    </tr>\n",
       "    <tr>\n",
       "      <th>161</th>\n",
       "      <td>299.0696</td>\n",
       "      <td>301.4076</td>\n",
       "      <td>303.7909</td>\n",
       "      <td>306.1468</td>\n",
       "      <td>308.5001</td>\n",
       "      <td>310.8454</td>\n",
       "      <td>313.1655</td>\n",
       "      <td>315.4436</td>\n",
       "      <td>317.6640</td>\n",
       "      <td>319.8114</td>\n",
       "      <td>...</td>\n",
       "      <td>334.9620</td>\n",
       "      <td>335.4041</td>\n",
       "      <td>335.7070</td>\n",
       "      <td>335.8738</td>\n",
       "      <td>335.9099</td>\n",
       "      <td>335.8203</td>\n",
       "      <td>335.6119</td>\n",
       "      <td>335.2919</td>\n",
       "      <td>334.8648</td>\n",
       "      <td>334.4026</td>\n",
       "    </tr>\n",
       "    <tr>\n",
       "      <th>162</th>\n",
       "      <td>299.0684</td>\n",
       "      <td>301.4062</td>\n",
       "      <td>303.7893</td>\n",
       "      <td>306.1450</td>\n",
       "      <td>308.4983</td>\n",
       "      <td>310.8435</td>\n",
       "      <td>313.1637</td>\n",
       "      <td>315.4419</td>\n",
       "      <td>317.6624</td>\n",
       "      <td>319.8101</td>\n",
       "      <td>...</td>\n",
       "      <td>334.9612</td>\n",
       "      <td>335.4026</td>\n",
       "      <td>335.7046</td>\n",
       "      <td>335.8705</td>\n",
       "      <td>335.9056</td>\n",
       "      <td>335.8150</td>\n",
       "      <td>335.6059</td>\n",
       "      <td>335.2853</td>\n",
       "      <td>334.8579</td>\n",
       "      <td>334.3954</td>\n",
       "    </tr>\n",
       "  </tbody>\n",
       "</table>\n",
       "<p>163 rows × 30 columns</p>\n",
       "</div>"
      ],
      "text/plain": [
       "     -1.691667  -1.575000  -1.458333  -1.341667  -1.225000  -1.108333  \\\n",
       "0     299.0683   301.4061   303.7891   306.1448   308.4980   310.8431   \n",
       "1     299.0683   301.4060   303.7891   306.1448   308.4980   310.8432   \n",
       "2     299.0697   301.4078   303.7912   306.1471   308.5007   310.8460   \n",
       "3     299.0690   301.4070   303.7902   306.1461   308.4995   310.8447   \n",
       "4     299.0677   301.4055   303.7886   306.1444   308.4977   310.8430   \n",
       "..         ...        ...        ...        ...        ...        ...   \n",
       "158   299.0707   301.4089   303.7923   306.1482   308.5016   310.8468   \n",
       "159   299.0705   301.4087   303.7921   306.1482   308.5017   310.8471   \n",
       "160   299.0699   301.4080   303.7913   306.1472   308.5006   310.8458   \n",
       "161   299.0696   301.4076   303.7909   306.1468   308.5001   310.8454   \n",
       "162   299.0684   301.4062   303.7893   306.1450   308.4983   310.8435   \n",
       "\n",
       "     -0.991667  -0.875000  -0.758333  -0.641667  ...   0.641667   0.758333  \\\n",
       "0     313.1633   315.4414   317.6620   319.8097  ...   334.9683   335.4108   \n",
       "1     313.1635   315.4417   317.6623   319.8102  ...   334.9636   335.4055   \n",
       "2     313.1663   315.4444   317.6646   319.8118  ...   334.9494   335.3897   \n",
       "3     313.1649   315.4429   317.6632   319.8106  ...   334.9574   335.3988   \n",
       "4     313.1633   315.4415   317.6621   319.8097  ...   334.9537   335.3943   \n",
       "..         ...        ...        ...        ...  ...        ...        ...   \n",
       "158   313.1669   315.4449   317.6651   319.8123  ...   334.9573   335.3983   \n",
       "159   313.1675   315.4456   317.6660   319.8134  ...   334.9522   335.3926   \n",
       "160   313.1660   315.4441   317.6645   319.8121  ...   334.9595   335.4006   \n",
       "161   313.1655   315.4436   317.6640   319.8114  ...   334.9620   335.4041   \n",
       "162   313.1637   315.4419   317.6624   319.8101  ...   334.9612   335.4026   \n",
       "\n",
       "      0.875000   0.991667   1.108333   1.225000   1.341667   1.458333  \\\n",
       "0     335.7140   335.8809   335.9170   335.8272   335.6186   335.2984   \n",
       "1     335.7080   335.8745   335.9103   335.8202   335.6114   335.2909   \n",
       "2     335.6910   335.8564   335.8915   335.8012   335.5927   335.2732   \n",
       "3     335.7009   335.8669   335.9023   335.8119   335.6030   335.2826   \n",
       "4     335.6957   335.8612   335.8962   335.8059   335.5974   335.2779   \n",
       "..         ...        ...        ...        ...        ...        ...   \n",
       "158   335.7000   335.8657   335.9007   335.8101   335.6011   335.2808   \n",
       "159   335.6939   335.8595   335.8946   335.8046   335.5964   335.2774   \n",
       "160   335.7021   335.8675   335.9020   335.8106   335.6005   335.2789   \n",
       "161   335.7070   335.8738   335.9099   335.8203   335.6119   335.2919   \n",
       "162   335.7046   335.8705   335.9056   335.8150   335.6059   335.2853   \n",
       "\n",
       "      1.575000   1.691667  \n",
       "0     334.8712   334.4088  \n",
       "1     334.8632   334.3997  \n",
       "2     334.8470   334.3861  \n",
       "3     334.8555   334.3935  \n",
       "4     334.8521   334.3918  \n",
       "..         ...        ...  \n",
       "158   334.8538   334.3920  \n",
       "159   334.8521   334.3928  \n",
       "160   334.8505   334.3873  \n",
       "161   334.8648   334.4026  \n",
       "162   334.8579   334.3954  \n",
       "\n",
       "[163 rows x 30 columns]"
      ]
     },
     "execution_count": 114,
     "metadata": {},
     "output_type": "execute_result"
    }
   ],
   "source": [
    "T_obl_naruj_nominal"
   ]
  },
  {
   "cell_type": "code",
   "execution_count": 115,
   "id": "04caa0b9",
   "metadata": {},
   "outputs": [
    {
     "data": {
      "text/plain": [
       "0     722.8439\n",
       "1     718.8220\n",
       "2     714.7283\n",
       "3     710.5990\n",
       "4     706.4863\n",
       "5     701.5231\n",
       "6     696.2582\n",
       "7     691.1079\n",
       "8     686.0948\n",
       "9     681.2565\n",
       "10    676.6097\n",
       "11    672.1881\n",
       "12    668.0021\n",
       "13    664.0807\n",
       "14    660.4285\n",
       "15    657.0658\n",
       "16    654.0423\n",
       "17    650.7743\n",
       "18    647.4319\n",
       "19    644.4374\n",
       "20    641.4874\n",
       "21      0.3615\n",
       "22      0.2087\n",
       "23    750.4872\n",
       "24    748.7361\n",
       "25    746.6868\n",
       "26    743.9925\n",
       "Name: 81, dtype: float64"
      ]
     },
     "execution_count": 115,
     "metadata": {},
     "output_type": "execute_result"
    }
   ],
   "source": [
    "Rho_tepl = pd.read_csv(TRETON_NOMINAL_FOLDER / \"ro_tepl.dat\",\n",
    "                       sep=r\"\\s+\", header=None)\n",
    "                                    #.loc[:, 2:].set_axis(grid_z, axis=1)\n",
    "Rho_tepl.iloc[81]"
   ]
  },
  {
   "cell_type": "code",
   "execution_count": 116,
   "id": "7594a343",
   "metadata": {},
   "outputs": [
    {
     "data": {
      "image/png": "[encoded data removed]",
      "text/plain": [
       "<Figure size 432x288 with 1 Axes>"
      ]
     },
     "metadata": {
      "needs_background": "light"
     },
     "output_type": "display_data"
    },
    {
     "data": {
      "image/png": "[encoded data removed]",
      "text/plain": [
       "<Figure size 432x288 with 1 Axes>"
      ]
     },
     "metadata": {
      "needs_background": "light"
     },
     "output_type": "display_data"
    }
   ],
   "source": [
    "P_tepl = pd.read_csv(TRETON_NOMINAL_FOLDER / \"p_tepl.dat\",\n",
    "                     sep=r\"\\s+\", header=None)\\\n",
    "                                    .loc[:, 2:].set_axis(grid_z, axis=1)\n",
    "for r in range(8):\n",
    "   P_tepl.iloc[np.array(r_split[r]) - 1].mean().plot(label=f\"{r + 1} зона\", **COMMON_T_R_PLOT_ARGS)\n",
    "pl.legend()\n",
    "pl.show()\n",
    "(P_tepl.iloc[81] * 10 ** -6 ).plot(xlabel=\"z, м\", ylabel=\"$P$, МПа\", grid=True)\n",
    "pl.savefig(\"fig/p_nominal_max.png\", dpi=1000)"
   ]
  },
  {
   "cell_type": "code",
   "execution_count": 117,
   "id": "69260a29",
   "metadata": {},
   "outputs": [
    {
     "data": {
      "image/png": "[encoded data removed]",
      "text/plain": [
       "<Figure size 360x144 with 1 Axes>"
      ]
     },
     "metadata": {
      "needs_background": "light"
     },
     "output_type": "display_data"
    }
   ],
   "source": [
    "import matplotlib.pyplot as pl\n",
    "fig, ax = pl.subplots(figsize=(5, 2))\n",
    "\n",
    "# for item in ([ax.title, ax.xaxis.label, ax.yaxis.label] +\n",
    "#              ax.get_xticklabels() + ax.get_yticklabels()):\n",
    "#     item.set_fontsize(25)\n",
    "    \n",
    "podogrev = (T_teplonos_nominal[grid_z[-1]] - T_teplonos_nominal[grid_z[0]])\n",
    "ax.bar(range(1, 164), podogrev, width=0.5, align='center')\n",
    "pl.ylabel(\"$\\Delta T, ^\\circ C$\")\n",
    "pl.savefig(\"fig/podogrev_nominal.jpg\")\n",
    "\n",
    "\n"
   ]
  },
  {
   "cell_type": "code",
   "execution_count": 118,
   "id": "1fcb894a",
   "metadata": {},
   "outputs": [
    {
     "data": {
      "image/png": "[encoded data removed]",
      "text/plain": [
       "<Figure size 432x288 with 1 Axes>"
      ]
     },
     "metadata": {
      "needs_background": "light"
     },
     "output_type": "display_data"
    }
   ],
   "source": [
    "\n",
    "# import matplotlib.pyplot as pl\n",
    "# fig, ax = pl.subplots(figsize=(25, 10))\n",
    "\n",
    "# for item in ([ax.title, ax.xaxis.label, ax.yaxis.label] +\n",
    "#              ax.get_xticklabels() + ax.get_yticklabels()):\n",
    "#     item.set_fontsize(25)\n",
    "    \n",
    "podogrev_by_r = [podogrev.iloc[np.array(r_split[i]) - 1].mean() for i in range(8)]\n",
    "pl.bar(range(1, 9), podogrev_by_r, width=0.5, align='center')\n",
    "pl.ylabel(\"$\\Delta T, ^\\circ C$\")\n",
    "pl.savefig(\"fig/podogrev_nominal_by_r.png\")"
   ]
  },
  {
   "cell_type": "code",
   "execution_count": 119,
   "id": "db481c8c",
   "metadata": {},
   "outputs": [],
   "source": [
    "G_nominal = pd.read_csv(TRETON_NOMINAL_FOLDER / \"G_out.dat\",\n",
    "                        sep=r\"\\s+\", header=None)  \\\n",
    "                                    .loc[:, 2:]\n",
    "# fig, ax = pl.subplots(figsize=(15, 5))\n",
    "\n",
    "# for item in ([ax.title, ax.xaxis.label, ax.yaxis.label] +\n",
    "#              ax.get_xticklabels() + ax.get_yticklabels()):\n",
    "#     item.set_fontsize(25)\n",
    "# ax.bar(range(1, 164), G_nominal, width=0.5, align='center')\n",
    "# pl.ylabel(\"$\\Delta T, ^\\circ C$\")\n",
    "# pl.savefig(\"fig/g_nominal_out.jpg\")"
   ]
  },
  {
   "cell_type": "code",
   "execution_count": 120,
   "id": "7b30461d",
   "metadata": {},
   "outputs": [
    {
     "data": {
      "text/html": [
       "<div>\n",
       "<style scoped>\n",
       "    .dataframe tbody tr th:only-of-type {\n",
       "        vertical-align: middle;\n",
       "    }\n",
       "\n",
       "    .dataframe tbody tr th {\n",
       "        vertical-align: top;\n",
       "    }\n",
       "\n",
       "    .dataframe thead th {\n",
       "        text-align: right;\n",
       "    }\n",
       "</style>\n",
       "<table border=\"1\" class=\"dataframe\">\n",
       "  <thead>\n",
       "    <tr style=\"text-align: right;\">\n",
       "      <th></th>\n",
       "      <th>2</th>\n",
       "    </tr>\n",
       "  </thead>\n",
       "  <tbody>\n",
       "    <tr>\n",
       "      <th>0</th>\n",
       "      <td>14.423127</td>\n",
       "    </tr>\n",
       "    <tr>\n",
       "      <th>1</th>\n",
       "      <td>14.422336</td>\n",
       "    </tr>\n",
       "    <tr>\n",
       "      <th>2</th>\n",
       "      <td>14.417590</td>\n",
       "    </tr>\n",
       "    <tr>\n",
       "      <th>3</th>\n",
       "      <td>14.409087</td>\n",
       "    </tr>\n",
       "    <tr>\n",
       "      <th>4</th>\n",
       "      <td>14.403155</td>\n",
       "    </tr>\n",
       "    <tr>\n",
       "      <th>...</th>\n",
       "      <td>...</td>\n",
       "    </tr>\n",
       "    <tr>\n",
       "      <th>158</th>\n",
       "      <td>14.442605</td>\n",
       "    </tr>\n",
       "    <tr>\n",
       "      <th>159</th>\n",
       "      <td>14.429752</td>\n",
       "    </tr>\n",
       "    <tr>\n",
       "      <th>160</th>\n",
       "      <td>14.426093</td>\n",
       "    </tr>\n",
       "    <tr>\n",
       "      <th>161</th>\n",
       "      <td>14.419568</td>\n",
       "    </tr>\n",
       "    <tr>\n",
       "      <th>162</th>\n",
       "      <td>14.418678</td>\n",
       "    </tr>\n",
       "  </tbody>\n",
       "</table>\n",
       "<p>163 rows × 1 columns</p>\n",
       "</div>"
      ],
      "text/plain": [
       "             2\n",
       "0    14.423127\n",
       "1    14.422336\n",
       "2    14.417590\n",
       "3    14.409087\n",
       "4    14.403155\n",
       "..         ...\n",
       "158  14.442605\n",
       "159  14.429752\n",
       "160  14.426093\n",
       "161  14.419568\n",
       "162  14.418678\n",
       "\n",
       "[163 rows x 1 columns]"
      ]
     },
     "execution_count": 120,
     "metadata": {},
     "output_type": "execute_result"
    }
   ],
   "source": [
    "(16116.22 / 163) * G_nominal"
   ]
  },
  {
   "cell_type": "code",
   "execution_count": 121,
   "id": "5df4192a",
   "metadata": {},
   "outputs": [
    {
     "data": {
      "text/plain": [
       "0      2338.373273\n",
       "1      2338.866182\n",
       "2      2340.167851\n",
       "3      2339.559211\n",
       "4      2339.873273\n",
       "          ...     \n",
       "158    2339.640707\n",
       "159    2339.852623\n",
       "160    2339.891750\n",
       "161    2338.874869\n",
       "162    2339.398409\n",
       "Length: 163, dtype: float64"
      ]
     },
     "execution_count": 121,
     "metadata": {},
     "output_type": "execute_result"
    }
   ],
   "source": [
    "Q_nominal = pd.read_csv(TRETON_NOMINAL_FOLDER / \"Q.dat\",\n",
    "                        sep=r\"\\s+\", header=None)  \\\n",
    "                                    .loc[:, 2:]\n",
    "H_nominal = pd.read_csv(TRETON_NOMINAL_FOLDER / \"h_tepl.dat\",\n",
    "                        sep=r\"\\s+\", header=None)  \\\n",
    "                                    .loc[:, 2:]\n",
    "Q_nominal.mean(axis=1) / (H_nominal[31] - H_nominal[2])"
   ]
  },
  {
   "cell_type": "code",
   "execution_count": 125,
   "id": "be8cb471",
   "metadata": {},
   "outputs": [
    {
     "data": {
      "image/png": "[encoded data removed]",
      "text/plain": [
       "<Figure size 432x288 with 1 Axes>"
      ]
     },
     "metadata": {
      "needs_background": "light"
     },
     "output_type": "display_data"
    }
   ],
   "source": [
    "t_nominal = pd.read_csv(\"tools/TRETON-nominal/t_tepl.dat\", sep=r\"\\s+\", header=None)\n",
    "\n",
    "# T_z_by_r = [nominal.iloc[np.array(r_split[i]) - 1].mean().values for i in range(8)]\n",
    "# for i in range(8):\n",
    "#     pl.plot(grid_z, T_z_by_r[i][1:-1], label=f\"{i+1} radius\")\n",
    "# pl.legend()\n",
    "# t_nominal.iloc[:, 1:]\n",
    "T_z_by_r = [t_nominal.iloc[np.array(r_split[i]) - 1, 1:].mean().values for i in range(8)]\n",
    "for i in range(8):\n",
    "    pl.plot(T_z_by_r[i][1:-1], grid_z[1:], label=f\"{i+1} radius\")"
   ]
  },
  {
   "cell_type": "code",
   "execution_count": 126,
   "id": "b9343664",
   "metadata": {},
   "outputs": [
    {
     "ename": "NameError",
     "evalue": "name 'Q_z_by_r' is not defined",
     "output_type": "error",
     "traceback": [
      "\u001b[0;31m---------------------------------------------------------------------------\u001b[0m",
      "\u001b[0;31mNameError\u001b[0m                                 Traceback (most recent call last)",
      "Input \u001b[0;32mIn [126]\u001b[0m, in \u001b[0;36m<cell line: 2>\u001b[0;34m()\u001b[0m\n\u001b[1;32m      1\u001b[0m \u001b[38;5;66;03m# pl.plot([R_az / 8 / 2 * (2 * n ) for n in range(8)], list(map(np.mean, Q_z_by_r)))\u001b[39;00m\n\u001b[0;32m----> 2\u001b[0m pl\u001b[38;5;241m.\u001b[39mbar([R_az \u001b[38;5;241m/\u001b[39m \u001b[38;5;241m8\u001b[39m \u001b[38;5;241m/\u001b[39m \u001b[38;5;241m2\u001b[39m \u001b[38;5;241m*\u001b[39m (\u001b[38;5;241m2\u001b[39m \u001b[38;5;241m*\u001b[39m n ) \u001b[38;5;241m+\u001b[39m R_az \u001b[38;5;241m/\u001b[39m \u001b[38;5;241m8\u001b[39m \u001b[38;5;241m/\u001b[39m \u001b[38;5;241m2\u001b[39m \u001b[38;5;28;01mfor\u001b[39;00m n \u001b[38;5;129;01min\u001b[39;00m \u001b[38;5;28mrange\u001b[39m(\u001b[38;5;241m8\u001b[39m)], \u001b[38;5;28mlist\u001b[39m(\u001b[38;5;28mmap\u001b[39m(np\u001b[38;5;241m.\u001b[39mmean, \u001b[43mQ_z_by_r\u001b[49m)), width\u001b[38;5;241m=\u001b[39mR_az \u001b[38;5;241m/\u001b[39m \u001b[38;5;241m8\u001b[39m)\n\u001b[1;32m      3\u001b[0m \u001b[38;5;28;01mfor\u001b[39;00m i \u001b[38;5;129;01min\u001b[39;00m grid:\n\u001b[1;32m      4\u001b[0m     pl\u001b[38;5;241m.\u001b[39maxvline(i, linestyle\u001b[38;5;241m=\u001b[39m\u001b[38;5;124m'\u001b[39m\u001b[38;5;124m--\u001b[39m\u001b[38;5;124m'\u001b[39m, color\u001b[38;5;241m=\u001b[39m\u001b[38;5;124m\"\u001b[39m\u001b[38;5;124mgray\u001b[39m\u001b[38;5;124m\"\u001b[39m)\n",
      "\u001b[0;31mNameError\u001b[0m: name 'Q_z_by_r' is not defined"
     ]
    }
   ],
   "source": [
    "# pl.plot([R_az / 8 / 2 * (2 * n ) for n in range(8)], list(map(np.mean, Q_z_by_r)))\n",
    "pl.bar([R_az / 8 / 2 * (2 * n ) + R_az / 8 / 2 for n in range(8)], list(map(np.mean, Q_z_by_r)), width=R_az / 8)\n",
    "for i in grid:\n",
    "    pl.axvline(i, linestyle='--', color=\"gray\")\n",
    "pl.xlabel(\"r, м\")\n",
    "pl.ylabel(\"Q, Вт\")"
   ]
  },
  {
   "cell_type": "markdown",
   "id": "df43e32f",
   "metadata": {},
   "source": [
    "### Повышенная мощность\n",
    "**Запускаем третон руками**"
   ]
  },
  {
   "cell_type": "code",
   "execution_count": 138,
   "id": "8e93600d",
   "metadata": {},
   "outputs": [],
   "source": [
    "TRETON_POVISH_FOLDER = Path(\"tools/TRETON-povish\")"
   ]
  },
  {
   "cell_type": "code",
   "execution_count": 154,
   "id": "3b5a4313",
   "metadata": {},
   "outputs": [],
   "source": [
    "Q_povish = Q_by_r(N=1.15, save=True, file=TRETON_POVISH_FOLDER / \"Q6.txt\")\n",
    "T_IN_povish = T_for_quarts(save=True, file=TRETON_POVISH_FOLDER / \"T_IN.txt\")"
   ]
  },
  {
   "cell_type": "code",
   "execution_count": 145,
   "id": "b5232b0e",
   "metadata": {},
   "outputs": [
    {
     "name": "stdout",
     "output_type": "stream",
     "text": [
      "Запас до кипения 10.171699999999987\n",
      "Макс температура теплоносителя 336.3283\n",
      "Превышение максимальной температуры 3.7823999999999955\n",
      "Превышение запаса до кипения 3.7823999999999955\n"
     ]
    },
    {
     "data": {
      "image/png": "[encoded data removed]",
      "text/plain": [
       "<Figure size 432x288 with 1 Axes>"
      ]
     },
     "metadata": {
      "needs_background": "light"
     },
     "output_type": "display_data"
    }
   ],
   "source": [
    "T_teplonos_povish = pd.read_csv(TRETON_POVISH_FOLDER / \"t_tepl.dat\", \n",
    "                                 sep=r\"\\s+\", header=None).loc[:, 2:].set_axis(grid_z, axis=1)\n",
    "\n",
    "T_tepl_povish_max = T_teplonos_povish.iloc[T_teplonos_povish.idxmax().values[-1]]\n",
    "\n",
    "T_tepl_max.plot(xlabel=r\"z, м\", ylabel=r\"$T, ^\\circ C$\", grid=True, label=\"Номинальная мощность\" )\n",
    "T_tepl_povish_max.plot(xlabel=r\"z, м\", ylabel=r\"$T, ^\\circ C$\", grid=True, label=\"Повышенная мощность\" )\n",
    "pl.axhline(346.5, linestyle=\"--\", label=\"Температура кипения теплоносителя\", c='r')\n",
    "pl.legend()\n",
    "\n",
    "\n",
    "# pl.savefig(\"fig/treton_nominal_t_z_max.png\", dpi=1000)\n",
    "T_povish_before_boiling = T_tepl_boil - T_tepl_povish_max.max()\n",
    "print(\"Запас до кипения\", T_povish_before_boiling)\n",
    "print(\"Макс температура теплоносителя\", T_tepl_povish_max.max())\n",
    "print(\"Превышение максимальной температуры\", T_tepl_povish_max.max() - T_tepl_max.max())\n",
    "print(\"Превышение запаса до кипения\", T_nominal_before_boiling - T_povish_before_boiling)"
   ]
  },
  {
   "cell_type": "code",
   "execution_count": null,
   "id": "f884cd6a",
   "metadata": {},
   "outputs": [],
   "source": [
    "T_teplonos_nominal.max().plot(xlabel=r\"z, м\", ylabel=r\"$T, ^\\circ C$\", grid=True, label=\"Номинальная мощность\")\n",
    "T_teplonos_povish = pd.read_csv(TRETON_POVISH_FOLDER / \"t_tepl.dat\", \n",
    "                                 sep=r\"\\s+\", header=None)\\\n",
    "                                    .loc[:, 2:].set_axis(grid_z, axis=1)\n",
    "T_teplonos_povish.max().plot(xlabel=r\"z, м\", ylabel=r\"$T, ^\\circ C$\", grid=True, label=\"Повышенная мощность\")\n",
    "pl.axhline(345.8, linestyle=\"--\", label=\"Температура кипения\", c='r')\n",
    "pl.legend()"
   ]
  },
  {
   "cell_type": "code",
   "execution_count": null,
   "id": "125cccd8",
   "metadata": {},
   "outputs": [],
   "source": [
    "T_teplonos_nominal.max().plot(xlabel=r\"z, м\", ylabel=r\"$T, ^\\circ C$\", grid=True, label=\"Номинальная мощность\")\n",
    "T_teplonos_povish = pd.read_csv(TRETON_POVISH_FOLDER / \"t_tepl.dat\", \n",
    "                                 sep=r\"\\s+\", header=None)\\\n",
    "                                    .loc[:, 2:].set_axis(grid_z, axis=1)\n",
    "T_teplonos_povish.max().plot(xlabel=r\"z, м\", ylabel=r\"$T, ^\\circ C$\", grid=True, label=\"Повышенная мощность\")\n",
    "pl.axhline(345.8, linestyle=\"--\", label=\"Температура кипения\", c='r')\n",
    "pl.legend()"
   ]
  },
  {
   "cell_type": "markdown",
   "id": "5d70e653",
   "metadata": {},
   "source": [
    "**Графики**"
   ]
  },
  {
   "cell_type": "markdown",
   "id": "5fdda0a0",
   "metadata": {},
   "source": [
    "### 3 ГЦН\n",
    "**Запускаем третон руками**"
   ]
  },
  {
   "cell_type": "code",
   "execution_count": 155,
   "id": "24b626b3",
   "metadata": {},
   "outputs": [],
   "source": [
    "TRETON_ONE_GCN_FOLDER = Path(\"tools/TRETON-one-gcn/\")\n",
    "\n",
    "Q_one_gcn = Q_by_r(N=0.75, save=True, file=TRETON_ONE_GCN_FOLDER / \"Q6.txt\")\n",
    "T_IN_one_gcn = T_for_quarts(disabled_quarts=['I'], save=True, file=TRETON_ONE_GCN_FOLDER / \"T_IN.txt\")"
   ]
  },
  {
   "cell_type": "markdown",
   "id": "14ef0a97",
   "metadata": {},
   "source": [
    "**Графики**"
   ]
  },
  {
   "cell_type": "markdown",
   "id": "5931d101",
   "metadata": {},
   "source": [
    "### 2 ГЦН\n",
    "**Запускаем третон руками**\n"
   ]
  },
  {
   "cell_type": "code",
   "execution_count": 156,
   "id": "a05121cb",
   "metadata": {},
   "outputs": [],
   "source": [
    "TRETON_TWO_GCN_FOLDER = Path(\"tools/TRETON-two-gcn/\")\n",
    "\n",
    "Q_two_gcn = Q_by_r(N=0.5, save=True, file=TRETON_TWO_GCN_FOLDER / \"Q6.txt\")\n",
    "T_IN_two_gcn = T_for_quarts(disabled_quarts=['I', 'IV'], save=True, file=TRETON_TWO_GCN_FOLDER / \"T_IN.txt\")"
   ]
  },
  {
   "cell_type": "markdown",
   "id": "16799c95",
   "metadata": {},
   "source": [
    "**Графики**"
   ]
  }
 ],
 "metadata": {
  "kernelspec": {
   "display_name": "Python 3 (ipykernel)",
   "language": "python",
   "name": "python3"
  },
  "language_info": {
   "codemirror_mode": {
    "name": "ipython",
    "version": 3
   },
   "file_extension": ".py",
   "mimetype": "text/x-python",
   "name": "python",
   "nbconvert_exporter": "python",
   "pygments_lexer": "ipython3",
   "version": "3.10.4"
  },
  "vscode": {
   "interpreter": {
    "hash": "f3f444409b5eef8a091e2b95f34bbc06c14f27f713995e7a1f60dd8132c0109d"
   }
  }
 },
 "nbformat": 4,
 "nbformat_minor": 5
}
