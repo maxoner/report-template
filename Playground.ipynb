{
 "cells": [
  {
   "cell_type": "code",
   "execution_count": 25,
   "id": "considerable-maryland",
   "metadata": {},
   "outputs": [
    {
     "data": {
      "text/html": [
       "<table>\n",
       "<thead>\n",
       "<tr><th>Точка  </th><th style=\"text-align: right;\">           P</th><th style=\"text-align: right;\">      T</th><th style=\"text-align: right;\">       S</th><th style=\"text-align: right;\">               H</th></tr>\n",
       "</thead>\n",
       "<tbody>\n",
       "<tr><td>h      </td><td style=\"text-align: right;\">     5.9e+06</td><td style=\"text-align: right;\">493    </td><td style=\"text-align: right;\">2516.43 </td><td style=\"text-align: right;\">942948          </td></tr>\n",
       "<tr><td>b      </td><td style=\"text-align: right;\">     5.9e+06</td><td style=\"text-align: right;\">547.642</td><td style=\"text-align: right;\">3017.38 </td><td style=\"text-align: right;\">     1.20809e+06</td></tr>\n",
       "<tr><td>c      </td><td style=\"text-align: right;\">     5.9e+06</td><td style=\"text-align: right;\">547.642</td><td style=\"text-align: right;\">5898.01 </td><td style=\"text-align: right;\">     2.78564e+06</td></tr>\n",
       "<tr><td>d      </td><td style=\"text-align: right;\">600000      </td><td style=\"text-align: right;\">449.6  </td><td style=\"text-align: right;\">5898.01 </td><td style=\"text-align: right;\">     2.38414e+06</td></tr>\n",
       "<tr><td>e      </td><td style=\"text-align: right;\">600000      </td><td style=\"text-align: right;\">449.6  </td><td style=\"text-align: right;\">6612.44 </td><td style=\"text-align: right;\">     2.77404e+06</td></tr>\n",
       "<tr><td>f      </td><td style=\"text-align: right;\">600000      </td><td style=\"text-align: right;\">523    </td><td style=\"text-align: right;\">7182.78 </td><td style=\"text-align: right;\">     2.95734e+06</td></tr>\n",
       "<tr><td>k      </td><td style=\"text-align: right;\">  4000      </td><td style=\"text-align: right;\">303.5  </td><td style=\"text-align: right;\">7182.78 </td><td style=\"text-align: right;\">     2.16377e+06</td></tr>\n",
       "<tr><td>k`     </td><td style=\"text-align: right;\">  4000      </td><td style=\"text-align: right;\">303.5  </td><td style=\"text-align: right;\"> 441.616</td><td style=\"text-align: right;\">127208          </td></tr>\n",
       "<tr><td>a      </td><td style=\"text-align: right;\">     5.9e+06</td><td style=\"text-align: right;\">303.5  </td><td style=\"text-align: right;\"> 439.793</td><td style=\"text-align: right;\">132570          </td></tr>\n",
       "<tr><td>g      </td><td style=\"text-align: right;\">600000      </td><td style=\"text-align: right;\">449.6  </td><td style=\"text-align: right;\">2105.05 </td><td style=\"text-align: right;\">747532          </td></tr>\n",
       "</tbody>\n",
       "</table>"
      ],
      "text/plain": [
       "'<table>\\n<thead>\\n<tr><th>Точка  </th><th style=\"text-align: right;\">           P</th><th style=\"text-align: right;\">      T</th><th style=\"text-align: right;\">       S</th><th style=\"text-align: right;\">               H</th></tr>\\n</thead>\\n<tbody>\\n<tr><td>h      </td><td style=\"text-align: right;\">     5.9e+06</td><td style=\"text-align: right;\">493    </td><td style=\"text-align: right;\">2516.43 </td><td style=\"text-align: right;\">942948          </td></tr>\\n<tr><td>b      </td><td style=\"text-align: right;\">     5.9e+06</td><td style=\"text-align: right;\">547.642</td><td style=\"text-align: right;\">3017.38 </td><td style=\"text-align: right;\">     1.20809e+06</td></tr>\\n<tr><td>c      </td><td style=\"text-align: right;\">     5.9e+06</td><td style=\"text-align: right;\">547.642</td><td style=\"text-align: right;\">5898.01 </td><td style=\"text-align: right;\">     2.78564e+06</td></tr>\\n<tr><td>d      </td><td style=\"text-align: right;\">600000      </td><td style=\"text-align: right;\">449.6  </td><td style=\"text-align: right;\">5898.01 </td><td style=\"text-align: right;\">     2.38414e+06</td></tr>\\n<tr><td>e      </td><td style=\"text-align: right;\">600000      </td><td style=\"text-align: right;\">449.6  </td><td style=\"text-align: right;\">6612.44 </td><td style=\"text-align: right;\">     2.77404e+06</td></tr>\\n<tr><td>f      </td><td style=\"text-align: right;\">600000      </td><td style=\"text-align: right;\">523    </td><td style=\"text-align: right;\">7182.78 </td><td style=\"text-align: right;\">     2.95734e+06</td></tr>\\n<tr><td>k      </td><td style=\"text-align: right;\">  4000      </td><td style=\"text-align: right;\">303.5  </td><td style=\"text-align: right;\">7182.78 </td><td style=\"text-align: right;\">     2.16377e+06</td></tr>\\n<tr><td>k`     </td><td style=\"text-align: right;\">  4000      </td><td style=\"text-align: right;\">303.5  </td><td style=\"text-align: right;\"> 441.616</td><td style=\"text-align: right;\">127208          </td></tr>\\n<tr><td>a      </td><td style=\"text-align: right;\">     5.9e+06</td><td style=\"text-align: right;\">303.5  </td><td style=\"text-align: right;\"> 439.793</td><td style=\"text-align: right;\">132570          </td></tr>\\n<tr><td>g      </td><td style=\"text-align: right;\">600000      </td><td style=\"text-align: right;\">449.6  </td><td style=\"text-align: right;\">2105.05 </td><td style=\"text-align: right;\">747532          </td></tr>\\n</tbody>\\n</table>'"
      ]
     },
     "metadata": {},
     "output_type": "display_data"
    },
    {
     "data": {
      "text/latex": [
       "$\\displaystyle x_d = 8.216 \\cdot 10^{ -01 }$"
      ],
      "text/plain": [
       "<IPython.core.display.Math object>"
      ]
     },
     "execution_count": 25,
     "metadata": {},
     "output_type": "execute_result"
    }
   ],
   "source": [
    "import test as wsp\n",
    "import matplotlib.pyplot as pl\n",
    "from coursache import tex_exp, print_latex\n",
    "\n",
    "# h\n",
    "T_h = 220 + 273\n",
    "# P_h = wsp.wspPST(T_h)\n",
    "P_h = 5.9 * 10 ** 6\n",
    "S_h = wsp.wspSSWT(T_h)\n",
    "H_h = wsp.wspHSWT(T_h)\n",
    "\n",
    "# b\n",
    "P_b = 5.9 * 10 ** 6\n",
    "T_b = wsp.wspTSP(P_b)\n",
    "S_b = wsp.wspSSWT(T_b)\n",
    "H_b = wsp.wspHSWT(T_b)\n",
    "\n",
    "# c\n",
    "P_c = P_b\n",
    "T_c = wsp.wspTSP(P_c)\n",
    "S_c = wsp.wspSSST(T_c)\n",
    "H_c = wsp.wspHSST(T_c)\n",
    "\n",
    "# d\n",
    "T_d = 176.6 + 273\n",
    "P_d = 0.6 * 10 ** 6\n",
    "S_d = S_c\n",
    "H_d = wsp.wspHPS(P_d, S_d)\n",
    "\n",
    "# e\n",
    "T_e = T_d\n",
    "P_e = P_d\n",
    "S_e = wsp.wspSSST(T_e)\n",
    "H_e = wsp.wspHSST(T_e)\n",
    "\n",
    "# f\n",
    "T_f = 250 + 273\n",
    "P_f = P_d\n",
    "S_f = wsp.wspSPT(P_f, T_f)\n",
    "H_f = wsp.wspHPT(P_f, T_f)\n",
    "\n",
    "# k\n",
    "P_k = 4 * 10 ** 3\n",
    "T_k = 30.5 + 273\n",
    "S_k = S_f\n",
    "H_k = wsp.wspHPS(P_k, S_k)\n",
    "\n",
    "# k'\n",
    "P_k1 = P_k\n",
    "T_k1 = T_k\n",
    "S_k1 = wsp.wspSSWT(T_k1)\n",
    "H_k1 = wsp.wspHSWT(T_k1)\n",
    "\n",
    "# a\n",
    "P_a = P_b\n",
    "T_a = T_k\n",
    "S_a = wsp.wspSPT(P_a, T_a)\n",
    "H_a = wsp.wspHPS(P_a, S_a)\n",
    "\n",
    "# g\n",
    "T_g = T_d\n",
    "P_g = P_d\n",
    "S_g = wsp.wspSSWT(T_g)\n",
    "H_g = wsp.wspHSWT(T_g)\n",
    "\n",
    "x_d = wsp.wspXPS(P_d, S_d)\n",
    "n = 7\n",
    "\n",
    "import tabulate\n",
    "from IPython.display import Latex, Math\n",
    "display(tabulate.tabulate({\"Точка\":['h', 'b', 'c', 'd', 'e', 'f', 'k', 'k`', 'a', 'g'],\n",
    "                            \"P\": [P_h, P_b, P_c, P_d, P_e, P_f, P_k, P_k1, P_a, P_g],\n",
    "                            \"T\": [T_h, T_b, T_c, T_d, T_e, T_f, T_k, T_k1, T_a, T_g],\n",
    "                            \"S\": [S_h, S_b, S_c, S_d, S_e, S_f, S_k, S_k1, S_a, S_g],\n",
    "                            \"H\": [H_h, H_b, H_c, H_d, H_e, H_f, H_k, H_k1, H_a, H_g]}, tablefmt=\"html\", headers=\"keys\"))\n",
    "Math(f\"x_d = {tex_exp(x_d)}\")"
   ]
  },
  {
   "cell_type": "code",
   "execution_count": 42,
   "id": "6fc5ed00",
   "metadata": {},
   "outputs": [
    {
     "name": "stdout",
     "output_type": "stream",
     "text": [
      "\\begin{align} \\eta_{t0}=&\n",
      "1 - \n",
      "\\frac{T_{k} ⋅ \\left( s_{f} - s_{a} \\right) ⋅ x_{d}}\n",
      "{\\left( h_{c} - h_{g} \\right) +x_{d}\\left( \\left( h_{g} - h_{a} \\right) + \\left( h_{f} - h_{e} \\right) \\right)}\n",
      "=\\\\=&\n",
      "1 - \n",
      "\\frac{3.035 \\cdot 10^{ 2 } ⋅ \\left( 7.183 \\cdot 10^{ 3 } - 4.398 \\cdot 10^{ 2 } \\right) ⋅ 8.216 \\cdot 10^{ -01 }}\n",
      "{\\left( 2.786 \\cdot 10^{ 6 } - 7.475 \\cdot 10^{ 5 } \\right) + 8.216 \\cdot 10^{ -01 } \\left( \\left( 7.475 \\cdot 10^{ 5 } - 1.326 \\cdot 10^{ 5 } \\right) + \\left( 2.957 \\cdot 10^{ 6 } - 2.774 \\cdot 10^{ 6 } \\right) \\right)}\n",
      "=\\\\=&3.758 \\cdot 10^{ -01 }\\end{align}\n"
     ]
    },
    {
     "data": {
      "text/latex": [
       "$\\displaystyle \\begin{align} \\eta_{t0}=&\n",
       "1 - \n",
       "\\frac{T_{k} ⋅ \\left( s_{f} - s_{a} \\right) ⋅ x_{d}}\n",
       "{\\left( h_{c} - h_{g} \\right) +x_{d}\\left( \\left( h_{g} - h_{a} \\right) + \\left( h_{f} - h_{e} \\right) \\right)}\n",
       "=\\\\=&\n",
       "1 - \n",
       "\\frac{3.035 \\cdot 10^{ 2 } ⋅ \\left( 7.183 \\cdot 10^{ 3 } - 4.398 \\cdot 10^{ 2 } \\right) ⋅ 8.216 \\cdot 10^{ -01 }}\n",
       "{\\left( 2.786 \\cdot 10^{ 6 } - 7.475 \\cdot 10^{ 5 } \\right) + 8.216 \\cdot 10^{ -01 } \\left( \\left( 7.475 \\cdot 10^{ 5 } - 1.326 \\cdot 10^{ 5 } \\right) + \\left( 2.957 \\cdot 10^{ 6 } - 2.774 \\cdot 10^{ 6 } \\right) \\right)}\n",
       "=\\\\=&3.758 \\cdot 10^{ -01 }\\end{align}$"
      ],
      "text/plain": [
       "<IPython.core.display.Math object>"
      ]
     },
     "metadata": {},
     "output_type": "display_data"
    },
    {
     "data": {
      "text/plain": [
       "0.3758409169301098"
      ]
     },
     "execution_count": 42,
     "metadata": {},
     "output_type": "execute_result"
    }
   ],
   "source": [
    "nu_t0 = 1 - ((T_k * (S_f - S_a) * x_d) / \n",
    "          # -------------------------------------------------\n",
    "            ((H_c - H_g) + x_d * ((H_g - H_a) + (H_f - H_e))))\n",
    "\n",
    "nu_t0_formulas = r\"\"\"\n",
    "1 - \n",
    "\\frac{T_{k} ⋅ \\left( s_{f} - s_{a} \\right) ⋅ x_{d}}\n",
    "{\\left( h_{c} - h_{g} \\right) +x_{d}\\left( \\left( h_{g} - h_{a} \\right) + \\left( h_{f} - h_{e} \\right) \\right)}\n",
    "\"\"\"\n",
    "nu_t0_nums = fr\"\"\"\n",
    "1 - \n",
    "\\frac{{{tex_exp(T_k)} ⋅ \\left( {tex_exp(S_f)} - {tex_exp(S_a)} \\right) ⋅ {tex_exp(x_d)}}}\n",
    "{{\\left( {tex_exp(H_c)} - {tex_exp(H_g)} \\right) + {tex_exp(x_d)} \\left( \\left( {tex_exp(H_g)} - {tex_exp(H_a)} \\right) + \\left( {tex_exp(H_f)} - {tex_exp(H_e)} \\right) \\right)}}\n",
    "\"\"\"\n",
    "final_code = fr\"\\begin{{align}} \\eta_{{t0}}=&{nu_t0_formulas}=\\\\=&{nu_t0_nums}=\\\\=&{tex_exp(nu_t0)}\\end{{align}}\"\n",
    "print(final_code)\n",
    "display(Math(final_code))\n",
    "\n",
    "nu_t0"
   ]
  },
  {
   "cell_type": "code",
   "execution_count": 27,
   "id": "8aef0ee0",
   "metadata": {},
   "outputs": [
    {
     "data": {
      "text/plain": [
       "0.43114215265737155"
      ]
     },
     "execution_count": 27,
     "metadata": {},
     "output_type": "execute_result"
    }
   ],
   "source": [
    "nu_t_infty = 1 - ((T_k * (S_f - S_g) * (S_c - S_h)) /\n",
    "                # ------------------------------------------------------\n",
    "                 ((H_c - H_h) * (S_e - S_g) + (H_f - H_e) * (S_f - S_h)))\n",
    "nu_t_infty"
   ]
  },
  {
   "cell_type": "code",
   "execution_count": 28,
   "id": "449615f5",
   "metadata": {},
   "outputs": [
    {
     "data": {
      "text/plain": [
       "0.4242294981914638"
      ]
     },
     "execution_count": 28,
     "metadata": {},
     "output_type": "execute_result"
    }
   ],
   "source": [
    "nu_tn = nu_t0 + (nu_t_infty - nu_t0) * n / (n + 1)\n",
    "nu_tn"
   ]
  },
  {
   "cell_type": "code",
   "execution_count": 29,
   "id": "28a86308",
   "metadata": {},
   "outputs": [
    {
     "data": {
      "text/plain": [
       "0.3359260432970109"
      ]
     },
     "execution_count": 29,
     "metadata": {},
     "output_type": "execute_result"
    }
   ],
   "source": [
    "nu_brutto = nu_tn * 0.85 * 0.98 * 0.98 * 0.97\n",
    "nu_brutto"
   ]
  },
  {
   "cell_type": "code",
   "execution_count": 30,
   "id": "a76c4a5d",
   "metadata": {},
   "outputs": [
    {
     "data": {
      "text/plain": [
       "2976.8457074221074"
      ]
     },
     "execution_count": 30,
     "metadata": {},
     "output_type": "execute_result"
    }
   ],
   "source": [
    "Q_tep = 1000 / nu_brutto\n",
    "Q_tep"
   ]
  },
  {
   "cell_type": "code",
   "execution_count": 31,
   "id": "d8995511",
   "metadata": {},
   "outputs": [
    {
     "data": {
      "text/plain": [
       "[<matplotlib.lines.Line2D at 0x5511520>]"
      ]
     },
     "execution_count": 31,
     "metadata": {},
     "output_type": "execute_result"
    },
    {
     "data": {
      "image/png": "[encoded data removed]",
      "text/plain": [
       "<Figure size 432x288 with 1 Axes>"
      ]
     },
     "metadata": {
      "needs_background": "light"
     },
     "output_type": "display_data"
    }
   ],
   "source": [
    "pl.plot([S_h, S_b, S_c, S_d, S_e, S_f, S_k, S_k1, S_a, S_g, S_h],\n",
    "        [T_h, T_b, T_c, T_d, T_e, T_f, T_k, T_k1, T_a, T_g, T_h], '-o')"
   ]
  }
 ],
 "metadata": {
  "kernelspec": {
   "display_name": "Python 3 (ipykernel)",
   "language": "python",
   "name": "python3"
  },
  "language_info": {
   "codemirror_mode": {
    "name": "ipython",
    "version": 3
   },
   "file_extension": ".py",
   "mimetype": "text/x-python",
   "name": "python",
   "nbconvert_exporter": "python",
   "pygments_lexer": "ipython3",
   "version": "3.10.4"
  }
 },
 "nbformat": 4,
 "nbformat_minor": 5
}
